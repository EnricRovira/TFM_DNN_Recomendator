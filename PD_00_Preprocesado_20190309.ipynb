{
 "cells": [
  {
   "cell_type": "markdown",
   "metadata": {},
   "source": [
    "![img](https://www.kdnuggets.com/wp-content/uploads/text-preprocessing-framework-2.png)"
   ]
  },
  {
   "cell_type": "code",
   "execution_count": 1,
   "metadata": {},
   "outputs": [
    {
     "name": "stdout",
     "output_type": "stream",
     "text": [
      "Requirement already satisfied: contractions in c:\\users\\aeroengy\\anaconda3\\lib\\site-packages (0.0.17)\n"
     ]
    }
   ],
   "source": [
    "! pip install contractions"
   ]
  },
  {
   "cell_type": "code",
   "execution_count": 2,
   "metadata": {},
   "outputs": [
    {
     "name": "stdout",
     "output_type": "stream",
     "text": [
      "Requirement already satisfied: inflect in c:\\users\\aeroengy\\anaconda3\\lib\\site-packages (2.1.0)\n"
     ]
    }
   ],
   "source": [
    "! pip install inflect"
   ]
  },
  {
   "cell_type": "code",
   "execution_count": 3,
   "metadata": {},
   "outputs": [
    {
     "name": "stdout",
     "output_type": "stream",
     "text": [
      "Requirement already satisfied: wget in c:\\users\\aeroengy\\anaconda3\\lib\\site-packages (3.2)\n"
     ]
    }
   ],
   "source": [
    "! pip install wget"
   ]
  },
  {
   "cell_type": "code",
   "execution_count": 199,
   "metadata": {},
   "outputs": [],
   "source": [
    "import pandas as pd\n",
    "import numpy as np\n",
    "import nltk.data\n",
    "from nltk import word_tokenize, sent_tokenize\n",
    "from sklearn.feature_extraction.text import CountVectorizer\n",
    "from nltk.corpus import stopwords\n",
    "import gensim\n",
    "from gensim.models import Word2Vec\n",
    "from gensim.models import FastText\n",
    "import contractions\n",
    "import inflect\n",
    "import re, unicodedata\n",
    "from nltk.stem import LancasterStemmer, WordNetLemmatizer\n",
    "from nltk.stem import SnowballStemmer\n",
    "\n",
    "from keras.preprocessing.sequence import pad_sequences\n",
    "from keras.preprocessing.text import Tokenizer\n",
    "from keras.layers import Embedding\n",
    "from keras.models import Model, Sequential\n",
    "from keras.layers import Input, Flatten, Dense, LSTM, RepeatVector, TimeDistributed\n",
    "from keras.utils import plot_model\n",
    "\n",
    "#import my_functions\n",
    "\n",
    "pd.set_option('max_colwidth', 250)"
   ]
  },
  {
   "cell_type": "code",
   "execution_count": 3,
   "metadata": {},
   "outputs": [
    {
     "name": "stderr",
     "output_type": "stream",
     "text": [
      "[nltk_data] Downloading package stopwords to\n",
      "[nltk_data]     C:\\Users\\Enric\\AppData\\Roaming\\nltk_data...\n",
      "[nltk_data]   Package stopwords is already up-to-date!\n",
      "[nltk_data] Downloading package wordnet to\n",
      "[nltk_data]     C:\\Users\\Enric\\AppData\\Roaming\\nltk_data...\n",
      "[nltk_data]   Package wordnet is already up-to-date!\n"
     ]
    },
    {
     "data": {
      "text/plain": [
       "True"
      ]
     },
     "execution_count": 3,
     "metadata": {},
     "output_type": "execute_result"
    }
   ],
   "source": [
    "nltk.download('stopwords')\n",
    "nltk.download('wordnet')"
   ]
  },
  {
   "cell_type": "code",
   "execution_count": 4,
   "metadata": {},
   "outputs": [],
   "source": [
    "STOPWORDS_ESP = list(set(stopwords.words('spanish')))\n",
    "STOPWORDS_CAT = open('stopwords_catalan.txt', 'r', encoding= 'UTF-8').read().split()\n",
    "STOPWORDS_ENG = list(set(stopwords.words('english')))\n",
    "CUSTOM  = ['uf', '100st', '100t', '100u', 'pal', 'zzb21601xu', 'x2']\n",
    "\n",
    "STOPWORDS_ALL = STOPWORDS_ESP + STOPWORDS_CAT + STOPWORDS_ENG + CUSTOM"
   ]
  },
  {
   "cell_type": "code",
   "execution_count": 5,
   "metadata": {},
   "outputs": [
    {
     "name": "stdout",
     "output_type": "stream",
     "text": [
      "Beginning file download with wget module\n"
     ]
    }
   ],
   "source": [
    "import wget\n",
    "\n",
    "print('Beginning file download with wget module')\n",
    "\n",
    "url = 'https://raw.githubusercontent.com/michmech/lemmatization-lists/master/lemmatization-es.txt'  \n",
    "#wget.download(url) "
   ]
  },
  {
   "cell_type": "code",
   "execution_count": 6,
   "metadata": {},
   "outputs": [],
   "source": [
    "lemmatizer = {}\n",
    "with open(\"lemmatization-es.txt\", encoding= 'UTF-8') as f:\n",
    "    for line in f:\n",
    "        try:\n",
    "            (key, val) = line.split()\n",
    "        except:\n",
    "            pass\n",
    "        lemmatizer[str(key)] = val"
   ]
  },
  {
   "cell_type": "code",
   "execution_count": 7,
   "metadata": {},
   "outputs": [],
   "source": [
    "lemmatizer_inv = {v: k for k, v in lemmatizer.items()}"
   ]
  },
  {
   "cell_type": "code",
   "execution_count": 8,
   "metadata": {},
   "outputs": [],
   "source": [
    "#lemmatizer_inv"
   ]
  },
  {
   "cell_type": "code",
   "execution_count": 9,
   "metadata": {},
   "outputs": [],
   "source": [
    "data = pd.read_csv('../02_Comprension de Datos/Descripciones204k_20190315.csv', sep = ';')"
   ]
  },
  {
   "cell_type": "code",
   "execution_count": 10,
   "metadata": {},
   "outputs": [
    {
     "data": {
      "text/html": [
       "<div>\n",
       "<style scoped>\n",
       "    .dataframe tbody tr th:only-of-type {\n",
       "        vertical-align: middle;\n",
       "    }\n",
       "\n",
       "    .dataframe tbody tr th {\n",
       "        vertical-align: top;\n",
       "    }\n",
       "\n",
       "    .dataframe thead th {\n",
       "        text-align: right;\n",
       "    }\n",
       "</style>\n",
       "<table border=\"1\" class=\"dataframe\">\n",
       "  <thead>\n",
       "    <tr style=\"text-align: right;\">\n",
       "      <th></th>\n",
       "      <th>id</th>\n",
       "      <th>brand</th>\n",
       "      <th>text</th>\n",
       "    </tr>\n",
       "  </thead>\n",
       "  <tbody>\n",
       "    <tr>\n",
       "      <th>0</th>\n",
       "      <td>1060651400131</td>\n",
       "      <td>Woman_Limited_El_Corte_Inglés</td>\n",
       "      <td>Moda Mujer Abrigos Abrigo masculino con textura de mujer</td>\n",
       "    </tr>\n",
       "    <tr>\n",
       "      <th>1</th>\n",
       "      <td>1060651400180</td>\n",
       "      <td>Woman_Limited_El_Corte_Inglés</td>\n",
       "      <td>Moda Mujer Abrigos Abrigo doble faz de mujer con cinturón a tono</td>\n",
       "    </tr>\n",
       "    <tr>\n",
       "      <th>2</th>\n",
       "      <td>1051056400107</td>\n",
       "      <td>Woman_El_Corte_Inglés</td>\n",
       "      <td>Moda Mujer Abrigos Abrigo largo de antelina de mujer Woman El Corte Inglés</td>\n",
       "    </tr>\n",
       "    <tr>\n",
       "      <th>3</th>\n",
       "      <td>1019350401147</td>\n",
       "      <td>Lloyd's</td>\n",
       "      <td>Moda Mujer Abrigos Chaqueta térmica de mujer Lloyds con efecto cortavientos</td>\n",
       "    </tr>\n",
       "    <tr>\n",
       "      <th>4</th>\n",
       "      <td>1019353400229</td>\n",
       "      <td>Lloyd's</td>\n",
       "      <td>Moda Mujer Abrigos Parka 100% algodón de mujer Lloyds con capucha</td>\n",
       "    </tr>\n",
       "  </tbody>\n",
       "</table>\n",
       "</div>"
      ],
      "text/plain": [
       "              id                          brand  \\\n",
       "0  1060651400131  Woman_Limited_El_Corte_Inglés   \n",
       "1  1060651400180  Woman_Limited_El_Corte_Inglés   \n",
       "2  1051056400107          Woman_El_Corte_Inglés   \n",
       "3  1019350401147                        Lloyd's   \n",
       "4  1019353400229                        Lloyd's   \n",
       "\n",
       "                                                                          text  \n",
       "0                     Moda Mujer Abrigos Abrigo masculino con textura de mujer  \n",
       "1             Moda Mujer Abrigos Abrigo doble faz de mujer con cinturón a tono  \n",
       "2   Moda Mujer Abrigos Abrigo largo de antelina de mujer Woman El Corte Inglés  \n",
       "3  Moda Mujer Abrigos Chaqueta térmica de mujer Lloyds con efecto cortavientos  \n",
       "4            Moda Mujer Abrigos Parka 100% algodón de mujer Lloyds con capucha  "
      ]
     },
     "execution_count": 10,
     "metadata": {},
     "output_type": "execute_result"
    }
   ],
   "source": [
    "data.head()"
   ]
  },
  {
   "cell_type": "markdown",
   "metadata": {},
   "source": [
    "Creamos una lista de marcas para poder quitarlas del texto en caso de que aparezcan, eliminamos las marcas duplicadas para comprimir el tamaño de la lista y optimizar el proceso de bsuqueda"
   ]
  },
  {
   "cell_type": "code",
   "execution_count": 11,
   "metadata": {},
   "outputs": [
    {
     "data": {
      "text/plain": [
       "id                                        1025942232486\n",
       "brand                                          Fox_Home\n",
       "text     Cine Series de Tv Futurama. 7ª Temporada (DVD)\n",
       "Name: 199000, dtype: object"
      ]
     },
     "execution_count": 11,
     "metadata": {},
     "output_type": "execute_result"
    }
   ],
   "source": [
    "data.loc[199000]"
   ]
  },
  {
   "cell_type": "code",
   "execution_count": 12,
   "metadata": {},
   "outputs": [],
   "source": [
    "copia = data.copy()\n",
    "\n",
    "def to_lowercase(words):\n",
    "    \"\"\"Convert all characters to lowercase from list of tokenized words\"\"\"\n",
    "    new_words = []\n",
    "    for word in words:\n",
    "        new_word = word.lower()\n",
    "        new_words.append(new_word)\n",
    "    return new_words\n",
    "\n",
    "def remove_punctuation(words):\n",
    "    \"\"\"Remove punctuation from list of tokenized words\"\"\"\n",
    "    new_words = []\n",
    "    for word in words:\n",
    "        new_word = re.sub(r'[^\\w\\s]', '', word)\n",
    "        if new_word != '':\n",
    "            new_words.append(new_word)\n",
    "    return new_words\n",
    "\n",
    "def normalize_brands(words):\n",
    "    words = str(words)\n",
    "    words  = words.strip().split()\n",
    "    words = to_lowercase(words)\n",
    "    words = remove_punctuation(words)    \n",
    "    words = list(dict.fromkeys(words)) #Remove duplicates\n",
    "    words = \" \".join(words)\n",
    "    return words\n",
    "    \n",
    "copia['brand'] = copia['brand'].apply(normalize_brands)\n",
    "brands = list(dict.fromkeys(copia['brand'].values))\n",
    "brands.remove('marvel')\n",
    "more_brands = ['tarocco', 'tucci', 'fjord', 'tommy', 'hilfiger', 'easy', 'wear', 'josma', 'jaipur', 'ralph', 'nemeziz']\n",
    "for brand in more_brands:\n",
    "    brands.append(brand)"
   ]
  },
  {
   "cell_type": "code",
   "execution_count": 13,
   "metadata": {},
   "outputs": [
    {
     "data": {
      "text/plain": [
       "5091"
      ]
     },
     "execution_count": 13,
     "metadata": {},
     "output_type": "execute_result"
    }
   ],
   "source": [
    "len(brands)"
   ]
  },
  {
   "cell_type": "markdown",
   "metadata": {},
   "source": [
    "## Normalizacion"
   ]
  },
  {
   "cell_type": "markdown",
   "metadata": {},
   "source": [
    "Con la normalización vamos a realizar una serie de tareas destinadas a poner todo el texto en un campo de juego nivelado: convertir todo el texto a la misma mayúscula o minúscula, eliminar la puntuación, convertir las cifras a sus equivalentes en palabras, etc. La normalización pone todas las palabras en pie de igualdad y permite que el procesamiento se realice de manera uniforme. Algunas de las técnicas que vamos a aplicar son:\n",
    "\n",
    "- Borrar caracteres extraños\n",
    "- Pasar todo el texto a minusculas\n",
    "- Quitar simbolos de puntuacion ( . , &, !, ?, ¿, /, etc)\n",
    "- Pasar numeros en digito a texto\n",
    "- Quitar stopwords\n",
    "- Stemming\n",
    "- Lexematizar\n",
    "\n",
    "**Importante:** Despues de la Nomralizacion trabajaremos a nivel de palabra o token en vez de a nivel de texto"
   ]
  },
  {
   "cell_type": "code",
   "execution_count": 14,
   "metadata": {},
   "outputs": [],
   "source": [
    "ngrams = ['corte ingles', 'bob esponja', 'color azul', 'cristiano ronaldo', 'fc barcelona', 'lionel messi', 'real madrid',\n",
    "         'azul oscuro', '1a temporada', '2a temporada', '3a temporada', '4a temporada', '5a temporada', '6a temporada',\n",
    "         '7a temporada', '8a temporada', 'mrs increible', 'mr increible', 'fc barcelona']"
   ]
  },
  {
   "cell_type": "code",
   "execution_count": 15,
   "metadata": {},
   "outputs": [],
   "source": [
    "def remove_non_ascii(words):\n",
    "    \"\"\"Remove non-ASCII characters from list of tokenized words\"\"\"\n",
    "    new_words = []\n",
    "    for word in words:\n",
    "        new_word = unicodedata.normalize('NFKD', word).encode('ascii', 'ignore').decode('utf-8', 'ignore')\n",
    "        #new_word = unicodedata.normalize('NFD', word).encode('ascii', 'ignore')\n",
    "        new_words.append(new_word)\n",
    "    return new_words\n",
    "\n",
    "def to_lowercase(words):\n",
    "    \"\"\"Convert all characters to lowercase from list of tokenized words\"\"\"\n",
    "    new_words = []\n",
    "    for word in words:\n",
    "        new_word = word.lower()\n",
    "        new_words.append(new_word)\n",
    "    return new_words\n",
    "\n",
    "def remove_punctuation(words):\n",
    "    \"\"\"Remove punctuation from list of tokenized words\"\"\"\n",
    "    new_words = []\n",
    "    for word in words:\n",
    "        new_word = re.sub(r'[^\\w\\s]', '', word)\n",
    "        if new_word != '':\n",
    "            new_words.append(new_word)\n",
    "    return new_words\n",
    "\n",
    "def replace_numbers(words):\n",
    "    \"\"\"Remove all interger occurrences in list\"\"\"\n",
    "    new_words = []\n",
    "    for word in words:\n",
    "        if not word.isdigit():\n",
    "            new_words.append(word)\n",
    "    return new_words\n",
    "\n",
    "def remove_stopwords(words):\n",
    "    \"\"\"Remove stop words from list of tokenized words\"\"\"\n",
    "    new_words = []\n",
    "    for word in words:\n",
    "        if word not in STOPWORDS_ALL and len(word) > 1:\n",
    "            new_words.append(word)\n",
    "    return new_words\n",
    "\n",
    "def stem_words(words):\n",
    "    \"\"\"Stem words in list of tokenized words\"\"\"\n",
    "    stemmer = SnowballStemmer('spanish')\n",
    "    stems = []\n",
    "    for word in words:\n",
    "        stem = stemmer.stem(word)\n",
    "        stems.append(stem)\n",
    "    return stems\n",
    "\n",
    "def remove_brands(words):\n",
    "    \"\"\"Remove brands from the text\"\"\"\n",
    "    clean_words = []\n",
    "    for word in words:\n",
    "        if word not in brands:\n",
    "            clean_words.append(word)\n",
    "    return clean_words\n",
    "\n",
    "def lemmatize(words):\n",
    "    \"\"\"Lemmatize verbs in list of tokenized words\"\"\"\n",
    "    lemmas = []\n",
    "    for word in words:\n",
    "        if word in lemmatizer_inv:\n",
    "            lemmas.append(lemmatizer_inv[word])\n",
    "        else: lemmas.append(word)\n",
    "    return lemmas\n",
    "\n",
    "def replace_ngrams(words):\n",
    "    for gram in ngrams:\n",
    "        if (gram in words):\n",
    "            g = \"_\".join(gram.split())\n",
    "            words = words.replace(gram, g)\n",
    "    return words\n",
    "\n",
    "def normalize(words):\n",
    "    #if pandas == True:\n",
    "    words  = words.strip().split()\n",
    "    words = to_lowercase(words)\n",
    "    words = remove_punctuation(words)\n",
    "    words = remove_brands(words)\n",
    "    words = remove_stopwords(words)\n",
    "    words = lemmatize(words)\n",
    "    words = replace_numbers(words)\n",
    "    words = remove_non_ascii(words)\n",
    "    words = list(dict.fromkeys(words)) #Remove duplicates\n",
    "    words = \" \".join(words)\n",
    "    words = replace_ngrams(words)\n",
    "    return words\n"
   ]
  },
  {
   "cell_type": "code",
   "execution_count": 16,
   "metadata": {},
   "outputs": [],
   "source": [
    "data_copy = data.copy()"
   ]
  },
  {
   "cell_type": "code",
   "execution_count": 17,
   "metadata": {},
   "outputs": [
    {
     "name": "stdout",
     "output_type": "stream",
     "text": [
      "Wall time: 20min 42s\n"
     ]
    }
   ],
   "source": [
    "%%time\n",
    "#4min 4sec\n",
    "data_copy['text'] = data_copy['text'].apply(normalize)"
   ]
  },
  {
   "cell_type": "code",
   "execution_count": 18,
   "metadata": {},
   "outputs": [
    {
     "data": {
      "text/html": [
       "<div>\n",
       "<style scoped>\n",
       "    .dataframe tbody tr th:only-of-type {\n",
       "        vertical-align: middle;\n",
       "    }\n",
       "\n",
       "    .dataframe tbody tr th {\n",
       "        vertical-align: top;\n",
       "    }\n",
       "\n",
       "    .dataframe thead th {\n",
       "        text-align: right;\n",
       "    }\n",
       "</style>\n",
       "<table border=\"1\" class=\"dataframe\">\n",
       "  <thead>\n",
       "    <tr style=\"text-align: right;\">\n",
       "      <th></th>\n",
       "      <th>id</th>\n",
       "      <th>brand</th>\n",
       "      <th>text</th>\n",
       "    </tr>\n",
       "  </thead>\n",
       "  <tbody>\n",
       "    <tr>\n",
       "      <th>0</th>\n",
       "      <td>1060651400131</td>\n",
       "      <td>Woman_Limited_El_Corte_Inglés</td>\n",
       "      <td>moda mujer abrigo masculino textura</td>\n",
       "    </tr>\n",
       "    <tr>\n",
       "      <th>1</th>\n",
       "      <td>1060651400180</td>\n",
       "      <td>Woman_Limited_El_Corte_Inglés</td>\n",
       "      <td>moda mujer abrigo doble faz cinturon tono</td>\n",
       "    </tr>\n",
       "    <tr>\n",
       "      <th>2</th>\n",
       "      <td>1051056400107</td>\n",
       "      <td>Woman_El_Corte_Inglés</td>\n",
       "      <td>moda mujer abrigo largo antelina woman corte_ingles</td>\n",
       "    </tr>\n",
       "    <tr>\n",
       "      <th>3</th>\n",
       "      <td>1019350401147</td>\n",
       "      <td>Lloyd's</td>\n",
       "      <td>moda mujer abrigo chaqueta termica efecto cortavientos</td>\n",
       "    </tr>\n",
       "    <tr>\n",
       "      <th>4</th>\n",
       "      <td>1019353400229</td>\n",
       "      <td>Lloyd's</td>\n",
       "      <td>moda mujer abrigo parka algodon capucha</td>\n",
       "    </tr>\n",
       "  </tbody>\n",
       "</table>\n",
       "</div>"
      ],
      "text/plain": [
       "              id                          brand  \\\n",
       "0  1060651400131  Woman_Limited_El_Corte_Inglés   \n",
       "1  1060651400180  Woman_Limited_El_Corte_Inglés   \n",
       "2  1051056400107          Woman_El_Corte_Inglés   \n",
       "3  1019350401147                        Lloyd's   \n",
       "4  1019353400229                        Lloyd's   \n",
       "\n",
       "                                                     text  \n",
       "0                     moda mujer abrigo masculino textura  \n",
       "1               moda mujer abrigo doble faz cinturon tono  \n",
       "2     moda mujer abrigo largo antelina woman corte_ingles  \n",
       "3  moda mujer abrigo chaqueta termica efecto cortavientos  \n",
       "4                 moda mujer abrigo parka algodon capucha  "
      ]
     },
     "execution_count": 18,
     "metadata": {},
     "output_type": "execute_result"
    }
   ],
   "source": [
    "data_copy.head(5)"
   ]
  },
  {
   "cell_type": "code",
   "execution_count": 19,
   "metadata": {},
   "outputs": [
    {
     "data": {
      "text/html": [
       "<div>\n",
       "<style scoped>\n",
       "    .dataframe tbody tr th:only-of-type {\n",
       "        vertical-align: middle;\n",
       "    }\n",
       "\n",
       "    .dataframe tbody tr th {\n",
       "        vertical-align: top;\n",
       "    }\n",
       "\n",
       "    .dataframe thead th {\n",
       "        text-align: right;\n",
       "    }\n",
       "</style>\n",
       "<table border=\"1\" class=\"dataframe\">\n",
       "  <thead>\n",
       "    <tr style=\"text-align: right;\">\n",
       "      <th></th>\n",
       "      <th>id</th>\n",
       "      <th>brand</th>\n",
       "      <th>text</th>\n",
       "    </tr>\n",
       "  </thead>\n",
       "  <tbody>\n",
       "    <tr>\n",
       "      <th>0</th>\n",
       "      <td>1060651400131</td>\n",
       "      <td>Woman_Limited_El_Corte_Inglés</td>\n",
       "      <td>Moda Mujer Abrigos Abrigo masculino con textura de mujer</td>\n",
       "    </tr>\n",
       "    <tr>\n",
       "      <th>1</th>\n",
       "      <td>1060651400180</td>\n",
       "      <td>Woman_Limited_El_Corte_Inglés</td>\n",
       "      <td>Moda Mujer Abrigos Abrigo doble faz de mujer con cinturón a tono</td>\n",
       "    </tr>\n",
       "    <tr>\n",
       "      <th>2</th>\n",
       "      <td>1051056400107</td>\n",
       "      <td>Woman_El_Corte_Inglés</td>\n",
       "      <td>Moda Mujer Abrigos Abrigo largo de antelina de mujer Woman El Corte Inglés</td>\n",
       "    </tr>\n",
       "    <tr>\n",
       "      <th>3</th>\n",
       "      <td>1019350401147</td>\n",
       "      <td>Lloyd's</td>\n",
       "      <td>Moda Mujer Abrigos Chaqueta térmica de mujer Lloyds con efecto cortavientos</td>\n",
       "    </tr>\n",
       "    <tr>\n",
       "      <th>4</th>\n",
       "      <td>1019353400229</td>\n",
       "      <td>Lloyd's</td>\n",
       "      <td>Moda Mujer Abrigos Parka 100% algodón de mujer Lloyds con capucha</td>\n",
       "    </tr>\n",
       "  </tbody>\n",
       "</table>\n",
       "</div>"
      ],
      "text/plain": [
       "              id                          brand  \\\n",
       "0  1060651400131  Woman_Limited_El_Corte_Inglés   \n",
       "1  1060651400180  Woman_Limited_El_Corte_Inglés   \n",
       "2  1051056400107          Woman_El_Corte_Inglés   \n",
       "3  1019350401147                        Lloyd's   \n",
       "4  1019353400229                        Lloyd's   \n",
       "\n",
       "                                                                          text  \n",
       "0                     Moda Mujer Abrigos Abrigo masculino con textura de mujer  \n",
       "1             Moda Mujer Abrigos Abrigo doble faz de mujer con cinturón a tono  \n",
       "2   Moda Mujer Abrigos Abrigo largo de antelina de mujer Woman El Corte Inglés  \n",
       "3  Moda Mujer Abrigos Chaqueta térmica de mujer Lloyds con efecto cortavientos  \n",
       "4            Moda Mujer Abrigos Parka 100% algodón de mujer Lloyds con capucha  "
      ]
     },
     "execution_count": 19,
     "metadata": {},
     "output_type": "execute_result"
    }
   ],
   "source": [
    "data.head(5)"
   ]
  },
  {
   "cell_type": "code",
   "execution_count": 20,
   "metadata": {},
   "outputs": [
    {
     "name": "stdout",
     "output_type": "stream",
     "text": [
      "id                                        1025942232486\n",
      "brand                                          Fox_Home\n",
      "text     Cine Series de Tv Futurama. 7ª Temporada (DVD)\n",
      "Name: 199000, dtype: object\n",
      "id                                       1014970203072\n",
      "brand                                Polo_Ralph_Lauren\n",
      "text     moda mujer punto jersey lana polo cuello caja\n",
      "Name: 89000, dtype: object\n"
     ]
    }
   ],
   "source": [
    "#7000\n",
    "print(data.loc[199000])\n",
    "print(data_copy.loc[89000])"
   ]
  },
  {
   "cell_type": "code",
   "execution_count": 21,
   "metadata": {},
   "outputs": [
    {
     "data": {
      "text/plain": [
       "(204812,)"
      ]
     },
     "execution_count": 21,
     "metadata": {},
     "output_type": "execute_result"
    }
   ],
   "source": [
    "data_copy['text'].shape"
   ]
  },
  {
   "cell_type": "code",
   "execution_count": 22,
   "metadata": {},
   "outputs": [
    {
     "name": "stdout",
     "output_type": "stream",
     "text": [
      "Max words in a sentence:          Mean words in a sentence:\n",
      "------------------------------------------------------------\n",
      "23                                8.059176220143351\n",
      "------------------------------------------------------------\n",
      "libro salud bienestar dieta nutricion general detox sen sano dentro bello clave nutricional rutina diarias eliminar toxina forma saludable energetica nutritiva tapa blanda\n"
     ]
    }
   ],
   "source": [
    "maxw = 0\n",
    "mean = 0\n",
    "max_s = 0\n",
    "for i, sentence in enumerate(data_copy['text']):\n",
    "    mean += len(sentence.split())\n",
    "    if maxw < len(sentence.split()):\n",
    "        maxw = len(sentence.split())\n",
    "        max_s = i\n",
    "print('Max words in a sentence:' + ' '*10 + 'Mean words in a sentence:')\n",
    "print(\"-\" * 60)\n",
    "print (f\"{maxw} {' '*30} {mean/len(data_copy['text'])}\")\n",
    "print(\"-\" * 60)\n",
    "print (data_copy['text'][max_s])"
   ]
  },
  {
   "cell_type": "code",
   "execution_count": 23,
   "metadata": {},
   "outputs": [],
   "source": [
    "data_copy.to_csv('Texto_PreProcesado.csv', sep = ';', index = False)"
   ]
  },
  {
   "cell_type": "markdown",
   "metadata": {},
   "source": [
    "### N-gramas (CountVectorizer)"
   ]
  },
  {
   "cell_type": "code",
   "execution_count": 24,
   "metadata": {},
   "outputs": [
    {
     "name": "stdout",
     "output_type": "stream",
     "text": [
      "['0', 'moda', 'mujer', 'abrigo', 'masculino', 'textura', '1', 'doble', 'faz', 'cinturon']\n",
      "257064\n"
     ]
    }
   ],
   "source": [
    "bag_of_words = nltk.word_tokenize(data_copy['text'].to_string())\n",
    "bag_of_words = list(dict.fromkeys(bag_of_words))\n",
    "print(bag_of_words[:10])\n",
    "print(len(bag_of_words)) \n",
    "#126k productos = 2_063_845 palabras\n",
    "#175k productos = 2_838_097 palabras\n",
    "#204k productos = 3_070_773 palabras -> 1_878_308 20/03/2019 -> no dups = 257042, ngrams =257063 "
   ]
  },
  {
   "cell_type": "code",
   "execution_count": 25,
   "metadata": {},
   "outputs": [
    {
     "data": {
      "text/plain": [
       "['moda mujer abrigo masculino textura',\n",
       " 'moda mujer abrigo doble faz cinturon tono',\n",
       " 'moda mujer abrigo largo antelina woman corte_ingles',\n",
       " 'moda mujer abrigo chaqueta termica efecto cortavientos',\n",
       " 'moda mujer abrigo parka algodon capucha']"
      ]
     },
     "execution_count": 25,
     "metadata": {},
     "output_type": "execute_result"
    }
   ],
   "source": [
    "corpus = [sent for sent in data_copy['text']]\n",
    "corpus[0:5]"
   ]
  },
  {
   "cell_type": "code",
   "execution_count": 26,
   "metadata": {},
   "outputs": [],
   "source": [
    "vectorizer = CountVectorizer(ngram_range=(1, 2))\n",
    "X = vectorizer.fit_transform(corpus)"
   ]
  },
  {
   "cell_type": "code",
   "execution_count": 27,
   "metadata": {},
   "outputs": [
    {
     "data": {
      "text/plain": [
       "['moda',\n",
       " 'mujer',\n",
       " 'abrigo',\n",
       " 'masculino',\n",
       " 'textura',\n",
       " 'moda mujer',\n",
       " 'mujer abrigo',\n",
       " 'abrigo masculino',\n",
       " 'masculino textura',\n",
       " 'doble']"
      ]
     },
     "execution_count": 27,
     "metadata": {},
     "output_type": "execute_result"
    }
   ],
   "source": [
    "list(vectorizer.vocabulary_.keys())[0:10]"
   ]
  },
  {
   "cell_type": "markdown",
   "metadata": {},
   "source": [
    "---"
   ]
  },
  {
   "cell_type": "markdown",
   "metadata": {},
   "source": [
    "## Word2Vec\n"
   ]
  },
  {
   "cell_type": "code",
   "execution_count": 28,
   "metadata": {},
   "outputs": [],
   "source": [
    "EMBEDDING_DIM = 200"
   ]
  },
  {
   "cell_type": "code",
   "execution_count": 88,
   "metadata": {},
   "outputs": [
    {
     "data": {
      "text/plain": [
       "[['moda', 'mujer', 'abrigo', 'masculino', 'textura'],\n",
       " ['moda', 'mujer', 'abrigo', 'doble', 'faz', 'cinturon', 'tono'],\n",
       " ['moda', 'mujer', 'abrigo', 'largo', 'antelina', 'woman', 'corte_ingles']]"
      ]
     },
     "execution_count": 88,
     "metadata": {},
     "output_type": "execute_result"
    }
   ],
   "source": [
    "sentences = [word.split() for word in data_copy['text'].values]\n",
    "sentences[:3]"
   ]
  },
  {
   "cell_type": "code",
   "execution_count": 30,
   "metadata": {},
   "outputs": [
    {
     "data": {
      "text/plain": [
       "204812"
      ]
     },
     "execution_count": 30,
     "metadata": {},
     "output_type": "execute_result"
    }
   ],
   "source": [
    "len(sentences)"
   ]
  },
  {
   "cell_type": "code",
   "execution_count": 31,
   "metadata": {},
   "outputs": [
    {
     "name": "stdout",
     "output_type": "stream",
     "text": [
      "Wall time: 2min 48s\n"
     ]
    }
   ],
   "source": [
    "%%time\n",
    "model = Word2Vec(sentences, workers = 3, min_count=5, window = 10, size = EMBEDDING_DIM)\n",
    "model.train(sentences, total_examples=len(sentences), epochs=50)"
   ]
  },
  {
   "cell_type": "code",
   "execution_count": 32,
   "metadata": {},
   "outputs": [],
   "source": [
    "model.save(\"word2vec_model_v2\")"
   ]
  },
  {
   "cell_type": "code",
   "execution_count": 33,
   "metadata": {},
   "outputs": [
    {
     "data": {
      "text/plain": [
       "[('alpargata', 0.6205319762229919),\n",
       " ('botin', 0.6136024594306946),\n",
       " ('salon', 0.5804810523986816),\n",
       " ('mocasin', 0.5511438250541687),\n",
       " ('chancla', 0.5500357151031494),\n",
       " ('mercedita', 0.5439091920852661),\n",
       " ('bota', 0.5414243340492249),\n",
       " ('pepito', 0.5377013087272644),\n",
       " ('nautico', 0.5359429717063904),\n",
       " ('deportivas', 0.5105116963386536)]"
      ]
     },
     "execution_count": 33,
     "metadata": {},
     "output_type": "execute_result"
    }
   ],
   "source": [
    "#model = Word2Vec.load(\"word2vec_model_v1\")\n",
    "wl = 'sandalia'\n",
    "model.wv.most_similar (positive = wl)\n",
    "#model.wv.most_similar_cosmul(positive = ['disfraz', 'abrigo'])"
   ]
  },
  {
   "cell_type": "code",
   "execution_count": 34,
   "metadata": {},
   "outputs": [
    {
     "data": {
      "text/plain": [
       "[('carrycot', 0.46414005756378174),\n",
       " ('cambiador', 0.4590770900249481),\n",
       " ('portabebes', 0.44152915477752686),\n",
       " ('maternal', 0.4405578374862671),\n",
       " ('trona', 0.43963176012039185),\n",
       " ('seat', 0.43299543857574463),\n",
       " ('yaki', 0.4328617453575134),\n",
       " ('lux', 0.4298858642578125),\n",
       " ('capazo', 0.42714881896972656),\n",
       " ('modular', 0.42647257447242737)]"
      ]
     },
     "execution_count": 34,
     "metadata": {},
     "output_type": "execute_result"
    }
   ],
   "source": [
    "def similar_products(text):\n",
    "    text = normalize(text)\n",
    "    list_text = text.split()\n",
    "    most_similar = model.wv.most_similar_cosmul(positive = list_text)\n",
    "    \n",
    "    return most_similar\n",
    "    \n",
    "similar_products('Silla de paseo')"
   ]
  },
  {
   "cell_type": "markdown",
   "metadata": {},
   "source": [
    "---"
   ]
  },
  {
   "cell_type": "markdown",
   "metadata": {},
   "source": [
    "## Vectorize Sentences\n",
    "\n",
    "- Initialize tokenizer with num_words = MAX_NB_WORDS (200K). i.e. The tokenizer will perform a word count, sorted by number of occurences in descending order and pick top N words, 200K in this case \n",
    "- Use tokenizer's texts_to_sequences method to convert text to array of integers.\n",
    "- The arrays obtained from previous step might not be of uniform length, use pad_sequences method to obtain arrays with length equal to MAX_SEQUENCE_LENGTH (30)"
   ]
  },
  {
   "cell_type": "code",
   "execution_count": 52,
   "metadata": {},
   "outputs": [],
   "source": [
    "MAX_NB_WORDS = len(bag_of_words) #200k\n",
    "MAX_SEQUENCE_LENGTH = 23                                "
   ]
  },
  {
   "cell_type": "code",
   "execution_count": 53,
   "metadata": {},
   "outputs": [],
   "source": [
    "all_text = data_copy['text']\n",
    "all_text = all_text.drop_duplicates (keep = False)\n",
    "\n",
    "tokenizer = Tokenizer(num_words=MAX_NB_WORDS)\n",
    "tokenizer.fit_on_texts(all_text)\n",
    "\n",
    "data_sequences = tokenizer.texts_to_sequences(data_copy['text'])\n",
    "data_vec = pad_sequences(data_sequences, maxlen=MAX_SEQUENCE_LENGTH)"
   ]
  },
  {
   "cell_type": "code",
   "execution_count": 54,
   "metadata": {},
   "outputs": [
    {
     "name": "stdout",
     "output_type": "stream",
     "text": [
      "Found 49418 unique tokens.\n"
     ]
    }
   ],
   "source": [
    "word_index = tokenizer.word_index\n",
    "print('Found %s unique tokens.' % len(word_index))\n",
    "#49421"
   ]
  },
  {
   "cell_type": "code",
   "execution_count": 55,
   "metadata": {},
   "outputs": [
    {
     "data": {
      "text/plain": [
       "array([   0,    0,    0,    0,    0,    0,    0,    0,    0,    0,    0,\n",
       "          0,    0,    0,    0,    0,    0,    0,    1,    3,   94, 2461,\n",
       "       1432])"
      ]
     },
     "execution_count": 55,
     "metadata": {},
     "output_type": "execute_result"
    }
   ],
   "source": [
    "data_vec[0]"
   ]
  },
  {
   "cell_type": "markdown",
   "metadata": {},
   "source": [
    "A word_index has a unique ID assigned to each word in the data. Example:"
   ]
  },
  {
   "cell_type": "code",
   "execution_count": 56,
   "metadata": {},
   "outputs": [
    {
     "name": "stdout",
     "output_type": "stream",
     "text": [
      "word\t\tid\n",
      "--------------------\n",
      "ropa\t\t34\n",
      "deporte\t\t12\n",
      "abrigo\t\t94\n",
      "raqueta\t\t1645\n",
      "bebe\t\t4\n"
     ]
    }
   ],
   "source": [
    "word_index = tokenizer.word_index\n",
    "test_string = \"ropa deporte abrigo raqueta bebe\"\n",
    "print(\"word\\t\\tid\")\n",
    "print(\"-\" * 20)\n",
    "for word in test_string.split():\n",
    "    print(\"%s\\t\\t%s\" % (word, word_index[word]))"
   ]
  },
  {
   "cell_type": "code",
   "execution_count": 57,
   "metadata": {},
   "outputs": [],
   "source": [
    "EMBEDDING_DIM=200"
   ]
  },
  {
   "cell_type": "code",
   "execution_count": 58,
   "metadata": {},
   "outputs": [],
   "source": [
    "word_vectors = model.wv\n",
    "vocabulary_size = min(len(word_index)+1,MAX_NB_WORDS)\n",
    "embedding_matrix = np.zeros((vocabulary_size, EMBEDDING_DIM))\n",
    "\n",
    "for word, i in word_index.items():\n",
    "    if i>=MAX_NB_WORDS:\n",
    "        continue\n",
    "    try:\n",
    "        embedding_vector = word_vectors[word]\n",
    "        embedding_matrix[i] = embedding_vector\n",
    "    except KeyError:\n",
    "        embedding_matrix[i]=np.random.normal(0,np.sqrt(0.25),EMBEDDING_DIM)\n",
    "\n",
    "del(word_vectors)\n",
    "\n",
    "embedding_layer = Embedding(input_dim = vocabulary_size,\n",
    "                            output_dim = EMBEDDING_DIM,\n",
    "                            input_length = MAX_SEQUENCE_LENGTH,\n",
    "                            weights=[embedding_matrix],\n",
    "                            name='w2v_embedding',\n",
    "                            trainable=False)"
   ]
  },
  {
   "cell_type": "code",
   "execution_count": 59,
   "metadata": {},
   "outputs": [],
   "source": [
    "model.save(\"w2v_embedding_v1_1.h5\")"
   ]
  },
  {
   "cell_type": "code",
   "execution_count": 60,
   "metadata": {},
   "outputs": [],
   "source": [
    "embedding_layer_2 = model.wv.get_keras_embedding()"
   ]
  },
  {
   "cell_type": "code",
   "execution_count": 126,
   "metadata": {},
   "outputs": [],
   "source": [
    "VOCAB_SIZE = word_index\n",
    "timesteps = X_train.shape[0]"
   ]
  },
  {
   "cell_type": "code",
   "execution_count": 167,
   "metadata": {},
   "outputs": [],
   "source": [
    "#inp = Input(shape=(EMBEDDING_DIM, ), name = 'aaa')\n",
    "input_i = Input(shape=(MAX_SEQUENCE_LENGTH, ), name='main_input')\n",
    "embedded_sequences = embedding_layer_2(input_i)\n",
    "encoded = LSTM(EMBEDDING_DIM, return_sequences=False)(embedded_sequences)\n",
    "\n",
    "decoded = RepeatVector(MAX_SEQUENCE_LENGTH)(encoded)\n",
    "decoded = LSTM(EMBEDDING_DIM, return_sequences=True)(decoded)\n",
    "#decoded = Dense(y_train.shape[1], activation='softmax')(decoded)\n",
    "\n",
    "sequence_autoencoder = Model(input_i, decoded)\n",
    "encoder = Model(input_i, encoded)\n"
   ]
  },
  {
   "cell_type": "code",
   "execution_count": 160,
   "metadata": {},
   "outputs": [
    {
     "name": "stdout",
     "output_type": "stream",
     "text": [
      "_________________________________________________________________\n",
      "Layer (type)                 Output Shape              Param #   \n",
      "=================================================================\n",
      "main_input (InputLayer)      (None, 23)                0         \n",
      "_________________________________________________________________\n",
      "embedding_3 (Embedding)      multiple                  2600800   \n",
      "_________________________________________________________________\n",
      "lstm_47 (LSTM)               (None, 200)               320800    \n",
      "=================================================================\n",
      "Total params: 2,921,600\n",
      "Trainable params: 320,800\n",
      "Non-trainable params: 2,600,800\n",
      "_________________________________________________________________\n",
      "None\n"
     ]
    }
   ],
   "source": [
    "print(encoder.summary())"
   ]
  },
  {
   "cell_type": "code",
   "execution_count": 161,
   "metadata": {},
   "outputs": [
    {
     "name": "stdout",
     "output_type": "stream",
     "text": [
      "_________________________________________________________________\n",
      "Layer (type)                 Output Shape              Param #   \n",
      "=================================================================\n",
      "main_input (InputLayer)      (None, 23)                0         \n",
      "_________________________________________________________________\n",
      "embedding_3 (Embedding)      multiple                  2600800   \n",
      "_________________________________________________________________\n",
      "lstm_47 (LSTM)               (None, 200)               320800    \n",
      "_________________________________________________________________\n",
      "repeat_vector_21 (RepeatVect (None, 23, 200)           0         \n",
      "_________________________________________________________________\n",
      "lstm_48 (LSTM)               (None, 23, 200)           320800    \n",
      "=================================================================\n",
      "Total params: 3,242,400\n",
      "Trainable params: 641,600\n",
      "Non-trainable params: 2,600,800\n",
      "_________________________________________________________________\n",
      "None\n"
     ]
    }
   ],
   "source": [
    "print(sequence_autoencoder.summary())"
   ]
  },
  {
   "cell_type": "code",
   "execution_count": 162,
   "metadata": {},
   "outputs": [
    {
     "ename": "InvalidArgumentError",
     "evalue": "indices[7,22] = 13391 is not in [0, 13004)\n\t [[{{node embedding_3_12/embedding_lookup}} = GatherV2[Taxis=DT_INT32, Tindices=DT_INT32, Tparams=DT_FLOAT, _device=\"/job:localhost/replica:0/task:0/device:CPU:0\"](embedding_3/embeddings/read, embedding_3_12/Cast, embedding_3_12/embedding_lookup/axis)]]",
     "output_type": "error",
     "traceback": [
      "\u001b[1;31m---------------------------------------------------------------------------\u001b[0m",
      "\u001b[1;31mInvalidArgumentError\u001b[0m                      Traceback (most recent call last)",
      "\u001b[1;32m<ipython-input-162-dfce352c684c>\u001b[0m in \u001b[0;36m<module>\u001b[1;34m\u001b[0m\n\u001b[0;32m      1\u001b[0m \u001b[0mX_train\u001b[0m \u001b[1;33m=\u001b[0m \u001b[0mnp\u001b[0m\u001b[1;33m.\u001b[0m\u001b[0mvstack\u001b[0m\u001b[1;33m(\u001b[0m\u001b[0mdata_vec\u001b[0m\u001b[1;33m)\u001b[0m\u001b[1;33m\u001b[0m\u001b[1;33m\u001b[0m\u001b[0m\n\u001b[1;32m----> 2\u001b[1;33m \u001b[0mX_embedded\u001b[0m \u001b[1;33m=\u001b[0m \u001b[0mencoder\u001b[0m\u001b[1;33m.\u001b[0m\u001b[0mpredict\u001b[0m\u001b[1;33m(\u001b[0m\u001b[0mX_train\u001b[0m\u001b[1;33m)\u001b[0m\u001b[1;33m\u001b[0m\u001b[1;33m\u001b[0m\u001b[0m\n\u001b[0m\u001b[0;32m      3\u001b[0m \u001b[0msequence_autoencoder\u001b[0m\u001b[1;33m.\u001b[0m\u001b[0mcompile\u001b[0m\u001b[1;33m(\u001b[0m\u001b[0moptimizer\u001b[0m\u001b[1;33m=\u001b[0m\u001b[1;34m'rmsprop'\u001b[0m\u001b[1;33m,\u001b[0m \u001b[0mloss\u001b[0m\u001b[1;33m=\u001b[0m\u001b[1;34m'categorical_crossentropy'\u001b[0m\u001b[1;33m)\u001b[0m\u001b[1;33m\u001b[0m\u001b[1;33m\u001b[0m\u001b[0m\n",
      "\u001b[1;32m~\\Anaconda3\\lib\\site-packages\\keras\\engine\\training.py\u001b[0m in \u001b[0;36mpredict\u001b[1;34m(self, x, batch_size, verbose, steps)\u001b[0m\n\u001b[0;32m   1167\u001b[0m                                             \u001b[0mbatch_size\u001b[0m\u001b[1;33m=\u001b[0m\u001b[0mbatch_size\u001b[0m\u001b[1;33m,\u001b[0m\u001b[1;33m\u001b[0m\u001b[1;33m\u001b[0m\u001b[0m\n\u001b[0;32m   1168\u001b[0m                                             \u001b[0mverbose\u001b[0m\u001b[1;33m=\u001b[0m\u001b[0mverbose\u001b[0m\u001b[1;33m,\u001b[0m\u001b[1;33m\u001b[0m\u001b[1;33m\u001b[0m\u001b[0m\n\u001b[1;32m-> 1169\u001b[1;33m                                             steps=steps)\n\u001b[0m\u001b[0;32m   1170\u001b[0m \u001b[1;33m\u001b[0m\u001b[0m\n\u001b[0;32m   1171\u001b[0m     def train_on_batch(self, x, y,\n",
      "\u001b[1;32m~\\Anaconda3\\lib\\site-packages\\keras\\engine\\training_arrays.py\u001b[0m in \u001b[0;36mpredict_loop\u001b[1;34m(model, f, ins, batch_size, verbose, steps)\u001b[0m\n\u001b[0;32m    292\u001b[0m                 \u001b[0mins_batch\u001b[0m\u001b[1;33m[\u001b[0m\u001b[0mi\u001b[0m\u001b[1;33m]\u001b[0m \u001b[1;33m=\u001b[0m \u001b[0mins_batch\u001b[0m\u001b[1;33m[\u001b[0m\u001b[0mi\u001b[0m\u001b[1;33m]\u001b[0m\u001b[1;33m.\u001b[0m\u001b[0mtoarray\u001b[0m\u001b[1;33m(\u001b[0m\u001b[1;33m)\u001b[0m\u001b[1;33m\u001b[0m\u001b[1;33m\u001b[0m\u001b[0m\n\u001b[0;32m    293\u001b[0m \u001b[1;33m\u001b[0m\u001b[0m\n\u001b[1;32m--> 294\u001b[1;33m             \u001b[0mbatch_outs\u001b[0m \u001b[1;33m=\u001b[0m \u001b[0mf\u001b[0m\u001b[1;33m(\u001b[0m\u001b[0mins_batch\u001b[0m\u001b[1;33m)\u001b[0m\u001b[1;33m\u001b[0m\u001b[1;33m\u001b[0m\u001b[0m\n\u001b[0m\u001b[0;32m    295\u001b[0m             \u001b[0mbatch_outs\u001b[0m \u001b[1;33m=\u001b[0m \u001b[0mto_list\u001b[0m\u001b[1;33m(\u001b[0m\u001b[0mbatch_outs\u001b[0m\u001b[1;33m)\u001b[0m\u001b[1;33m\u001b[0m\u001b[1;33m\u001b[0m\u001b[0m\n\u001b[0;32m    296\u001b[0m             \u001b[1;32mif\u001b[0m \u001b[0mbatch_index\u001b[0m \u001b[1;33m==\u001b[0m \u001b[1;36m0\u001b[0m\u001b[1;33m:\u001b[0m\u001b[1;33m\u001b[0m\u001b[1;33m\u001b[0m\u001b[0m\n",
      "\u001b[1;32m~\\Anaconda3\\lib\\site-packages\\keras\\backend\\tensorflow_backend.py\u001b[0m in \u001b[0;36m__call__\u001b[1;34m(self, inputs)\u001b[0m\n\u001b[0;32m   2713\u001b[0m                 \u001b[1;32mreturn\u001b[0m \u001b[0mself\u001b[0m\u001b[1;33m.\u001b[0m\u001b[0m_legacy_call\u001b[0m\u001b[1;33m(\u001b[0m\u001b[0minputs\u001b[0m\u001b[1;33m)\u001b[0m\u001b[1;33m\u001b[0m\u001b[1;33m\u001b[0m\u001b[0m\n\u001b[0;32m   2714\u001b[0m \u001b[1;33m\u001b[0m\u001b[0m\n\u001b[1;32m-> 2715\u001b[1;33m             \u001b[1;32mreturn\u001b[0m \u001b[0mself\u001b[0m\u001b[1;33m.\u001b[0m\u001b[0m_call\u001b[0m\u001b[1;33m(\u001b[0m\u001b[0minputs\u001b[0m\u001b[1;33m)\u001b[0m\u001b[1;33m\u001b[0m\u001b[1;33m\u001b[0m\u001b[0m\n\u001b[0m\u001b[0;32m   2716\u001b[0m         \u001b[1;32melse\u001b[0m\u001b[1;33m:\u001b[0m\u001b[1;33m\u001b[0m\u001b[1;33m\u001b[0m\u001b[0m\n\u001b[0;32m   2717\u001b[0m             \u001b[1;32mif\u001b[0m \u001b[0mpy_any\u001b[0m\u001b[1;33m(\u001b[0m\u001b[0mis_tensor\u001b[0m\u001b[1;33m(\u001b[0m\u001b[0mx\u001b[0m\u001b[1;33m)\u001b[0m \u001b[1;32mfor\u001b[0m \u001b[0mx\u001b[0m \u001b[1;32min\u001b[0m \u001b[0minputs\u001b[0m\u001b[1;33m)\u001b[0m\u001b[1;33m:\u001b[0m\u001b[1;33m\u001b[0m\u001b[1;33m\u001b[0m\u001b[0m\n",
      "\u001b[1;32m~\\Anaconda3\\lib\\site-packages\\keras\\backend\\tensorflow_backend.py\u001b[0m in \u001b[0;36m_call\u001b[1;34m(self, inputs)\u001b[0m\n\u001b[0;32m   2673\u001b[0m             \u001b[0mfetched\u001b[0m \u001b[1;33m=\u001b[0m \u001b[0mself\u001b[0m\u001b[1;33m.\u001b[0m\u001b[0m_callable_fn\u001b[0m\u001b[1;33m(\u001b[0m\u001b[1;33m*\u001b[0m\u001b[0marray_vals\u001b[0m\u001b[1;33m,\u001b[0m \u001b[0mrun_metadata\u001b[0m\u001b[1;33m=\u001b[0m\u001b[0mself\u001b[0m\u001b[1;33m.\u001b[0m\u001b[0mrun_metadata\u001b[0m\u001b[1;33m)\u001b[0m\u001b[1;33m\u001b[0m\u001b[1;33m\u001b[0m\u001b[0m\n\u001b[0;32m   2674\u001b[0m         \u001b[1;32melse\u001b[0m\u001b[1;33m:\u001b[0m\u001b[1;33m\u001b[0m\u001b[1;33m\u001b[0m\u001b[0m\n\u001b[1;32m-> 2675\u001b[1;33m             \u001b[0mfetched\u001b[0m \u001b[1;33m=\u001b[0m \u001b[0mself\u001b[0m\u001b[1;33m.\u001b[0m\u001b[0m_callable_fn\u001b[0m\u001b[1;33m(\u001b[0m\u001b[1;33m*\u001b[0m\u001b[0marray_vals\u001b[0m\u001b[1;33m)\u001b[0m\u001b[1;33m\u001b[0m\u001b[1;33m\u001b[0m\u001b[0m\n\u001b[0m\u001b[0;32m   2676\u001b[0m         \u001b[1;32mreturn\u001b[0m \u001b[0mfetched\u001b[0m\u001b[1;33m[\u001b[0m\u001b[1;33m:\u001b[0m\u001b[0mlen\u001b[0m\u001b[1;33m(\u001b[0m\u001b[0mself\u001b[0m\u001b[1;33m.\u001b[0m\u001b[0moutputs\u001b[0m\u001b[1;33m)\u001b[0m\u001b[1;33m]\u001b[0m\u001b[1;33m\u001b[0m\u001b[1;33m\u001b[0m\u001b[0m\n\u001b[0;32m   2677\u001b[0m \u001b[1;33m\u001b[0m\u001b[0m\n",
      "\u001b[1;32m~\\Anaconda3\\lib\\site-packages\\tensorflow\\python\\client\\session.py\u001b[0m in \u001b[0;36m__call__\u001b[1;34m(self, *args, **kwargs)\u001b[0m\n\u001b[0;32m   1437\u001b[0m           ret = tf_session.TF_SessionRunCallable(\n\u001b[0;32m   1438\u001b[0m               \u001b[0mself\u001b[0m\u001b[1;33m.\u001b[0m\u001b[0m_session\u001b[0m\u001b[1;33m.\u001b[0m\u001b[0m_session\u001b[0m\u001b[1;33m,\u001b[0m \u001b[0mself\u001b[0m\u001b[1;33m.\u001b[0m\u001b[0m_handle\u001b[0m\u001b[1;33m,\u001b[0m \u001b[0margs\u001b[0m\u001b[1;33m,\u001b[0m \u001b[0mstatus\u001b[0m\u001b[1;33m,\u001b[0m\u001b[1;33m\u001b[0m\u001b[1;33m\u001b[0m\u001b[0m\n\u001b[1;32m-> 1439\u001b[1;33m               run_metadata_ptr)\n\u001b[0m\u001b[0;32m   1440\u001b[0m         \u001b[1;32mif\u001b[0m \u001b[0mrun_metadata\u001b[0m\u001b[1;33m:\u001b[0m\u001b[1;33m\u001b[0m\u001b[1;33m\u001b[0m\u001b[0m\n\u001b[0;32m   1441\u001b[0m           \u001b[0mproto_data\u001b[0m \u001b[1;33m=\u001b[0m \u001b[0mtf_session\u001b[0m\u001b[1;33m.\u001b[0m\u001b[0mTF_GetBuffer\u001b[0m\u001b[1;33m(\u001b[0m\u001b[0mrun_metadata_ptr\u001b[0m\u001b[1;33m)\u001b[0m\u001b[1;33m\u001b[0m\u001b[1;33m\u001b[0m\u001b[0m\n",
      "\u001b[1;32m~\\Anaconda3\\lib\\site-packages\\tensorflow\\python\\framework\\errors_impl.py\u001b[0m in \u001b[0;36m__exit__\u001b[1;34m(self, type_arg, value_arg, traceback_arg)\u001b[0m\n\u001b[0;32m    526\u001b[0m             \u001b[1;32mNone\u001b[0m\u001b[1;33m,\u001b[0m \u001b[1;32mNone\u001b[0m\u001b[1;33m,\u001b[0m\u001b[1;33m\u001b[0m\u001b[1;33m\u001b[0m\u001b[0m\n\u001b[0;32m    527\u001b[0m             \u001b[0mcompat\u001b[0m\u001b[1;33m.\u001b[0m\u001b[0mas_text\u001b[0m\u001b[1;33m(\u001b[0m\u001b[0mc_api\u001b[0m\u001b[1;33m.\u001b[0m\u001b[0mTF_Message\u001b[0m\u001b[1;33m(\u001b[0m\u001b[0mself\u001b[0m\u001b[1;33m.\u001b[0m\u001b[0mstatus\u001b[0m\u001b[1;33m.\u001b[0m\u001b[0mstatus\u001b[0m\u001b[1;33m)\u001b[0m\u001b[1;33m)\u001b[0m\u001b[1;33m,\u001b[0m\u001b[1;33m\u001b[0m\u001b[1;33m\u001b[0m\u001b[0m\n\u001b[1;32m--> 528\u001b[1;33m             c_api.TF_GetCode(self.status.status))\n\u001b[0m\u001b[0;32m    529\u001b[0m     \u001b[1;31m# Delete the underlying status object from memory otherwise it stays alive\u001b[0m\u001b[1;33m\u001b[0m\u001b[1;33m\u001b[0m\u001b[1;33m\u001b[0m\u001b[0m\n\u001b[0;32m    530\u001b[0m     \u001b[1;31m# as there is a reference to status from this from the traceback due to\u001b[0m\u001b[1;33m\u001b[0m\u001b[1;33m\u001b[0m\u001b[1;33m\u001b[0m\u001b[0m\n",
      "\u001b[1;31mInvalidArgumentError\u001b[0m: indices[7,22] = 13391 is not in [0, 13004)\n\t [[{{node embedding_3_12/embedding_lookup}} = GatherV2[Taxis=DT_INT32, Tindices=DT_INT32, Tparams=DT_FLOAT, _device=\"/job:localhost/replica:0/task:0/device:CPU:0\"](embedding_3/embeddings/read, embedding_3_12/Cast, embedding_3_12/embedding_lookup/axis)]]"
     ]
    }
   ],
   "source": [
    "X_train = np.vstack(data_vec)\n",
    "X_embedded = encoder.predict(X_train)\n",
    "sequence_autoencoder.compile(optimizer='rmsprop', loss='categorical_crossentropy')"
   ]
  },
  {
   "cell_type": "code",
   "execution_count": 163,
   "metadata": {},
   "outputs": [
    {
     "data": {
      "text/plain": [
       "(204812, 23)"
      ]
     },
     "execution_count": 163,
     "metadata": {},
     "output_type": "execute_result"
    }
   ],
   "source": [
    "X_train.shape"
   ]
  },
  {
   "cell_type": "code",
   "execution_count": 165,
   "metadata": {},
   "outputs": [
    {
     "ename": "ValueError",
     "evalue": "Error when checking target: expected lstm_48 to have 3 dimensions, but got array with shape (204812, 23)",
     "output_type": "error",
     "traceback": [
      "\u001b[1;31m---------------------------------------------------------------------------\u001b[0m",
      "\u001b[1;31mValueError\u001b[0m                                Traceback (most recent call last)",
      "\u001b[1;32m<ipython-input-165-71af1a3899cc>\u001b[0m in \u001b[0;36m<module>\u001b[1;34m\u001b[0m\n\u001b[0;32m      4\u001b[0m                          \u001b[0mepochs\u001b[0m\u001b[1;33m=\u001b[0m\u001b[1;36m10\u001b[0m\u001b[1;33m,\u001b[0m\u001b[1;33m\u001b[0m\u001b[1;33m\u001b[0m\u001b[0m\n\u001b[0;32m      5\u001b[0m                          \u001b[0mbatch_size\u001b[0m\u001b[1;33m=\u001b[0m\u001b[1;36m32\u001b[0m\u001b[1;33m,\u001b[0m\u001b[1;33m\u001b[0m\u001b[1;33m\u001b[0m\u001b[0m\n\u001b[1;32m----> 6\u001b[1;33m                          verbose = 1)\n\u001b[0m",
      "\u001b[1;32m~\\Anaconda3\\lib\\site-packages\\keras\\engine\\training.py\u001b[0m in \u001b[0;36mfit\u001b[1;34m(self, x, y, batch_size, epochs, verbose, callbacks, validation_split, validation_data, shuffle, class_weight, sample_weight, initial_epoch, steps_per_epoch, validation_steps, **kwargs)\u001b[0m\n\u001b[0;32m    950\u001b[0m             \u001b[0msample_weight\u001b[0m\u001b[1;33m=\u001b[0m\u001b[0msample_weight\u001b[0m\u001b[1;33m,\u001b[0m\u001b[1;33m\u001b[0m\u001b[1;33m\u001b[0m\u001b[0m\n\u001b[0;32m    951\u001b[0m             \u001b[0mclass_weight\u001b[0m\u001b[1;33m=\u001b[0m\u001b[0mclass_weight\u001b[0m\u001b[1;33m,\u001b[0m\u001b[1;33m\u001b[0m\u001b[1;33m\u001b[0m\u001b[0m\n\u001b[1;32m--> 952\u001b[1;33m             batch_size=batch_size)\n\u001b[0m\u001b[0;32m    953\u001b[0m         \u001b[1;31m# Prepare validation data.\u001b[0m\u001b[1;33m\u001b[0m\u001b[1;33m\u001b[0m\u001b[1;33m\u001b[0m\u001b[0m\n\u001b[0;32m    954\u001b[0m         \u001b[0mdo_validation\u001b[0m \u001b[1;33m=\u001b[0m \u001b[1;32mFalse\u001b[0m\u001b[1;33m\u001b[0m\u001b[1;33m\u001b[0m\u001b[0m\n",
      "\u001b[1;32m~\\Anaconda3\\lib\\site-packages\\keras\\engine\\training.py\u001b[0m in \u001b[0;36m_standardize_user_data\u001b[1;34m(self, x, y, sample_weight, class_weight, check_array_lengths, batch_size)\u001b[0m\n\u001b[0;32m    787\u001b[0m                 \u001b[0mfeed_output_shapes\u001b[0m\u001b[1;33m,\u001b[0m\u001b[1;33m\u001b[0m\u001b[1;33m\u001b[0m\u001b[0m\n\u001b[0;32m    788\u001b[0m                 \u001b[0mcheck_batch_axis\u001b[0m\u001b[1;33m=\u001b[0m\u001b[1;32mFalse\u001b[0m\u001b[1;33m,\u001b[0m  \u001b[1;31m# Don't enforce the batch size.\u001b[0m\u001b[1;33m\u001b[0m\u001b[1;33m\u001b[0m\u001b[0m\n\u001b[1;32m--> 789\u001b[1;33m                 exception_prefix='target')\n\u001b[0m\u001b[0;32m    790\u001b[0m \u001b[1;33m\u001b[0m\u001b[0m\n\u001b[0;32m    791\u001b[0m             \u001b[1;31m# Generate sample-wise weight values given the `sample_weight` and\u001b[0m\u001b[1;33m\u001b[0m\u001b[1;33m\u001b[0m\u001b[1;33m\u001b[0m\u001b[0m\n",
      "\u001b[1;32m~\\Anaconda3\\lib\\site-packages\\keras\\engine\\training_utils.py\u001b[0m in \u001b[0;36mstandardize_input_data\u001b[1;34m(data, names, shapes, check_batch_axis, exception_prefix)\u001b[0m\n\u001b[0;32m    126\u001b[0m                         \u001b[1;34m': expected '\u001b[0m \u001b[1;33m+\u001b[0m \u001b[0mnames\u001b[0m\u001b[1;33m[\u001b[0m\u001b[0mi\u001b[0m\u001b[1;33m]\u001b[0m \u001b[1;33m+\u001b[0m \u001b[1;34m' to have '\u001b[0m \u001b[1;33m+\u001b[0m\u001b[1;33m\u001b[0m\u001b[1;33m\u001b[0m\u001b[0m\n\u001b[0;32m    127\u001b[0m                         \u001b[0mstr\u001b[0m\u001b[1;33m(\u001b[0m\u001b[0mlen\u001b[0m\u001b[1;33m(\u001b[0m\u001b[0mshape\u001b[0m\u001b[1;33m)\u001b[0m\u001b[1;33m)\u001b[0m \u001b[1;33m+\u001b[0m \u001b[1;34m' dimensions, but got array '\u001b[0m\u001b[1;33m\u001b[0m\u001b[1;33m\u001b[0m\u001b[0m\n\u001b[1;32m--> 128\u001b[1;33m                         'with shape ' + str(data_shape))\n\u001b[0m\u001b[0;32m    129\u001b[0m                 \u001b[1;32mif\u001b[0m \u001b[1;32mnot\u001b[0m \u001b[0mcheck_batch_axis\u001b[0m\u001b[1;33m:\u001b[0m\u001b[1;33m\u001b[0m\u001b[1;33m\u001b[0m\u001b[0m\n\u001b[0;32m    130\u001b[0m                     \u001b[0mdata_shape\u001b[0m \u001b[1;33m=\u001b[0m \u001b[0mdata_shape\u001b[0m\u001b[1;33m[\u001b[0m\u001b[1;36m1\u001b[0m\u001b[1;33m:\u001b[0m\u001b[1;33m]\u001b[0m\u001b[1;33m\u001b[0m\u001b[1;33m\u001b[0m\u001b[0m\n",
      "\u001b[1;31mValueError\u001b[0m: Error when checking target: expected lstm_48 to have 3 dimensions, but got array with shape (204812, 23)"
     ]
    }
   ],
   "source": [
    "X_train = np.vstack(data_vec)\n",
    "sequence_autoencoder.compile(optimizer='rmsprop', loss='categorical_crossentropy')\n",
    "sequence_autoencoder.fit(X_train, X_train,\n",
    "                         epochs=10,\n",
    "                         batch_size=32,\n",
    "                         verbose = 1)"
   ]
  },
  {
   "cell_type": "code",
   "execution_count": 194,
   "metadata": {},
   "outputs": [
    {
     "name": "stdout",
     "output_type": "stream",
     "text": [
      "Collecting pydot\n",
      "  Downloading https://files.pythonhosted.org/packages/33/d1/b1479a770f66d962f545c2101630ce1d5592d90cb4f083d38862e93d16d2/pydot-1.4.1-py2.py3-none-any.whl\n",
      "Requirement already satisfied: pyparsing>=2.1.4 in c:\\users\\enric\\anaconda3\\lib\\site-packages (from pydot) (2.3.1)\n",
      "Installing collected packages: pydot\n",
      "Successfully installed pydot-1.4.1\n"
     ]
    }
   ],
   "source": [
    "! pip install pydot"
   ]
  },
  {
   "cell_type": "code",
   "execution_count": 189,
   "metadata": {},
   "outputs": [
    {
     "data": {
      "text/plain": [
       "array([[[   0],\n",
       "        [   0],\n",
       "        [   0],\n",
       "        [   0],\n",
       "        [   0],\n",
       "        [   0],\n",
       "        [   0],\n",
       "        [   0],\n",
       "        [   0],\n",
       "        [   0],\n",
       "        [   0],\n",
       "        [   0],\n",
       "        [   0],\n",
       "        [   0],\n",
       "        [   0],\n",
       "        [   0],\n",
       "        [   0],\n",
       "        [   0],\n",
       "        [   1],\n",
       "        [   3],\n",
       "        [  94],\n",
       "        [2461],\n",
       "        [1432]]])"
      ]
     },
     "execution_count": 189,
     "metadata": {},
     "output_type": "execute_result"
    }
   ],
   "source": [
    "X_train = np.vstack(data_vec)\n",
    "X_train[0]\n",
    "sequence = X_train[0].reshape((1, MAX_SEQUENCE_LENGTH, 1))\n",
    "sequence"
   ]
  },
  {
   "cell_type": "code",
   "execution_count": 210,
   "metadata": {},
   "outputs": [],
   "source": [
    "model = Sequential()\n",
    "#model.add(embedding_layer_2)\n",
    "model.add(LSTM(100, activation='relu', input_shape=(MAX_SEQUENCE_LENGTH,1)))\n",
    "model.add(RepeatVector(MAX_SEQUENCE_LENGTH))\n",
    "model.add(LSTM(100, activation='relu', return_sequences=True))\n",
    "model.add(TimeDistributed(Dense(1)))\n",
    "\n",
    "model.compile(optimizer='adam', loss='mse')"
   ]
  },
  {
   "cell_type": "code",
   "execution_count": 217,
   "metadata": {
    "scrolled": true
   },
   "outputs": [
    {
     "name": "stdout",
     "output_type": "stream",
     "text": [
      "Epoch 1/300\n",
      "1/1 [==============================] - 0s 26ms/step - loss: 80578.4219\n",
      "Epoch 2/300\n",
      "1/1 [==============================] - 0s 33ms/step - loss: 80329.8672\n",
      "Epoch 3/300\n",
      "1/1 [==============================] - 0s 21ms/step - loss: 80076.9453\n",
      "Epoch 4/300\n",
      "1/1 [==============================] - 0s 24ms/step - loss: 79821.0234\n",
      "Epoch 5/300\n",
      "1/1 [==============================] - 0s 30ms/step - loss: 79562.1328\n",
      "Epoch 6/300\n",
      "1/1 [==============================] - 0s 26ms/step - loss: 79305.6719\n",
      "Epoch 7/300\n",
      "1/1 [==============================] - 0s 27ms/step - loss: 79036.8984\n",
      "Epoch 8/300\n",
      "1/1 [==============================] - 0s 26ms/step - loss: 78769.9531\n",
      "Epoch 9/300\n",
      "1/1 [==============================] - 0s 26ms/step - loss: 78499.8906\n",
      "Epoch 10/300\n",
      "1/1 [==============================] - 0s 33ms/step - loss: 79958.5312\n",
      "Epoch 11/300\n",
      "1/1 [==============================] - 0s 26ms/step - loss: 78043.3516\n",
      "Epoch 12/300\n",
      "1/1 [==============================] - 0s 33ms/step - loss: 77856.6328\n",
      "Epoch 13/300\n",
      "1/1 [==============================] - 0s 47ms/step - loss: 77655.9531\n",
      "Epoch 14/300\n",
      "1/1 [==============================] - 0s 20ms/step - loss: 77444.1016\n",
      "Epoch 15/300\n",
      "1/1 [==============================] - 0s 22ms/step - loss: 77210.1172\n",
      "Epoch 16/300\n",
      "1/1 [==============================] - 0s 21ms/step - loss: 76965.1016\n",
      "Epoch 17/300\n",
      "1/1 [==============================] - 0s 32ms/step - loss: 76725.9062\n",
      "Epoch 18/300\n",
      "1/1 [==============================] - 0s 21ms/step - loss: 76473.7578\n",
      "Epoch 19/300\n",
      "1/1 [==============================] - 0s 26ms/step - loss: 76209.2578\n",
      "Epoch 20/300\n",
      "1/1 [==============================] - 0s 32ms/step - loss: 75944.7656\n",
      "Epoch 21/300\n",
      "1/1 [==============================] - 0s 43ms/step - loss: 75675.2031\n",
      "Epoch 22/300\n",
      "1/1 [==============================] - 0s 33ms/step - loss: 75396.0859\n",
      "Epoch 23/300\n",
      "1/1 [==============================] - 0s 22ms/step - loss: 75107.6016\n",
      "Epoch 24/300\n",
      "1/1 [==============================] - 0s 30ms/step - loss: 74821.7969\n",
      "Epoch 25/300\n",
      "1/1 [==============================] - 0s 25ms/step - loss: 74526.2812\n",
      "Epoch 26/300\n",
      "1/1 [==============================] - 0s 28ms/step - loss: 74220.1484\n",
      "Epoch 27/300\n",
      "1/1 [==============================] - 0s 27ms/step - loss: 73903.6328\n",
      "Epoch 28/300\n",
      "1/1 [==============================] - 0s 25ms/step - loss: 73588.0000\n",
      "Epoch 29/300\n",
      "1/1 [==============================] - 0s 20ms/step - loss: 73257.5156\n",
      "Epoch 30/300\n",
      "1/1 [==============================] - 0s 31ms/step - loss: 72913.9531\n",
      "Epoch 31/300\n",
      "1/1 [==============================] - 0s 29ms/step - loss: 72523.0078\n",
      "Epoch 32/300\n",
      "1/1 [==============================] - 0s 26ms/step - loss: 72110.0156\n",
      "Epoch 33/300\n",
      "1/1 [==============================] - 0s 41ms/step - loss: 71674.2578\n",
      "Epoch 34/300\n",
      "1/1 [==============================] - 0s 31ms/step - loss: 71264.0625\n",
      "Epoch 35/300\n",
      "1/1 [==============================] - 0s 43ms/step - loss: 70963.0625\n",
      "Epoch 36/300\n",
      "1/1 [==============================] - 0s 40ms/step - loss: 70641.7031\n",
      "Epoch 37/300\n",
      "1/1 [==============================] - 0s 29ms/step - loss: 70294.7188\n",
      "Epoch 38/300\n",
      "1/1 [==============================] - 0s 40ms/step - loss: 69924.6562\n",
      "Epoch 39/300\n",
      "1/1 [==============================] - 0s 40ms/step - loss: 69533.1094\n",
      "Epoch 40/300\n",
      "1/1 [==============================] - 0s 41ms/step - loss: 69159.7734\n",
      "Epoch 41/300\n",
      "1/1 [==============================] - 0s 29ms/step - loss: 68700.7266\n",
      "Epoch 42/300\n",
      "1/1 [==============================] - 0s 32ms/step - loss: 68271.3516\n",
      "Epoch 43/300\n",
      "1/1 [==============================] - 0s 47ms/step - loss: 67818.3750\n",
      "Epoch 44/300\n",
      "1/1 [==============================] - 0s 31ms/step - loss: 67508.7578\n",
      "Epoch 45/300\n",
      "1/1 [==============================] - 0s 29ms/step - loss: 67166.2891\n",
      "Epoch 46/300\n",
      "1/1 [==============================] - 0s 35ms/step - loss: 66706.4766\n",
      "Epoch 47/300\n",
      "1/1 [==============================] - 0s 37ms/step - loss: 66278.7734\n",
      "Epoch 48/300\n",
      "1/1 [==============================] - 0s 31ms/step - loss: 65933.4766\n",
      "Epoch 49/300\n",
      "1/1 [==============================] - 0s 31ms/step - loss: 65533.6992\n",
      "Epoch 50/300\n",
      "1/1 [==============================] - 0s 46ms/step - loss: 65088.0117\n",
      "Epoch 51/300\n",
      "1/1 [==============================] - 0s 23ms/step - loss: 64663.1289\n",
      "Epoch 52/300\n",
      "1/1 [==============================] - 0s 41ms/step - loss: 64233.7930\n",
      "Epoch 53/300\n",
      "1/1 [==============================] - 0s 27ms/step - loss: 63791.2734\n",
      "Epoch 54/300\n",
      "1/1 [==============================] - 0s 26ms/step - loss: 63362.6250\n",
      "Epoch 55/300\n",
      "1/1 [==============================] - 0s 44ms/step - loss: 62957.0820\n",
      "Epoch 56/300\n",
      "1/1 [==============================] - 0s 34ms/step - loss: 62567.3750\n",
      "Epoch 57/300\n",
      "1/1 [==============================] - 0s 31ms/step - loss: 62284.3359\n",
      "Epoch 58/300\n",
      "1/1 [==============================] - 0s 46ms/step - loss: 61720.3242\n",
      "Epoch 59/300\n",
      "1/1 [==============================] - 0s 29ms/step - loss: 61236.0234\n",
      "Epoch 60/300\n",
      "1/1 [==============================] - 0s 38ms/step - loss: 60901.9297\n",
      "Epoch 61/300\n",
      "1/1 [==============================] - 0s 26ms/step - loss: 60565.0977\n",
      "Epoch 62/300\n",
      "1/1 [==============================] - 0s 30ms/step - loss: 60218.1953\n",
      "Epoch 63/300\n",
      "1/1 [==============================] - 0s 27ms/step - loss: 59874.6406\n",
      "Epoch 64/300\n",
      "1/1 [==============================] - 0s 30ms/step - loss: 59531.1211\n",
      "Epoch 65/300\n",
      "1/1 [==============================] - 0s 27ms/step - loss: 59117.4727\n",
      "Epoch 66/300\n",
      "1/1 [==============================] - 0s 33ms/step - loss: 58684.7070\n",
      "Epoch 67/300\n",
      "1/1 [==============================] - 0s 36ms/step - loss: 58261.7617\n",
      "Epoch 68/300\n",
      "1/1 [==============================] - 0s 44ms/step - loss: 57799.2500\n",
      "Epoch 69/300\n",
      "1/1 [==============================] - 0s 42ms/step - loss: 57317.7266\n",
      "Epoch 70/300\n",
      "1/1 [==============================] - 0s 25ms/step - loss: 56802.2656\n",
      "Epoch 71/300\n",
      "1/1 [==============================] - 0s 40ms/step - loss: 56322.5859\n",
      "Epoch 72/300\n",
      "1/1 [==============================] - 0s 45ms/step - loss: 55768.3867\n",
      "Epoch 73/300\n",
      "1/1 [==============================] - 0s 35ms/step - loss: 55233.5234\n",
      "Epoch 74/300\n",
      "1/1 [==============================] - 0s 24ms/step - loss: 54770.7227\n",
      "Epoch 75/300\n",
      "1/1 [==============================] - 0s 25ms/step - loss: 54144.0156\n",
      "Epoch 76/300\n",
      "1/1 [==============================] - 0s 24ms/step - loss: 53618.4766\n",
      "Epoch 77/300\n",
      "1/1 [==============================] - 0s 30ms/step - loss: 53355.1133\n",
      "Epoch 78/300\n",
      "1/1 [==============================] - 0s 30ms/step - loss: 52636.6094\n",
      "Epoch 79/300\n",
      "1/1 [==============================] - 0s 28ms/step - loss: 51978.2930\n",
      "Epoch 80/300\n",
      "1/1 [==============================] - 0s 23ms/step - loss: 51276.8047\n",
      "Epoch 81/300\n",
      "1/1 [==============================] - 0s 44ms/step - loss: 50543.6367\n",
      "Epoch 82/300\n",
      "1/1 [==============================] - 0s 35ms/step - loss: 49970.0859\n",
      "Epoch 83/300\n",
      "1/1 [==============================] - 0s 23ms/step - loss: 49362.0117\n",
      "Epoch 84/300\n",
      "1/1 [==============================] - 0s 29ms/step - loss: 48726.5547\n",
      "Epoch 85/300\n",
      "1/1 [==============================] - 0s 29ms/step - loss: 48097.6484\n",
      "Epoch 86/300\n",
      "1/1 [==============================] - 0s 34ms/step - loss: 47561.6953\n",
      "Epoch 87/300\n",
      "1/1 [==============================] - 0s 26ms/step - loss: 47061.3203\n",
      "Epoch 88/300\n",
      "1/1 [==============================] - 0s 36ms/step - loss: 46358.6641\n",
      "Epoch 89/300\n",
      "1/1 [==============================] - 0s 31ms/step - loss: 45670.9258\n",
      "Epoch 90/300\n",
      "1/1 [==============================] - 0s 29ms/step - loss: 44909.9141\n",
      "Epoch 91/300\n",
      "1/1 [==============================] - 0s 35ms/step - loss: 44326.2930\n",
      "Epoch 92/300\n",
      "1/1 [==============================] - 0s 30ms/step - loss: 43736.5469\n",
      "Epoch 93/300\n",
      "1/1 [==============================] - 0s 23ms/step - loss: 43287.6445\n",
      "Epoch 94/300\n",
      "1/1 [==============================] - 0s 32ms/step - loss: 42582.3398\n",
      "Epoch 95/300\n",
      "1/1 [==============================] - 0s 29ms/step - loss: 43245.9336\n",
      "Epoch 96/300\n",
      "1/1 [==============================] - 0s 38ms/step - loss: 42619.2109\n",
      "Epoch 97/300\n",
      "1/1 [==============================] - 0s 35ms/step - loss: 41912.1133\n",
      "Epoch 98/300\n",
      "1/1 [==============================] - 0s 27ms/step - loss: 41361.3359\n"
     ]
    },
    {
     "name": "stdout",
     "output_type": "stream",
     "text": [
      "Epoch 99/300\n",
      "1/1 [==============================] - 0s 50ms/step - loss: 40708.6992\n",
      "Epoch 100/300\n",
      "1/1 [==============================] - 0s 22ms/step - loss: 39979.8984\n",
      "Epoch 101/300\n",
      "1/1 [==============================] - 0s 44ms/step - loss: 39203.9766\n",
      "Epoch 102/300\n",
      "1/1 [==============================] - 0s 54ms/step - loss: 38532.6367\n",
      "Epoch 103/300\n",
      "1/1 [==============================] - 0s 38ms/step - loss: 36677.3281\n",
      "Epoch 104/300\n",
      "1/1 [==============================] - 0s 24ms/step - loss: 35846.0664\n",
      "Epoch 105/300\n",
      "1/1 [==============================] - 0s 40ms/step - loss: 34963.7734\n",
      "Epoch 106/300\n",
      "1/1 [==============================] - 0s 24ms/step - loss: 34141.9062\n",
      "Epoch 107/300\n",
      "1/1 [==============================] - 0s 42ms/step - loss: 33272.2383\n",
      "Epoch 108/300\n",
      "1/1 [==============================] - 0s 32ms/step - loss: 32481.3965\n",
      "Epoch 109/300\n",
      "1/1 [==============================] - 0s 33ms/step - loss: 31849.8633\n",
      "Epoch 110/300\n",
      "1/1 [==============================] - 0s 27ms/step - loss: 31214.3555\n",
      "Epoch 111/300\n",
      "1/1 [==============================] - 0s 30ms/step - loss: 30574.9434\n",
      "Epoch 112/300\n",
      "1/1 [==============================] - 0s 24ms/step - loss: 29824.3047\n",
      "Epoch 113/300\n",
      "1/1 [==============================] - 0s 35ms/step - loss: 29085.9922\n",
      "Epoch 114/300\n",
      "1/1 [==============================] - 0s 43ms/step - loss: 28337.9883\n",
      "Epoch 115/300\n",
      "1/1 [==============================] - 0s 40ms/step - loss: 27683.7715\n",
      "Epoch 116/300\n",
      "1/1 [==============================] - 0s 39ms/step - loss: 26990.1055\n",
      "Epoch 117/300\n",
      "1/1 [==============================] - 0s 37ms/step - loss: 26308.9629\n",
      "Epoch 118/300\n",
      "1/1 [==============================] - 0s 33ms/step - loss: 25596.6523\n",
      "Epoch 119/300\n",
      "1/1 [==============================] - 0s 33ms/step - loss: 25057.9043\n",
      "Epoch 120/300\n",
      "1/1 [==============================] - 0s 45ms/step - loss: 24314.4004\n",
      "Epoch 121/300\n",
      "1/1 [==============================] - 0s 35ms/step - loss: 52339.2227\n",
      "Epoch 122/300\n",
      "1/1 [==============================] - 0s 37ms/step - loss: 115757.5547\n",
      "Epoch 123/300\n",
      "1/1 [==============================] - 0s 31ms/step - loss: 116755.9766\n",
      "Epoch 124/300\n",
      "1/1 [==============================] - 0s 36ms/step - loss: 185118.6094\n",
      "Epoch 125/300\n",
      "1/1 [==============================] - 0s 29ms/step - loss: 186100.4062\n",
      "Epoch 126/300\n",
      "1/1 [==============================] - 0s 26ms/step - loss: 171955.0469\n",
      "Epoch 127/300\n",
      "1/1 [==============================] - 0s 30ms/step - loss: 131032.0859\n",
      "Epoch 128/300\n",
      "1/1 [==============================] - 0s 46ms/step - loss: 122193.4531\n",
      "Epoch 129/300\n",
      "1/1 [==============================] - 0s 30ms/step - loss: 81137.7734\n",
      "Epoch 130/300\n",
      "1/1 [==============================] - 0s 35ms/step - loss: 72921.3203\n",
      "Epoch 131/300\n",
      "1/1 [==============================] - 0s 40ms/step - loss: 288229.9062\n",
      "Epoch 132/300\n",
      "1/1 [==============================] - 0s 37ms/step - loss: 232052.0000\n",
      "Epoch 133/300\n",
      "1/1 [==============================] - 0s 32ms/step - loss: 179551.1094\n",
      "Epoch 134/300\n",
      "1/1 [==============================] - 0s 36ms/step - loss: 175664.7031\n",
      "Epoch 135/300\n",
      "1/1 [==============================] - 0s 35ms/step - loss: 156259.7969\n",
      "Epoch 136/300\n",
      "1/1 [==============================] - 0s 33ms/step - loss: 306485.0938\n",
      "Epoch 137/300\n",
      "1/1 [==============================] - 0s 53ms/step - loss: 255292.8281\n",
      "Epoch 138/300\n",
      "1/1 [==============================] - 0s 40ms/step - loss: 211599.7344\n",
      "Epoch 139/300\n",
      "1/1 [==============================] - 0s 37ms/step - loss: 184289.1094\n",
      "Epoch 140/300\n",
      "1/1 [==============================] - 0s 33ms/step - loss: 192686.9844\n",
      "Epoch 141/300\n",
      "1/1 [==============================] - 0s 27ms/step - loss: 174102.5938\n",
      "Epoch 142/300\n",
      "1/1 [==============================] - 0s 33ms/step - loss: 157887.5156\n",
      "Epoch 143/300\n",
      "1/1 [==============================] - 0s 30ms/step - loss: 139620.7344\n",
      "Epoch 144/300\n",
      "1/1 [==============================] - 0s 39ms/step - loss: 145434.9375\n",
      "Epoch 145/300\n",
      "1/1 [==============================] - 0s 38ms/step - loss: 185468.9375\n",
      "Epoch 146/300\n",
      "1/1 [==============================] - 0s 26ms/step - loss: 118284.3906\n",
      "Epoch 147/300\n",
      "1/1 [==============================] - 0s 41ms/step - loss: 116992.5625\n",
      "Epoch 148/300\n",
      "1/1 [==============================] - 0s 33ms/step - loss: 135868.2812\n",
      "Epoch 149/300\n",
      "1/1 [==============================] - 0s 34ms/step - loss: 122839.7500\n",
      "Epoch 150/300\n",
      "1/1 [==============================] - 0s 35ms/step - loss: 238132.5938\n",
      "Epoch 151/300\n",
      "1/1 [==============================] - 0s 42ms/step - loss: 237316.4375\n",
      "Epoch 152/300\n",
      "1/1 [==============================] - 0s 30ms/step - loss: 209353.3438\n",
      "Epoch 153/300\n",
      "1/1 [==============================] - 0s 34ms/step - loss: 203379.9844\n",
      "Epoch 154/300\n",
      "1/1 [==============================] - 0s 32ms/step - loss: 200472.3906\n",
      "Epoch 155/300\n",
      "1/1 [==============================] - 0s 39ms/step - loss: 190751.5625\n",
      "Epoch 156/300\n",
      "1/1 [==============================] - 0s 39ms/step - loss: 184249.8750\n",
      "Epoch 157/300\n",
      "1/1 [==============================] - 0s 34ms/step - loss: 175717.7500\n",
      "Epoch 158/300\n",
      "1/1 [==============================] - 0s 37ms/step - loss: 174023.1250\n",
      "Epoch 159/300\n",
      "1/1 [==============================] - 0s 27ms/step - loss: 169141.5156\n",
      "Epoch 160/300\n",
      "1/1 [==============================] - 0s 34ms/step - loss: 170373.4844\n",
      "Epoch 161/300\n",
      "1/1 [==============================] - 0s 25ms/step - loss: 172742.4531\n",
      "Epoch 162/300\n",
      "1/1 [==============================] - 0s 36ms/step - loss: 174912.7031\n",
      "Epoch 163/300\n",
      "1/1 [==============================] - 0s 28ms/step - loss: 176208.0469\n",
      "Epoch 164/300\n",
      "1/1 [==============================] - 0s 24ms/step - loss: 173707.5938\n",
      "Epoch 165/300\n",
      "1/1 [==============================] - 0s 29ms/step - loss: 167363.0000\n",
      "Epoch 166/300\n",
      "1/1 [==============================] - 0s 25ms/step - loss: 184439.9844\n",
      "Epoch 167/300\n",
      "1/1 [==============================] - 0s 36ms/step - loss: 174146.1562\n",
      "Epoch 168/300\n",
      "1/1 [==============================] - 0s 27ms/step - loss: 172856.5938\n",
      "Epoch 169/300\n",
      "1/1 [==============================] - 0s 23ms/step - loss: 171515.7969\n",
      "Epoch 170/300\n",
      "1/1 [==============================] - 0s 36ms/step - loss: 174489.2031\n",
      "Epoch 171/300\n",
      "1/1 [==============================] - 0s 47ms/step - loss: 169108.3594\n",
      "Epoch 172/300\n",
      "1/1 [==============================] - 0s 25ms/step - loss: 168042.0938\n",
      "Epoch 173/300\n",
      "1/1 [==============================] - 0s 46ms/step - loss: 166930.2344\n",
      "Epoch 174/300\n",
      "1/1 [==============================] - 0s 26ms/step - loss: 165787.6250\n",
      "Epoch 175/300\n",
      "1/1 [==============================] - 0s 33ms/step - loss: 164626.5156\n",
      "Epoch 176/300\n",
      "1/1 [==============================] - 0s 38ms/step - loss: 163453.3438\n",
      "Epoch 177/300\n",
      "1/1 [==============================] - 0s 25ms/step - loss: 162267.0469\n",
      "Epoch 178/300\n",
      "1/1 [==============================] - 0s 27ms/step - loss: 161068.5156\n",
      "Epoch 179/300\n",
      "1/1 [==============================] - 0s 24ms/step - loss: 159853.1562\n",
      "Epoch 180/300\n",
      "1/1 [==============================] - 0s 33ms/step - loss: 158615.8438\n",
      "Epoch 181/300\n",
      "1/1 [==============================] - 0s 37ms/step - loss: 157352.6875\n",
      "Epoch 182/300\n",
      "1/1 [==============================] - 0s 24ms/step - loss: 156062.0938\n",
      "Epoch 183/300\n",
      "1/1 [==============================] - 0s 24ms/step - loss: 154745.2188\n",
      "Epoch 184/300\n",
      "1/1 [==============================] - 0s 27ms/step - loss: 153405.3438\n",
      "Epoch 185/300\n",
      "1/1 [==============================] - 0s 31ms/step - loss: 152048.2500\n",
      "Epoch 186/300\n",
      "1/1 [==============================] - 0s 27ms/step - loss: 150679.3906\n",
      "Epoch 187/300\n",
      "1/1 [==============================] - 0s 50ms/step - loss: 149303.9844\n",
      "Epoch 188/300\n",
      "1/1 [==============================] - 0s 31ms/step - loss: 147922.3438\n",
      "Epoch 189/300\n",
      "1/1 [==============================] - 0s 31ms/step - loss: 146532.7969\n",
      "Epoch 190/300\n",
      "1/1 [==============================] - 0s 30ms/step - loss: 145145.2500\n",
      "Epoch 191/300\n",
      "1/1 [==============================] - 0s 27ms/step - loss: 143764.6562\n",
      "Epoch 192/300\n",
      "1/1 [==============================] - 0s 42ms/step - loss: 142388.8281\n",
      "Epoch 193/300\n",
      "1/1 [==============================] - 0s 25ms/step - loss: 141019.9375\n",
      "Epoch 194/300\n",
      "1/1 [==============================] - 0s 48ms/step - loss: 139660.7656\n"
     ]
    },
    {
     "name": "stdout",
     "output_type": "stream",
     "text": [
      "Epoch 195/300\n",
      "1/1 [==============================] - 0s 26ms/step - loss: 138314.6250\n",
      "Epoch 196/300\n",
      "1/1 [==============================] - 0s 26ms/step - loss: 140731.3750\n",
      "Epoch 197/300\n",
      "1/1 [==============================] - 0s 32ms/step - loss: 136362.0000\n",
      "Epoch 198/300\n",
      "1/1 [==============================] - 0s 28ms/step - loss: 135393.9844\n",
      "Epoch 199/300\n",
      "1/1 [==============================] - 0s 27ms/step - loss: 134595.5938\n",
      "Epoch 200/300\n",
      "1/1 [==============================] - 0s 27ms/step - loss: 133761.9688\n",
      "Epoch 201/300\n",
      "1/1 [==============================] - 0s 42ms/step - loss: 132889.7188\n",
      "Epoch 202/300\n",
      "1/1 [==============================] - 0s 26ms/step - loss: 131983.0000\n",
      "Epoch 203/300\n",
      "1/1 [==============================] - 0s 37ms/step - loss: 130997.8984\n",
      "Epoch 204/300\n",
      "1/1 [==============================] - 0s 30ms/step - loss: 130077.2266\n",
      "Epoch 205/300\n",
      "1/1 [==============================] - 0s 33ms/step - loss: 129193.3359\n",
      "Epoch 206/300\n",
      "1/1 [==============================] - 0s 23ms/step - loss: 128322.1641\n",
      "Epoch 207/300\n",
      "1/1 [==============================] - 0s 26ms/step - loss: 127466.6953\n",
      "Epoch 208/300\n",
      "1/1 [==============================] - 0s 26ms/step - loss: 126625.7188\n",
      "Epoch 209/300\n",
      "1/1 [==============================] - 0s 37ms/step - loss: 125796.8516\n",
      "Epoch 210/300\n",
      "1/1 [==============================] - 0s 31ms/step - loss: 124981.6328\n",
      "Epoch 211/300\n",
      "1/1 [==============================] - 0s 34ms/step - loss: 124188.0234\n",
      "Epoch 212/300\n",
      "1/1 [==============================] - 0s 34ms/step - loss: 123412.2188\n",
      "Epoch 213/300\n",
      "1/1 [==============================] - 0s 35ms/step - loss: 122656.8516\n",
      "Epoch 214/300\n",
      "1/1 [==============================] - 0s 35ms/step - loss: 121924.0312\n",
      "Epoch 215/300\n",
      "1/1 [==============================] - 0s 27ms/step - loss: 121212.8984\n",
      "Epoch 216/300\n",
      "1/1 [==============================] - 0s 40ms/step - loss: 120527.8906\n",
      "Epoch 217/300\n",
      "1/1 [==============================] - 0s 38ms/step - loss: 119869.9531\n",
      "Epoch 218/300\n",
      "1/1 [==============================] - 0s 30ms/step - loss: 119238.6406\n",
      "Epoch 219/300\n",
      "1/1 [==============================] - 0s 41ms/step - loss: 118631.3906\n",
      "Epoch 220/300\n",
      "1/1 [==============================] - 0s 34ms/step - loss: 117789.0078\n",
      "Epoch 221/300\n",
      "1/1 [==============================] - 0s 32ms/step - loss: 116944.6719\n",
      "Epoch 222/300\n",
      "1/1 [==============================] - 0s 26ms/step - loss: 116347.6328\n",
      "Epoch 223/300\n",
      "1/1 [==============================] - 0s 37ms/step - loss: 115796.1719\n",
      "Epoch 224/300\n",
      "1/1 [==============================] - 0s 30ms/step - loss: 115280.5547\n",
      "Epoch 225/300\n",
      "1/1 [==============================] - 0s 33ms/step - loss: 114806.7969\n",
      "Epoch 226/300\n",
      "1/1 [==============================] - 0s 35ms/step - loss: 114371.5234\n",
      "Epoch 227/300\n",
      "1/1 [==============================] - 0s 28ms/step - loss: 113965.4922\n",
      "Epoch 228/300\n",
      "1/1 [==============================] - 0s 47ms/step - loss: 113580.9922\n",
      "Epoch 229/300\n",
      "1/1 [==============================] - 0s 30ms/step - loss: 113213.5312\n",
      "Epoch 230/300\n",
      "1/1 [==============================] - 0s 39ms/step - loss: 112861.6641\n",
      "Epoch 231/300\n",
      "1/1 [==============================] - 0s 50ms/step - loss: 112529.7031\n",
      "Epoch 232/300\n",
      "1/1 [==============================] - 0s 28ms/step - loss: 112222.9453\n",
      "Epoch 233/300\n",
      "1/1 [==============================] - 0s 42ms/step - loss: 111949.5312\n",
      "Epoch 234/300\n",
      "1/1 [==============================] - 0s 29ms/step - loss: 111695.4531\n",
      "Epoch 235/300\n",
      "1/1 [==============================] - 0s 33ms/step - loss: 111470.4375\n",
      "Epoch 236/300\n",
      "1/1 [==============================] - 0s 39ms/step - loss: 111263.7031\n",
      "Epoch 237/300\n",
      "1/1 [==============================] - 0s 44ms/step - loss: 111070.2969\n",
      "Epoch 238/300\n",
      "1/1 [==============================] - 0s 25ms/step - loss: 110887.9688\n",
      "Epoch 239/300\n",
      "1/1 [==============================] - 0s 26ms/step - loss: 111334.7969\n",
      "Epoch 240/300\n",
      "1/1 [==============================] - 0s 44ms/step - loss: 110640.8516\n",
      "Epoch 241/300\n",
      "1/1 [==============================] - 0s 33ms/step - loss: 110575.5859\n",
      "Epoch 242/300\n",
      "1/1 [==============================] - 0s 46ms/step - loss: 110485.6641\n",
      "Epoch 243/300\n",
      "1/1 [==============================] - 0s 37ms/step - loss: 110364.1016\n",
      "Epoch 244/300\n",
      "1/1 [==============================] - 0s 32ms/step - loss: 110220.7734\n",
      "Epoch 245/300\n",
      "1/1 [==============================] - 0s 24ms/step - loss: 110076.5859\n",
      "Epoch 246/300\n",
      "1/1 [==============================] - 0s 42ms/step - loss: 109951.2812\n",
      "Epoch 247/300\n",
      "1/1 [==============================] - 0s 25ms/step - loss: 109853.4531\n",
      "Epoch 248/300\n",
      "1/1 [==============================] - 0s 30ms/step - loss: 109778.0078\n",
      "Epoch 249/300\n",
      "1/1 [==============================] - 0s 23ms/step - loss: 109710.8672\n",
      "Epoch 250/300\n",
      "1/1 [==============================] - 0s 32ms/step - loss: 109637.7578\n",
      "Epoch 251/300\n",
      "1/1 [==============================] - 0s 26ms/step - loss: 109551.6719\n",
      "Epoch 252/300\n",
      "1/1 [==============================] - 0s 27ms/step - loss: 109455.3359\n",
      "Epoch 253/300\n",
      "1/1 [==============================] - 0s 36ms/step - loss: 109357.8281\n",
      "Epoch 254/300\n",
      "1/1 [==============================] - 0s 29ms/step - loss: 109268.6719\n",
      "Epoch 255/300\n",
      "1/1 [==============================] - 0s 40ms/step - loss: 109603.5078\n",
      "Epoch 256/300\n",
      "1/1 [==============================] - 0s 32ms/step - loss: 109114.1016\n",
      "Epoch 257/300\n",
      "1/1 [==============================] - 0s 41ms/step - loss: 109043.4531\n",
      "Epoch 258/300\n",
      "1/1 [==============================] - 0s 22ms/step - loss: 108977.3516\n",
      "Epoch 259/300\n",
      "1/1 [==============================] - 0s 39ms/step - loss: 108912.7422\n",
      "Epoch 260/300\n",
      "1/1 [==============================] - 0s 27ms/step - loss: 108848.0312\n",
      "Epoch 261/300\n",
      "1/1 [==============================] - 0s 32ms/step - loss: 108783.3672\n",
      "Epoch 262/300\n",
      "1/1 [==============================] - 0s 40ms/step - loss: 108720.0859\n",
      "Epoch 263/300\n",
      "1/1 [==============================] - 0s 26ms/step - loss: 108659.4141\n",
      "Epoch 264/300\n",
      "1/1 [==============================] - 0s 23ms/step - loss: 108601.7734\n",
      "Epoch 265/300\n",
      "1/1 [==============================] - 0s 27ms/step - loss: 108546.3516\n",
      "Epoch 266/300\n",
      "1/1 [==============================] - 0s 36ms/step - loss: 108491.6641\n",
      "Epoch 267/300\n",
      "1/1 [==============================] - 0s 34ms/step - loss: 108436.4922\n",
      "Epoch 268/300\n",
      "1/1 [==============================] - 0s 29ms/step - loss: 108380.2266\n",
      "Epoch 269/300\n",
      "1/1 [==============================] - 0s 37ms/step - loss: 108323.1953\n",
      "Epoch 270/300\n",
      "1/1 [==============================] - 0s 27ms/step - loss: 108266.1094\n",
      "Epoch 271/300\n",
      "1/1 [==============================] - 0s 27ms/step - loss: 108209.6094\n",
      "Epoch 272/300\n",
      "1/1 [==============================] - 0s 28ms/step - loss: 108153.8359\n",
      "Epoch 273/300\n",
      "1/1 [==============================] - 0s 42ms/step - loss: 108098.4219\n",
      "Epoch 274/300\n",
      "1/1 [==============================] - 0s 45ms/step - loss: 108042.8984\n",
      "Epoch 275/300\n",
      "1/1 [==============================] - 0s 23ms/step - loss: 107987.4219\n",
      "Epoch 276/300\n",
      "1/1 [==============================] - 0s 34ms/step - loss: 107931.6094\n",
      "Epoch 277/300\n",
      "1/1 [==============================] - 0s 38ms/step - loss: 107875.4375\n",
      "Epoch 278/300\n",
      "1/1 [==============================] - 0s 26ms/step - loss: 107819.3047\n",
      "Epoch 279/300\n",
      "1/1 [==============================] - 0s 35ms/step - loss: 107763.4141\n",
      "Epoch 280/300\n",
      "1/1 [==============================] - 0s 26ms/step - loss: 107707.8828\n",
      "Epoch 281/300\n",
      "1/1 [==============================] - 0s 25ms/step - loss: 107652.4375\n",
      "Epoch 282/300\n",
      "1/1 [==============================] - 0s 23ms/step - loss: 107596.9453\n",
      "Epoch 283/300\n",
      "1/1 [==============================] - 0s 24ms/step - loss: 107541.2500\n",
      "Epoch 284/300\n",
      "1/1 [==============================] - 0s 26ms/step - loss: 107485.4141\n",
      "Epoch 285/300\n",
      "1/1 [==============================] - 0s 32ms/step - loss: 107429.6406\n",
      "Epoch 286/300\n",
      "1/1 [==============================] - 0s 39ms/step - loss: 107374.1094\n",
      "Epoch 287/300\n",
      "1/1 [==============================] - 0s 29ms/step - loss: 107318.8281\n",
      "Epoch 288/300\n",
      "1/1 [==============================] - 0s 27ms/step - loss: 107263.8672\n",
      "Epoch 289/300\n",
      "1/1 [==============================] - 0s 27ms/step - loss: 107209.1328\n",
      "Epoch 290/300\n",
      "1/1 [==============================] - 0s 32ms/step - loss: 107154.5078\n"
     ]
    },
    {
     "name": "stdout",
     "output_type": "stream",
     "text": [
      "Epoch 291/300\n",
      "1/1 [==============================] - 0s 31ms/step - loss: 107100.0078\n",
      "Epoch 292/300\n",
      "1/1 [==============================] - 0s 46ms/step - loss: 107045.7031\n",
      "Epoch 293/300\n",
      "1/1 [==============================] - 0s 30ms/step - loss: 106991.6172\n",
      "Epoch 294/300\n",
      "1/1 [==============================] - 0s 25ms/step - loss: 106937.8516\n",
      "Epoch 295/300\n",
      "1/1 [==============================] - 0s 31ms/step - loss: 106884.3906\n",
      "Epoch 296/300\n",
      "1/1 [==============================] - 0s 23ms/step - loss: 106831.2031\n",
      "Epoch 297/300\n",
      "1/1 [==============================] - 0s 35ms/step - loss: 106778.1875\n",
      "Epoch 298/300\n",
      "1/1 [==============================] - 0s 27ms/step - loss: 106725.4375\n",
      "Epoch 299/300\n",
      "1/1 [==============================] - 0s 34ms/step - loss: 106672.8359\n",
      "Epoch 300/300\n",
      "1/1 [==============================] - 0s 41ms/step - loss: 106620.4453\n"
     ]
    },
    {
     "data": {
      "text/plain": [
       "<keras.callbacks.History at 0x2659460ee48>"
      ]
     },
     "execution_count": 217,
     "metadata": {},
     "output_type": "execute_result"
    }
   ],
   "source": [
    "# fit model\n",
    "model.fit(sequence, sequence, epochs=300, verbose=1)"
   ]
  },
  {
   "cell_type": "code",
   "execution_count": 218,
   "metadata": {},
   "outputs": [
    {
     "name": "stdout",
     "output_type": "stream",
     "text": [
      "[  10.278507     4.6185694  -28.395048   -40.63671    -52.253254\n",
      "  -43.38476    -53.84574    -66.415436   -63.419407   -68.5918\n",
      "  -87.71953    -88.3769    -104.479904  -121.35937   -121.529175\n",
      "  -97.69838    -40.30212     61.13634    219.50768    450.84137\n",
      "  777.14307   1223.1322    1763.2139   ]\n"
     ]
    }
   ],
   "source": [
    "yhat = model.predict(sequence, verbose=0)\n",
    "print(yhat[0,:,0])"
   ]
  },
  {
   "cell_type": "code",
   "execution_count": 203,
   "metadata": {},
   "outputs": [],
   "source": [
    "#plot_model(model, show_shapes=True, to_file='reconstruct_lstm_autoencoder.png')"
   ]
  },
  {
   "cell_type": "code",
   "execution_count": null,
   "metadata": {},
   "outputs": [],
   "source": [
    "autoencoder.save('text_autoencoder_v1.h5')\n",
    "#autoencoder = load_model('text_autoencoder_v1.h5')"
   ]
  },
  {
   "cell_type": "code",
   "execution_count": null,
   "metadata": {},
   "outputs": [],
   "source": [
    "print (autoencoder.summary())"
   ]
  },
  {
   "cell_type": "code",
   "execution_count": null,
   "metadata": {},
   "outputs": [],
   "source": [
    "data.loc[49800]"
   ]
  },
  {
   "cell_type": "code",
   "execution_count": null,
   "metadata": {},
   "outputs": [],
   "source": []
  },
  {
   "cell_type": "code",
   "execution_count": null,
   "metadata": {},
   "outputs": [],
   "source": []
  },
  {
   "cell_type": "code",
   "execution_count": null,
   "metadata": {},
   "outputs": [],
   "source": []
  }
 ],
 "metadata": {
  "kernelspec": {
   "display_name": "Python 3",
   "language": "python",
   "name": "python3"
  },
  "language_info": {
   "codemirror_mode": {
    "name": "ipython",
    "version": 3
   },
   "file_extension": ".py",
   "mimetype": "text/x-python",
   "name": "python",
   "nbconvert_exporter": "python",
   "pygments_lexer": "ipython3",
   "version": "3.6.8"
  }
 },
 "nbformat": 4,
 "nbformat_minor": 2
}
