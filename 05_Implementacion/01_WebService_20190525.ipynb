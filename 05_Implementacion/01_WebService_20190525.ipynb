{
 "cells": [
  {
   "cell_type": "markdown",
   "metadata": {},
   "source": [
    "## Web Service"
   ]
  },
  {
   "cell_type": "code",
   "execution_count": 1,
   "metadata": {},
   "outputs": [],
   "source": [
    "import pandas as pd\n",
    "from tensorflow.keras.models import Model, Sequential, load_model\n",
    "import os\n",
    "import numpy as np\n",
    "from flask import Flask, request, redirect, url_for"
   ]
  },
  {
   "cell_type": "code",
   "execution_count": 5,
   "metadata": {},
   "outputs": [],
   "source": [
    "import Recommendator_20190527 as r"
   ]
  },
  {
   "cell_type": "code",
   "execution_count": 9,
   "metadata": {},
   "outputs": [
    {
     "name": "stdout",
     "output_type": "stream",
     "text": [
      "11/11 [==============================] - 0s 765us/sample\n",
      "\n",
      "============================================================\n",
      "\n",
      "==> Top 5 Recommended items to Customer 128: \n",
      "\n",
      "The customer 128 has bought this items: \n",
      "\n",
      "============================================================\n",
      "\n",
      "1 - chaqueta punto hombre cuello alto\n",
      "2 - harry_potter caliz fuego dvd\n",
      "3 - harry_potter camara secreta dvd\n",
      "4 - harry_potter coleccion hogwarts dvd bluray\n",
      "5 - harry_potter orden fenix dvd\n",
      "6 - harry_potter piedra filosofal dvd\n",
      "7 - harry_potter prisionero azkaban dvd\n",
      "8 - harry_potter reliquia muerte parte 3d bluray copia digital\n",
      "9 - jersey hombre cuello redondo\n",
      "10 - jersey hombre gris oscuro cuello caja\n",
      "11 - pack harry_potter coleccion completa bluray\n",
      "\n",
      "====================== IDs DE PRODUCTOS RECOMENDADOS ==============\n",
      "['A24965927', 'A16759315', 'A28030903', 'A28486573', 'A4690016']\n",
      "\n",
      "===================== PRODUCTOS RECOMENDADOS =====================\n",
      "1 - jersey hombre cuello redondo\n",
      "2 - chaqueta punto hombre cuello alto\n",
      "3 - pack harry_potter coleccion completa bluray\n",
      "4 - pack verano azul serie completa dvd\n",
      "5 - pack harry_potter coleccion completa bluray\n",
      "==================================================================\n"
     ]
    }
   ],
   "source": [
    "r.recommend(customer = 128, N = 5)"
   ]
  },
  {
   "cell_type": "code",
   "execution_count": null,
   "metadata": {},
   "outputs": [],
   "source": [
    "from flask import Flask\n",
    "app = Flask('Prueba1')\n",
    "\n",
    "@app.route(\"/\")\n",
    "def hello():\n",
    "    return \"Hello World!\""
   ]
  },
  {
   "cell_type": "code",
   "execution_count": null,
   "metadata": {},
   "outputs": [],
   "source": [
    "!export FLASK_APP=\n",
    "!flask run"
   ]
  },
  {
   "cell_type": "code",
   "execution_count": null,
   "metadata": {},
   "outputs": [],
   "source": []
  }
 ],
 "metadata": {
  "kernelspec": {
   "display_name": "Python 3",
   "language": "python",
   "name": "python3"
  },
  "language_info": {
   "codemirror_mode": {
    "name": "ipython",
    "version": 3
   },
   "file_extension": ".py",
   "mimetype": "text/x-python",
   "name": "python",
   "nbconvert_exporter": "python",
   "pygments_lexer": "ipython3",
   "version": "3.7.3"
  }
 },
 "nbformat": 4,
 "nbformat_minor": 2
}
