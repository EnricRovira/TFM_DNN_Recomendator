{
 "cells": [
  {
   "cell_type": "markdown",
   "metadata": {},
   "source": [
    "# Generate Custom Emedding\n",
    "\n",
    "In this notebook we generate the final Embedding"
   ]
  },
  {
   "cell_type": "code",
   "execution_count": 1,
   "metadata": {},
   "outputs": [
    {
     "name": "stderr",
     "output_type": "stream",
     "text": [
      "Using TensorFlow backend.\n"
     ]
    }
   ],
   "source": [
    "import pandas as pd\n",
    "import numpy as np\n",
    "import os\n",
    "import nltk.data\n",
    "from nltk import word_tokenize, sent_tokenize\n",
    "from sklearn.feature_extraction.text import CountVectorizer\n",
    "from nltk.corpus import stopwords\n",
    "import gensim\n",
    "from gensim.models import Word2Vec\n",
    "\n",
    "from keras.preprocessing.sequence import pad_sequences\n",
    "from keras.preprocessing.text import Tokenizer\n",
    "from keras.layers import Embedding\n",
    "\n",
    "from sklearn.neighbors import NearestNeighbors\n",
    "from keras.utils.vis_utils import plot_model\n",
    "\n",
    "import matplotlib.pyplot as plt\n",
    "%matplotlib inline\n",
    "\n",
    "pd.set_option('max_colwidth', 250)"
   ]
  },
  {
   "cell_type": "code",
   "execution_count": 2,
   "metadata": {},
   "outputs": [
    {
     "name": "stdout",
     "output_type": "stream",
     "text": [
      "['204kProducts.csv', 'Brands.csv', 'Categories.csv', 'Descriptions204k.csv', 'desktop.ini', 'FinalItems', 'Images', 'Images.csv', 'lemmatization-es.txt', 'stopwords_catalan.txt', 'Texto_PreProcesado.csv']\n"
     ]
    }
   ],
   "source": [
    "print (os.listdir('../Data/'))"
   ]
  },
  {
   "cell_type": "code",
   "execution_count": 3,
   "metadata": {},
   "outputs": [],
   "source": [
    "path = os.path.join('../Data/')\n",
    "path_models = os.path.join('../Models/')"
   ]
  },
  {
   "cell_type": "code",
   "execution_count": 4,
   "metadata": {},
   "outputs": [],
   "source": [
    "data = pd.read_csv(path + 'Texto_PreProcesado.csv', sep = ';', index_col = False)"
   ]
  },
  {
   "cell_type": "code",
   "execution_count": 5,
   "metadata": {},
   "outputs": [
    {
     "data": {
      "text/html": [
       "<div>\n",
       "<style scoped>\n",
       "    .dataframe tbody tr th:only-of-type {\n",
       "        vertical-align: middle;\n",
       "    }\n",
       "\n",
       "    .dataframe tbody tr th {\n",
       "        vertical-align: top;\n",
       "    }\n",
       "\n",
       "    .dataframe thead th {\n",
       "        text-align: right;\n",
       "    }\n",
       "</style>\n",
       "<table border=\"1\" class=\"dataframe\">\n",
       "  <thead>\n",
       "    <tr style=\"text-align: right;\">\n",
       "      <th></th>\n",
       "      <th>item_id</th>\n",
       "      <th>brand</th>\n",
       "      <th>text</th>\n",
       "    </tr>\n",
       "  </thead>\n",
       "  <tbody>\n",
       "    <tr>\n",
       "      <th>0</th>\n",
       "      <td>A28233506</td>\n",
       "      <td>Woman Limited El Corte Inglés</td>\n",
       "      <td>abrigo masculino textura mujer</td>\n",
       "    </tr>\n",
       "    <tr>\n",
       "      <th>1</th>\n",
       "      <td>A29054782</td>\n",
       "      <td>Woman Limited El Corte Inglés</td>\n",
       "      <td>abrigo doble faz mujer cinturon tono</td>\n",
       "    </tr>\n",
       "    <tr>\n",
       "      <th>2</th>\n",
       "      <td>A27354432</td>\n",
       "      <td>Woman El Corte Inglés</td>\n",
       "      <td>abrigo largo antelina mujer woman corte_ingles</td>\n",
       "    </tr>\n",
       "    <tr>\n",
       "      <th>3</th>\n",
       "      <td>A28302706</td>\n",
       "      <td>Lloyd's</td>\n",
       "      <td>chaqueta termica mujer efecto cortavientos</td>\n",
       "    </tr>\n",
       "    <tr>\n",
       "      <th>4</th>\n",
       "      <td>A27435502</td>\n",
       "      <td>Lloyd's</td>\n",
       "      <td>parka algodon mujer capucha</td>\n",
       "    </tr>\n",
       "  </tbody>\n",
       "</table>\n",
       "</div>"
      ],
      "text/plain": [
       "     item_id                          brand  \\\n",
       "0  A28233506  Woman Limited El Corte Inglés   \n",
       "1  A29054782  Woman Limited El Corte Inglés   \n",
       "2  A27354432          Woman El Corte Inglés   \n",
       "3  A28302706                        Lloyd's   \n",
       "4  A27435502                        Lloyd's   \n",
       "\n",
       "                                             text  \n",
       "0                  abrigo masculino textura mujer  \n",
       "1            abrigo doble faz mujer cinturon tono  \n",
       "2  abrigo largo antelina mujer woman corte_ingles  \n",
       "3      chaqueta termica mujer efecto cortavientos  \n",
       "4                     parka algodon mujer capucha  "
      ]
     },
     "execution_count": 5,
     "metadata": {},
     "output_type": "execute_result"
    }
   ],
   "source": [
    "data.head()"
   ]
  },
  {
   "cell_type": "code",
   "execution_count": 6,
   "metadata": {},
   "outputs": [],
   "source": [
    "EMBEDDING_DIM = 100"
   ]
  },
  {
   "cell_type": "code",
   "execution_count": 7,
   "metadata": {},
   "outputs": [
    {
     "data": {
      "text/plain": [
       "204812"
      ]
     },
     "execution_count": 7,
     "metadata": {},
     "output_type": "execute_result"
    }
   ],
   "source": [
    "data['text'] = data['text'].astype(str)\n",
    "sentences = [word.split() for word in data['text'].values]\n",
    "sentences[:3]\n",
    "\n",
    "len(sentences)"
   ]
  },
  {
   "cell_type": "markdown",
   "metadata": {},
   "source": [
    "## Generate Word2Vec Embedding"
   ]
  },
  {
   "cell_type": "code",
   "execution_count": null,
   "metadata": {},
   "outputs": [],
   "source": [
    "%%time\n",
    "modelWV = Word2Vec(sentences, workers = 3, min_count=5, window = 10, size = EMBEDDING_DIM)\n",
    "modelWV.train(sentences, total_examples=len(sentences), epochs=20)"
   ]
  },
  {
   "cell_type": "code",
   "execution_count": null,
   "metadata": {},
   "outputs": [],
   "source": [
    "modelWV.save(path_models + \"word2vec_model\")"
   ]
  },
  {
   "cell_type": "code",
   "execution_count": 10,
   "metadata": {},
   "outputs": [],
   "source": [
    "modelWV = Word2Vec.load(path_models + \"word2vec_model\")"
   ]
  },
  {
   "cell_type": "markdown",
   "metadata": {},
   "source": [
    "### Let's test the Embedding"
   ]
  },
  {
   "cell_type": "code",
   "execution_count": 11,
   "metadata": {},
   "outputs": [
    {
     "data": {
      "text/plain": [
       "[('estola', 0.631831169128418),\n",
       " ('invierno', 0.5619574189186096),\n",
       " ('corbata', 0.5533325672149658),\n",
       " ('panuelo', 0.5433658361434937),\n",
       " ('guante', 0.5428837537765503),\n",
       " ('boina', 0.5405052900314331),\n",
       " ('coletero', 0.5135939121246338),\n",
       " ('gorro', 0.5011366605758667),\n",
       " ('pajarita', 0.497850626707077),\n",
       " ('sombrero', 0.49148687720298767)]"
      ]
     },
     "execution_count": 11,
     "metadata": {},
     "output_type": "execute_result"
    }
   ],
   "source": [
    "wl = 'bufanda'\n",
    "modelWV.wv.most_similar (positive = wl)"
   ]
  },
  {
   "cell_type": "code",
   "execution_count": 12,
   "metadata": {},
   "outputs": [
    {
     "data": {
      "text/plain": [
       "[('vga', 0.4276890456676483),\n",
       " ('optix', 0.41249147057533264),\n",
       " ('ultrapanoramico', 0.3922581672668457),\n",
       " ('hubs', 0.38271114230155945),\n",
       " ('1920x1080', 0.379360556602478),\n",
       " ('n3060', 0.37646201252937317),\n",
       " ('retroiluminado', 0.37579819560050964),\n",
       " ('330s15', 0.37459027767181396),\n",
       " ('conexion', 0.37084850668907166),\n",
       " ('dvi', 0.36873140931129456)]"
      ]
     },
     "execution_count": 12,
     "metadata": {},
     "output_type": "execute_result"
    }
   ],
   "source": [
    "def similar_products(text):\n",
    "    list_text = text.split()\n",
    "    most_similar = modelWV.wv.most_similar_cosmul(positive = list_text)\n",
    "    \n",
    "    return most_similar\n",
    "    \n",
    "similar_products('cable hdmi 1m')"
   ]
  },
  {
   "cell_type": "markdown",
   "metadata": {},
   "source": [
    "### Lets Study the impact of NumWords"
   ]
  },
  {
   "cell_type": "code",
   "execution_count": 33,
   "metadata": {},
   "outputs": [],
   "source": [
    "vectorizer = CountVectorizer(tokenizer = word_tokenize)\n",
    "transformed_data = vectorizer.fit_transform(data.text)\n",
    "word_count= transformed_data.sum(axis = 0)"
   ]
  },
  {
   "cell_type": "code",
   "execution_count": 34,
   "metadata": {},
   "outputs": [
    {
     "name": "stdout",
     "output_type": "stream",
     "text": [
      "0.6967467938216259\n",
      "0.8775108799981497\n",
      "0.927650421515606\n",
      "0.9787950859799323\n"
     ]
    },
    {
     "data": {
      "image/png": "[encoded data removed]",
      "text/plain": [
       "<Figure size 432x288 with 1 Axes>"
      ]
     },
     "metadata": {
      "needs_background": "light"
     },
     "output_type": "display_data"
    }
   ],
   "source": [
    "wc = np.array(word_count)[0]\n",
    "idx = np.argsort(wc)[::-1]\n",
    "\n",
    "percentages = np.zeros(len(wc))\n",
    "\n",
    "for i, idx_ in enumerate(idx):\n",
    "    percentages[i] = wc[idx_]\n",
    "\n",
    "percentages_cumsum = percentages.cumsum()/percentages.sum()\n",
    "\n",
    "plt.plot(percentages_cumsum)\n",
    "\n",
    "print (percentages_cumsum[1000])\n",
    "print (percentages_cumsum[5000])\n",
    "print (percentages_cumsum[10000])\n",
    "print (percentages_cumsum[30000])\n"
   ]
  },
  {
   "cell_type": "code",
   "execution_count": null,
   "metadata": {},
   "outputs": [],
   "source": []
  },
  {
   "cell_type": "code",
   "execution_count": null,
   "metadata": {},
   "outputs": [],
   "source": []
  },
  {
   "cell_type": "code",
   "execution_count": null,
   "metadata": {},
   "outputs": [],
   "source": []
  },
  {
   "cell_type": "code",
   "execution_count": null,
   "metadata": {},
   "outputs": [],
   "source": []
  }
 ],
 "metadata": {
  "kernelspec": {
   "display_name": "Python 3",
   "language": "python",
   "name": "python3"
  },
  "language_info": {
   "codemirror_mode": {
    "name": "ipython",
    "version": 3
   },
   "file_extension": ".py",
   "mimetype": "text/x-python",
   "name": "python",
   "nbconvert_exporter": "python",
   "pygments_lexer": "ipython3",
   "version": "3.7.3"
  }
 },
 "nbformat": 4,
 "nbformat_minor": 2
}
