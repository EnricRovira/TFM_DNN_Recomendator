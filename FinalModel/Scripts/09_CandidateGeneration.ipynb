{
 "cells": [
  {
   "cell_type": "markdown",
   "metadata": {},
   "source": [
    "# Candidates Generation"
   ]
  },
  {
   "cell_type": "code",
   "execution_count": 2,
   "metadata": {},
   "outputs": [
    {
     "name": "stderr",
     "output_type": "stream",
     "text": [
      "Using TensorFlow backend.\n"
     ]
    }
   ],
   "source": [
    "import pandas as pd\n",
    "import os, sys\n",
    "import numpy as np\n",
    "import seaborn as sns\n",
    "import gc\n",
    "import warnings\n",
    "\n",
    "from tensorflow.keras.preprocessing.sequence import pad_sequences\n",
    "from tensorflow.keras.preprocessing.text import Tokenizer\n",
    "from tensorflow.keras.layers import Embedding\n",
    "from gensim.models import Word2Vec\n",
    "\n",
    "from tensorflow.keras.models import Model, Sequential, load_model\n",
    "from tensorflow.keras.layers import Input, Flatten, Dense, Conv1D, MaxPooling1D, GlobalMaxPool1D, SpatialDropout1D, \\\n",
    "                          UpSampling1D, LSTM, RepeatVector, TimeDistributed, GRU, Bidirectional, concatenate, \\\n",
    "                          Reshape, Dropout, BatchNormalization, GlobalAveragePooling1D, GlobalAveragePooling2D\n",
    "\n",
    "from tensorflow.keras.utils import plot_model, to_categorical\n",
    "from sklearn.neighbors import NearestNeighbors\n",
    "from sklearn.preprocessing import StandardScaler, MinMaxScaler\n",
    "\n",
    "from tensorflow.keras.utils import to_categorical\n",
    "\n",
    "from sklearn.model_selection import train_test_split\n",
    "import matplotlib.pyplot as plt\n",
    "\n",
    "from custom_functions import norm_text, norm_brands, norm_images\n",
    "\n",
    "pd.set_option('max_colwidth', 250)\n",
    "warnings.filterwarnings(action='once')"
   ]
  },
  {
   "cell_type": "code",
   "execution_count": 13,
   "metadata": {},
   "outputs": [],
   "source": [
    "path = os.path.join('../Data/')\n",
    "path_models = os.path.join('../Models/')"
   ]
  },
  {
   "cell_type": "code",
   "execution_count": 14,
   "metadata": {},
   "outputs": [
    {
     "name": "stdout",
     "output_type": "stream",
     "text": [
      "['desktop.ini', 'encoder_text.h5', 'full_autoencoder.h5', 'full_encoder.h5', 'word2vec_model']\n"
     ]
    }
   ],
   "source": [
    "print (os.listdir(path_models))"
   ]
  },
  {
   "cell_type": "code",
   "execution_count": 15,
   "metadata": {},
   "outputs": [
    {
     "data": {
      "text/plain": [
       "(348183, 6)"
      ]
     },
     "execution_count": 15,
     "metadata": {},
     "output_type": "execute_result"
    }
   ],
   "source": [
    "data = pd.read_csv(path + 'FinalItems/data_filtered.csv', sep = ';')\n",
    "data_customers = pd.read_csv(path + 'customers_data.csv', sep = ';')\n",
    "data_customers.shape"
   ]
  },
  {
   "cell_type": "code",
   "execution_count": 16,
   "metadata": {},
   "outputs": [
    {
     "data": {
      "text/html": [
       "<div>\n",
       "<style scoped>\n",
       "    .dataframe tbody tr th:only-of-type {\n",
       "        vertical-align: middle;\n",
       "    }\n",
       "\n",
       "    .dataframe tbody tr th {\n",
       "        vertical-align: top;\n",
       "    }\n",
       "\n",
       "    .dataframe thead th {\n",
       "        text-align: right;\n",
       "    }\n",
       "</style>\n",
       "<table border=\"1\" class=\"dataframe\">\n",
       "  <thead>\n",
       "    <tr style=\"text-align: right;\">\n",
       "      <th></th>\n",
       "      <th>item_id</th>\n",
       "      <th>availability_date</th>\n",
       "      <th>brand</th>\n",
       "      <th>category</th>\n",
       "      <th>name</th>\n",
       "      <th>price</th>\n",
       "    </tr>\n",
       "  </thead>\n",
       "  <tbody>\n",
       "    <tr>\n",
       "      <th>0</th>\n",
       "      <td>A28233506</td>\n",
       "      <td>NaN</td>\n",
       "      <td>Woman Limited El Corte Inglés</td>\n",
       "      <td>['Moda', 'Mujer', 'Abrigos']</td>\n",
       "      <td>Abrigo masculino con textura de mujer</td>\n",
       "      <td>{'final': 199, 'currency': 'EUR'}</td>\n",
       "    </tr>\n",
       "    <tr>\n",
       "      <th>1</th>\n",
       "      <td>A29054782</td>\n",
       "      <td>NaN</td>\n",
       "      <td>Woman Limited El Corte Inglés</td>\n",
       "      <td>['Moda', 'Mujer', 'Abrigos']</td>\n",
       "      <td>Abrigo doble faz de mujer con cinturón a tono</td>\n",
       "      <td>{'final': 149, 'currency': 'EUR'}</td>\n",
       "    </tr>\n",
       "    <tr>\n",
       "      <th>2</th>\n",
       "      <td>A27354432</td>\n",
       "      <td>NaN</td>\n",
       "      <td>Woman El Corte Inglés</td>\n",
       "      <td>['Moda', 'Mujer', 'Abrigos']</td>\n",
       "      <td>Abrigo largo de antelina de mujer Woman El Corte Inglés</td>\n",
       "      <td>{'final': 89.99, 'currency': 'EUR'}</td>\n",
       "    </tr>\n",
       "    <tr>\n",
       "      <th>3</th>\n",
       "      <td>A28302706</td>\n",
       "      <td>NaN</td>\n",
       "      <td>Lloyd's</td>\n",
       "      <td>['Moda', 'Mujer', 'Abrigos']</td>\n",
       "      <td>Chaqueta térmica de mujer Lloyds con efecto cortavientos</td>\n",
       "      <td>{'final': 129, 'currency': 'EUR'}</td>\n",
       "    </tr>\n",
       "    <tr>\n",
       "      <th>4</th>\n",
       "      <td>A27435502</td>\n",
       "      <td>NaN</td>\n",
       "      <td>Lloyd's</td>\n",
       "      <td>['Moda', 'Mujer', 'Abrigos']</td>\n",
       "      <td>Parka 100% algodón de mujer Lloyds con capucha</td>\n",
       "      <td>{'final': 149, 'currency': 'EUR'}</td>\n",
       "    </tr>\n",
       "  </tbody>\n",
       "</table>\n",
       "</div>"
      ],
      "text/plain": [
       "     item_id  availability_date                          brand  \\\n",
       "0  A28233506                NaN  Woman Limited El Corte Inglés   \n",
       "1  A29054782                NaN  Woman Limited El Corte Inglés   \n",
       "2  A27354432                NaN          Woman El Corte Inglés   \n",
       "3  A28302706                NaN                        Lloyd's   \n",
       "4  A27435502                NaN                        Lloyd's   \n",
       "\n",
       "                       category  \\\n",
       "0  ['Moda', 'Mujer', 'Abrigos']   \n",
       "1  ['Moda', 'Mujer', 'Abrigos']   \n",
       "2  ['Moda', 'Mujer', 'Abrigos']   \n",
       "3  ['Moda', 'Mujer', 'Abrigos']   \n",
       "4  ['Moda', 'Mujer', 'Abrigos']   \n",
       "\n",
       "                                                       name  \\\n",
       "0                     Abrigo masculino con textura de mujer   \n",
       "1             Abrigo doble faz de mujer con cinturón a tono   \n",
       "2   Abrigo largo de antelina de mujer Woman El Corte Inglés   \n",
       "3  Chaqueta térmica de mujer Lloyds con efecto cortavientos   \n",
       "4            Parka 100% algodón de mujer Lloyds con capucha   \n",
       "\n",
       "                                 price  \n",
       "0    {'final': 199, 'currency': 'EUR'}  \n",
       "1    {'final': 149, 'currency': 'EUR'}  \n",
       "2  {'final': 89.99, 'currency': 'EUR'}  \n",
       "3    {'final': 129, 'currency': 'EUR'}  \n",
       "4    {'final': 149, 'currency': 'EUR'}  "
      ]
     },
     "execution_count": 16,
     "metadata": {},
     "output_type": "execute_result"
    }
   ],
   "source": [
    "data.head()"
   ]
  },
  {
   "cell_type": "code",
   "execution_count": 17,
   "metadata": {},
   "outputs": [
    {
     "data": {
      "text/html": [
       "<div>\n",
       "<style scoped>\n",
       "    .dataframe tbody tr th:only-of-type {\n",
       "        vertical-align: middle;\n",
       "    }\n",
       "\n",
       "    .dataframe tbody tr th {\n",
       "        vertical-align: top;\n",
       "    }\n",
       "\n",
       "    .dataframe thead th {\n",
       "        text-align: right;\n",
       "    }\n",
       "</style>\n",
       "<table border=\"1\" class=\"dataframe\">\n",
       "  <thead>\n",
       "    <tr style=\"text-align: right;\">\n",
       "      <th></th>\n",
       "      <th>date</th>\n",
       "      <th>item_id</th>\n",
       "      <th>brand</th>\n",
       "      <th>PRICE</th>\n",
       "      <th>customer_id</th>\n",
       "      <th>text</th>\n",
       "    </tr>\n",
       "  </thead>\n",
       "  <tbody>\n",
       "    <tr>\n",
       "      <th>0</th>\n",
       "      <td>20190101</td>\n",
       "      <td>A26036172</td>\n",
       "      <td>Tintoretto</td>\n",
       "      <td>27,99</td>\n",
       "      <td>0</td>\n",
       "      <td>Vestido de mujer Tintoretto de flores con lazada</td>\n",
       "    </tr>\n",
       "    <tr>\n",
       "      <th>1</th>\n",
       "      <td>20190101</td>\n",
       "      <td>A26036172</td>\n",
       "      <td>Tintoretto</td>\n",
       "      <td>27,99</td>\n",
       "      <td>0</td>\n",
       "      <td>Vestido de mujer Tintoretto de flores con lazada</td>\n",
       "    </tr>\n",
       "    <tr>\n",
       "      <th>2</th>\n",
       "      <td>20190101</td>\n",
       "      <td>A26036172</td>\n",
       "      <td>Tintoretto</td>\n",
       "      <td>27,99</td>\n",
       "      <td>0</td>\n",
       "      <td>Vestido de mujer Tintoretto de flores con lazada</td>\n",
       "    </tr>\n",
       "    <tr>\n",
       "      <th>3</th>\n",
       "      <td>20190101</td>\n",
       "      <td>A26036172</td>\n",
       "      <td>Tintoretto</td>\n",
       "      <td>27,99</td>\n",
       "      <td>0</td>\n",
       "      <td>Vestido de mujer Tintoretto de flores con lazada</td>\n",
       "    </tr>\n",
       "    <tr>\n",
       "      <th>4</th>\n",
       "      <td>20190101</td>\n",
       "      <td>A26870590</td>\n",
       "      <td>Fórmula Joven</td>\n",
       "      <td>19,99</td>\n",
       "      <td>0</td>\n",
       "      <td>Vestido laminado de mujer Fórmula Joven con escote en pico</td>\n",
       "    </tr>\n",
       "  </tbody>\n",
       "</table>\n",
       "</div>"
      ],
      "text/plain": [
       "       date    item_id          brand      PRICE  customer_id  \\\n",
       "0  20190101  A26036172     Tintoretto  27,99                0   \n",
       "1  20190101  A26036172     Tintoretto  27,99                0   \n",
       "2  20190101  A26036172     Tintoretto  27,99                0   \n",
       "3  20190101  A26036172     Tintoretto  27,99                0   \n",
       "4  20190101  A26870590  Fórmula Joven  19,99                0   \n",
       "\n",
       "                                                         text  \n",
       "0            Vestido de mujer Tintoretto de flores con lazada  \n",
       "1            Vestido de mujer Tintoretto de flores con lazada  \n",
       "2            Vestido de mujer Tintoretto de flores con lazada  \n",
       "3            Vestido de mujer Tintoretto de flores con lazada  \n",
       "4  Vestido laminado de mujer Fórmula Joven con escote en pico  "
      ]
     },
     "execution_count": 17,
     "metadata": {},
     "output_type": "execute_result"
    }
   ],
   "source": [
    "data_customers.head()"
   ]
  },
  {
   "cell_type": "code",
   "execution_count": 19,
   "metadata": {},
   "outputs": [
    {
     "name": "stderr",
     "output_type": "stream",
     "text": [
      "[nltk_data] Downloading package stopwords to\n",
      "[nltk_data]     C:\\Users\\enric\\AppData\\Roaming\\nltk_data...\n",
      "[nltk_data]   Unzipping corpora\\stopwords.zip.\n",
      "C:\\Users\\enric\\Google Drive\\PROYECTOS\\TFM_Motor de Recomendacion\\Master\\99_FinalModel\\Scripts\\custom_functions\\norm_text.py:18: ResourceWarning: unclosed file <_io.TextIOWrapper name='../Data/\\\\stopwords_catalan.txt' mode='r' encoding='UTF-8'>\n",
      "  STOPWORDS_CAT = open(path + '\\stopwords_catalan.txt', 'r', encoding= 'UTF-8').read().split()\n",
      "ResourceWarning: Enable tracemalloc to get the object allocation traceback\n"
     ]
    },
    {
     "name": "stdout",
     "output_type": "stream",
     "text": [
      "Wall time: 4min 57s\n"
     ]
    }
   ],
   "source": [
    "%%time\n",
    "#1min\n",
    "brands = norm_brands.launch_normalizer(data_customers)\n",
    "STOPWORDS_ALL =  norm_text.gen_stopwords(path)\n",
    "lemmatizer_inv = norm_text.get_lemmatizer(path)\n",
    "words = [word.split() for word in data_customers['text'].values]\n",
    "for i in range(len(words)):\n",
    "    data_customers['text'].values[i] = norm_text.normalize(words = words[i], p_brands = brands, \n",
    "                                                    STOPWORDS_ALL = STOPWORDS_ALL, \n",
    "                                                    lemmatizer_inv = lemmatizer_inv)\n"
   ]
  },
  {
   "cell_type": "code",
   "execution_count": 20,
   "metadata": {},
   "outputs": [
    {
     "data": {
      "text/html": [
       "<div>\n",
       "<style scoped>\n",
       "    .dataframe tbody tr th:only-of-type {\n",
       "        vertical-align: middle;\n",
       "    }\n",
       "\n",
       "    .dataframe tbody tr th {\n",
       "        vertical-align: top;\n",
       "    }\n",
       "\n",
       "    .dataframe thead th {\n",
       "        text-align: right;\n",
       "    }\n",
       "</style>\n",
       "<table border=\"1\" class=\"dataframe\">\n",
       "  <thead>\n",
       "    <tr style=\"text-align: right;\">\n",
       "      <th></th>\n",
       "      <th>date</th>\n",
       "      <th>item_id</th>\n",
       "      <th>brand</th>\n",
       "      <th>PRICE</th>\n",
       "      <th>customer_id</th>\n",
       "      <th>text</th>\n",
       "    </tr>\n",
       "  </thead>\n",
       "  <tbody>\n",
       "    <tr>\n",
       "      <th>0</th>\n",
       "      <td>20190101</td>\n",
       "      <td>A26036172</td>\n",
       "      <td>tintoretto</td>\n",
       "      <td>27,99</td>\n",
       "      <td>0</td>\n",
       "      <td>vestido mujer flor lazada</td>\n",
       "    </tr>\n",
       "    <tr>\n",
       "      <th>1</th>\n",
       "      <td>20190101</td>\n",
       "      <td>A26036172</td>\n",
       "      <td>tintoretto</td>\n",
       "      <td>27,99</td>\n",
       "      <td>0</td>\n",
       "      <td>vestido mujer flor lazada</td>\n",
       "    </tr>\n",
       "    <tr>\n",
       "      <th>2</th>\n",
       "      <td>20190101</td>\n",
       "      <td>A26036172</td>\n",
       "      <td>tintoretto</td>\n",
       "      <td>27,99</td>\n",
       "      <td>0</td>\n",
       "      <td>vestido mujer flor lazada</td>\n",
       "    </tr>\n",
       "    <tr>\n",
       "      <th>3</th>\n",
       "      <td>20190101</td>\n",
       "      <td>A26036172</td>\n",
       "      <td>tintoretto</td>\n",
       "      <td>27,99</td>\n",
       "      <td>0</td>\n",
       "      <td>vestido mujer flor lazada</td>\n",
       "    </tr>\n",
       "    <tr>\n",
       "      <th>4</th>\n",
       "      <td>20190101</td>\n",
       "      <td>A26870590</td>\n",
       "      <td>fórmula joven</td>\n",
       "      <td>19,99</td>\n",
       "      <td>0</td>\n",
       "      <td>vestido laminado mujer formula joven escote pico</td>\n",
       "    </tr>\n",
       "  </tbody>\n",
       "</table>\n",
       "</div>"
      ],
      "text/plain": [
       "       date    item_id          brand      PRICE  customer_id  \\\n",
       "0  20190101  A26036172     tintoretto  27,99                0   \n",
       "1  20190101  A26036172     tintoretto  27,99                0   \n",
       "2  20190101  A26036172     tintoretto  27,99                0   \n",
       "3  20190101  A26036172     tintoretto  27,99                0   \n",
       "4  20190101  A26870590  fórmula joven  19,99                0   \n",
       "\n",
       "                                               text  \n",
       "0                         vestido mujer flor lazada  \n",
       "1                         vestido mujer flor lazada  \n",
       "2                         vestido mujer flor lazada  \n",
       "3                         vestido mujer flor lazada  \n",
       "4  vestido laminado mujer formula joven escote pico  "
      ]
     },
     "execution_count": 20,
     "metadata": {},
     "output_type": "execute_result"
    }
   ],
   "source": [
    "data_customers.head()"
   ]
  },
  {
   "cell_type": "markdown",
   "metadata": {},
   "source": [
    "We clean some columns in the format we want"
   ]
  },
  {
   "cell_type": "code",
   "execution_count": 25,
   "metadata": {},
   "outputs": [],
   "source": [
    "data_customers.columns = data_customers.columns.str.strip()\n",
    "data_customers.PRICE = data_customers.PRICE.astype(float)\n",
    "data_customers.PRICE = pd.to_numeric(data_customers['PRICE'])\n",
    "data_customers.item_id = data_customers.item_id.apply(lambda x: x.strip())\n",
    "data.item_id = data.item_id.apply(lambda x: x.strip())"
   ]
  },
  {
   "cell_type": "code",
   "execution_count": 27,
   "metadata": {},
   "outputs": [],
   "source": [
    "data.columns = data.columns.str.strip()\n",
    "data_customers['item_age'] = -1 * (data_customers['date'] - data['availability_date'])\n",
    "data_customers['item_age'].fillna(0, inplace=True)"
   ]
  },
  {
   "cell_type": "code",
   "execution_count": 28,
   "metadata": {},
   "outputs": [
    {
     "name": "stdout",
     "output_type": "stream",
     "text": [
      "We have 4453 unique users and 65984 unique items and 2559 unique brands\n"
     ]
    }
   ],
   "source": [
    "customers_unique = data_customers.customer_id.unique()\n",
    "items_unique = data_customers.item_id.unique()\n",
    "brand_unique = data_customers.brand.unique()\n",
    "\n",
    "print (f'We have {len(customers_unique)} unique users and {len(items_unique)} unique items and {len(brand_unique)} unique brands')"
   ]
  },
  {
   "cell_type": "markdown",
   "metadata": {},
   "source": [
    "### We need integer data to be able to feed the NN"
   ]
  },
  {
   "cell_type": "code",
   "execution_count": 29,
   "metadata": {},
   "outputs": [],
   "source": [
    "customers_map = {i:val for i,val in enumerate(customers_unique)}\n",
    "customers_map_inv = {val:i for i,val in enumerate(customers_unique)}\n",
    "\n",
    "items_map = {i:val for i,val in enumerate(items_unique)}\n",
    "items_map_inv = {val:i for i,val in enumerate(items_unique)}\n",
    "\n",
    "brands_map = {i:val for i,val in enumerate(brand_unique)}\n",
    "brands_map_inv = {val:i for i,val in enumerate(brand_unique)}"
   ]
  },
  {
   "cell_type": "code",
   "execution_count": 30,
   "metadata": {},
   "outputs": [
    {
     "data": {
      "text/plain": [
       "(348183, 10)"
      ]
     },
     "execution_count": 30,
     "metadata": {},
     "output_type": "execute_result"
    }
   ],
   "source": [
    "data_customers['customer_id_int'] = data_customers['customer_id'].map(customers_map_inv)\n",
    "data_customers['item_id_int'] = data_customers['item_id'].map(items_map_inv)\n",
    "data_customers['brand_id'] = data_customers['brand'].map(brands_map_inv)\n",
    "data_customers.shape"
   ]
  },
  {
   "cell_type": "code",
   "execution_count": 31,
   "metadata": {},
   "outputs": [],
   "source": [
    "data_score = data_customers.groupby(['customer_id_int', 'item_id_int']).size().to_frame('score').reset_index().sort_values(by = 'score',ascending = False)"
   ]
  },
  {
   "cell_type": "code",
   "execution_count": 32,
   "metadata": {},
   "outputs": [
    {
     "data": {
      "text/plain": [
       "(348183, 11)"
      ]
     },
     "execution_count": 32,
     "metadata": {},
     "output_type": "execute_result"
    }
   ],
   "source": [
    "data_final = pd.merge(data_customers, data_score, how = 'inner')\n",
    "data_final.shape"
   ]
  },
  {
   "cell_type": "code",
   "execution_count": 33,
   "metadata": {},
   "outputs": [
    {
     "name": "stdout",
     "output_type": "stream",
     "text": [
      "(186397, 11)\n"
     ]
    },
    {
     "data": {
      "text/html": [
       "<div>\n",
       "<style scoped>\n",
       "    .dataframe tbody tr th:only-of-type {\n",
       "        vertical-align: middle;\n",
       "    }\n",
       "\n",
       "    .dataframe tbody tr th {\n",
       "        vertical-align: top;\n",
       "    }\n",
       "\n",
       "    .dataframe thead th {\n",
       "        text-align: right;\n",
       "    }\n",
       "</style>\n",
       "<table border=\"1\" class=\"dataframe\">\n",
       "  <thead>\n",
       "    <tr style=\"text-align: right;\">\n",
       "      <th></th>\n",
       "      <th>date</th>\n",
       "      <th>item_id</th>\n",
       "      <th>brand</th>\n",
       "      <th>PRICE</th>\n",
       "      <th>customer_id</th>\n",
       "      <th>text</th>\n",
       "      <th>item_age</th>\n",
       "      <th>customer_id_int</th>\n",
       "      <th>item_id_int</th>\n",
       "      <th>brand_id</th>\n",
       "      <th>score</th>\n",
       "    </tr>\n",
       "  </thead>\n",
       "  <tbody>\n",
       "    <tr>\n",
       "      <th>0</th>\n",
       "      <td>20190101</td>\n",
       "      <td>A26036172</td>\n",
       "      <td>tintoretto</td>\n",
       "      <td>27.99</td>\n",
       "      <td>0</td>\n",
       "      <td>vestido mujer flor lazada</td>\n",
       "      <td>0.0</td>\n",
       "      <td>0</td>\n",
       "      <td>0</td>\n",
       "      <td>0</td>\n",
       "      <td>13</td>\n",
       "    </tr>\n",
       "    <tr>\n",
       "      <th>4</th>\n",
       "      <td>20190115</td>\n",
       "      <td>A26036172</td>\n",
       "      <td>tintoretto</td>\n",
       "      <td>27.99</td>\n",
       "      <td>0</td>\n",
       "      <td>vestido mujer flor lazada</td>\n",
       "      <td>0.0</td>\n",
       "      <td>0</td>\n",
       "      <td>0</td>\n",
       "      <td>0</td>\n",
       "      <td>13</td>\n",
       "    </tr>\n",
       "    <tr>\n",
       "      <th>8</th>\n",
       "      <td>20190220</td>\n",
       "      <td>A26036172</td>\n",
       "      <td>tintoretto</td>\n",
       "      <td>27.99</td>\n",
       "      <td>0</td>\n",
       "      <td>vestido mujer flor lazada</td>\n",
       "      <td>0.0</td>\n",
       "      <td>0</td>\n",
       "      <td>0</td>\n",
       "      <td>0</td>\n",
       "      <td>13</td>\n",
       "    </tr>\n",
       "    <tr>\n",
       "      <th>12</th>\n",
       "      <td>20190304</td>\n",
       "      <td>A26036172</td>\n",
       "      <td>tintoretto</td>\n",
       "      <td>27.99</td>\n",
       "      <td>0</td>\n",
       "      <td>vestido mujer flor lazada</td>\n",
       "      <td>0.0</td>\n",
       "      <td>0</td>\n",
       "      <td>0</td>\n",
       "      <td>0</td>\n",
       "      <td>13</td>\n",
       "    </tr>\n",
       "    <tr>\n",
       "      <th>13</th>\n",
       "      <td>20190101</td>\n",
       "      <td>A26870590</td>\n",
       "      <td>fórmula joven</td>\n",
       "      <td>19.99</td>\n",
       "      <td>0</td>\n",
       "      <td>vestido laminado mujer formula joven escote pico</td>\n",
       "      <td>0.0</td>\n",
       "      <td>0</td>\n",
       "      <td>1</td>\n",
       "      <td>1</td>\n",
       "      <td>4</td>\n",
       "    </tr>\n",
       "  </tbody>\n",
       "</table>\n",
       "</div>"
      ],
      "text/plain": [
       "        date    item_id          brand  PRICE  customer_id  \\\n",
       "0   20190101  A26036172     tintoretto  27.99            0   \n",
       "4   20190115  A26036172     tintoretto  27.99            0   \n",
       "8   20190220  A26036172     tintoretto  27.99            0   \n",
       "12  20190304  A26036172     tintoretto  27.99            0   \n",
       "13  20190101  A26870590  fórmula joven  19.99            0   \n",
       "\n",
       "                                                text  item_age  \\\n",
       "0                          vestido mujer flor lazada       0.0   \n",
       "4                          vestido mujer flor lazada       0.0   \n",
       "8                          vestido mujer flor lazada       0.0   \n",
       "12                         vestido mujer flor lazada       0.0   \n",
       "13  vestido laminado mujer formula joven escote pico       0.0   \n",
       "\n",
       "    customer_id_int  item_id_int  brand_id  score  \n",
       "0                 0            0         0     13  \n",
       "4                 0            0         0     13  \n",
       "8                 0            0         0     13  \n",
       "12                0            0         0     13  \n",
       "13                0            1         1      4  "
      ]
     },
     "execution_count": 33,
     "metadata": {},
     "output_type": "execute_result"
    }
   ],
   "source": [
    "#remove duplicates due to agrupation, if a customer bought a item 2 times i only want 1 row with score 2, instead of 2 rows\n",
    "data_final.drop_duplicates(inplace=True)\n",
    "data_final.dropna(how = 'any', inplace = True)\n",
    "\n",
    "print(data_final.shape)\n",
    "data_final.head()"
   ]
  },
  {
   "cell_type": "code",
   "execution_count": 34,
   "metadata": {},
   "outputs": [
    {
     "data": {
      "image/png": "[encoded data removed]",
      "text/plain": [
       "<Figure size 432x288 with 1 Axes>"
      ]
     },
     "metadata": {
      "needs_background": "light"
     },
     "output_type": "display_data"
    }
   ],
   "source": [
    "sns.distplot(data_score['score'], bins = 1).set(xlim = (0, 500)); #Popularity distribution"
   ]
  },
  {
   "cell_type": "markdown",
   "metadata": {},
   "source": [
    "## Vectorize sentences"
   ]
  },
  {
   "cell_type": "code",
   "execution_count": 35,
   "metadata": {},
   "outputs": [
    {
     "name": "stdout",
     "output_type": "stream",
     "text": [
      "Found 15982 unique tokens.\n"
     ]
    }
   ],
   "source": [
    "MAX_NB_WORDS = 30_000 #decided by cumsum wordcount plot (Script 01)\n",
    "MAX_SEQUENCE_LENGTH = 24 #decided by max words in a product (Script 00)\n",
    "EMBEDDING_DIM = 100 #Same dim as our W2V embedding\n",
    "\n",
    "all_text = data_final['text']\n",
    "all_text = all_text.drop_duplicates (keep = False)\n",
    "\n",
    "tokenizer = Tokenizer(num_words=MAX_NB_WORDS, )\n",
    "tokenizer.fit_on_texts(all_text)\n",
    "\n",
    "data_sequences = tokenizer.texts_to_sequences(data_final['text'])\n",
    "data_vec = pad_sequences(data_sequences, maxlen=MAX_SEQUENCE_LENGTH)\n",
    "\n",
    "word_index = tokenizer.word_index\n",
    "print('Found %s unique tokens.' % len(word_index))"
   ]
  },
  {
   "cell_type": "code",
   "execution_count": 36,
   "metadata": {},
   "outputs": [
    {
     "data": {
      "text/plain": [
       "186397"
      ]
     },
     "execution_count": 36,
     "metadata": {},
     "output_type": "execute_result"
    }
   ],
   "source": [
    "len(data_vec)"
   ]
  },
  {
   "cell_type": "code",
   "execution_count": 37,
   "metadata": {},
   "outputs": [
    {
     "data": {
      "text/plain": [
       "(186397, 11)"
      ]
     },
     "execution_count": 37,
     "metadata": {},
     "output_type": "execute_result"
    }
   ],
   "source": [
    "data_final.shape"
   ]
  },
  {
   "cell_type": "code",
   "execution_count": 39,
   "metadata": {},
   "outputs": [],
   "source": [
    "modelWV = Word2Vec.load(path_models + 'word2vec_model')\n",
    "#encoder = load_model('encoder_text_V2.h5')"
   ]
  },
  {
   "cell_type": "code",
   "execution_count": 40,
   "metadata": {},
   "outputs": [
    {
     "name": "stderr",
     "output_type": "stream",
     "text": [
      "C:\\Users\\enric\\Anaconda3\\lib\\site-packages\\ipykernel_launcher.py:6: DeprecationWarning: Call to deprecated `__contains__` (Method will be removed in 4.0.0, use self.wv.__contains__() instead).\n",
      "  \n",
      "C:\\Users\\enric\\Anaconda3\\lib\\site-packages\\ipykernel_launcher.py:7: DeprecationWarning: Call to deprecated `__getitem__` (Method will be removed in 4.0.0, use self.wv.__getitem__() instead).\n",
      "  import sys\n"
     ]
    }
   ],
   "source": [
    "word_vectors = modelWV.wv\n",
    "vocabulary_size = len(word_index) + 1\n",
    "embedding_matrix = np.zeros((len(word_index) + 1, EMBEDDING_DIM))\n",
    "\n",
    "for word, i in word_index.items():\n",
    "    if word in modelWV:\n",
    "        embedding_matrix[i] = modelWV[word]\n",
    "    else:\n",
    "        embedding_matrix[i] = np.random.rand(1, EMBEDDING_DIM)[0]\n",
    "            \n",
    "\n",
    "del(word_vectors)\n",
    "\n",
    "embedding_layer = Embedding(input_dim = vocabulary_size,\n",
    "                            output_dim = EMBEDDING_DIM,\n",
    "                            input_length = MAX_SEQUENCE_LENGTH,\n",
    "                            weights=[embedding_matrix],\n",
    "                            name='w2v_embedding',\n",
    "                            trainable=False)"
   ]
  },
  {
   "cell_type": "markdown",
   "metadata": {},
   "source": [
    "## Output"
   ]
  },
  {
   "cell_type": "code",
   "execution_count": 26,
   "metadata": {},
   "outputs": [
    {
     "data": {
      "text/plain": [
       "68"
      ]
     },
     "execution_count": 26,
     "metadata": {},
     "output_type": "execute_result"
    }
   ],
   "source": [
    "gc.enable()\n",
    "del (data, data_score, data_customers, modelWV)\n",
    "gc.collect()"
   ]
  },
  {
   "cell_type": "code",
   "execution_count": 41,
   "metadata": {},
   "outputs": [],
   "source": [
    "CAT_ITEMS = len(items_unique)"
   ]
  },
  {
   "cell_type": "code",
   "execution_count": 42,
   "metadata": {},
   "outputs": [
    {
     "name": "stdout",
     "output_type": "stream",
     "text": [
      "[[1. 0. 0. ... 0. 0. 0.]\n",
      " [1. 0. 0. ... 0. 0. 0.]\n",
      " [1. 0. 0. ... 0. 0. 0.]\n",
      " ...\n",
      " [0. 0. 0. ... 0. 0. 0.]\n",
      " [0. 0. 0. ... 0. 0. 0.]\n",
      " [0. 0. 0. ... 0. 0. 0.]]\n"
     ]
    }
   ],
   "source": [
    "items_encoded = to_categorical(data_final['item_id_int'], num_classes = CAT_ITEMS)\n",
    "print(items_encoded)"
   ]
  },
  {
   "cell_type": "code",
   "execution_count": 43,
   "metadata": {},
   "outputs": [
    {
     "data": {
      "text/plain": [
       "(186397, 65984)"
      ]
     },
     "execution_count": 43,
     "metadata": {},
     "output_type": "execute_result"
    }
   ],
   "source": [
    "items_encoded.shape"
   ]
  },
  {
   "cell_type": "markdown",
   "metadata": {},
   "source": [
    "## Scale continuous data"
   ]
  },
  {
   "cell_type": "code",
   "execution_count": 44,
   "metadata": {},
   "outputs": [
    {
     "name": "stderr",
     "output_type": "stream",
     "text": [
      "C:\\Users\\enric\\Anaconda3\\lib\\site-packages\\sklearn\\utils\\validation.py:595: DataConversionWarning: Data with input dtype int32 was converted to float64 by MinMaxScaler.\n",
      "  warnings.warn(msg, DataConversionWarning)\n"
     ]
    }
   ],
   "source": [
    "scaler = MinMaxScaler(feature_range = (0, 1))\n",
    "data_to_scale1 = np.array([[x] for x in data_final['PRICE']])\n",
    "data_to_scale2 = np.array([[x] for x in data_final['score']])\n",
    "data_to_scale3 = np.array([[x] for x in data_final['item_age']])\n",
    "scaled_data1 = scaler.fit_transform(data_to_scale1)\n",
    "scaled_data2 = scaler.fit_transform(data_to_scale2)\n",
    "scaled_data3 = scaler.fit_transform(data_to_scale3)"
   ]
  },
  {
   "cell_type": "code",
   "execution_count": 45,
   "metadata": {},
   "outputs": [],
   "source": [
    "data_final['score_original'] = data_final['score']\n",
    "data_final['PRICE'] = scaled_data1.reshape(data_to_scale1.shape[0])\n",
    "data_final['score'] = scaled_data2.reshape(data_to_scale2.shape[0])\n",
    "data_final['item_age'] = scaled_data3.reshape(data_to_scale3.shape[0])\n",
    "\n",
    "data_final['power_price'] = np.power(scaled_data1.reshape(data_to_scale1.shape[0]), 2)\n",
    "data_final['power_score'] = np.power(scaled_data2.reshape(data_to_scale2.shape[0]), 2)\n",
    "data_final['power_item_age'] = np.power(scaled_data3.reshape(data_to_scale3.shape[0]), 2)\n",
    "\n",
    "data_final['sqrt_price'] = np.sqrt(scaled_data1.reshape(data_to_scale1.shape[0]))\n",
    "data_final['sqrt_score'] = np.sqrt(scaled_data2.reshape(data_to_scale2.shape[0]))\n",
    "data_final['sqrt_item_age'] = np.sqrt(scaled_data3.reshape(data_to_scale3.shape[0]))\n"
   ]
  },
  {
   "cell_type": "code",
   "execution_count": 47,
   "metadata": {},
   "outputs": [
    {
     "data": {
      "image/png": "[encoded data removed]",
      "text/plain": [
       "<Figure size 432x288 with 1 Axes>"
      ]
     },
     "metadata": {
      "needs_background": "light"
     },
     "output_type": "display_data"
    }
   ],
   "source": [
    "sns.distplot(data_final['score'], bins = 1); #Popularity item distribution"
   ]
  },
  {
   "cell_type": "code",
   "execution_count": 48,
   "metadata": {},
   "outputs": [],
   "source": [
    "data_final.to_csv(path + 'FinalItems/data_final.csv', index=False)"
   ]
  },
  {
   "cell_type": "markdown",
   "metadata": {},
   "source": [
    "## Architecture"
   ]
  },
  {
   "cell_type": "code",
   "execution_count": 49,
   "metadata": {},
   "outputs": [
    {
     "name": "stdout",
     "output_type": "stream",
     "text": [
      "(186397, 18)\n"
     ]
    }
   ],
   "source": [
    "data_final.head(3)\n",
    "print(data_final.shape)"
   ]
  },
  {
   "cell_type": "code",
   "execution_count": 50,
   "metadata": {},
   "outputs": [
    {
     "name": "stdout",
     "output_type": "stream",
     "text": [
      "WARNING:tensorflow:From C:\\Users\\enric\\Anaconda3\\lib\\site-packages\\tensorflow\\python\\ops\\resource_variable_ops.py:435: colocate_with (from tensorflow.python.framework.ops) is deprecated and will be removed in a future version.\n",
      "Instructions for updating:\n",
      "Colocations handled automatically by placer.\n"
     ]
    },
    {
     "name": "stderr",
     "output_type": "stream",
     "text": [
      "C:\\Users\\enric\\Anaconda3\\lib\\site-packages\\numpy\\lib\\type_check.py:546: DeprecationWarning: np.asscalar(a) is deprecated since NumPy v1.16, use a.item() instead\n",
      "  'a.item() instead', DeprecationWarning, stacklevel=1)\n"
     ]
    },
    {
     "name": "stdout",
     "output_type": "stream",
     "text": [
      "WARNING:tensorflow:From C:\\Users\\enric\\Anaconda3\\lib\\site-packages\\tensorflow\\python\\keras\\layers\\core.py:143: calling dropout (from tensorflow.python.ops.nn_ops) with keep_prob is deprecated and will be removed in a future version.\n",
      "Instructions for updating:\n",
      "Please use `rate` instead of `keep_prob`. Rate should be set to `rate = 1 - keep_prob`.\n",
      "__________________________________________________________________________________________________\n",
      "Layer (type)                    Output Shape         Param #     Connected to                     \n",
      "==================================================================================================\n",
      "user (InputLayer)               (None, 1)            0                                            \n",
      "__________________________________________________________________________________________________\n",
      "item (InputLayer)               (None, 1)            0                                            \n",
      "__________________________________________________________________________________________________\n",
      "brand (InputLayer)              (None, 1)            0                                            \n",
      "__________________________________________________________________________________________________\n",
      "text (InputLayer)               (None, 24)           0                                            \n",
      "__________________________________________________________________________________________________\n",
      "user_embedding (Embedding)      (None, 1, 20)        89080       user[0][0]                       \n",
      "__________________________________________________________________________________________________\n",
      "item_embedding (Embedding)      (None, 1, 50)        3299250     item[0][0]                       \n",
      "__________________________________________________________________________________________________\n",
      "brand_embedding (Embedding)     (None, 1, 20)        51200       brand[0][0]                      \n",
      "__________________________________________________________________________________________________\n",
      "embedding (Embedding)           (None, 24, 100)      1598300     text[0][0]                       \n",
      "__________________________________________________________________________________________________\n",
      "reshape (Reshape)               (None, 20)           0           user_embedding[0][0]             \n",
      "__________________________________________________________________________________________________\n",
      "reshape_1 (Reshape)             (None, 50)           0           item_embedding[0][0]             \n",
      "__________________________________________________________________________________________________\n",
      "reshape_2 (Reshape)             (None, 20)           0           brand_embedding[0][0]            \n",
      "__________________________________________________________________________________________________\n",
      "price (InputLayer)              (None, 1)            0                                            \n",
      "__________________________________________________________________________________________________\n",
      "item_age (InputLayer)           (None, 1)            0                                            \n",
      "__________________________________________________________________________________________________\n",
      "score (InputLayer)              (None, 1)            0                                            \n",
      "__________________________________________________________________________________________________\n",
      "power_price (InputLayer)        (None, 1)            0                                            \n",
      "__________________________________________________________________________________________________\n",
      "power_score (InputLayer)        (None, 1)            0                                            \n",
      "__________________________________________________________________________________________________\n",
      "power_item_age (InputLayer)     (None, 1)            0                                            \n",
      "__________________________________________________________________________________________________\n",
      "sqrt_price (InputLayer)         (None, 1)            0                                            \n",
      "__________________________________________________________________________________________________\n",
      "sqrt_score (InputLayer)         (None, 1)            0                                            \n",
      "__________________________________________________________________________________________________\n",
      "sqrt_item_age (InputLayer)      (None, 1)            0                                            \n",
      "__________________________________________________________________________________________________\n",
      "flatten (Flatten)               (None, 2400)         0           embedding[0][0]                  \n",
      "__________________________________________________________________________________________________\n",
      "VECTOR_PRODUCTO (Concatenate)   (None, 2499)         0           reshape[0][0]                    \n",
      "                                                                 reshape_1[0][0]                  \n",
      "                                                                 reshape_2[0][0]                  \n",
      "                                                                 price[0][0]                      \n",
      "                                                                 item_age[0][0]                   \n",
      "                                                                 score[0][0]                      \n",
      "                                                                 power_price[0][0]                \n",
      "                                                                 power_score[0][0]                \n",
      "                                                                 power_item_age[0][0]             \n",
      "                                                                 sqrt_price[0][0]                 \n",
      "                                                                 sqrt_score[0][0]                 \n",
      "                                                                 sqrt_item_age[0][0]              \n",
      "                                                                 flatten[0][0]                    \n",
      "__________________________________________________________________________________________________\n",
      "dropout (Dropout)               (None, 2499)         0           VECTOR_PRODUCTO[0][0]            \n",
      "__________________________________________________________________________________________________\n",
      "dense (Dense)                   (None, 1028)         2570000     dropout[0][0]                    \n",
      "__________________________________________________________________________________________________\n",
      "dropout_1 (Dropout)             (None, 1028)         0           dense[0][0]                      \n",
      "__________________________________________________________________________________________________\n",
      "dense_1 (Dense)                 (None, 256)          263424      dropout_1[0][0]                  \n",
      "__________________________________________________________________________________________________\n",
      "dropout_2 (Dropout)             (None, 256)          0           dense_1[0][0]                    \n",
      "__________________________________________________________________________________________________\n",
      "dense_2 (Dense)                 (None, 128)          32896       dropout_2[0][0]                  \n",
      "__________________________________________________________________________________________________\n",
      "dropout_3 (Dropout)             (None, 128)          0           dense_2[0][0]                    \n",
      "__________________________________________________________________________________________________\n",
      "dense_3 (Dense)                 (None, 65984)        8511936     dropout_3[0][0]                  \n",
      "==================================================================================================\n",
      "Total params: 16,416,086\n",
      "Trainable params: 14,817,786\n",
      "Non-trainable params: 1,598,300\n",
      "__________________________________________________________________________________________________\n"
     ]
    }
   ],
   "source": [
    "user_id_input = Input(shape=[1], name='user')\n",
    "item_id_input = Input(shape=[1], name='item')\n",
    "brand_id_input = Input(shape = [1], name = 'brand')\n",
    "\n",
    "price_input = Input(shape = [1], name = 'price')\n",
    "score_input = Input(shape = [1], name = 'score')\n",
    "item_age_input = Input(shape = [1], name = 'item_age')\n",
    "\n",
    "price_power_input = Input(shape = [1], name = 'power_price')\n",
    "score_power_input = Input(shape = [1], name = 'power_score')\n",
    "item_age_power_input = Input(shape = [1], name = 'power_item_age')\n",
    "\n",
    "price_sqrt_input = Input(shape = [1], name = 'sqrt_price')\n",
    "score_sqrt_input = Input(shape = [1], name = 'sqrt_score')\n",
    "item_age_sqrt_input = Input(shape = [1], name = 'sqrt_item_age')\n",
    "\n",
    "sequence_input = Input(shape = (MAX_SEQUENCE_LENGTH, ), name = 'text')\n",
    "\n",
    "embedding_size = 20\n",
    "item_embedding_size = 50\n",
    "\n",
    "user_embedding = Embedding(output_dim=embedding_size, input_dim = customers_unique.shape[0]+1,\n",
    "                           input_length=1, name='user_embedding')(user_id_input)\n",
    "item_embedding = Embedding(output_dim=item_embedding_size, input_dim = items_unique.shape[0]+1,\n",
    "                           input_length=1, name='item_embedding')(item_id_input)\n",
    "brand_embedding = Embedding(output_dim=embedding_size, input_dim = brand_unique.shape[0]+1,\n",
    "                           input_length=1, name='brand_embedding')(brand_id_input)\n",
    "\n",
    "text_embedding = Embedding(*embedding_matrix.shape, weights = [embedding_matrix], trainable = False)(sequence_input)\n",
    "\n",
    "\n",
    "user_vecs = Reshape([embedding_size])(user_embedding)\n",
    "item_vecs = Reshape([item_embedding_size])(item_embedding)\n",
    "brand_vecs = Reshape([embedding_size])(brand_embedding)\n",
    "text_flat = Flatten()(text_embedding)\n",
    "\n",
    "x1 = concatenate([user_vecs, item_vecs, brand_vecs, price_input, item_age_input, score_input,\n",
    "                 price_power_input, score_power_input, item_age_power_input,\n",
    "                 price_sqrt_input, score_sqrt_input, item_age_sqrt_input, text_flat], name = 'VECTOR_PRODUCTO')\n",
    "\n",
    "x2 = Dropout(0.4)(x1)\n",
    "x3 = Dense (512, activation = 'relu')(x2)\n",
    "x4 = Dropout(0.3)(x3)\n",
    "x5 = Dense(256, activation = 'relu')(x4)\n",
    "x6 = Dropout(0.2)(x5)\n",
    "x7 = Dense(128, activation = 'relu')(x6)\n",
    "x8 = Dropout(0.2)(x7)\n",
    "\n",
    "output = Dense(CAT_ITEMS, activation = 'softmax' )(x8)\n",
    "\n",
    "model = Model(inputs=[user_id_input, item_id_input, brand_id_input, price_input, sequence_input, item_age_input, score_input,\n",
    "                     price_power_input, score_power_input, item_age_power_input,\n",
    "                     price_sqrt_input, score_sqrt_input, item_age_sqrt_input], \n",
    "              outputs = output)\n",
    "\n",
    "model.compile(loss = 'categorical_crossentropy',\n",
    "              optimizer = 'rmsprop',\n",
    "              metrics = ['acc'])\n",
    "\n",
    "model.summary()"
   ]
  },
  {
   "cell_type": "code",
   "execution_count": 38,
   "metadata": {},
   "outputs": [],
   "source": [
    "def plot_training(history):\n",
    "    plt.plot(history.history['acc'])\n",
    "    #plt.plot(history.history['val_acc'])\n",
    "    plt.title('Model accuracy')\n",
    "    plt.ylabel('Accuracy')\n",
    "    plt.xlabel('Epoch')\n",
    "    plt.legend(['Train', 'Test'], loc='upper left')\n",
    "    plt.show()\n",
    "\n",
    "    # Plot training & validation loss values\n",
    "    plt.plot(history.history['loss'])\n",
    "    #plt.plot(history.history['val_loss'])\n",
    "    plt.title('Model loss')\n",
    "    plt.ylabel('Loss')\n",
    "    plt.xlabel('Epoch')\n",
    "    plt.legend(['Train', 'Test'], loc='upper left')\n",
    "    plt.show()"
   ]
  },
  {
   "cell_type": "code",
   "execution_count": null,
   "metadata": {
    "scrolled": true
   },
   "outputs": [
    {
     "name": "stdout",
     "output_type": "stream",
     "text": [
      "WARNING:tensorflow:From C:\\Users\\enric\\Anaconda3\\lib\\site-packages\\tensorflow\\python\\ops\\math_ops.py:3066: to_int32 (from tensorflow.python.ops.math_ops) is deprecated and will be removed in a future version.\n",
      "Instructions for updating:\n",
      "Use tf.cast instead.\n",
      "Epoch 1/30\n",
      "186397/186397 [==============================] - 945s 5ms/sample - loss: 9.6000 - acc: 0.0442\n",
      "Epoch 2/30\n",
      "186397/186397 [==============================] - 1051s 6ms/sample - loss: 8.2517 - acc: 0.0883\n",
      "Epoch 3/30\n",
      "186397/186397 [==============================] - 1123s 6ms/sample - loss: 7.8695 - acc: 0.1108\n",
      "Epoch 4/30\n",
      "186397/186397 [==============================] - 1224s 7ms/sample - loss: 7.7043 - acc: 0.1256\n",
      "Epoch 5/30\n",
      "186397/186397 [==============================] - 1204s 6ms/sample - loss: 7.6330 - acc: 0.1340\n",
      "Epoch 6/30\n",
      "186397/186397 [==============================] - 1149s 6ms/sample - loss: 7.5592 - acc: 0.1405\n",
      "Epoch 7/30\n",
      "186397/186397 [==============================] - 944s 5ms/sample - loss: 7.4838 - acc: 0.1467\n",
      "Epoch 8/30\n",
      "186397/186397 [==============================] - 995s 5ms/sample - loss: 7.4739 - acc: 0.1520\n",
      "Epoch 9/30\n",
      "186397/186397 [==============================] - 5762s 31ms/sample - loss: 7.3972 - acc: 0.1556\n",
      "Epoch 10/30\n",
      "186397/186397 [==============================] - 943s 5ms/sample - loss: 7.3211 - acc: 0.1596\n",
      "Epoch 11/30\n",
      "186397/186397 [==============================] - 3915s 21ms/sample - loss: 7.2405 - acc: 0.1651\n",
      "Epoch 12/30\n",
      "186397/186397 [==============================] - 1358s 7ms/sample - loss: 7.2612 - acc: 0.1680\n",
      "Epoch 13/30\n",
      "186397/186397 [==============================] - 1426s 8ms/sample - loss: 7.1774 - acc: 0.1709\n",
      "Epoch 14/30\n",
      "186397/186397 [==============================] - 1125s 6ms/sample - loss: 7.0856 - acc: 0.1733\n",
      "Epoch 15/30\n",
      "186397/186397 [==============================] - 1399s 8ms/sample - loss: 7.0583 - acc: 0.1765\n",
      "Epoch 16/30\n",
      "186397/186397 [==============================] - 1354s 7ms/sample - loss: 7.0626 - acc: 0.1792\n",
      "Epoch 17/30\n",
      "186397/186397 [==============================] - 1394s 7ms/sample - loss: 7.0295 - acc: 0.1817\n",
      "Epoch 18/30\n",
      "186397/186397 [==============================] - 1416s 8ms/sample - loss: 7.0294 - acc: 0.1851\n",
      "Epoch 19/30\n",
      "186397/186397 [==============================] - 1530s 8ms/sample - loss: 7.0280 - acc: 0.1869\n",
      "Epoch 20/30\n",
      "186397/186397 [==============================] - 8345s 45ms/sample - loss: 6.9865 - acc: 0.1886\n",
      "Epoch 21/30\n",
      " 73984/186397 [==========>...................] - ETA: 10:43 - loss: 6.8561 - acc: 0.1920"
     ]
    }
   ],
   "source": [
    "history = model.fit([data_final['customer_id_int'], data_final['item_id_int'], \n",
    "                     data_final['brand_id'], data_final['PRICE'],\n",
    "                     data_vec, data_final['item_age'], data_final['score'],\n",
    "                     data_final['power_price'], data_final['power_score'], data_final['power_item_age'],\n",
    "                     data_final['sqrt_price'], data_final['sqrt_score'], data_final['sqrt_item_age']],\n",
    "                     items_encoded,\n",
    "                     epochs = 30, #validation_split = 0.1,\n",
    "                     batch_size = 256, verbose = 1,\n",
    "                     shuffle = True)\n",
    "\n",
    "#Epoch 5: loss = 7.6 & acc = 0.13\n",
    "#Epoch 10: loss = 7.3 & acc = 0.16\n",
    "#Epoch 20: loss = 6.97 & acc = 0.19\n",
    "#Epoch 30: loss = 6.5 & acc = 0.229"
   ]
  },
  {
   "cell_type": "code",
   "execution_count": 51,
   "metadata": {},
   "outputs": [
    {
     "name": "stderr",
     "output_type": "stream",
     "text": [
      "C:\\Users\\enric\\Anaconda3\\lib\\site-packages\\numpy\\lib\\type_check.py:546: DeprecationWarning: np.asscalar(a) is deprecated since NumPy v1.16, use a.item() instead\n",
      "  'a.item() instead', DeprecationWarning, stacklevel=1)\n"
     ]
    },
    {
     "name": "stdout",
     "output_type": "stream",
     "text": [
      "WARNING:tensorflow:From C:\\Users\\enric\\Anaconda3\\lib\\site-packages\\tensorflow\\python\\ops\\math_ops.py:3066: to_int32 (from tensorflow.python.ops.math_ops) is deprecated and will be removed in a future version.\n",
      "Instructions for updating:\n",
      "Use tf.cast instead.\n"
     ]
    }
   ],
   "source": [
    "#model.save(path_models + 'candidate_generation')\n",
    "model = load_model(path_models + 'candidate_generation')"
   ]
  },
  {
   "cell_type": "code",
   "execution_count": 66,
   "metadata": {},
   "outputs": [
    {
     "data": {
      "image/png": "[encoded data removed]",
      "text/plain": [
       "<Figure size 432x288 with 1 Axes>"
      ]
     },
     "metadata": {
      "needs_background": "light"
     },
     "output_type": "display_data"
    },
    {
     "data": {
      "image/png": "[encoded data removed]",
      "text/plain": [
       "<Figure size 432x288 with 1 Axes>"
      ]
     },
     "metadata": {
      "needs_background": "light"
     },
     "output_type": "display_data"
    }
   ],
   "source": [
    "plot_training(history)"
   ]
  },
  {
   "cell_type": "code",
   "execution_count": 54,
   "metadata": {},
   "outputs": [
    {
     "data": {
      "text/plain": [
       "883"
      ]
     },
     "execution_count": 54,
     "metadata": {},
     "output_type": "execute_result"
    }
   ],
   "source": [
    "gc.enable()\n",
    "del items_encoded\n",
    "gc.collect()"
   ]
  },
  {
   "cell_type": "markdown",
   "metadata": {},
   "source": [
    "---"
   ]
  }
 ],
 "metadata": {
  "kernelspec": {
   "display_name": "Python 3",
   "language": "python",
   "name": "python3"
  },
  "language_info": {
   "codemirror_mode": {
    "name": "ipython",
    "version": 3
   },
   "file_extension": ".py",
   "mimetype": "text/x-python",
   "name": "python",
   "nbconvert_exporter": "python",
   "pygments_lexer": "ipython3",
   "version": "3.7.3"
  }
 },
 "nbformat": 4,
 "nbformat_minor": 2
}
