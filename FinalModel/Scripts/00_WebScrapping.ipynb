{
 "cells": [
  {
   "cell_type": "markdown",
   "metadata": {},
   "source": [
    "## Objective:\n",
    "\n",
    "This notebook gets the data from the WebScrapping and outputs a DataFrame with all the info downloaded."
   ]
  },
  {
   "cell_type": "markdown",
   "metadata": {},
   "source": [
    "![img](https://upload.wikimedia.org/wikipedia/commons/thumb/b/b9/CRISP-DM_Process_Diagram.png/598px-CRISP-DM_Process_Diagram.png)"
   ]
  },
  {
   "cell_type": "markdown",
   "metadata": {},
   "source": [
    "# Objective?\n",
    "\n",
    "Get all the descriptions of the Products and their department"
   ]
  },
  {
   "cell_type": "code",
   "execution_count": 3,
   "metadata": {},
   "outputs": [],
   "source": [
    "import requests\n",
    "from bs4 import BeautifulSoup\n",
    "import re\n",
    "import json\n",
    "import pandas as pd\n",
    "import time\n",
    "import random"
   ]
  },
  {
   "cell_type": "markdown",
   "metadata": {},
   "source": [
    "## Links"
   ]
  },
  {
   "cell_type": "markdown",
   "metadata": {},
   "source": [
    "We are gonna gather all the links from the sections that we want and when we find 'Agencia de viajes' We brake the loop because we dont want the links down it"
   ]
  },
  {
   "cell_type": "code",
   "execution_count": 4,
   "metadata": {},
   "outputs": [],
   "source": [
    "url = 'https://www.elcorteingles.es/'\n",
    "\n",
    "req = requests.get(url)\n",
    "\n",
    "soupHome = BeautifulSoup(req.text)\n",
    "\n",
    "i = 0\n",
    "links = []\n",
    "\n",
    "for a in soupHome.find_all('a', href=True):\n",
    "    if ('viajeselcorteingles' in a['href']):\n",
    "        break\n",
    "    if all([term not in a['href'] for term in ['/supermercado/', '/entradas/', '/club-del-gourmet/']]):\n",
    "        links.append(a['href'].split('?')[0])\n",
    "\n",
    "#Remove duplicates\n",
    "links = list(dict.fromkeys(links))"
   ]
  },
  {
   "cell_type": "code",
   "execution_count": 5,
   "metadata": {},
   "outputs": [
    {
     "data": {
      "text/plain": [
       "1301"
      ]
     },
     "execution_count": 5,
     "metadata": {},
     "output_type": "execute_result"
    }
   ],
   "source": [
    "len(links)"
   ]
  },
  {
   "cell_type": "code",
   "execution_count": 6,
   "metadata": {},
   "outputs": [
    {
     "data": {
      "text/plain": [
       "'/juguetes/munecos-articulados/'"
      ]
     },
     "execution_count": 6,
     "metadata": {},
     "output_type": "execute_result"
    }
   ],
   "source": [
    "links[900]"
   ]
  },
  {
   "cell_type": "markdown",
   "metadata": {},
   "source": [
    "## Correcciones manuales"
   ]
  },
  {
   "cell_type": "markdown",
   "metadata": {},
   "source": [
    "These links correspond to lists of products that produce duplicates, if we filter them from the beginning we optimize the process by having to make fewer requests."
   ]
  },
  {
   "cell_type": "code",
   "execution_count": 7,
   "metadata": {},
   "outputs": [
    {
     "name": "stdout",
     "output_type": "stream",
     "text": [
      "Exception: list.remove(x): x not in list\n",
      "Exception: list.remove(x): x not in list\n",
      "Exception: list.remove(x): x not in list\n"
     ]
    }
   ],
   "source": [
    "links_to_remove = ['/75/','/moda/', '/moda/mujer/', '/moda/zapatos/', '/cine/', '/musica/', '/mascotas/', '/bricor/',\n",
    "                  '/bricor/iluminacion/', '/bricor/herramientas/', '/bricor/estanterias-y-ordenacion/', '/juguetes/'\n",
    "                  '/bricor/armarios/', '/electronica/', '/electrodomesticos/', '/deportes/', '/hogar/', '/libros/',\n",
    "                  '/bricor/bano/','/bricor/cocinas/',' /bricor/armarios/', 'https://www.elcorteingles.es/perfumeria/']\n",
    "for x in links_to_remove:\n",
    "    try:\n",
    "        links.remove(x)\n",
    "    except Exception as e:\n",
    "        print(f'Exception: {e}')\n",
    "        "
   ]
  },
  {
   "cell_type": "markdown",
   "metadata": {},
   "source": [
    "## Productos"
   ]
  },
  {
   "cell_type": "code",
   "execution_count": 8,
   "metadata": {
    "collapsed": true
   },
   "outputs": [
    {
     "name": "stdout",
     "output_type": "stream",
     "text": [
      "https://www.elcorteingles.es/moda/mujer/abrigos/\n"
     ]
    },
    {
     "ename": "KeyboardInterrupt",
     "evalue": "",
     "output_type": "error",
     "traceback": [
      "\u001b[1;31m---------------------------------------------------------------------------\u001b[0m",
      "\u001b[1;31mKeyboardInterrupt\u001b[0m                         Traceback (most recent call last)",
      "\u001b[1;32m<ipython-input-8-312e403b9388>\u001b[0m in \u001b[0;36m<module>\u001b[1;34m\u001b[0m\n\u001b[0;32m      7\u001b[0m     \u001b[0mprint\u001b[0m \u001b[1;33m(\u001b[0m\u001b[0murl\u001b[0m\u001b[1;33m)\u001b[0m\u001b[1;33m\u001b[0m\u001b[1;33m\u001b[0m\u001b[0m\n\u001b[0;32m      8\u001b[0m     \u001b[1;32mfor\u001b[0m \u001b[0mpage\u001b[0m \u001b[1;32min\u001b[0m \u001b[0mrange\u001b[0m \u001b[1;33m(\u001b[0m\u001b[1;36m0\u001b[0m\u001b[1;33m,\u001b[0m\u001b[1;36m30\u001b[0m\u001b[1;33m)\u001b[0m\u001b[1;33m:\u001b[0m \u001b[1;31m#Weare gonna get only the first 30pages in order to reduce size\u001b[0m\u001b[1;33m\u001b[0m\u001b[1;33m\u001b[0m\u001b[0m\n\u001b[1;32m----> 9\u001b[1;33m         \u001b[0mtime\u001b[0m\u001b[1;33m.\u001b[0m\u001b[0msleep\u001b[0m\u001b[1;33m(\u001b[0m\u001b[0mrandom\u001b[0m\u001b[1;33m.\u001b[0m\u001b[0mrandint\u001b[0m\u001b[1;33m(\u001b[0m\u001b[1;36m0\u001b[0m\u001b[1;33m,\u001b[0m\u001b[1;36m1\u001b[0m\u001b[1;33m)\u001b[0m\u001b[1;33m+\u001b[0m\u001b[0mrandom\u001b[0m\u001b[1;33m.\u001b[0m\u001b[0mrandom\u001b[0m\u001b[1;33m(\u001b[0m\u001b[1;33m)\u001b[0m\u001b[1;33m)\u001b[0m \u001b[1;31m#Avoid saturating the servers\u001b[0m\u001b[1;33m\u001b[0m\u001b[1;33m\u001b[0m\u001b[0m\n\u001b[0m\u001b[0;32m     10\u001b[0m         \u001b[1;32mtry\u001b[0m\u001b[1;33m:\u001b[0m\u001b[1;33m\u001b[0m\u001b[1;33m\u001b[0m\u001b[0m\n\u001b[0;32m     11\u001b[0m             \u001b[1;32mif\u001b[0m \u001b[0mpage\u001b[0m \u001b[1;33m>\u001b[0m \u001b[1;36m1\u001b[0m\u001b[1;33m:\u001b[0m\u001b[1;33m\u001b[0m\u001b[1;33m\u001b[0m\u001b[0m\n",
      "\u001b[1;31mKeyboardInterrupt\u001b[0m: "
     ]
    }
   ],
   "source": [
    "products = []\n",
    "url_errors = []\n",
    "suffix = ''\n",
    "\n",
    "for url in links[0:]:\n",
    "    url = 'https://www.elcorteingles.es'+url #Juguetes juegos de mesa y habilidad\n",
    "    print (url)\n",
    "    for page in range (0,30): #Weare gonna get only the first 30pages in order to reduce size\n",
    "        time.sleep(random.randint(0,1)+random.random()) #Avoid saturating the servers\n",
    "        try:\n",
    "            if page > 1:\n",
    "                suffix = '/'+str(page)+'/'\n",
    "                \n",
    "            req = requests.get(url+suffix, timeout=10)\n",
    "\n",
    "            if req.ok: # status_code == 200\n",
    "                s = BeautifulSoup(req.text)\n",
    "                prods = s.findAll('span')\n",
    "\n",
    "                for n, span_ in enumerate(prods):\n",
    "                    if 'data-json' in span_.attrs and ('data-scope' in span_.attrs and span_.attrs['data-scope'] == 'product'):\n",
    "                        obj = json.loads(span_['data-json'])\n",
    "                        obj['image'] = 'http:{}'.format(str(span_.parent.find('img')['src']))\n",
    "                        products.append(obj)\n",
    "\n",
    "            else: # imprime url y status code donde ha dado error\n",
    "                print(f'Status code error on url {url}. Status code: {req.status_code}')\n",
    "                url_errors.append(url)\n",
    "                break # Si no hay mas pages no sigue buscando mas y pasa al siguiente link\n",
    "                \n",
    "        except Exception as e:\n",
    "            print(f'Exception: {e}')\n",
    "            if url not in url_errors:\n",
    "                url_errors.append(url)\n",
    "                \n",
    "    time.sleep(random.randint(5,10) + random.random()) #Para evitar suponerle un daño a la empresa\n",
    "                \n"
   ]
  },
  {
   "cell_type": "code",
   "execution_count": 9,
   "metadata": {},
   "outputs": [
    {
     "data": {
      "text/plain": [
       "94"
      ]
     },
     "execution_count": 9,
     "metadata": {},
     "output_type": "execute_result"
    }
   ],
   "source": [
    "len(products)"
   ]
  },
  {
   "cell_type": "code",
   "execution_count": 11,
   "metadata": {},
   "outputs": [
    {
     "data": {
      "text/plain": [
       "{'id': '001060651400131',\n",
       " 'brand': 'Woman Limited El Corte Inglés',\n",
       " 'store_id': '60',\n",
       " 'badges': ['express_delivery'],\n",
       " 'price': {'original': 199, 'final': 139.3, 'currency': 'EUR'},\n",
       " 'discount': 30,\n",
       " 'media': {'count': 1},\n",
       " 'name': 'Abrigo masculino con textura de mujer',\n",
       " 'variant': '001060651400131002',\n",
       " 'category': ['Moda', 'Mujer', 'Abrigos'],\n",
       " 'alternative_id': 'A28233506',\n",
       " 'eci_provider': '00000000',\n",
       " 'gtin': '2401700051602',\n",
       " 'status': 'show_pdp',\n",
       " 'quantity': 1,\n",
       " 'image': 'http://sgfm.elcorteingles.es/SGFM/dctm/MEDIA03/201902/07/00160651400131____1__516x640.jpg'}"
      ]
     },
     "execution_count": 11,
     "metadata": {},
     "output_type": "execute_result"
    }
   ],
   "source": [
    "products[50]"
   ]
  },
  {
   "cell_type": "markdown",
   "metadata": {},
   "source": [
    "Lo guardamos en un Dataframe para poder usarlo en batch"
   ]
  },
  {
   "cell_type": "code",
   "execution_count": 12,
   "metadata": {},
   "outputs": [
    {
     "data": {
      "text/html": [
       "<div>\n",
       "<style scoped>\n",
       "    .dataframe tbody tr th:only-of-type {\n",
       "        vertical-align: middle;\n",
       "    }\n",
       "\n",
       "    .dataframe tbody tr th {\n",
       "        vertical-align: top;\n",
       "    }\n",
       "\n",
       "    .dataframe thead th {\n",
       "        text-align: right;\n",
       "    }\n",
       "</style>\n",
       "<table border=\"1\" class=\"dataframe\">\n",
       "  <thead>\n",
       "    <tr style=\"text-align: right;\">\n",
       "      <th></th>\n",
       "      <th>alternative_id</th>\n",
       "      <th>badges</th>\n",
       "      <th>brand</th>\n",
       "      <th>category</th>\n",
       "      <th>discount</th>\n",
       "      <th>eci_provider</th>\n",
       "      <th>gtin</th>\n",
       "      <th>id</th>\n",
       "      <th>image</th>\n",
       "      <th>media</th>\n",
       "      <th>name</th>\n",
       "      <th>position</th>\n",
       "      <th>price</th>\n",
       "      <th>quantity</th>\n",
       "      <th>status</th>\n",
       "      <th>store_id</th>\n",
       "      <th>variant</th>\n",
       "    </tr>\n",
       "  </thead>\n",
       "  <tbody>\n",
       "    <tr>\n",
       "      <th>0</th>\n",
       "      <td>A29692433</td>\n",
       "      <td>[express_delivery]</td>\n",
       "      <td>Woman El Corte Inglés</td>\n",
       "      <td>[Moda, Mujer, Abrigos]</td>\n",
       "      <td>50.0</td>\n",
       "      <td>00000000</td>\n",
       "      <td>2401676814157</td>\n",
       "      <td>001087557400030</td>\n",
       "      <td>http://sgfm.elcorteingles.es/SGFM/dctm/MEDIA03...</td>\n",
       "      <td>{'count': 1}</td>\n",
       "      <td>Plumífero ultraligero de mujer Woman Weekend E...</td>\n",
       "      <td>NaN</td>\n",
       "      <td>{'original': 79.99, 'final': 39.95, 'currency'...</td>\n",
       "      <td>1</td>\n",
       "      <td>show_pdp</td>\n",
       "      <td>60</td>\n",
       "      <td>001087557400030002</td>\n",
       "    </tr>\n",
       "    <tr>\n",
       "      <th>1</th>\n",
       "      <td>A27354683</td>\n",
       "      <td>[express_delivery]</td>\n",
       "      <td>Woman El Corte Inglés</td>\n",
       "      <td>[Moda, Mujer, Abrigos]</td>\n",
       "      <td>NaN</td>\n",
       "      <td>00000000</td>\n",
       "      <td>2523534000714</td>\n",
       "      <td>001052353400071</td>\n",
       "      <td>http://sgfm.elcorteingles.es/SGFM/dctm/MEDIA03...</td>\n",
       "      <td>{'count': 1}</td>\n",
       "      <td>Gabardina corta básica de mujer Woman Weekend ...</td>\n",
       "      <td>NaN</td>\n",
       "      <td>{'final': 79.99, 'currency': 'EUR'}</td>\n",
       "      <td>1</td>\n",
       "      <td>show_pdp</td>\n",
       "      <td>60</td>\n",
       "      <td>001052353400071002</td>\n",
       "    </tr>\n",
       "    <tr>\n",
       "      <th>2</th>\n",
       "      <td>A26878646</td>\n",
       "      <td>[express_delivery]</td>\n",
       "      <td>Fórmula Joven</td>\n",
       "      <td>[Moda, Mujer, Abrigos]</td>\n",
       "      <td>50.0</td>\n",
       "      <td>00000000</td>\n",
       "      <td>2401685569666</td>\n",
       "      <td>001016615194640</td>\n",
       "      <td>http://sgfm.elcorteingles.es/SGFM/dctm/MEDIA03...</td>\n",
       "      <td>{'count': 1}</td>\n",
       "      <td>Gabardina de mujer Fórmula Joven con cinturón ...</td>\n",
       "      <td>NaN</td>\n",
       "      <td>{'original': 79.99, 'final': 39.99, 'currency'...</td>\n",
       "      <td>1</td>\n",
       "      <td>show_pdp</td>\n",
       "      <td>60</td>\n",
       "      <td>001016615194640038</td>\n",
       "    </tr>\n",
       "  </tbody>\n",
       "</table>\n",
       "</div>"
      ],
      "text/plain": [
       "  alternative_id              badges                  brand  \\\n",
       "0      A29692433  [express_delivery]  Woman El Corte Inglés   \n",
       "1      A27354683  [express_delivery]  Woman El Corte Inglés   \n",
       "2      A26878646  [express_delivery]          Fórmula Joven   \n",
       "\n",
       "                 category  discount eci_provider           gtin  \\\n",
       "0  [Moda, Mujer, Abrigos]      50.0     00000000  2401676814157   \n",
       "1  [Moda, Mujer, Abrigos]       NaN     00000000  2523534000714   \n",
       "2  [Moda, Mujer, Abrigos]      50.0     00000000  2401685569666   \n",
       "\n",
       "                id                                              image  \\\n",
       "0  001087557400030  http://sgfm.elcorteingles.es/SGFM/dctm/MEDIA03...   \n",
       "1  001052353400071  http://sgfm.elcorteingles.es/SGFM/dctm/MEDIA03...   \n",
       "2  001016615194640  http://sgfm.elcorteingles.es/SGFM/dctm/MEDIA03...   \n",
       "\n",
       "          media                                               name  position  \\\n",
       "0  {'count': 1}  Plumífero ultraligero de mujer Woman Weekend E...       NaN   \n",
       "1  {'count': 1}  Gabardina corta básica de mujer Woman Weekend ...       NaN   \n",
       "2  {'count': 1}  Gabardina de mujer Fórmula Joven con cinturón ...       NaN   \n",
       "\n",
       "                                               price  quantity    status  \\\n",
       "0  {'original': 79.99, 'final': 39.95, 'currency'...         1  show_pdp   \n",
       "1                {'final': 79.99, 'currency': 'EUR'}         1  show_pdp   \n",
       "2  {'original': 79.99, 'final': 39.99, 'currency'...         1  show_pdp   \n",
       "\n",
       "  store_id             variant  \n",
       "0       60  001087557400030002  \n",
       "1       60  001052353400071002  \n",
       "2       60  001016615194640038  "
      ]
     },
     "execution_count": 12,
     "metadata": {},
     "output_type": "execute_result"
    }
   ],
   "source": [
    "dfProducts = pd.DataFrame.from_records(products)\n",
    "dfProducts.head(3)"
   ]
  },
  {
   "cell_type": "code",
   "execution_count": 13,
   "metadata": {},
   "outputs": [
    {
     "data": {
      "text/plain": [
       "(94, 17)"
      ]
     },
     "execution_count": 13,
     "metadata": {},
     "output_type": "execute_result"
    }
   ],
   "source": [
    "dfProducts.shape"
   ]
  },
  {
   "cell_type": "markdown",
   "metadata": {},
   "source": [
    "### Quitar duplicados"
   ]
  },
  {
   "cell_type": "code",
   "execution_count": 14,
   "metadata": {
    "scrolled": true
   },
   "outputs": [
    {
     "data": {
      "text/plain": [
       "(47, 17)"
      ]
     },
     "execution_count": 14,
     "metadata": {},
     "output_type": "execute_result"
    }
   ],
   "source": [
    "dfProducts = dfProducts.drop_duplicates(subset='id')\n",
    "dfProducts.shape"
   ]
  },
  {
   "cell_type": "code",
   "execution_count": 15,
   "metadata": {},
   "outputs": [],
   "source": [
    "dfProducts.to_csv('../Data/RAW_PRODUCTS.csv', index=False)"
   ]
  },
  {
   "cell_type": "markdown",
   "metadata": {},
   "source": [
    "---"
   ]
  }
 ],
 "metadata": {
  "kernelspec": {
   "display_name": "Python 3",
   "language": "python",
   "name": "python3"
  },
  "language_info": {
   "codemirror_mode": {
    "name": "ipython",
    "version": 3
   },
   "file_extension": ".py",
   "mimetype": "text/x-python",
   "name": "python",
   "nbconvert_exporter": "python",
   "pygments_lexer": "ipython3",
   "version": "3.7.3"
  }
 },
 "nbformat": 4,
 "nbformat_minor": 2
}
