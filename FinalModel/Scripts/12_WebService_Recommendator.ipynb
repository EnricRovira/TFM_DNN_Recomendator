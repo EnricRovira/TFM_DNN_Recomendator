{
 "cells": [
  {
   "cell_type": "markdown",
   "metadata": {},
   "source": [
    "# WebService Recommendator"
   ]
  },
  {
   "cell_type": "markdown",
   "metadata": {},
   "source": [
    "We want that our recommendations can be tested on an interactive enviroment, so we need to make some updates on the recommendations function and mix it with html code."
   ]
  },
  {
   "cell_type": "code",
   "execution_count": 5,
   "metadata": {},
   "outputs": [],
   "source": [
    "import pandas as pd\n",
    "import os, sys\n",
    "import numpy as np\n",
    "import seaborn as sns\n",
    "import gc\n",
    "import warnings\n",
    "import matplotlib.pyplot as plt\n",
    "import tensorflow as tf\n",
    "\n",
    "from tensorflow.keras.models import Model, Sequential, load_model\n",
    "from tensorflow.keras.preprocessing.sequence import pad_sequences\n",
    "from tensorflow.keras.preprocessing.text import Tokenizer\n",
    "from tensorflow.keras.layers import Embedding\n",
    "from gensim.models import Word2Vec"
   ]
  },
  {
   "cell_type": "code",
   "execution_count": 6,
   "metadata": {},
   "outputs": [],
   "source": [
    "path = os.path.join('../Data/')\n",
    "path_models = os.path.join('../Models/')\n",
    "\n",
    "data = pd.read_csv(path + 'FinalItems/data_filtered.csv', sep = ';')\n",
    "data_processed = pd.read_csv(path + 'FinalItems/data_final.csv')\n",
    "data_processed['text'] = data_processed['text'].astype(str)"
   ]
  },
  {
   "cell_type": "code",
   "execution_count": 7,
   "metadata": {},
   "outputs": [],
   "source": [
    "items_unique = data_processed.item_id.unique()\n",
    "items_map = {i:val for i,val in enumerate(items_unique)}\n",
    "items_map_inv = {val:i for i,val in enumerate(items_unique)}\n",
    "items_map_text = data_processed.set_index('item_id_int').text.to_dict()"
   ]
  },
  {
   "cell_type": "code",
   "execution_count": 8,
   "metadata": {},
   "outputs": [],
   "source": [
    "idx_customers_map = {i:val for i,val in enumerate(data_processed['customer_id_int'])}\n",
    "idx_customers_df = pd.DataFrame({'idx': data_processed.index.values, 'customer_id_int': data_processed.customer_id_int})"
   ]
  },
  {
   "cell_type": "code",
   "execution_count": 9,
   "metadata": {},
   "outputs": [
    {
     "data": {
      "text/html": [
       "<div>\n",
       "<style scoped>\n",
       "    .dataframe tbody tr th:only-of-type {\n",
       "        vertical-align: middle;\n",
       "    }\n",
       "\n",
       "    .dataframe tbody tr th {\n",
       "        vertical-align: top;\n",
       "    }\n",
       "\n",
       "    .dataframe thead th {\n",
       "        text-align: right;\n",
       "    }\n",
       "</style>\n",
       "<table border=\"1\" class=\"dataframe\">\n",
       "  <thead>\n",
       "    <tr style=\"text-align: right;\">\n",
       "      <th></th>\n",
       "      <th>item_id</th>\n",
       "      <th>availability_date</th>\n",
       "      <th>brand</th>\n",
       "      <th>category</th>\n",
       "      <th>name</th>\n",
       "      <th>price</th>\n",
       "    </tr>\n",
       "  </thead>\n",
       "  <tbody>\n",
       "    <tr>\n",
       "      <th>0</th>\n",
       "      <td>A28233506</td>\n",
       "      <td>NaN</td>\n",
       "      <td>Woman Limited El Corte Inglés</td>\n",
       "      <td>['Moda', 'Mujer', 'Abrigos']</td>\n",
       "      <td>Abrigo masculino con textura de mujer</td>\n",
       "      <td>{'final': 199, 'currency': 'EUR'}</td>\n",
       "    </tr>\n",
       "    <tr>\n",
       "      <th>1</th>\n",
       "      <td>A29054782</td>\n",
       "      <td>NaN</td>\n",
       "      <td>Woman Limited El Corte Inglés</td>\n",
       "      <td>['Moda', 'Mujer', 'Abrigos']</td>\n",
       "      <td>Abrigo doble faz de mujer con cinturón a tono</td>\n",
       "      <td>{'final': 149, 'currency': 'EUR'}</td>\n",
       "    </tr>\n",
       "    <tr>\n",
       "      <th>2</th>\n",
       "      <td>A27354432</td>\n",
       "      <td>NaN</td>\n",
       "      <td>Woman El Corte Inglés</td>\n",
       "      <td>['Moda', 'Mujer', 'Abrigos']</td>\n",
       "      <td>Abrigo largo de antelina de mujer Woman El Cor...</td>\n",
       "      <td>{'final': 89.99, 'currency': 'EUR'}</td>\n",
       "    </tr>\n",
       "  </tbody>\n",
       "</table>\n",
       "</div>"
      ],
      "text/plain": [
       "     item_id  availability_date                          brand  \\\n",
       "0  A28233506                NaN  Woman Limited El Corte Inglés   \n",
       "1  A29054782                NaN  Woman Limited El Corte Inglés   \n",
       "2  A27354432                NaN          Woman El Corte Inglés   \n",
       "\n",
       "                       category  \\\n",
       "0  ['Moda', 'Mujer', 'Abrigos']   \n",
       "1  ['Moda', 'Mujer', 'Abrigos']   \n",
       "2  ['Moda', 'Mujer', 'Abrigos']   \n",
       "\n",
       "                                                name  \\\n",
       "0              Abrigo masculino con textura de mujer   \n",
       "1      Abrigo doble faz de mujer con cinturón a tono   \n",
       "2  Abrigo largo de antelina de mujer Woman El Cor...   \n",
       "\n",
       "                                 price  \n",
       "0    {'final': 199, 'currency': 'EUR'}  \n",
       "1    {'final': 149, 'currency': 'EUR'}  \n",
       "2  {'final': 89.99, 'currency': 'EUR'}  "
      ]
     },
     "execution_count": 9,
     "metadata": {},
     "output_type": "execute_result"
    }
   ],
   "source": [
    "data.head(3)"
   ]
  },
  {
   "cell_type": "code",
   "execution_count": 10,
   "metadata": {},
   "outputs": [
    {
     "data": {
      "text/html": [
       "<div>\n",
       "<style scoped>\n",
       "    .dataframe tbody tr th:only-of-type {\n",
       "        vertical-align: middle;\n",
       "    }\n",
       "\n",
       "    .dataframe tbody tr th {\n",
       "        vertical-align: top;\n",
       "    }\n",
       "\n",
       "    .dataframe thead th {\n",
       "        text-align: right;\n",
       "    }\n",
       "</style>\n",
       "<table border=\"1\" class=\"dataframe\">\n",
       "  <thead>\n",
       "    <tr style=\"text-align: right;\">\n",
       "      <th></th>\n",
       "      <th>date</th>\n",
       "      <th>item_id</th>\n",
       "      <th>brand</th>\n",
       "      <th>PRICE</th>\n",
       "      <th>customer_id</th>\n",
       "      <th>text</th>\n",
       "      <th>item_age</th>\n",
       "      <th>customer_id_int</th>\n",
       "      <th>item_id_int</th>\n",
       "      <th>brand_id</th>\n",
       "      <th>score</th>\n",
       "      <th>score_original</th>\n",
       "      <th>power_price</th>\n",
       "      <th>power_score</th>\n",
       "      <th>power_item_age</th>\n",
       "      <th>sqrt_price</th>\n",
       "      <th>sqrt_score</th>\n",
       "      <th>sqrt_item_age</th>\n",
       "    </tr>\n",
       "  </thead>\n",
       "  <tbody>\n",
       "    <tr>\n",
       "      <th>0</th>\n",
       "      <td>20190101</td>\n",
       "      <td>A26036172</td>\n",
       "      <td>tintoretto</td>\n",
       "      <td>0.003198</td>\n",
       "      <td>0</td>\n",
       "      <td>vestido mujer flor lazada</td>\n",
       "      <td>0.0</td>\n",
       "      <td>0</td>\n",
       "      <td>0</td>\n",
       "      <td>0</td>\n",
       "      <td>0.001485</td>\n",
       "      <td>4</td>\n",
       "      <td>0.000010</td>\n",
       "      <td>0.000002</td>\n",
       "      <td>0.0</td>\n",
       "      <td>0.056548</td>\n",
       "      <td>0.038538</td>\n",
       "      <td>0.0</td>\n",
       "    </tr>\n",
       "    <tr>\n",
       "      <th>1</th>\n",
       "      <td>20190101</td>\n",
       "      <td>A26870590</td>\n",
       "      <td>fórmula joven</td>\n",
       "      <td>0.002260</td>\n",
       "      <td>0</td>\n",
       "      <td>vestido laminado mujer formula joven escote pico</td>\n",
       "      <td>0.0</td>\n",
       "      <td>0</td>\n",
       "      <td>1</td>\n",
       "      <td>1</td>\n",
       "      <td>0.001485</td>\n",
       "      <td>4</td>\n",
       "      <td>0.000005</td>\n",
       "      <td>0.000002</td>\n",
       "      <td>0.0</td>\n",
       "      <td>0.047539</td>\n",
       "      <td>0.038538</td>\n",
       "      <td>0.0</td>\n",
       "    </tr>\n",
       "    <tr>\n",
       "      <th>2</th>\n",
       "      <td>20190103</td>\n",
       "      <td>MP_0659870_3014</td>\n",
       "      <td>gabrielle</td>\n",
       "      <td>0.008837</td>\n",
       "      <td>1</td>\n",
       "      <td>abrigo mujer negro avalorios</td>\n",
       "      <td>0.0</td>\n",
       "      <td>1</td>\n",
       "      <td>2</td>\n",
       "      <td>2</td>\n",
       "      <td>0.000000</td>\n",
       "      <td>1</td>\n",
       "      <td>0.000078</td>\n",
       "      <td>0.000000</td>\n",
       "      <td>0.0</td>\n",
       "      <td>0.094005</td>\n",
       "      <td>0.000000</td>\n",
       "      <td>0.0</td>\n",
       "    </tr>\n",
       "  </tbody>\n",
       "</table>\n",
       "</div>"
      ],
      "text/plain": [
       "       date          item_id          brand     PRICE  customer_id  \\\n",
       "0  20190101        A26036172     tintoretto  0.003198            0   \n",
       "1  20190101        A26870590  fórmula joven  0.002260            0   \n",
       "2  20190103  MP_0659870_3014      gabrielle  0.008837            1   \n",
       "\n",
       "                                               text  item_age  \\\n",
       "0                         vestido mujer flor lazada       0.0   \n",
       "1  vestido laminado mujer formula joven escote pico       0.0   \n",
       "2                      abrigo mujer negro avalorios       0.0   \n",
       "\n",
       "   customer_id_int  item_id_int  brand_id     score  score_original  \\\n",
       "0                0            0         0  0.001485               4   \n",
       "1                0            1         1  0.001485               4   \n",
       "2                1            2         2  0.000000               1   \n",
       "\n",
       "   power_price  power_score  power_item_age  sqrt_price  sqrt_score  \\\n",
       "0     0.000010     0.000002             0.0    0.056548    0.038538   \n",
       "1     0.000005     0.000002             0.0    0.047539    0.038538   \n",
       "2     0.000078     0.000000             0.0    0.094005    0.000000   \n",
       "\n",
       "   sqrt_item_age  \n",
       "0            0.0  \n",
       "1            0.0  \n",
       "2            0.0  "
      ]
     },
     "execution_count": 10,
     "metadata": {},
     "output_type": "execute_result"
    }
   ],
   "source": [
    "data_processed.head(3)"
   ]
  },
  {
   "cell_type": "code",
   "execution_count": 11,
   "metadata": {},
   "outputs": [
    {
     "name": "stdout",
     "output_type": "stream",
     "text": [
      "Found 8487 unique tokens.\n"
     ]
    }
   ],
   "source": [
    "MAX_NB_WORDS = 30_000 #decided by cumsum wordcount plot (Script 01)\n",
    "MAX_SEQUENCE_LENGTH = 24 #decided by max words in a product (Script 00)\n",
    "EMBEDDING_DIM = 100 #Same dim as our W2V embedding\n",
    "\n",
    "all_text = data_processed['text']\n",
    "all_text = all_text.drop_duplicates (keep = False)\n",
    "\n",
    "tokenizer = Tokenizer(num_words=MAX_NB_WORDS, )\n",
    "tokenizer.fit_on_texts(all_text)\n",
    "\n",
    "data_sequences = tokenizer.texts_to_sequences(data_processed['text'])\n",
    "data_vec = pad_sequences(data_sequences, maxlen=MAX_SEQUENCE_LENGTH)\n",
    "\n",
    "word_index = tokenizer.word_index\n",
    "print('Found %s unique tokens.' % len(word_index))"
   ]
  },
  {
   "cell_type": "code",
   "execution_count": 12,
   "metadata": {},
   "outputs": [
    {
     "name": "stdout",
     "output_type": "stream",
     "text": [
      "WARNING:tensorflow:From C:\\Users\\enric\\Anaconda3\\lib\\site-packages\\tensorflow\\python\\ops\\resource_variable_ops.py:435: colocate_with (from tensorflow.python.framework.ops) is deprecated and will be removed in a future version.\n",
      "Instructions for updating:\n",
      "Colocations handled automatically by placer.\n",
      "WARNING:tensorflow:From C:\\Users\\enric\\Anaconda3\\lib\\site-packages\\tensorflow\\python\\keras\\layers\\core.py:143: calling dropout (from tensorflow.python.ops.nn_ops) with keep_prob is deprecated and will be removed in a future version.\n",
      "Instructions for updating:\n",
      "Please use `rate` instead of `keep_prob`. Rate should be set to `rate = 1 - keep_prob`.\n",
      "WARNING:tensorflow:From C:\\Users\\enric\\Anaconda3\\lib\\site-packages\\tensorflow\\python\\ops\\math_ops.py:3066: to_int32 (from tensorflow.python.ops.math_ops) is deprecated and will be removed in a future version.\n",
      "Instructions for updating:\n",
      "Use tf.cast instead.\n"
     ]
    }
   ],
   "source": [
    "model = load_model(path_models + 'candidate_generation')\n",
    "global graph\n",
    "graph = tf.get_default_graph() "
   ]
  },
  {
   "cell_type": "markdown",
   "metadata": {},
   "source": [
    "## Predictions"
   ]
  },
  {
   "cell_type": "code",
   "execution_count": 13,
   "metadata": {},
   "outputs": [],
   "source": [
    "def recommend(customer, N = 5):\n",
    "    try:\n",
    "        _data = data_processed[data_processed['customer_id_int'] == customer]\n",
    "        _data_vec = data_vec[_data.index]\n",
    "        with graph.as_default():\n",
    "            _pred = model.predict([_data['customer_id_int'], _data['item_id_int'], \n",
    "                                 _data['brand_id'], _data['PRICE'],\n",
    "                                 _data_vec, _data['item_age'], _data['score'],\n",
    "                                 _data['power_price'], _data['power_score'], _data['power_item_age'],\n",
    "                                 _data['sqrt_price'], _data['sqrt_score'], _data['sqrt_item_age']],\n",
    "                                 verbose = 1)\n",
    "        _pred = pd.DataFrame(_pred)\n",
    "        _pred['customer_id_int'] = customer\n",
    "        _pred = _pred.groupby(['customer_id_int']).max()\n",
    "        del _pred.index.name\n",
    "        \n",
    "    #########################################################\n",
    "\n",
    "        print('\\n' + '=='*30 + '\\n')\n",
    "        print(f'==> Top {N} Recommended items to Customer {customer}: ')\n",
    "        print(f'\\nThe customer {customer} has bought this items: ')\n",
    "        print('\\n' + '=='*30 + '\\n')\n",
    "        interacted_items = data_processed[['text', 'score_original']][data_processed['customer_id_int'] == customer].groupby('text')\\\n",
    "                            .sum().reset_index().sort_values(['score_original'], ascending = False)\n",
    "        print('\\n'.join([str(i+1) + str(' - ') + str(x) for i, x in enumerate(interacted_items['text'].values[0:20])]))\n",
    "        top = _pred.values.reshape(_pred.shape[1]).argsort()[-N:][::-1] #items positions\n",
    "        print('\\n====================== IDs DE PRODUCTOS RECOMENDADOS ==============')\n",
    "        print([items_map[item] for item in top])\n",
    "        print (\"\\n===================== PRODUCTOS RECOMENDADOS =====================\")\n",
    "        print('\\n'.join([str(i+1) + str(' - ') + str(items_map_text[x]) for i, x in enumerate(top)]))\n",
    "        print (\"==================================================================\")\n",
    "    except:\n",
    "        print(f'\\nThe customer {customer} does not exist')"
   ]
  },
  {
   "cell_type": "code",
   "execution_count": 14,
   "metadata": {},
   "outputs": [
    {
     "name": "stdout",
     "output_type": "stream",
     "text": [
      "11/11 [==============================] - 0s 9ms/sample\n",
      "\n",
      "============================================================\n",
      "\n",
      "==> Top 10 Recommended items to Customer 128: \n",
      "\n",
      "The customer 128 has bought this items: \n",
      "\n",
      "============================================================\n",
      "\n",
      "1 - chaqueta punto hombre cuello alto\n",
      "2 - harry_potter caliz fuego dvd\n",
      "3 - harry_potter camara secreta dvd\n",
      "4 - harry_potter coleccion hogwarts dvd bluray\n",
      "5 - harry_potter orden fenix dvd\n",
      "6 - harry_potter piedra filosofal dvd\n",
      "7 - harry_potter prisionero azkaban dvd\n",
      "8 - harry_potter reliquia muerte parte 3d bluray copia digital\n",
      "9 - jersey hombre cuello redondo\n",
      "10 - jersey hombre gris oscuro cuello caja\n",
      "11 - pack harry_potter coleccion completa bluray\n",
      "\n",
      "====================== IDs DE PRODUCTOS RECOMENDADOS ==============\n",
      "['A24965927', 'A16759315', 'A28030903', 'A28486573', 'A4690016', 'A26912482', 'MP_0538405_N0YGPB197', 'A27251564', 'A29234841', 'A28744471']\n",
      "\n",
      "===================== PRODUCTOS RECOMENDADOS =====================\n",
      "1 - jersey hombre cuello redondo\n",
      "2 - chaqueta punto hombre cuello alto\n",
      "3 - pack harry_potter coleccion completa bluray\n",
      "4 - pack verano azul serie completa dvd\n",
      "5 - pack harry_potter coleccion completa bluray\n",
      "6 - chaqueta cuadro mujer cuello chimenea\n",
      "7 - jersey hombre damavand crew lana cuello redondo\n",
      "8 - jersey hombre gris claro cuello caja\n",
      "9 - sudadera hombre son gris cuello redondo\n",
      "10 - jersey hombre gris claro cuello pico\n",
      "==================================================================\n"
     ]
    }
   ],
   "source": [
    "CUSTOMER = 128 #128 #270\n",
    "recommend(customer = CUSTOMER, N = 10)"
   ]
  },
  {
   "cell_type": "markdown",
   "metadata": {},
   "source": [
    "### Html Recommendations\n",
    "\n",
    "We mix our recommendtions output with html code to feed our web service"
   ]
  },
  {
   "cell_type": "code",
   "execution_count": 15,
   "metadata": {},
   "outputs": [],
   "source": [
    "def header(text, color='black', gen_text=None, size = 54):\n",
    "    \"\"\"Create an HTML header\"\"\"\n",
    "\n",
    "    if gen_text:\n",
    "        raw_html = f'<h1 style=\"margin-top:16px;color: {color};font-size:{size}px\"><center>' + str(\n",
    "            text) + '<span style=\"color: #00BFFF\">' + str(gen_text) + '</center></h1>'\n",
    "    else:\n",
    "        raw_html = f'<h1 style=\"margin-top:12px;color: {color};font-size:{size}px\"><center>' + str(\n",
    "            text) + '</center></h1>'\n",
    "    return raw_html\n",
    "\n",
    "def box(text):\n",
    "    \"\"\"Create an HTML box of text\"\"\"\n",
    "    raw_html = '<div style=\"border-bottom:1px inset black;border-top:1px inset black;padding:8px;font-size: 21px;\">' + str(\n",
    "            text) + '</div>'\n",
    "    return raw_html"
   ]
  },
  {
   "cell_type": "code",
   "execution_count": 23,
   "metadata": {},
   "outputs": [],
   "source": [
    "def recommend_webservice(customer  , N = 5):\n",
    "    items_bought = ''\n",
    "    items_rec = ''\n",
    "    text = ''\n",
    "    html = ''\n",
    "    \n",
    "    try:\n",
    "        _data = data_processed[data_processed['customer_id_int'] == customer]\n",
    "        _data_vec = data_vec[_data.index]\n",
    "        _pred = model.predict([_data['customer_id_int'], _data['item_id_int'], \n",
    "                             _data['brand_id'], _data['PRICE'],\n",
    "                             _data_vec, _data['item_age'], _data['score'],\n",
    "                             _data['power_price'], _data['power_score'], _data['power_item_age'],\n",
    "                             _data['sqrt_price'], _data['sqrt_score'], _data['sqrt_item_age']],\n",
    "                             batch_size = 1, verbose = 0)\n",
    "        _pred = pd.DataFrame(_pred)\n",
    "        _pred['customer_id_int'] = customer\n",
    "        _pred = _pred.groupby(['customer_id_int']).max()\n",
    "        del _pred.index.name\n",
    "        \n",
    "    #########################################################\n",
    "\n",
    "        interacted_items = data_processed[['text', 'score_original']][data_processed['customer_id_int'] == customer].groupby('text')                            .sum().reset_index().sort_values(['score_original'], ascending = False)\n",
    "        items_bought += '<br/>'.join([str(i+1) + str(' - ') + str(x) for i, x in enumerate(interacted_items['text'].values[0:20])])\n",
    "        top = _pred.values.reshape(_pred.shape[1]).argsort()[-N:][::-1] #items positions\n",
    "        items_rec += '<br/>'.join([str(i+1) + str(' - ') + str(items_map_text[x]) for i, x in enumerate(top)])\n",
    "\n",
    "    except Exception as e:\n",
    "        print(f'Exception: {e}')\n",
    "        print(f'\\nThe customer {customer} does not exist')\n",
    "\n",
    "    html = header('', color = 'black', gen_text = f'Customer {customer} Recommendations')  \n",
    "    html += header(text = f'Items bought by Customer {customer}:', size = 40)\n",
    "    html += box(items_bought)\n",
    "    html += header(text = f'Top {N} Items recommended to Customer {customer}:', size = 40)\n",
    "    html += box(items_rec)\n",
    "        \n",
    "    return f'<div>{html}</div>'\n",
    "\n"
   ]
  },
  {
   "cell_type": "code",
   "execution_count": 24,
   "metadata": {},
   "outputs": [
    {
     "data": {
      "text/plain": [
       "'<div><h1 style=\"margin-top:16px;color: black;font-size:54px\"><center><span style=\"color: #00BFFF\">Customer 128 Recommendations</center></h1><h1 style=\"margin-top:12px;color: black;font-size:40px\"><center>Items bought by Customer 128:</center></h1><div style=\"border-bottom:1px inset black;border-top:1px inset black;padding:8px;font-size: 21px;\">1 - chaqueta punto hombre cuello alto<br/>2 - harry_potter caliz fuego dvd<br/>3 - harry_potter camara secreta dvd<br/>4 - harry_potter coleccion hogwarts dvd bluray<br/>5 - harry_potter orden fenix dvd<br/>6 - harry_potter piedra filosofal dvd<br/>7 - harry_potter prisionero azkaban dvd<br/>8 - harry_potter reliquia muerte parte 3d bluray copia digital<br/>9 - jersey hombre cuello redondo<br/>10 - jersey hombre gris oscuro cuello caja<br/>11 - pack harry_potter coleccion completa bluray</div><h1 style=\"margin-top:12px;color: black;font-size:40px\"><center>Top 10 Items recommended to Customer 128:</center></h1><div style=\"border-bottom:1px inset black;border-top:1px inset black;padding:8px;font-size: 21px;\">1 - jersey hombre cuello redondo<br/>2 - chaqueta punto hombre cuello alto<br/>3 - pack harry_potter coleccion completa bluray<br/>4 - pack verano azul serie completa dvd<br/>5 - pack harry_potter coleccion completa bluray<br/>6 - chaqueta cuadro mujer cuello chimenea<br/>7 - jersey hombre damavand crew lana cuello redondo<br/>8 - jersey hombre gris claro cuello caja<br/>9 - sudadera hombre son gris cuello redondo<br/>10 - jersey hombre gris claro cuello pico</div></div>'"
      ]
     },
     "execution_count": 24,
     "metadata": {},
     "output_type": "execute_result"
    }
   ],
   "source": [
    "CUSTOMER = 128 #128 #270\n",
    "recommend_webservice(customer = CUSTOMER, N = 10)"
   ]
  },
  {
   "cell_type": "markdown",
   "metadata": {},
   "source": [
    "---"
   ]
  },
  {
   "cell_type": "markdown",
   "metadata": {},
   "source": [
    "#### WebService"
   ]
  },
  {
   "cell_type": "markdown",
   "metadata": {},
   "source": [
    "We are ready to make recommendations with our WebService, go to [WebService.py](http://localhost:8888/edit/Google%20Drive/PROYECTOS/TFM_Motor%20de%20Recomendacion/Master/99_FinalModel/Scripts/WebService.py) script"
   ]
  }
 ],
 "metadata": {
  "kernelspec": {
   "display_name": "Python 3",
   "language": "python",
   "name": "python3"
  },
  "language_info": {
   "codemirror_mode": {
    "name": "ipython",
    "version": 3
   },
   "file_extension": ".py",
   "mimetype": "text/x-python",
   "name": "python",
   "nbconvert_exporter": "python",
   "pygments_lexer": "ipython3",
   "version": "3.7.3"
  }
 },
 "nbformat": 4,
 "nbformat_minor": 2
}
