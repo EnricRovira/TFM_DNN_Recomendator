{
 "cells": [
  {
   "cell_type": "markdown",
   "metadata": {},
   "source": [
    "# Image Autoencoder\n",
    "\n",
    "In this notebook we build the image autoencoder with a custom function that loads the images from the filw system and normalizes them"
   ]
  },
  {
   "cell_type": "code",
   "execution_count": 3,
   "metadata": {},
   "outputs": [],
   "source": [
    "import pandas as pd\n",
    "import numpy as np\n",
    "import os \n",
    "\n",
    "from keras.applications.imagenet_utils import preprocess_input\n",
    "from keras.layers import Input, Conv2D, MaxPooling2D, UpSampling2D\n",
    "from keras.preprocessing import image\n",
    "from keras.models import Model, load_model\n",
    "from sklearn.neighbors import NearestNeighbors\n",
    "from sklearn.model_selection import train_test_split\n",
    "import matplotlib.pyplot as plt\n",
    "\n",
    "from custom_functions import norm_images\n",
    "\n",
    "%matplotlib inline\n",
    "pd.set_option('max_colwidth', -1)"
   ]
  },
  {
   "cell_type": "code",
   "execution_count": 4,
   "metadata": {},
   "outputs": [],
   "source": [
    "path = os.path.join('../Data/')\n",
    "path_models = os.path.join('../Models/')\n",
    "path_images = path + 'Images/'"
   ]
  },
  {
   "cell_type": "code",
   "execution_count": 5,
   "metadata": {
    "scrolled": true
   },
   "outputs": [
    {
     "data": {
      "text/html": [
       "<div>\n",
       "<style scoped>\n",
       "    .dataframe tbody tr th:only-of-type {\n",
       "        vertical-align: middle;\n",
       "    }\n",
       "\n",
       "    .dataframe tbody tr th {\n",
       "        vertical-align: top;\n",
       "    }\n",
       "\n",
       "    .dataframe thead th {\n",
       "        text-align: right;\n",
       "    }\n",
       "</style>\n",
       "<table border=\"1\" class=\"dataframe\">\n",
       "  <thead>\n",
       "    <tr style=\"text-align: right;\">\n",
       "      <th></th>\n",
       "      <th>id</th>\n",
       "      <th>image</th>\n",
       "    </tr>\n",
       "  </thead>\n",
       "  <tbody>\n",
       "    <tr>\n",
       "      <th>0</th>\n",
       "      <td>1060651400131</td>\n",
       "      <td>http://sgfm.elcorteingles.es/SGFM/dctm/MEDIA03/201902/07/00160651400131____1__516x640.jpg</td>\n",
       "    </tr>\n",
       "    <tr>\n",
       "      <th>1</th>\n",
       "      <td>1060651400180</td>\n",
       "      <td>http://sgfm.elcorteingles.es/SGFM/dctm/MEDIA03/201902/06/00160651400180____1__516x640.jpg</td>\n",
       "    </tr>\n",
       "    <tr>\n",
       "      <th>2</th>\n",
       "      <td>1051056400107</td>\n",
       "      <td>http://sgfm.elcorteingles.es/SGFM/dctm/MEDIA03/201902/07/00151056400115____1__516x640.jpg</td>\n",
       "    </tr>\n",
       "    <tr>\n",
       "      <th>3</th>\n",
       "      <td>1019350401147</td>\n",
       "      <td>http://sgfm.elcorteingles.es/SGFM/dctm/MEDIA03/201902/07/00119350401147____3__516x640.jpg</td>\n",
       "    </tr>\n",
       "    <tr>\n",
       "      <th>4</th>\n",
       "      <td>1019353400229</td>\n",
       "      <td>http://sgfm.elcorteingles.es/SGFM/dctm/MEDIA03/201902/07/00119353400237____2__516x640.jpg</td>\n",
       "    </tr>\n",
       "  </tbody>\n",
       "</table>\n",
       "</div>"
      ],
      "text/plain": [
       "              id  \\\n",
       "0  1060651400131   \n",
       "1  1060651400180   \n",
       "2  1051056400107   \n",
       "3  1019350401147   \n",
       "4  1019353400229   \n",
       "\n",
       "                                                                                       image  \n",
       "0  http://sgfm.elcorteingles.es/SGFM/dctm/MEDIA03/201902/07/00160651400131____1__516x640.jpg  \n",
       "1  http://sgfm.elcorteingles.es/SGFM/dctm/MEDIA03/201902/06/00160651400180____1__516x640.jpg  \n",
       "2  http://sgfm.elcorteingles.es/SGFM/dctm/MEDIA03/201902/07/00151056400115____1__516x640.jpg  \n",
       "3  http://sgfm.elcorteingles.es/SGFM/dctm/MEDIA03/201902/07/00119350401147____3__516x640.jpg  \n",
       "4  http://sgfm.elcorteingles.es/SGFM/dctm/MEDIA03/201902/07/00119353400237____2__516x640.jpg  "
      ]
     },
     "execution_count": 5,
     "metadata": {},
     "output_type": "execute_result"
    }
   ],
   "source": [
    "train_df = pd.read_csv(path + 'Images.csv', sep = ';')\n",
    "train_df.head()"
   ]
  },
  {
   "cell_type": "code",
   "execution_count": 6,
   "metadata": {},
   "outputs": [
    {
     "data": {
      "text/plain": [
       "(204812, 2)"
      ]
     },
     "execution_count": 6,
     "metadata": {},
     "output_type": "execute_result"
    }
   ],
   "source": [
    "train_df.shape"
   ]
  },
  {
   "cell_type": "code",
   "execution_count": 7,
   "metadata": {},
   "outputs": [
    {
     "data": {
      "text/plain": [
       "40000    001004560011738\n",
       "40001    001004560011746\n",
       "40002    001004560011753\n",
       "40003    001004560011761\n",
       "Name: id, dtype: object"
      ]
     },
     "execution_count": 7,
     "metadata": {},
     "output_type": "execute_result"
    }
   ],
   "source": [
    "train_df['id'].loc[40000:40003]"
   ]
  },
  {
   "cell_type": "markdown",
   "metadata": {},
   "source": [
    "## Autoencoder"
   ]
  },
  {
   "cell_type": "code",
   "execution_count": 37,
   "metadata": {},
   "outputs": [],
   "source": [
    "input_img = Input(shape=(100,100,3))\n",
    "\n",
    "#Encoder\n",
    "x = Conv2D(50, (3,3), activation='relu', padding='same')(input_img)\n",
    "x = MaxPooling2D((2, 2), padding='same')(x)\n",
    "x = Conv2D(32, (3,3), activation='relu', padding='same')(x)\n",
    "x = MaxPooling2D((2, 2), padding='same')(x)\n",
    "x = Conv2D(16, (3, 3), activation='relu', padding='same')(x)\n",
    "#x = MaxPooling2D((2, 2), padding='same')(x)\n",
    "#x = Conv2D(8, (3, 3), activation='relu', padding='same')(x)\n",
    "\n",
    "encoded = MaxPooling2D((2,2), padding='same', name='ENCODER')(x)\n",
    "\n",
    "#Decoder\n",
    "\n",
    "#x = Conv2D(8, (3, 3), activation='relu', padding='same')(x)\n",
    "#x = UpSampling2D((2, 2))(x)\n",
    "x = Conv2D(16, (3, 3), activation='relu', padding='same')(encoded)\n",
    "x = UpSampling2D((2, 2))(x)\n",
    "x = Conv2D(32, (3, 3), activation='relu', padding='same')(x)\n",
    "x = UpSampling2D((2, 2))(x)\n",
    "x = Conv2D(50, (3, 3), activation='relu')(x)\n",
    "x = UpSampling2D((2, 2))(x)\n",
    "decoded = Conv2D(3, (3, 3), activation='sigmoid', padding='same')(x)\n",
    "\n",
    "autoencoder = Model(input_img, decoded)\n",
    "autoencoder.compile(optimizer='adam', loss='mse')"
   ]
  },
  {
   "cell_type": "code",
   "execution_count": 38,
   "metadata": {},
   "outputs": [
    {
     "name": "stdout",
     "output_type": "stream",
     "text": [
      "_________________________________________________________________\n",
      "Layer (type)                 Output Shape              Param #   \n",
      "=================================================================\n",
      "input_2 (InputLayer)         (None, 100, 100, 3)       0         \n",
      "_________________________________________________________________\n",
      "conv2d_8 (Conv2D)            (None, 100, 100, 50)      1400      \n",
      "_________________________________________________________________\n",
      "max_pooling2d_3 (MaxPooling2 (None, 50, 50, 50)        0         \n",
      "_________________________________________________________________\n",
      "conv2d_9 (Conv2D)            (None, 50, 50, 32)        14432     \n",
      "_________________________________________________________________\n",
      "max_pooling2d_4 (MaxPooling2 (None, 25, 25, 32)        0         \n",
      "_________________________________________________________________\n",
      "conv2d_10 (Conv2D)           (None, 25, 25, 16)        4624      \n",
      "_________________________________________________________________\n",
      "ENCODER (MaxPooling2D)       (None, 13, 13, 16)        0         \n",
      "_________________________________________________________________\n",
      "conv2d_11 (Conv2D)           (None, 13, 13, 16)        2320      \n",
      "_________________________________________________________________\n",
      "up_sampling2d_4 (UpSampling2 (None, 26, 26, 16)        0         \n",
      "_________________________________________________________________\n",
      "conv2d_12 (Conv2D)           (None, 26, 26, 32)        4640      \n",
      "_________________________________________________________________\n",
      "up_sampling2d_5 (UpSampling2 (None, 52, 52, 32)        0         \n",
      "_________________________________________________________________\n",
      "conv2d_13 (Conv2D)           (None, 50, 50, 50)        14450     \n",
      "_________________________________________________________________\n",
      "up_sampling2d_6 (UpSampling2 (None, 100, 100, 50)      0         \n",
      "_________________________________________________________________\n",
      "conv2d_14 (Conv2D)           (None, 100, 100, 3)       1353      \n",
      "=================================================================\n",
      "Total params: 43,219\n",
      "Trainable params: 43,219\n",
      "Non-trainable params: 0\n",
      "_________________________________________________________________\n"
     ]
    }
   ],
   "source": [
    "autoencoder.summary()"
   ]
  },
  {
   "cell_type": "markdown",
   "metadata": {},
   "source": [
    "##  Train"
   ]
  },
  {
   "cell_type": "code",
   "execution_count": 7,
   "metadata": {},
   "outputs": [],
   "source": [
    "X_data = norm_images.prepareImages(train_df, 100, path_images)        \n",
    "X_data = norm_images.normalize(X_data)"
   ]
  },
  {
   "cell_type": "code",
   "execution_count": 20,
   "metadata": {
    "collapsed": true
   },
   "outputs": [
    {
     "name": "stdout",
     "output_type": "stream",
     "text": [
      "Training model in 800 steps..\n",
      "==== EPOCH 0 ====\n",
      "Step: 0.0, Total: 256\n",
      "Step: 0.00125, Total: 512\n",
      "Step: 0.0025, Total: 768\n",
      "Step: 0.00375, Total: 1024\n",
      "Step: 0.005, Total: 1280\n",
      "Step: 0.00625, Total: 1536\n",
      "Step: 0.0075, Total: 1792\n",
      "Step: 0.00875, Total: 2048\n",
      "Step: 0.01, Total: 2304\n",
      "Step: 0.01125, Total: 2560\n",
      "Step: 0.0125, Total: 2816\n",
      "Step: 0.01375, Total: 3072\n",
      "Step: 0.015, Total: 3328\n",
      "Step: 0.01625, Total: 3584\n",
      "Step: 0.0175, Total: 3840\n",
      "Step: 0.01875, Total: 4096\n",
      "Step: 0.02, Total: 4352\n",
      "Step: 0.02125, Total: 4608\n",
      "Step: 0.0225, Total: 4864\n",
      "Step: 0.02375, Total: 5120\n",
      "Step: 0.025, Total: 5376\n",
      "Step: 0.02625, Total: 5632\n",
      "Step: 0.0275, Total: 5888\n",
      "Step: 0.02875, Total: 6144\n",
      "Step: 0.03, Total: 6400\n",
      "Step: 0.03125, Total: 6656\n",
      "Step: 0.0325, Total: 6912\n",
      "Step: 0.03375, Total: 7168\n",
      "Step: 0.035, Total: 7424\n",
      "Step: 0.03625, Total: 7680\n",
      "Step: 0.0375, Total: 7936\n",
      "Step: 0.03875, Total: 8192\n",
      "Step: 0.04, Total: 8448\n",
      "Step: 0.04125, Total: 8704\n",
      "Step: 0.0425, Total: 8960\n",
      "Step: 0.04375, Total: 9216\n",
      "Step: 0.045, Total: 9472\n",
      "Step: 0.04625, Total: 9728\n",
      "Step: 0.0475, Total: 9984\n",
      "Step: 0.04875, Total: 10240\n",
      "Step: 0.05, Total: 10496\n",
      "Step: 0.05125, Total: 10752\n",
      "Step: 0.0525, Total: 11008\n",
      "Step: 0.05375, Total: 11264\n",
      "Step: 0.055, Total: 11520\n",
      "Step: 0.05625, Total: 11776\n",
      "Step: 0.0575, Total: 12032\n",
      "Step: 0.05875, Total: 12288\n",
      "Step: 0.06, Total: 12544\n",
      "Step: 0.06125, Total: 12800\n",
      "Step: 0.0625, Total: 13056\n",
      "Step: 0.06375, Total: 13312\n",
      "Step: 0.065, Total: 13568\n",
      "Step: 0.06625, Total: 13824\n",
      "Step: 0.0675, Total: 14080\n",
      "Step: 0.06875, Total: 14336\n",
      "Step: 0.07, Total: 14592\n",
      "Step: 0.07125, Total: 14848\n",
      "Step: 0.0725, Total: 15104\n",
      "Step: 0.07375, Total: 15360\n",
      "Step: 0.075, Total: 15616\n",
      "Step: 0.07625, Total: 15872\n",
      "Step: 0.0775, Total: 16128\n",
      "Step: 0.07875, Total: 16384\n",
      "Step: 0.08, Total: 16640\n",
      "Step: 0.08125, Total: 16896\n",
      "Step: 0.0825, Total: 17152\n",
      "Step: 0.08375, Total: 17408\n",
      "Step: 0.085, Total: 17664\n",
      "Step: 0.08625, Total: 17920\n",
      "Step: 0.0875, Total: 18176\n",
      "Step: 0.08875, Total: 18432\n",
      "Step: 0.09, Total: 18688\n",
      "Step: 0.09125, Total: 18944\n",
      "Step: 0.0925, Total: 19200\n",
      "Step: 0.09375, Total: 19456\n",
      "Step: 0.095, Total: 19712\n",
      "Step: 0.09625, Total: 19968\n",
      "Step: 0.0975, Total: 20224\n",
      "Step: 0.09875, Total: 20480\n",
      "Step: 0.1, Total: 20736\n",
      "Step: 0.10125, Total: 20992\n",
      "Step: 0.1025, Total: 21248\n",
      "Step: 0.10375, Total: 21504\n",
      "Step: 0.105, Total: 21760\n",
      "Step: 0.10625, Total: 22016\n",
      "Step: 0.1075, Total: 22272\n",
      "Step: 0.10875, Total: 22528\n",
      "Step: 0.11, Total: 22784\n",
      "Step: 0.11125, Total: 23040\n",
      "Step: 0.1125, Total: 23296\n",
      "Step: 0.11375, Total: 23552\n",
      "Step: 0.115, Total: 23808\n",
      "Step: 0.11625, Total: 24064\n",
      "Step: 0.1175, Total: 24320\n",
      "Step: 0.11875, Total: 24576\n",
      "Step: 0.12, Total: 24832\n",
      "Step: 0.12125, Total: 25088\n",
      "Step: 0.1225, Total: 25344\n",
      "Step: 0.12375, Total: 25600\n",
      "Step: 0.125, Total: 25856\n",
      "Step: 0.12625, Total: 26112\n",
      "Step: 0.1275, Total: 26368\n",
      "Step: 0.12875, Total: 26624\n",
      "Step: 0.13, Total: 26880\n",
      "Step: 0.13125, Total: 27136\n",
      "Step: 0.1325, Total: 27392\n",
      "Step: 0.13375, Total: 27648\n",
      "Step: 0.135, Total: 27904\n",
      "Step: 0.13625, Total: 28160\n",
      "Step: 0.1375, Total: 28416\n",
      "Step: 0.13875, Total: 28672\n",
      "Step: 0.14, Total: 28928\n",
      "Step: 0.14125, Total: 29184\n",
      "Step: 0.1425, Total: 29440\n",
      "Step: 0.14375, Total: 29696\n",
      "Step: 0.145, Total: 29952\n",
      "Step: 0.14625, Total: 30208\n",
      "Step: 0.1475, Total: 30464\n",
      "Step: 0.14875, Total: 30720\n",
      "Step: 0.15, Total: 30976\n",
      "Step: 0.15125, Total: 31232\n",
      "Step: 0.1525, Total: 31488\n",
      "Step: 0.15375, Total: 31744\n",
      "Step: 0.155, Total: 32000\n",
      "Step: 0.15625, Total: 32256\n",
      "Step: 0.1575, Total: 32512\n",
      "Step: 0.15875, Total: 32768\n",
      "Step: 0.16, Total: 33024\n",
      "Step: 0.16125, Total: 33280\n",
      "Step: 0.1625, Total: 33536\n",
      "Step: 0.16375, Total: 33792\n",
      "Step: 0.165, Total: 34048\n",
      "Step: 0.16625, Total: 34304\n",
      "Step: 0.1675, Total: 34560\n",
      "Step: 0.16875, Total: 34816\n",
      "Step: 0.17, Total: 35072\n",
      "Step: 0.17125, Total: 35328\n",
      "Step: 0.1725, Total: 35584\n",
      "Step: 0.17375, Total: 35840\n",
      "Step: 0.175, Total: 36096\n",
      "Step: 0.17625, Total: 36352\n",
      "Step: 0.1775, Total: 36608\n",
      "Step: 0.17875, Total: 36864\n",
      "Step: 0.18, Total: 37120\n",
      "Step: 0.18125, Total: 37376\n",
      "Step: 0.1825, Total: 37632\n",
      "Step: 0.18375, Total: 37888\n",
      "Step: 0.185, Total: 38144\n",
      "Step: 0.18625, Total: 38400\n",
      "Step: 0.1875, Total: 38656\n",
      "Step: 0.18875, Total: 38912\n",
      "Step: 0.19, Total: 39168\n",
      "Step: 0.19125, Total: 39424\n",
      "Step: 0.1925, Total: 39680\n",
      "Step: 0.19375, Total: 39936\n",
      "Step: 0.195, Total: 40192\n",
      "Step: 0.19625, Total: 40448\n",
      "Step: 0.1975, Total: 40704\n",
      "Step: 0.19875, Total: 40960\n",
      "Step: 0.2, Total: 41216\n",
      "Step: 0.20125, Total: 41472\n",
      "Step: 0.2025, Total: 41728\n",
      "Step: 0.20375, Total: 41984\n",
      "Step: 0.205, Total: 42240\n",
      "Step: 0.20625, Total: 42496\n",
      "Step: 0.2075, Total: 42752\n",
      "Step: 0.20875, Total: 43008\n",
      "Step: 0.21, Total: 43264\n",
      "Step: 0.21125, Total: 43520\n",
      "Step: 0.2125, Total: 43776\n",
      "Step: 0.21375, Total: 44032\n",
      "Step: 0.215, Total: 44288\n",
      "Step: 0.21625, Total: 44544\n",
      "Step: 0.2175, Total: 44800\n",
      "Step: 0.21875, Total: 45056\n",
      "Step: 0.22, Total: 45312\n",
      "Step: 0.22125, Total: 45568\n",
      "Step: 0.2225, Total: 45824\n",
      "Step: 0.22375, Total: 46080\n",
      "Step: 0.225, Total: 46336\n",
      "Step: 0.22625, Total: 46592\n",
      "Step: 0.2275, Total: 46848\n",
      "Step: 0.22875, Total: 47104\n",
      "Step: 0.23, Total: 47360\n",
      "Step: 0.23125, Total: 47616\n",
      "Step: 0.2325, Total: 47872\n",
      "Step: 0.23375, Total: 48128\n",
      "Step: 0.235, Total: 48384\n",
      "Step: 0.23625, Total: 48640\n",
      "Step: 0.2375, Total: 48896\n",
      "Step: 0.23875, Total: 49152\n",
      "Step: 0.24, Total: 49408\n",
      "Step: 0.24125, Total: 49664\n",
      "Step: 0.2425, Total: 49920\n",
      "Step: 0.24375, Total: 50176\n",
      "Step: 0.245, Total: 50432\n",
      "Step: 0.24625, Total: 50688\n",
      "Step: 0.2475, Total: 50944\n",
      "Step: 0.24875, Total: 51200\n",
      "Step: 0.25, Total: 51456\n",
      "Step: 0.25125, Total: 51712\n",
      "Step: 0.2525, Total: 51968\n",
      "Step: 0.25375, Total: 52224\n",
      "Step: 0.255, Total: 52480\n",
      "Step: 0.25625, Total: 52736\n",
      "Step: 0.2575, Total: 52992\n",
      "Step: 0.25875, Total: 53248\n",
      "Step: 0.26, Total: 53504\n",
      "Step: 0.26125, Total: 53760\n",
      "Step: 0.2625, Total: 54016\n",
      "Step: 0.26375, Total: 54272\n",
      "Step: 0.265, Total: 54528\n",
      "Step: 0.26625, Total: 54784\n",
      "Step: 0.2675, Total: 55040\n",
      "Step: 0.26875, Total: 55296\n",
      "Step: 0.27, Total: 55552\n",
      "Step: 0.27125, Total: 55808\n",
      "Step: 0.2725, Total: 56064\n",
      "Step: 0.27375, Total: 56320\n",
      "Step: 0.275, Total: 56576\n",
      "Step: 0.27625, Total: 56832\n",
      "Step: 0.2775, Total: 57088\n",
      "Step: 0.27875, Total: 57344\n",
      "Step: 0.28, Total: 57600\n",
      "Step: 0.28125, Total: 57856\n",
      "Step: 0.2825, Total: 58112\n",
      "Step: 0.28375, Total: 58368\n",
      "Step: 0.285, Total: 58624\n",
      "Step: 0.28625, Total: 58880\n",
      "Step: 0.2875, Total: 59136\n",
      "Step: 0.28875, Total: 59392\n",
      "Step: 0.29, Total: 59648\n",
      "Step: 0.29125, Total: 59904\n",
      "Step: 0.2925, Total: 60160\n",
      "Step: 0.29375, Total: 60416\n",
      "Step: 0.295, Total: 60672\n",
      "Step: 0.29625, Total: 60928\n",
      "Step: 0.2975, Total: 61184\n",
      "Step: 0.29875, Total: 61440\n",
      "Step: 0.3, Total: 61696\n",
      "Step: 0.30125, Total: 61952\n",
      "Step: 0.3025, Total: 62208\n",
      "Step: 0.30375, Total: 62464\n",
      "Step: 0.305, Total: 62720\n",
      "Step: 0.30625, Total: 62976\n",
      "Step: 0.3075, Total: 63232\n",
      "Step: 0.30875, Total: 63488\n",
      "Step: 0.31, Total: 63744\n",
      "Step: 0.31125, Total: 64000\n",
      "Step: 0.3125, Total: 64256\n",
      "Step: 0.31375, Total: 64512\n",
      "Step: 0.315, Total: 64768\n",
      "Step: 0.31625, Total: 65024\n",
      "Step: 0.3175, Total: 65280\n",
      "Step: 0.31875, Total: 65536\n",
      "Step: 0.32, Total: 65792\n",
      "Step: 0.32125, Total: 66048\n",
      "Step: 0.3225, Total: 66304\n",
      "Step: 0.32375, Total: 66560\n",
      "Step: 0.325, Total: 66816\n",
      "Step: 0.32625, Total: 67072\n",
      "Step: 0.3275, Total: 67328\n",
      "Step: 0.32875, Total: 67584\n",
      "Step: 0.33, Total: 67840\n",
      "Step: 0.33125, Total: 68096\n",
      "Step: 0.3325, Total: 68352\n",
      "Step: 0.33375, Total: 68608\n",
      "Step: 0.335, Total: 68864\n",
      "Step: 0.33625, Total: 69120\n",
      "Step: 0.3375, Total: 69376\n",
      "Step: 0.33875, Total: 69632\n",
      "Step: 0.34, Total: 69888\n",
      "Step: 0.34125, Total: 70144\n",
      "Step: 0.3425, Total: 70400\n",
      "Step: 0.34375, Total: 70656\n",
      "Step: 0.345, Total: 70912\n",
      "Step: 0.34625, Total: 71168\n",
      "Step: 0.3475, Total: 71424\n",
      "Step: 0.34875, Total: 71680\n",
      "Step: 0.35, Total: 71936\n",
      "Step: 0.35125, Total: 72192\n",
      "Step: 0.3525, Total: 72448\n",
      "Step: 0.35375, Total: 72704\n",
      "Step: 0.355, Total: 72960\n",
      "Step: 0.35625, Total: 73216\n",
      "Step: 0.3575, Total: 73472\n",
      "Step: 0.35875, Total: 73728\n",
      "Step: 0.36, Total: 73984\n",
      "Step: 0.36125, Total: 74240\n",
      "Step: 0.3625, Total: 74496\n",
      "Step: 0.36375, Total: 74752\n",
      "Step: 0.365, Total: 75008\n",
      "Step: 0.36625, Total: 75264\n",
      "Step: 0.3675, Total: 75520\n",
      "Step: 0.36875, Total: 75776\n",
      "Step: 0.37, Total: 76032\n",
      "Step: 0.37125, Total: 76288\n",
      "Step: 0.3725, Total: 76544\n",
      "Step: 0.37375, Total: 76800\n",
      "Step: 0.375, Total: 77056\n",
      "Step: 0.37625, Total: 77312\n",
      "Step: 0.3775, Total: 77568\n"
     ]
    },
    {
     "name": "stdout",
     "output_type": "stream",
     "text": [
      "Step: 0.37875, Total: 77824\n",
      "Step: 0.38, Total: 78080\n",
      "Step: 0.38125, Total: 78336\n",
      "Step: 0.3825, Total: 78592\n",
      "Step: 0.38375, Total: 78848\n",
      "Step: 0.385, Total: 79104\n",
      "Step: 0.38625, Total: 79360\n",
      "Step: 0.3875, Total: 79616\n",
      "Step: 0.38875, Total: 79872\n",
      "Step: 0.39, Total: 80128\n",
      "Step: 0.39125, Total: 80384\n",
      "Step: 0.3925, Total: 80640\n",
      "Step: 0.39375, Total: 80896\n",
      "Step: 0.395, Total: 81152\n",
      "Step: 0.39625, Total: 81408\n",
      "Step: 0.3975, Total: 81664\n",
      "Step: 0.39875, Total: 81920\n",
      "Step: 0.4, Total: 82176\n",
      "Step: 0.40125, Total: 82432\n",
      "Step: 0.4025, Total: 82688\n",
      "Step: 0.40375, Total: 82944\n",
      "Step: 0.405, Total: 83200\n",
      "Step: 0.40625, Total: 83456\n",
      "Step: 0.4075, Total: 83712\n",
      "Step: 0.40875, Total: 83968\n",
      "Step: 0.41, Total: 84224\n",
      "Step: 0.41125, Total: 84480\n",
      "Step: 0.4125, Total: 84736\n",
      "Step: 0.41375, Total: 84992\n",
      "Step: 0.415, Total: 85248\n",
      "Step: 0.41625, Total: 85504\n",
      "Step: 0.4175, Total: 85760\n",
      "Step: 0.41875, Total: 86016\n",
      "Step: 0.42, Total: 86272\n",
      "Step: 0.42125, Total: 86528\n",
      "Step: 0.4225, Total: 86784\n",
      "Step: 0.42375, Total: 87040\n",
      "Step: 0.425, Total: 87296\n",
      "Step: 0.42625, Total: 87552\n",
      "Step: 0.4275, Total: 87808\n",
      "Step: 0.42875, Total: 88064\n",
      "Step: 0.43, Total: 88320\n",
      "Step: 0.43125, Total: 88576\n",
      "Step: 0.4325, Total: 88832\n",
      "Step: 0.43375, Total: 89088\n",
      "Step: 0.435, Total: 89344\n",
      "Step: 0.43625, Total: 89600\n",
      "Step: 0.4375, Total: 89856\n",
      "Step: 0.43875, Total: 90112\n",
      "Step: 0.44, Total: 90368\n",
      "Step: 0.44125, Total: 90624\n",
      "Step: 0.4425, Total: 90880\n",
      "Step: 0.44375, Total: 91136\n",
      "Step: 0.445, Total: 91392\n",
      "Step: 0.44625, Total: 91648\n",
      "Step: 0.4475, Total: 91904\n",
      "Step: 0.44875, Total: 92160\n",
      "Step: 0.45, Total: 92416\n",
      "Step: 0.45125, Total: 92672\n",
      "Step: 0.4525, Total: 92928\n",
      "Step: 0.45375, Total: 93184\n",
      "Step: 0.455, Total: 93440\n",
      "Step: 0.45625, Total: 93696\n",
      "Step: 0.4575, Total: 93952\n",
      "Step: 0.45875, Total: 94208\n",
      "Step: 0.46, Total: 94464\n",
      "Step: 0.46125, Total: 94720\n",
      "Step: 0.4625, Total: 94976\n",
      "Step: 0.46375, Total: 95232\n",
      "Step: 0.465, Total: 95488\n",
      "Step: 0.46625, Total: 95744\n",
      "Step: 0.4675, Total: 96000\n",
      "Step: 0.46875, Total: 96256\n",
      "Step: 0.47, Total: 96512\n",
      "Step: 0.47125, Total: 96768\n",
      "Step: 0.4725, Total: 97024\n",
      "Step: 0.47375, Total: 97280\n",
      "Step: 0.475, Total: 97536\n",
      "Step: 0.47625, Total: 97792\n",
      "Step: 0.4775, Total: 98048\n",
      "Step: 0.47875, Total: 98304\n",
      "Step: 0.48, Total: 98560\n",
      "Step: 0.48125, Total: 98816\n",
      "Step: 0.4825, Total: 99072\n",
      "Step: 0.48375, Total: 99328\n",
      "Step: 0.485, Total: 99584\n",
      "Step: 0.48625, Total: 99840\n",
      "Step: 0.4875, Total: 100096\n",
      "Step: 0.48875, Total: 100352\n",
      "Step: 0.49, Total: 100608\n",
      "Step: 0.49125, Total: 100864\n",
      "Step: 0.4925, Total: 101120\n",
      "Step: 0.49375, Total: 101376\n",
      "Step: 0.495, Total: 101632\n",
      "Step: 0.49625, Total: 101888\n",
      "Step: 0.4975, Total: 102144\n",
      "Step: 0.49875, Total: 102400\n",
      "Step: 0.5, Total: 102656\n",
      "Step: 0.50125, Total: 102912\n",
      "Step: 0.5025, Total: 103168\n",
      "Step: 0.50375, Total: 103424\n",
      "Step: 0.505, Total: 103680\n",
      "Step: 0.50625, Total: 103936\n",
      "Step: 0.5075, Total: 104192\n",
      "Step: 0.50875, Total: 104448\n",
      "Step: 0.51, Total: 104704\n",
      "Step: 0.51125, Total: 104960\n",
      "Step: 0.5125, Total: 105216\n",
      "Step: 0.51375, Total: 105472\n",
      "Step: 0.515, Total: 105728\n",
      "Step: 0.51625, Total: 105984\n",
      "Step: 0.5175, Total: 106240\n",
      "Step: 0.51875, Total: 106496\n",
      "Step: 0.52, Total: 106752\n",
      "Step: 0.52125, Total: 107008\n",
      "Step: 0.5225, Total: 107264\n",
      "Step: 0.52375, Total: 107520\n",
      "Step: 0.525, Total: 107776\n",
      "Step: 0.52625, Total: 108032\n",
      "Step: 0.5275, Total: 108288\n",
      "Step: 0.52875, Total: 108544\n",
      "Step: 0.53, Total: 108800\n",
      "Step: 0.53125, Total: 109056\n",
      "Step: 0.5325, Total: 109312\n",
      "Step: 0.53375, Total: 109568\n",
      "Step: 0.535, Total: 109824\n",
      "Step: 0.53625, Total: 110080\n",
      "Step: 0.5375, Total: 110336\n",
      "Step: 0.53875, Total: 110592\n",
      "Step: 0.54, Total: 110848\n",
      "Step: 0.54125, Total: 111104\n",
      "Step: 0.5425, Total: 111360\n",
      "Step: 0.54375, Total: 111616\n",
      "Step: 0.545, Total: 111872\n",
      "Step: 0.54625, Total: 112128\n",
      "Step: 0.5475, Total: 112384\n",
      "Step: 0.54875, Total: 112640\n",
      "Step: 0.55, Total: 112896\n",
      "Step: 0.55125, Total: 113152\n",
      "Step: 0.5525, Total: 113408\n",
      "Step: 0.55375, Total: 113664\n",
      "Step: 0.555, Total: 113920\n",
      "Step: 0.55625, Total: 114176\n",
      "Step: 0.5575, Total: 114432\n",
      "Step: 0.55875, Total: 114688\n",
      "Step: 0.56, Total: 114944\n",
      "Step: 0.56125, Total: 115200\n",
      "Step: 0.5625, Total: 115456\n",
      "Step: 0.56375, Total: 115712\n",
      "Step: 0.565, Total: 115968\n",
      "Step: 0.56625, Total: 116224\n",
      "Step: 0.5675, Total: 116480\n",
      "Step: 0.56875, Total: 116736\n",
      "Step: 0.57, Total: 116992\n",
      "Step: 0.57125, Total: 117248\n",
      "Step: 0.5725, Total: 117504\n",
      "Step: 0.57375, Total: 117760\n",
      "Step: 0.575, Total: 118016\n",
      "Step: 0.57625, Total: 118272\n",
      "Step: 0.5775, Total: 118528\n",
      "Step: 0.57875, Total: 118784\n",
      "Step: 0.58, Total: 119040\n",
      "Step: 0.58125, Total: 119296\n",
      "Step: 0.5825, Total: 119552\n",
      "Step: 0.58375, Total: 119808\n",
      "Step: 0.585, Total: 120064\n",
      "Step: 0.58625, Total: 120320\n",
      "Step: 0.5875, Total: 120576\n",
      "Step: 0.58875, Total: 120832\n",
      "Step: 0.59, Total: 121088\n",
      "Step: 0.59125, Total: 121344\n",
      "Step: 0.5925, Total: 121600\n",
      "Step: 0.59375, Total: 121856\n",
      "Step: 0.595, Total: 122112\n",
      "Step: 0.59625, Total: 122368\n",
      "Step: 0.5975, Total: 122624\n",
      "Step: 0.59875, Total: 122880\n",
      "Step: 0.6, Total: 123136\n",
      "Step: 0.60125, Total: 123392\n",
      "Step: 0.6025, Total: 123648\n",
      "Step: 0.60375, Total: 123904\n",
      "Step: 0.605, Total: 124160\n",
      "Step: 0.60625, Total: 124416\n",
      "Step: 0.6075, Total: 124672\n",
      "Step: 0.60875, Total: 124928\n",
      "Step: 0.61, Total: 125184\n",
      "Step: 0.61125, Total: 125440\n",
      "Step: 0.6125, Total: 125696\n",
      "Step: 0.61375, Total: 125952\n",
      "Step: 0.615, Total: 126208\n",
      "Step: 0.61625, Total: 126464\n",
      "Step: 0.6175, Total: 126720\n",
      "Step: 0.61875, Total: 126976\n",
      "Step: 0.62, Total: 127232\n",
      "Step: 0.62125, Total: 127488\n",
      "Step: 0.6225, Total: 127744\n",
      "Step: 0.62375, Total: 128000\n",
      "Step: 0.625, Total: 128256\n",
      "Step: 0.62625, Total: 128512\n",
      "Step: 0.6275, Total: 128768\n",
      "Step: 0.62875, Total: 129024\n",
      "Step: 0.63, Total: 129280\n",
      "Step: 0.63125, Total: 129536\n",
      "Step: 0.6325, Total: 129792\n",
      "Step: 0.63375, Total: 130048\n",
      "Step: 0.635, Total: 130304\n",
      "Step: 0.63625, Total: 130560\n",
      "Step: 0.6375, Total: 130816\n",
      "Step: 0.63875, Total: 131072\n",
      "Step: 0.64, Total: 131328\n",
      "Step: 0.64125, Total: 131584\n",
      "Step: 0.6425, Total: 131840\n",
      "Step: 0.64375, Total: 132096\n",
      "Step: 0.645, Total: 132352\n",
      "Step: 0.64625, Total: 132608\n",
      "Step: 0.6475, Total: 132864\n",
      "Step: 0.64875, Total: 133120\n",
      "Step: 0.65, Total: 133376\n",
      "Step: 0.65125, Total: 133632\n",
      "Step: 0.6525, Total: 133888\n",
      "Step: 0.65375, Total: 134144\n",
      "Step: 0.655, Total: 134400\n",
      "Step: 0.65625, Total: 134656\n"
     ]
    },
    {
     "ename": "KeyboardInterrupt",
     "evalue": "",
     "output_type": "error",
     "traceback": [
      "\u001b[1;31m---------------------------------------------------------------------------\u001b[0m",
      "\u001b[1;31mKeyboardInterrupt\u001b[0m                         Traceback (most recent call last)",
      "\u001b[1;32m<ipython-input-20-06ad1cccfb97>\u001b[0m in \u001b[0;36m<module>\u001b[1;34m\u001b[0m\n\u001b[0;32m     14\u001b[0m \u001b[1;33m\u001b[0m\u001b[0m\n\u001b[0;32m     15\u001b[0m         \u001b[0mX_data\u001b[0m \u001b[1;33m=\u001b[0m \u001b[0mnorm_images\u001b[0m\u001b[1;33m.\u001b[0m\u001b[0mprepareImages\u001b[0m\u001b[1;33m(\u001b[0m\u001b[0mtrain_df\u001b[0m\u001b[1;33m,\u001b[0m \u001b[0mtotal\u001b[0m\u001b[1;33m,\u001b[0m \u001b[0mBATCH_SIZE\u001b[0m\u001b[1;33m)\u001b[0m\u001b[1;33m\u001b[0m\u001b[1;33m\u001b[0m\u001b[0m\n\u001b[1;32m---> 16\u001b[1;33m         \u001b[0mX_data\u001b[0m \u001b[1;33m=\u001b[0m \u001b[0mnorm_images\u001b[0m\u001b[1;33m.\u001b[0m\u001b[0mnormalize\u001b[0m\u001b[1;33m(\u001b[0m\u001b[0mX_data\u001b[0m\u001b[1;33m)\u001b[0m\u001b[1;33m\u001b[0m\u001b[1;33m\u001b[0m\u001b[0m\n\u001b[0m\u001b[0;32m     17\u001b[0m \u001b[1;33m\u001b[0m\u001b[0m\n\u001b[0;32m     18\u001b[0m         \u001b[1;31m#autoencoder.fit(X_data, X_data, epochs = 1, batch_size = BATCH_SIZE,\u001b[0m\u001b[1;33m\u001b[0m\u001b[1;33m\u001b[0m\u001b[1;33m\u001b[0m\u001b[0m\n",
      "\u001b[1;32m~\\Google Drive\\PROYECTOS\\TFM_Motor de Recomendacion\\Master\\99_FinalModel\\Scripts\\custom_functions\\norm_images.py\u001b[0m in \u001b[0;36mnormalize\u001b[1;34m(data)\u001b[0m\n\u001b[0;32m     27\u001b[0m \u001b[1;33m\u001b[0m\u001b[0m\n\u001b[0;32m     28\u001b[0m \u001b[1;32mdef\u001b[0m \u001b[0mnormalize\u001b[0m\u001b[1;33m(\u001b[0m\u001b[0mdata\u001b[0m\u001b[1;33m)\u001b[0m\u001b[1;33m:\u001b[0m\u001b[1;33m\u001b[0m\u001b[1;33m\u001b[0m\u001b[0m\n\u001b[1;32m---> 29\u001b[1;33m     \u001b[0mdata\u001b[0m \u001b[1;33m=\u001b[0m \u001b[0mdata\u001b[0m \u001b[1;33m/\u001b[0m \u001b[1;36m255\u001b[0m\u001b[1;33m\u001b[0m\u001b[1;33m\u001b[0m\u001b[0m\n\u001b[0m\u001b[0;32m     30\u001b[0m     \u001b[1;32mreturn\u001b[0m \u001b[0mdata\u001b[0m\u001b[1;33m\u001b[0m\u001b[1;33m\u001b[0m\u001b[0m\n\u001b[0;32m     31\u001b[0m \u001b[1;33m\u001b[0m\u001b[0m\n",
      "\u001b[1;31mKeyboardInterrupt\u001b[0m: "
     ]
    }
   ],
   "source": [
    "BATCH_SIZE = 256\n",
    "STEP_SIZE = train_df.shape[0]//BATCH_SIZE\n",
    "GLOBAL_EPOCHS = 2\n",
    "total = 0\n",
    "\n",
    "print(f'Training model in {STEP_SIZE} steps..')\n",
    "\n",
    "for epoch in range(0, GLOBAL_EPOCHS):\n",
    "    \n",
    "    total = 0\n",
    "    print (f'==== EPOCH {epoch} ====')\n",
    "    \n",
    "    for STEP in range(0, STEP_SIZE):\n",
    "        \n",
    "        X_data = norm_images.prepareImages(train_df, total, path_images, BATCH_SIZE)\n",
    "        X_data = norm_images.normalize(X_data)\n",
    "        \n",
    "        autoencoder.fit(X_data, X_data, epochs = 1, batch_size = BATCH_SIZE, \n",
    "                callbacks = None, verbose = 0, shuffle=False )\n",
    "        \n",
    "        total += BATCH_SIZE\n",
    "        print(f'Step: {STEP/STEP_SIZE}, Total: {total}')"
   ]
  },
  {
   "cell_type": "markdown",
   "metadata": {},
   "source": [
    "### Autoencoder"
   ]
  },
  {
   "cell_type": "code",
   "execution_count": 8,
   "metadata": {},
   "outputs": [
    {
     "name": "stdout",
     "output_type": "stream",
     "text": [
      "WARNING:tensorflow:From C:\\Users\\enric\\Anaconda3\\lib\\site-packages\\tensorflow\\python\\framework\\op_def_library.py:263: colocate_with (from tensorflow.python.framework.ops) is deprecated and will be removed in a future version.\n",
      "Instructions for updating:\n",
      "Colocations handled automatically by placer.\n",
      "WARNING:tensorflow:From C:\\Users\\enric\\Anaconda3\\lib\\site-packages\\tensorflow\\python\\ops\\math_ops.py:3066: to_int32 (from tensorflow.python.ops.math_ops) is deprecated and will be removed in a future version.\n",
      "Instructions for updating:\n",
      "Use tf.cast instead.\n"
     ]
    }
   ],
   "source": [
    "#autoencoder.save('full_autoencoder.h5')\n",
    "autoencoder = load_model(path_models + 'full_autoencoder.h5')"
   ]
  },
  {
   "cell_type": "markdown",
   "metadata": {},
   "source": [
    "### Encoder"
   ]
  },
  {
   "cell_type": "code",
   "execution_count": 9,
   "metadata": {},
   "outputs": [],
   "source": [
    "encoder = Model(inputs=autoencoder.input, outputs = autoencoder.get_layer('ENCODER').output)"
   ]
  },
  {
   "cell_type": "code",
   "execution_count": 10,
   "metadata": {},
   "outputs": [],
   "source": [
    "encoder.save(path_models + 'full_encoder.h5')"
   ]
  },
  {
   "cell_type": "code",
   "execution_count": 11,
   "metadata": {},
   "outputs": [
    {
     "name": "stdout",
     "output_type": "stream",
     "text": [
      "_________________________________________________________________\n",
      "Layer (type)                 Output Shape              Param #   \n",
      "=================================================================\n",
      "input_9 (InputLayer)         (None, 100, 100, 3)       0         \n",
      "_________________________________________________________________\n",
      "conv2d_61 (Conv2D)           (None, 100, 100, 50)      1400      \n",
      "_________________________________________________________________\n",
      "max_pooling2d_19 (MaxPooling (None, 50, 50, 50)        0         \n",
      "_________________________________________________________________\n",
      "conv2d_62 (Conv2D)           (None, 50, 50, 32)        14432     \n",
      "_________________________________________________________________\n",
      "max_pooling2d_20 (MaxPooling (None, 25, 25, 32)        0         \n",
      "_________________________________________________________________\n",
      "conv2d_63 (Conv2D)           (None, 25, 25, 16)        4624      \n",
      "_________________________________________________________________\n",
      "ENCODER (MaxPooling2D)       (None, 13, 13, 16)        0         \n",
      "=================================================================\n",
      "Total params: 20,456\n",
      "Trainable params: 20,456\n",
      "Non-trainable params: 0\n",
      "_________________________________________________________________\n"
     ]
    }
   ],
   "source": [
    "encoder.summary()"
   ]
  },
  {
   "cell_type": "markdown",
   "metadata": {},
   "source": [
    "## Visualize original image and reconstructed image"
   ]
  },
  {
   "cell_type": "code",
   "execution_count": 12,
   "metadata": {},
   "outputs": [],
   "source": [
    "X_train = norm_images.prepareImages(train_df, 0, path_images, batch_size=1000)\n",
    "X_train = norm_images.normalize(X_train)"
   ]
  },
  {
   "cell_type": "code",
   "execution_count": 13,
   "metadata": {},
   "outputs": [
    {
     "data": {
      "text/plain": [
       "(1000, 100, 100, 3)"
      ]
     },
     "execution_count": 13,
     "metadata": {},
     "output_type": "execute_result"
    }
   ],
   "source": [
    "X_train.shape"
   ]
  },
  {
   "cell_type": "code",
   "execution_count": 39,
   "metadata": {
    "scrolled": true
   },
   "outputs": [
    {
     "data": {
      "text/plain": [
       "<matplotlib.image.AxesImage at 0x16380579e10>"
      ]
     },
     "execution_count": 39,
     "metadata": {},
     "output_type": "execute_result"
    },
    {
     "data": {
      "image/png": "[encoded data removed]",
      "text/plain": [
       "<Figure size 432x288 with 1 Axes>"
      ]
     },
     "metadata": {
      "needs_background": "light"
     },
     "output_type": "display_data"
    }
   ],
   "source": [
    "query = X_train[150]  #If you want to change the selection just change the index of X_train\n",
    "plt.imshow(query)"
   ]
  },
  {
   "cell_type": "markdown",
   "metadata": {},
   "source": [
    "### Encode the test images and the query image"
   ]
  },
  {
   "cell_type": "code",
   "execution_count": 40,
   "metadata": {},
   "outputs": [
    {
     "data": {
      "text/plain": [
       "(1000, 100, 100, 3)"
      ]
     },
     "execution_count": 40,
     "metadata": {},
     "output_type": "execute_result"
    }
   ],
   "source": [
    "X_test = X_train.copy()\n",
    "X_test.shape"
   ]
  },
  {
   "cell_type": "code",
   "execution_count": 41,
   "metadata": {},
   "outputs": [
    {
     "data": {
      "text/plain": [
       "(1000, 13, 13, 16)"
      ]
     },
     "execution_count": 41,
     "metadata": {},
     "output_type": "execute_result"
    }
   ],
   "source": [
    "codes = encoder.predict(X_test)\n",
    "codes.shape"
   ]
  },
  {
   "cell_type": "code",
   "execution_count": 42,
   "metadata": {},
   "outputs": [
    {
     "data": {
      "text/plain": [
       "(1, 13, 13, 16)"
      ]
     },
     "execution_count": 42,
     "metadata": {},
     "output_type": "execute_result"
    }
   ],
   "source": [
    "query_code = encoder.predict(query.reshape(1,X_train.shape[1],X_train.shape[2],X_train.shape[3]))\n",
    "query_code.shape"
   ]
  },
  {
   "cell_type": "markdown",
   "metadata": {},
   "source": [
    "### Find the closest images"
   ]
  },
  {
   "cell_type": "code",
   "execution_count": 43,
   "metadata": {},
   "outputs": [
    {
     "name": "stdout",
     "output_type": "stream",
     "text": [
      "(1000, 2704)\n",
      "(1, 2704)\n"
     ]
    }
   ],
   "source": [
    "codes = codes.reshape(-1, 13*13*16); \n",
    "print(codes.shape)\n",
    "query_code = query_code.reshape(1, 13*13*16); \n",
    "print(query_code.shape)"
   ]
  },
  {
   "cell_type": "markdown",
   "metadata": {},
   "source": [
    "### Fit the KNN to the test set"
   ]
  },
  {
   "cell_type": "code",
   "execution_count": 44,
   "metadata": {},
   "outputs": [],
   "source": [
    "n_neigh = 5"
   ]
  },
  {
   "cell_type": "code",
   "execution_count": 45,
   "metadata": {},
   "outputs": [],
   "source": [
    "nbrs = NearestNeighbors(n_neighbors=n_neigh).fit(codes)"
   ]
  },
  {
   "cell_type": "code",
   "execution_count": 46,
   "metadata": {},
   "outputs": [],
   "source": [
    "distances, indices = nbrs.kneighbors(np.array(query_code))"
   ]
  },
  {
   "cell_type": "code",
   "execution_count": 47,
   "metadata": {},
   "outputs": [
    {
     "name": "stdout",
     "output_type": "stream",
     "text": [
      "(5, 100, 100, 3)\n"
     ]
    }
   ],
   "source": [
    "closest_images = X_test[indices]\n",
    "closest_images = closest_images.reshape(-1,100,100,3); \n",
    "print(closest_images.shape)"
   ]
  },
  {
   "cell_type": "markdown",
   "metadata": {},
   "source": [
    "## Get the closest images\n"
   ]
  },
  {
   "cell_type": "code",
   "execution_count": 48,
   "metadata": {},
   "outputs": [],
   "source": [
    "#m = np.mean(X_val)\n",
    "#sd = np.std(X_val)"
   ]
  },
  {
   "cell_type": "code",
   "execution_count": 49,
   "metadata": {},
   "outputs": [
    {
     "data": {
      "text/plain": [
       "<matplotlib.image.AxesImage at 0x163806e87f0>"
      ]
     },
     "execution_count": 49,
     "metadata": {},
     "output_type": "execute_result"
    },
    {
     "data": {
      "image/png": "[encoded data removed]",
      "text/plain": [
       "<Figure size 432x288 with 1 Axes>"
      ]
     },
     "metadata": {
      "needs_background": "light"
     },
     "output_type": "display_data"
    }
   ],
   "source": [
    "plt.imshow(query.reshape(100,100,3))"
   ]
  },
  {
   "cell_type": "code",
   "execution_count": 50,
   "metadata": {},
   "outputs": [
    {
     "data": {
      "image/png": "[encoded data removed]",
      "text/plain": [
       "<Figure size 1440x432 with 5 Axes>"
      ]
     },
     "metadata": {
      "needs_background": "light"
     },
     "output_type": "display_data"
    }
   ],
   "source": [
    "plt.figure(figsize=(20, 6))\n",
    "for i in range(n_neigh):\n",
    "    # display reconstruction\n",
    "    ax = plt.subplot(1, n_neigh, i+1)\n",
    "    plt.imshow(closest_images[i].reshape(100, 100,3))\n",
    "    #plt.gray()\n",
    "    ax.get_xaxis().set_visible(False)\n",
    "    ax.get_yaxis().set_visible(False)\n",
    "    \n",
    "plt.show()"
   ]
  },
  {
   "cell_type": "markdown",
   "metadata": {},
   "source": [
    "---"
   ]
  },
  {
   "cell_type": "code",
   "execution_count": null,
   "metadata": {},
   "outputs": [],
   "source": []
  }
 ],
 "metadata": {
  "kernelspec": {
   "display_name": "Python 3",
   "language": "python",
   "name": "python3"
  },
  "language_info": {
   "codemirror_mode": {
    "name": "ipython",
    "version": 3
   },
   "file_extension": ".py",
   "mimetype": "text/x-python",
   "name": "python",
   "nbconvert_exporter": "python",
   "pygments_lexer": "ipython3",
   "version": "3.7.3"
  }
 },
 "nbformat": 4,
 "nbformat_minor": 2
}
