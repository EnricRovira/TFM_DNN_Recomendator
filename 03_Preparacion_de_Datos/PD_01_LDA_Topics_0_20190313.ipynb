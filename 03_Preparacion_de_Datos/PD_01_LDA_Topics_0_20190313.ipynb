{
 "cells": [
  {
   "cell_type": "code",
   "execution_count": 45,
   "metadata": {},
   "outputs": [],
   "source": [
    "import pandas as pd\n",
    "import gensim\n",
    "\n",
    "pd.set_option('max_colwidth', -1)"
   ]
  },
  {
   "cell_type": "code",
   "execution_count": 46,
   "metadata": {},
   "outputs": [
    {
     "data": {
      "text/html": [
       "<div>\n",
       "<style scoped>\n",
       "    .dataframe tbody tr th:only-of-type {\n",
       "        vertical-align: middle;\n",
       "    }\n",
       "\n",
       "    .dataframe tbody tr th {\n",
       "        vertical-align: top;\n",
       "    }\n",
       "\n",
       "    .dataframe thead th {\n",
       "        text-align: right;\n",
       "    }\n",
       "</style>\n",
       "<table border=\"1\" class=\"dataframe\">\n",
       "  <thead>\n",
       "    <tr style=\"text-align: right;\">\n",
       "      <th></th>\n",
       "      <th>id</th>\n",
       "      <th>text</th>\n",
       "    </tr>\n",
       "  </thead>\n",
       "  <tbody>\n",
       "    <tr>\n",
       "      <th>0</th>\n",
       "      <td>1060651400131</td>\n",
       "      <td>woman_limited_el_corte_ingles moda mujer abrigo abrigo masculino textura mujer</td>\n",
       "    </tr>\n",
       "    <tr>\n",
       "      <th>1</th>\n",
       "      <td>1060651400180</td>\n",
       "      <td>woman_limited_el_corte_ingles moda mujer abrigo abrigo doble faz mujer cinturon tono</td>\n",
       "    </tr>\n",
       "    <tr>\n",
       "      <th>2</th>\n",
       "      <td>1051056400107</td>\n",
       "      <td>woman_el_corte_ingles moda mujer abrigo abrigo largo antelina mujer woman corte ingle</td>\n",
       "    </tr>\n",
       "    <tr>\n",
       "      <th>3</th>\n",
       "      <td>1019350401147</td>\n",
       "      <td>lloyds moda mujer abrigo chaqueta termica mujer lloyds efecto cortavientos</td>\n",
       "    </tr>\n",
       "    <tr>\n",
       "      <th>4</th>\n",
       "      <td>1019353400229</td>\n",
       "      <td>lloyds moda mujer abrigo parka 100 algodon mujer lloyds capucha</td>\n",
       "    </tr>\n",
       "  </tbody>\n",
       "</table>\n",
       "</div>"
      ],
      "text/plain": [
       "              id  \\\n",
       "0  1060651400131   \n",
       "1  1060651400180   \n",
       "2  1051056400107   \n",
       "3  1019350401147   \n",
       "4  1019353400229   \n",
       "\n",
       "                                                                                    text  \n",
       "0  woman_limited_el_corte_ingles moda mujer abrigo abrigo masculino textura mujer         \n",
       "1  woman_limited_el_corte_ingles moda mujer abrigo abrigo doble faz mujer cinturon tono   \n",
       "2  woman_el_corte_ingles moda mujer abrigo abrigo largo antelina mujer woman corte ingle  \n",
       "3  lloyds moda mujer abrigo chaqueta termica mujer lloyds efecto cortavientos             \n",
       "4  lloyds moda mujer abrigo parka 100 algodon mujer lloyds capucha                        "
      ]
     },
     "execution_count": 46,
     "metadata": {},
     "output_type": "execute_result"
    }
   ],
   "source": [
    "data = pd.read_csv('Texto_PreProcesado.csv', sep = ';')\n",
    "data.head()"
   ]
  },
  {
   "cell_type": "markdown",
   "metadata": {},
   "source": [
    "## Bag Of Words"
   ]
  },
  {
   "cell_type": "code",
   "execution_count": 47,
   "metadata": {},
   "outputs": [
    {
     "data": {
      "text/plain": [
       "[['woman_limited_el_corte_ingles',\n",
       "  'moda',\n",
       "  'mujer',\n",
       "  'abrigo',\n",
       "  'abrigo',\n",
       "  'masculino',\n",
       "  'textura',\n",
       "  'mujer'],\n",
       " ['woman_limited_el_corte_ingles',\n",
       "  'moda',\n",
       "  'mujer',\n",
       "  'abrigo',\n",
       "  'abrigo',\n",
       "  'doble',\n",
       "  'faz',\n",
       "  'mujer',\n",
       "  'cinturon',\n",
       "  'tono']]"
      ]
     },
     "execution_count": 47,
     "metadata": {},
     "output_type": "execute_result"
    }
   ],
   "source": [
    "sentences = [word.split() for word in data['text'].values]\n",
    "sentences[:2]"
   ]
  },
  {
   "cell_type": "code",
   "execution_count": 48,
   "metadata": {},
   "outputs": [],
   "source": [
    "dictionary = gensim.corpora.Dictionary(sentences)"
   ]
  },
  {
   "cell_type": "code",
   "execution_count": 49,
   "metadata": {},
   "outputs": [],
   "source": [
    "#Create the Bag-of-words model for each document i.e for each document we create a dictionary reporting how many\n",
    "#words and how many times those words appear.\n",
    "bow_corpus = [dictionary.doc2bow(doc) for doc in sentences]"
   ]
  },
  {
   "cell_type": "code",
   "execution_count": 50,
   "metadata": {},
   "outputs": [
    {
     "data": {
      "text/plain": [
       "[[(0, 2), (1, 1), (2, 1), (3, 2), (4, 1), (5, 1)],\n",
       " [(0, 2), (2, 1), (3, 2), (5, 1), (6, 1), (7, 1), (8, 1), (9, 1)],\n",
       " [(0, 2),\n",
       "  (2, 1),\n",
       "  (3, 2),\n",
       "  (10, 1),\n",
       "  (11, 1),\n",
       "  (12, 1),\n",
       "  (13, 1),\n",
       "  (14, 1),\n",
       "  (15, 1)]]"
      ]
     },
     "execution_count": 50,
     "metadata": {},
     "output_type": "execute_result"
    }
   ],
   "source": [
    "bow_corpus[:3]"
   ]
  },
  {
   "cell_type": "code",
   "execution_count": 51,
   "metadata": {},
   "outputs": [
    {
     "name": "stdout",
     "output_type": "stream",
     "text": [
      "Wall time: 4min 8s\n"
     ]
    }
   ],
   "source": [
    "%%time\n",
    "lda_model =  gensim.models.LdaMulticore(bow_corpus, \n",
    "                                   num_topics = 350, \n",
    "                                   id2word = dictionary,                                    \n",
    "                                   workers = 3)\n",
    "                                   #passes=100, iterations=1000)"
   ]
  },
  {
   "cell_type": "code",
   "execution_count": 52,
   "metadata": {},
   "outputs": [
    {
     "name": "stdout",
     "output_type": "stream",
     "text": [
      "Topic: 51 \n",
      "Words: 0.109*\"mujer\" + 0.102*\"bering\" + 0.095*\"royal\" + 0.084*\"acero\" + 0.077*\"moda\" + 0.042*\"moldeador\" + 0.036*\"reloj\" + 0.028*\"rosa\" + 0.022*\"rojas\" + 0.022*\"classic\"\n",
      "\n",
      "\n",
      "Topic: 52 \n",
      "Words: 0.261*\"200\" + 0.063*\"hombre\" + 0.044*\"moda\" + 0.038*\"mujer\" + 0.031*\"cardigan\" + 0.019*\"metalizadas\" + 0.019*\"heroe\" + 0.016*\"scent\" + 0.012*\"andrea\" + 0.011*\"azul\"\n",
      "\n",
      "\n",
      "Topic: 53 \n",
      "Words: 0.133*\"mujer\" + 0.098*\"moda\" + 0.083*\"coco\" + 0.082*\"naf_naf\" + 0.080*\"nafnaf\" + 0.033*\"vestido\" + 0.019*\"caramelo\" + 0.019*\"zapato\" + 0.013*\"negro\" + 0.011*\"abrigo\"\n",
      "\n",
      "\n",
      "Topic: 54 \n",
      "Words: 0.086*\"liga\" + 0.077*\"moda\" + 0.056*\"marfil\" + 0.053*\"pinkies\" + 0.053*\"mujer\" + 0.052*\"pinkie\" + 0.050*\"lenceria\" + 0.042*\"hombre\" + 0.021*\"calcetín\" + 0.018*\"vestido\"\n",
      "\n",
      "\n",
      "Topic: 55 \n",
      "Words: 0.108*\"mujer\" + 0.075*\"moda\" + 0.053*\"bolsillo\" + 0.050*\"roma\" + 0.042*\"cinco\" + 0.032*\"hombre\" + 0.024*\"pantalón\" + 0.023*\"kid\" + 0.023*\"pantalon\" + 0.020*\"talla\"\n",
      "\n",
      "\n",
      "Topic: 56 \n",
      "Words: 0.157*\"hombre\" + 0.103*\"automatico\" + 0.086*\"moda\" + 0.055*\"accesorio\" + 0.048*\"cartera\" + 0.026*\"piel\" + 0.022*\"negro\" + 0.019*\"tumi\" + 0.018*\"color\" + 0.018*\"police\"\n",
      "\n",
      "\n",
      "Topic: 57 \n",
      "Words: 0.285*\"eastpak\" + 0.087*\"mochila\" + 0.073*\"true\" + 0.049*\"moda\" + 0.039*\"london\" + 0.033*\"negro\" + 0.032*\"mujer\" + 0.024*\"estampado\" + 0.021*\"unisex\" + 0.021*\"desigual\"\n",
      "\n",
      "\n",
      "Topic: 58 \n",
      "Words: 0.073*\"cruzado\" + 0.067*\"desmontable\" + 0.060*\"hombre\" + 0.054*\"moda\" + 0.043*\"caballo\" + 0.033*\"accesorio\" + 0.032*\"cupula\" + 0.031*\"mujer\" + 0.029*\"abrigo\" + 0.027*\"grano\"\n",
      "\n",
      "\n",
      "Topic: 59 \n",
      "Words: 0.280*\"nina\" + 0.112*\"bebe\" + 0.107*\"infantil\" + 0.086*\"moda\" + 0.055*\"mes\" + 0.055*\"036\" + 0.030*\"jersey\" + 0.023*\"pantalón\" + 0.022*\"azul\" + 0.018*\"pantalon\"\n",
      "\n",
      "\n"
     ]
    }
   ],
   "source": [
    "for idx, topic in lda_model.print_topics(-1):\n",
    "    if (idx > 50 and idx < 60):\n",
    "        print(\"Topic: {} \\nWords: {}\".format(idx, topic ))\n",
    "        print(\"\\n\")"
   ]
  },
  {
   "cell_type": "markdown",
   "metadata": {},
   "source": [
    "Save the model"
   ]
  },
  {
   "cell_type": "code",
   "execution_count": 57,
   "metadata": {},
   "outputs": [],
   "source": [
    "from gensim.test.utils import datapath\n",
    "\n",
    "# Save model to disk. \n",
    "#temp_file = datapath(\"lda_model\")\n",
    "lda_model.save('lda_v1_350')\n",
    "\n",
    "# Load a potentially pretrained model from disk.\n",
    "#lda_model = LdaModel.load(temp_file)"
   ]
  },
  {
   "cell_type": "code",
   "execution_count": null,
   "metadata": {},
   "outputs": [],
   "source": []
  }
 ],
 "metadata": {
  "kernelspec": {
   "display_name": "Python 3",
   "language": "python",
   "name": "python3"
  },
  "language_info": {
   "codemirror_mode": {
    "name": "ipython",
    "version": 3
   },
   "file_extension": ".py",
   "mimetype": "text/x-python",
   "name": "python",
   "nbconvert_exporter": "python",
   "pygments_lexer": "ipython3",
   "version": "3.6.7"
  }
 },
 "nbformat": 4,
 "nbformat_minor": 2
}
