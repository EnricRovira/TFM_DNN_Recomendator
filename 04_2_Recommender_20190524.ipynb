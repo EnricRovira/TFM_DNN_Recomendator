{
 "cells": [
  {
   "cell_type": "code",
   "execution_count": 1,
   "metadata": {},
   "outputs": [
    {
     "name": "stderr",
     "output_type": "stream",
     "text": [
      "Using TensorFlow backend.\n"
     ]
    }
   ],
   "source": [
    "import pandas as pd\n",
    "import os, sys\n",
    "import numpy as np\n",
    "import seaborn as sns\n",
    "import gc\n",
    "import warnings \n",
    "\n",
    "from keras.models import Model, Sequential, load_model\n",
    "from keras.preprocessing.sequence import pad_sequences\n",
    "from keras.preprocessing.text import Tokenizer\n",
    "from keras.layers import Embedding\n",
    "from gensim.models import Word2Vec"
   ]
  },
  {
   "cell_type": "code",
   "execution_count": 2,
   "metadata": {},
   "outputs": [],
   "source": [
    "path = os.path.join('../../Data/')\n",
    "data = pd.read_csv('data_filtered_20190422.csv', sep = ';')\n",
    "data_processed = pd.read_csv('data_final_20190523.csv')\n",
    "data_processed['text'] = data_processed['text'].astype(str)"
   ]
  },
  {
   "cell_type": "code",
   "execution_count": 3,
   "metadata": {},
   "outputs": [
    {
     "name": "stdout",
     "output_type": "stream",
     "text": [
      "(14976, 18)\n"
     ]
    },
    {
     "data": {
      "text/html": [
       "<div>\n",
       "<style scoped>\n",
       "    .dataframe tbody tr th:only-of-type {\n",
       "        vertical-align: middle;\n",
       "    }\n",
       "\n",
       "    .dataframe tbody tr th {\n",
       "        vertical-align: top;\n",
       "    }\n",
       "\n",
       "    .dataframe thead th {\n",
       "        text-align: right;\n",
       "    }\n",
       "</style>\n",
       "<table border=\"1\" class=\"dataframe\">\n",
       "  <thead>\n",
       "    <tr style=\"text-align: right;\">\n",
       "      <th></th>\n",
       "      <th>date</th>\n",
       "      <th>item_id</th>\n",
       "      <th>brand</th>\n",
       "      <th>PRICE</th>\n",
       "      <th>customer_id</th>\n",
       "      <th>text</th>\n",
       "      <th>item_age</th>\n",
       "      <th>customer_id_int</th>\n",
       "      <th>item_id_int</th>\n",
       "      <th>brand_id</th>\n",
       "      <th>score</th>\n",
       "      <th>score_original</th>\n",
       "      <th>power_price</th>\n",
       "      <th>power_score</th>\n",
       "      <th>power_item_age</th>\n",
       "      <th>sqrt_price</th>\n",
       "      <th>sqrt_score</th>\n",
       "      <th>sqrt_item_age</th>\n",
       "    </tr>\n",
       "  </thead>\n",
       "  <tbody>\n",
       "    <tr>\n",
       "      <th>0</th>\n",
       "      <td>20190101</td>\n",
       "      <td>A26036172</td>\n",
       "      <td>tintoretto</td>\n",
       "      <td>0.003198</td>\n",
       "      <td>0</td>\n",
       "      <td>vestido mujer flor lazada</td>\n",
       "      <td>0.0</td>\n",
       "      <td>0</td>\n",
       "      <td>0</td>\n",
       "      <td>0</td>\n",
       "      <td>0.00208</td>\n",
       "      <td>4</td>\n",
       "      <td>0.000010</td>\n",
       "      <td>0.000004</td>\n",
       "      <td>0.0</td>\n",
       "      <td>0.056548</td>\n",
       "      <td>0.045612</td>\n",
       "      <td>0.0</td>\n",
       "    </tr>\n",
       "    <tr>\n",
       "      <th>1</th>\n",
       "      <td>20190101</td>\n",
       "      <td>A26870590</td>\n",
       "      <td>fórmula joven</td>\n",
       "      <td>0.002260</td>\n",
       "      <td>0</td>\n",
       "      <td>vestido laminado mujer formula joven escote pico</td>\n",
       "      <td>0.0</td>\n",
       "      <td>0</td>\n",
       "      <td>1</td>\n",
       "      <td>1</td>\n",
       "      <td>0.00208</td>\n",
       "      <td>4</td>\n",
       "      <td>0.000005</td>\n",
       "      <td>0.000004</td>\n",
       "      <td>0.0</td>\n",
       "      <td>0.047539</td>\n",
       "      <td>0.045612</td>\n",
       "      <td>0.0</td>\n",
       "    </tr>\n",
       "    <tr>\n",
       "      <th>2</th>\n",
       "      <td>20190103</td>\n",
       "      <td>MP_0659870_3014</td>\n",
       "      <td>gabrielle</td>\n",
       "      <td>0.008837</td>\n",
       "      <td>1</td>\n",
       "      <td>abrigo mujer negro avalorios</td>\n",
       "      <td>0.0</td>\n",
       "      <td>1</td>\n",
       "      <td>2</td>\n",
       "      <td>2</td>\n",
       "      <td>0.00000</td>\n",
       "      <td>1</td>\n",
       "      <td>0.000078</td>\n",
       "      <td>0.000000</td>\n",
       "      <td>0.0</td>\n",
       "      <td>0.094005</td>\n",
       "      <td>0.000000</td>\n",
       "      <td>0.0</td>\n",
       "    </tr>\n",
       "  </tbody>\n",
       "</table>\n",
       "</div>"
      ],
      "text/plain": [
       "       date          item_id          brand     PRICE  customer_id  \\\n",
       "0  20190101        A26036172     tintoretto  0.003198            0   \n",
       "1  20190101        A26870590  fórmula joven  0.002260            0   \n",
       "2  20190103  MP_0659870_3014      gabrielle  0.008837            1   \n",
       "\n",
       "                                               text  item_age  \\\n",
       "0                         vestido mujer flor lazada       0.0   \n",
       "1  vestido laminado mujer formula joven escote pico       0.0   \n",
       "2                      abrigo mujer negro avalorios       0.0   \n",
       "\n",
       "   customer_id_int  item_id_int  brand_id    score  score_original  \\\n",
       "0                0            0         0  0.00208               4   \n",
       "1                0            1         1  0.00208               4   \n",
       "2                1            2         2  0.00000               1   \n",
       "\n",
       "   power_price  power_score  power_item_age  sqrt_price  sqrt_score  \\\n",
       "0     0.000010     0.000004             0.0    0.056548    0.045612   \n",
       "1     0.000005     0.000004             0.0    0.047539    0.045612   \n",
       "2     0.000078     0.000000             0.0    0.094005    0.000000   \n",
       "\n",
       "   sqrt_item_age  \n",
       "0            0.0  \n",
       "1            0.0  \n",
       "2            0.0  "
      ]
     },
     "execution_count": 3,
     "metadata": {},
     "output_type": "execute_result"
    }
   ],
   "source": [
    "print(data_processed.shape)\n",
    "data_processed.head(3)"
   ]
  },
  {
   "cell_type": "code",
   "execution_count": 4,
   "metadata": {},
   "outputs": [
    {
     "data": {
      "text/html": [
       "<div>\n",
       "<style scoped>\n",
       "    .dataframe tbody tr th:only-of-type {\n",
       "        vertical-align: middle;\n",
       "    }\n",
       "\n",
       "    .dataframe tbody tr th {\n",
       "        vertical-align: top;\n",
       "    }\n",
       "\n",
       "    .dataframe thead th {\n",
       "        text-align: right;\n",
       "    }\n",
       "</style>\n",
       "<table border=\"1\" class=\"dataframe\">\n",
       "  <thead>\n",
       "    <tr style=\"text-align: right;\">\n",
       "      <th></th>\n",
       "      <th>idx</th>\n",
       "      <th>customer_id_int</th>\n",
       "    </tr>\n",
       "  </thead>\n",
       "  <tbody>\n",
       "    <tr>\n",
       "      <th>0</th>\n",
       "      <td>0</td>\n",
       "      <td>0</td>\n",
       "    </tr>\n",
       "    <tr>\n",
       "      <th>1</th>\n",
       "      <td>1</td>\n",
       "      <td>0</td>\n",
       "    </tr>\n",
       "    <tr>\n",
       "      <th>2</th>\n",
       "      <td>2</td>\n",
       "      <td>1</td>\n",
       "    </tr>\n",
       "    <tr>\n",
       "      <th>3</th>\n",
       "      <td>3</td>\n",
       "      <td>1</td>\n",
       "    </tr>\n",
       "    <tr>\n",
       "      <th>4</th>\n",
       "      <td>4</td>\n",
       "      <td>1</td>\n",
       "    </tr>\n",
       "  </tbody>\n",
       "</table>\n",
       "</div>"
      ],
      "text/plain": [
       "   idx  customer_id_int\n",
       "0    0                0\n",
       "1    1                0\n",
       "2    2                1\n",
       "3    3                1\n",
       "4    4                1"
      ]
     },
     "execution_count": 4,
     "metadata": {},
     "output_type": "execute_result"
    }
   ],
   "source": [
    "idx_customers_map = {i:val for i,val in enumerate(data_processed['customer_id_int'])}\n",
    "idx_customers_df = pd.DataFrame({'idx': data_processed.index.values, 'customer_id_int': data_processed.customer_id_int})\n",
    "idx_customers_df.head()"
   ]
  },
  {
   "cell_type": "code",
   "execution_count": 5,
   "metadata": {},
   "outputs": [],
   "source": [
    "items_unique = data_processed.item_id.unique() #20781\n",
    "customers_unique = data_processed.customer_id_int.unique()\n",
    "items_map = {i:val for i,val in enumerate(items_unique)}\n",
    "items_map_inv = {val:i for i,val in enumerate(items_unique)}\n",
    "items_map_text = data_processed.set_index('item_id_int').text.to_dict()\n",
    "\n",
    "items_map_brand = data_processed.set_index('item_id_int').brand_id.to_dict()\n",
    "items_map_price = data_processed.set_index('item_id_int').PRICE.to_dict()\n",
    "items_map_power_price = data_processed.set_index('item_id_int').power_price.to_dict()\n",
    "items_map_sqrt_price = data_processed.set_index('item_id_int').sqrt_price.to_dict()\n",
    "\n",
    "items_map_item_age = data_processed.set_index('item_id_int').item_age.to_dict()\n",
    "items_map_power_item_age = data_processed.set_index('item_id_int').power_item_age.to_dict()\n",
    "items_map_sqrt_item_age = data_processed.set_index('item_id_int').sqrt_item_age.to_dict()\n",
    "\n",
    "customers_unique = data_processed.customer_id.unique()\n",
    "items_unique = data_processed.item_id.unique()\n",
    "brand_unique = data_processed.brand.unique()"
   ]
  },
  {
   "cell_type": "code",
   "execution_count": 6,
   "metadata": {},
   "outputs": [
    {
     "name": "stdout",
     "output_type": "stream",
     "text": [
      "Found 6568 unique tokens.\n"
     ]
    }
   ],
   "source": [
    "MAX_NB_WORDS = 30_000 #decided by cumsum wordcount plot (Script 01)\n",
    "MAX_SEQUENCE_LENGTH = 24 #decided by max words in a product (Script 00)\n",
    "EMBEDDING_DIM = 100 #Same dim as our W2V embedding\n",
    "\n",
    "all_text = data_processed['text']\n",
    "all_text = all_text.drop_duplicates (keep = False)\n",
    "\n",
    "tokenizer = Tokenizer(num_words=MAX_NB_WORDS, )\n",
    "tokenizer.fit_on_texts(all_text)\n",
    "\n",
    "data_sequences = tokenizer.texts_to_sequences(data_processed['text'])\n",
    "data_vec = pad_sequences(data_sequences, maxlen=MAX_SEQUENCE_LENGTH)\n",
    "\n",
    "word_index = tokenizer.word_index\n",
    "print('Found %s unique tokens.' % len(word_index))"
   ]
  },
  {
   "cell_type": "code",
   "execution_count": 7,
   "metadata": {},
   "outputs": [],
   "source": [
    "items_map_text_vec = data_processed.set_index('item_id_int').text.to_dict()\n",
    "data_sequences_vec = tokenizer.texts_to_sequences(items_map_text_vec.values())\n",
    "data_seq_vec = pad_sequences(data_sequences_vec, maxlen=MAX_SEQUENCE_LENGTH)"
   ]
  },
  {
   "cell_type": "markdown",
   "metadata": {},
   "source": [
    "#### We need to create a dictionary to map the items_id to theis corresponding text vector"
   ]
  },
  {
   "cell_type": "code",
   "execution_count": 8,
   "metadata": {},
   "outputs": [],
   "source": [
    "for i in items_map_text_vec.keys():\n",
    "    items_map_text_vec[i] = data_seq_vec[i]"
   ]
  },
  {
   "cell_type": "markdown",
   "metadata": {},
   "source": [
    "## Models"
   ]
  },
  {
   "cell_type": "code",
   "execution_count": 44,
   "metadata": {},
   "outputs": [],
   "source": [
    "model_candidates = load_model('candidate_generation_20190523')\n",
    "model_rank = load_model('rank_model_20190523')"
   ]
  },
  {
   "cell_type": "code",
   "execution_count": 10,
   "metadata": {},
   "outputs": [],
   "source": [
    "input_length = len(model_rank.input_shape)"
   ]
  },
  {
   "cell_type": "markdown",
   "metadata": {},
   "source": [
    "### Generate Candidates "
   ]
  },
  {
   "cell_type": "code",
   "execution_count": 11,
   "metadata": {},
   "outputs": [
    {
     "name": "stdout",
     "output_type": "stream",
     "text": [
      "14976/14976 [==============================] - 3s 225us/step\n"
     ]
    }
   ],
   "source": [
    "test_pred = model_candidates.predict([data_processed['customer_id_int'], data_processed['item_id_int'], \n",
    "                             data_processed['brand_id'], data_processed['PRICE'],\n",
    "                             data_vec, data_processed['item_age'], data_processed['score'],\n",
    "                             data_processed['power_price'], data_processed['power_score'], data_processed['power_item_age'],\n",
    "                             data_processed['sqrt_price'], data_processed['sqrt_score'], data_processed['sqrt_item_age']],\n",
    "                             verbose = 1)"
   ]
  },
  {
   "cell_type": "markdown",
   "metadata": {},
   "source": [
    "### Prepare Data for Rank Model"
   ]
  },
  {
   "cell_type": "markdown",
   "metadata": {},
   "source": [
    "Now we need to feed our rank model predictions with our candidates generated with the candidate generator. We need to prepare the data so the rank model can make predictions with it."
   ]
  },
  {
   "cell_type": "code",
   "execution_count": 12,
   "metadata": {},
   "outputs": [],
   "source": [
    "#1min\n",
    "ITEMS_RANKED = 20\n",
    "candidates = np.zeros((data_processed.shape[0], ITEMS_RANKED))\n",
    "\n",
    "for i, preds in enumerate(test_pred):\n",
    "    candidates[i] = preds.argsort()[-ITEMS_RANKED:][::-1]\n",
    "candidates = candidates.astype(int) "
   ]
  },
  {
   "cell_type": "code",
   "execution_count": 13,
   "metadata": {},
   "outputs": [
    {
     "data": {
      "text/plain": [
       "109"
      ]
     },
     "execution_count": 13,
     "metadata": {},
     "output_type": "execute_result"
    }
   ],
   "source": [
    "gc.enable()\n",
    "del (test_pred, data, model_candidates)\n",
    "gc.collect()"
   ]
  },
  {
   "cell_type": "code",
   "execution_count": 14,
   "metadata": {},
   "outputs": [
    {
     "name": "stdout",
     "output_type": "stream",
     "text": [
      "(14976, 18)\n",
      "(14976, 20)\n"
     ]
    }
   ],
   "source": [
    "print(data_processed.shape)\n",
    "print(candidates.shape)"
   ]
  },
  {
   "cell_type": "code",
   "execution_count": 15,
   "metadata": {
    "scrolled": true
   },
   "outputs": [
    {
     "name": "stdout",
     "output_type": "stream",
     "text": [
      "Wall time: 5.87 s\n"
     ]
    }
   ],
   "source": [
    "%%time\n",
    "X = np.zeros((input_length, data_processed.shape[0]*ITEMS_RANKED), dtype = object)\n",
    "X_vec = np.zeros((data_processed.shape[0]*ITEMS_RANKED, MAX_SEQUENCE_LENGTH), dtype = object)\n",
    "for row in range(candidates.shape[0]):\n",
    "    for i, item in enumerate(candidates[row]):\n",
    "        X[0, row+i] = data_processed['customer_id_int'][row] #Customer_Id\n",
    "        X[1, row+i] = item #Item_Id\n",
    "        X[2, row+i] = items_map_brand[item] #Brand_Id\n",
    "        X[3, row+i] = items_map_price[item] #Price\n",
    "        X[4, row+i] = -999 #items_map_text_vec[item] #Text_Vec\n",
    "        X[5, row+i] = items_map_item_age[item] #item_age\n",
    "        X[6, row+i] = items_map_power_price[item] #Power_Price\n",
    "        X[7, row+i] = items_map_power_item_age[item] #Power item age\n",
    "        X[8, row+i] = items_map_sqrt_price[item]\n",
    "        X[9, row+i] = items_map_sqrt_item_age[item]\n",
    "        X_vec[row+i] = items_map_text_vec[item] #items_map_text_vec[item] #Text_Vec"
   ]
  },
  {
   "cell_type": "markdown",
   "metadata": {},
   "source": [
    "- ITEMS_RANKED = 10: 5min\n",
    "- ITEMS_RANKED = 100: 20min"
   ]
  },
  {
   "cell_type": "markdown",
   "metadata": {},
   "source": [
    "### Rank Predictions"
   ]
  },
  {
   "cell_type": "code",
   "execution_count": 45,
   "metadata": {
    "scrolled": true
   },
   "outputs": [
    {
     "name": "stdout",
     "output_type": "stream",
     "text": [
      "299520/299520 [==============================] - 170s 567us/step\n"
     ]
    }
   ],
   "source": [
    "preds = model_rank.predict([X[0], X[1],  X[2],\n",
    "                            X[3], X_vec, X[5],\n",
    "                            X[6], X[7], X[8], X[9]], verbose = 1)"
   ]
  },
  {
   "cell_type": "code",
   "execution_count": 46,
   "metadata": {},
   "outputs": [],
   "source": [
    "ranked_preds = preds.reshape(data_processed.shape[0], ITEMS_RANKED)"
   ]
  },
  {
   "cell_type": "markdown",
   "metadata": {},
   "source": [
    "**Ranked preds** is the DataFrame when we have as rows the observations and in columns the ITEMS_RANKED candidates for each observation. Note that a customer can appear in several observations"
   ]
  },
  {
   "cell_type": "markdown",
   "metadata": {},
   "source": [
    "### Pivot table to index Customers"
   ]
  },
  {
   "cell_type": "code",
   "execution_count": 47,
   "metadata": {},
   "outputs": [
    {
     "name": "stdout",
     "output_type": "stream",
     "text": [
      "(14976, 19)\n",
      "(14976, 20)\n",
      "(14976, 20)\n"
     ]
    }
   ],
   "source": [
    "print(data_processed.shape) #Dataframe de observaciones\n",
    "print(candidates.shape) #Dataframe en el que tengo 10 candidatos por cada observacion\n",
    "print(ranked_preds.shape) #Dataframe en el que tengo los 10 candidatos rankeados(prediccion cuanto mas alta mejor)\n",
    "\n",
    "#¿Objetivo? Tener una tabla/matriz a nivel de cliente con todos los candidatos rankeados, MAX 100"
   ]
  },
  {
   "cell_type": "code",
   "execution_count": 48,
   "metadata": {
    "scrolled": true
   },
   "outputs": [
    {
     "name": "stdout",
     "output_type": "stream",
     "text": [
      "(377, 11735)\n"
     ]
    },
    {
     "data": {
      "text/html": [
       "<div>\n",
       "<style scoped>\n",
       "    .dataframe tbody tr th:only-of-type {\n",
       "        vertical-align: middle;\n",
       "    }\n",
       "\n",
       "    .dataframe tbody tr th {\n",
       "        vertical-align: top;\n",
       "    }\n",
       "\n",
       "    .dataframe thead th {\n",
       "        text-align: right;\n",
       "    }\n",
       "</style>\n",
       "<table border=\"1\" class=\"dataframe\">\n",
       "  <thead>\n",
       "    <tr style=\"text-align: right;\">\n",
       "      <th></th>\n",
       "      <th>0</th>\n",
       "      <th>1</th>\n",
       "      <th>2</th>\n",
       "      <th>3</th>\n",
       "      <th>4</th>\n",
       "      <th>5</th>\n",
       "      <th>6</th>\n",
       "      <th>7</th>\n",
       "      <th>8</th>\n",
       "      <th>9</th>\n",
       "      <th>...</th>\n",
       "      <th>11725</th>\n",
       "      <th>11726</th>\n",
       "      <th>11727</th>\n",
       "      <th>11728</th>\n",
       "      <th>11729</th>\n",
       "      <th>11730</th>\n",
       "      <th>11731</th>\n",
       "      <th>11732</th>\n",
       "      <th>11733</th>\n",
       "      <th>11734</th>\n",
       "    </tr>\n",
       "  </thead>\n",
       "  <tbody>\n",
       "    <tr>\n",
       "      <th>0</th>\n",
       "      <td>0.0</td>\n",
       "      <td>0.0</td>\n",
       "      <td>0.0</td>\n",
       "      <td>0.0</td>\n",
       "      <td>0.0</td>\n",
       "      <td>0.0</td>\n",
       "      <td>0.0</td>\n",
       "      <td>0.0</td>\n",
       "      <td>0.0</td>\n",
       "      <td>0.0</td>\n",
       "      <td>...</td>\n",
       "      <td>0.0</td>\n",
       "      <td>0.0</td>\n",
       "      <td>0.0</td>\n",
       "      <td>0.0</td>\n",
       "      <td>0.0</td>\n",
       "      <td>0.0</td>\n",
       "      <td>0.0</td>\n",
       "      <td>0.0</td>\n",
       "      <td>0.0</td>\n",
       "      <td>0.0</td>\n",
       "    </tr>\n",
       "    <tr>\n",
       "      <th>1</th>\n",
       "      <td>0.0</td>\n",
       "      <td>0.0</td>\n",
       "      <td>0.0</td>\n",
       "      <td>0.0</td>\n",
       "      <td>0.0</td>\n",
       "      <td>0.0</td>\n",
       "      <td>0.0</td>\n",
       "      <td>0.0</td>\n",
       "      <td>0.0</td>\n",
       "      <td>0.0</td>\n",
       "      <td>...</td>\n",
       "      <td>0.0</td>\n",
       "      <td>0.0</td>\n",
       "      <td>0.0</td>\n",
       "      <td>0.0</td>\n",
       "      <td>0.0</td>\n",
       "      <td>0.0</td>\n",
       "      <td>0.0</td>\n",
       "      <td>0.0</td>\n",
       "      <td>0.0</td>\n",
       "      <td>0.0</td>\n",
       "    </tr>\n",
       "    <tr>\n",
       "      <th>2</th>\n",
       "      <td>0.0</td>\n",
       "      <td>0.0</td>\n",
       "      <td>0.0</td>\n",
       "      <td>0.0</td>\n",
       "      <td>0.0</td>\n",
       "      <td>0.0</td>\n",
       "      <td>0.0</td>\n",
       "      <td>0.0</td>\n",
       "      <td>0.0</td>\n",
       "      <td>0.0</td>\n",
       "      <td>...</td>\n",
       "      <td>0.0</td>\n",
       "      <td>0.0</td>\n",
       "      <td>0.0</td>\n",
       "      <td>0.0</td>\n",
       "      <td>0.0</td>\n",
       "      <td>0.0</td>\n",
       "      <td>0.0</td>\n",
       "      <td>0.0</td>\n",
       "      <td>0.0</td>\n",
       "      <td>0.0</td>\n",
       "    </tr>\n",
       "    <tr>\n",
       "      <th>3</th>\n",
       "      <td>0.0</td>\n",
       "      <td>0.0</td>\n",
       "      <td>0.0</td>\n",
       "      <td>0.0</td>\n",
       "      <td>0.0</td>\n",
       "      <td>0.0</td>\n",
       "      <td>0.0</td>\n",
       "      <td>0.0</td>\n",
       "      <td>0.0</td>\n",
       "      <td>0.0</td>\n",
       "      <td>...</td>\n",
       "      <td>0.0</td>\n",
       "      <td>0.0</td>\n",
       "      <td>0.0</td>\n",
       "      <td>0.0</td>\n",
       "      <td>0.0</td>\n",
       "      <td>0.0</td>\n",
       "      <td>0.0</td>\n",
       "      <td>0.0</td>\n",
       "      <td>0.0</td>\n",
       "      <td>0.0</td>\n",
       "    </tr>\n",
       "    <tr>\n",
       "      <th>4</th>\n",
       "      <td>0.0</td>\n",
       "      <td>0.0</td>\n",
       "      <td>0.0</td>\n",
       "      <td>0.0</td>\n",
       "      <td>0.0</td>\n",
       "      <td>0.0</td>\n",
       "      <td>0.0</td>\n",
       "      <td>0.0</td>\n",
       "      <td>0.0</td>\n",
       "      <td>0.0</td>\n",
       "      <td>...</td>\n",
       "      <td>0.0</td>\n",
       "      <td>0.0</td>\n",
       "      <td>0.0</td>\n",
       "      <td>0.0</td>\n",
       "      <td>0.0</td>\n",
       "      <td>0.0</td>\n",
       "      <td>0.0</td>\n",
       "      <td>0.0</td>\n",
       "      <td>0.0</td>\n",
       "      <td>0.0</td>\n",
       "    </tr>\n",
       "  </tbody>\n",
       "</table>\n",
       "<p>5 rows × 11735 columns</p>\n",
       "</div>"
      ],
      "text/plain": [
       "   0      1      2      3      4      5      6      7      8      9      ...  \\\n",
       "0    0.0    0.0    0.0    0.0    0.0    0.0    0.0    0.0    0.0    0.0  ...   \n",
       "1    0.0    0.0    0.0    0.0    0.0    0.0    0.0    0.0    0.0    0.0  ...   \n",
       "2    0.0    0.0    0.0    0.0    0.0    0.0    0.0    0.0    0.0    0.0  ...   \n",
       "3    0.0    0.0    0.0    0.0    0.0    0.0    0.0    0.0    0.0    0.0  ...   \n",
       "4    0.0    0.0    0.0    0.0    0.0    0.0    0.0    0.0    0.0    0.0  ...   \n",
       "\n",
       "   11725  11726  11727  11728  11729  11730  11731  11732  11733  11734  \n",
       "0    0.0    0.0    0.0    0.0    0.0    0.0    0.0    0.0    0.0    0.0  \n",
       "1    0.0    0.0    0.0    0.0    0.0    0.0    0.0    0.0    0.0    0.0  \n",
       "2    0.0    0.0    0.0    0.0    0.0    0.0    0.0    0.0    0.0    0.0  \n",
       "3    0.0    0.0    0.0    0.0    0.0    0.0    0.0    0.0    0.0    0.0  \n",
       "4    0.0    0.0    0.0    0.0    0.0    0.0    0.0    0.0    0.0    0.0  \n",
       "\n",
       "[5 rows x 11735 columns]"
      ]
     },
     "execution_count": 48,
     "metadata": {},
     "output_type": "execute_result"
    }
   ],
   "source": [
    "#data_processed['aux'] = np.random.randint(0, MAX_ITEMS, data_processed.shape[0])\n",
    "data_processed['zero'] = 0\n",
    "table = pd.pivot_table(data_processed, values = ['zero'] , index = ['customer_id_int'],\n",
    "                       columns = ['item_id_int'], fill_value=0)\n",
    "\n",
    "print(table.shape)\n",
    "#columnas = table.columns\n",
    "table.columns = [col[1] for col in table.columns]\n",
    "del table.index.name\n",
    "table = table.astype(float)\n",
    "table.head()"
   ]
  },
  {
   "cell_type": "markdown",
   "metadata": {},
   "source": [
    "### Fill table with ranked predictions"
   ]
  },
  {
   "cell_type": "markdown",
   "metadata": {},
   "source": [
    "Now we need to fill the table we just created with the ranked predictions of our candidates, if an item is not a candidate will take the default value that is 0"
   ]
  },
  {
   "cell_type": "code",
   "execution_count": 49,
   "metadata": {},
   "outputs": [
    {
     "name": "stdout",
     "output_type": "stream",
     "text": [
      "Wall time: 40.9 s\n"
     ]
    }
   ],
   "source": [
    "%%time\n",
    "for obs in range(ranked_preds.shape[0]):\n",
    "    for i, cand in enumerate(candidates[obs]):\n",
    "        table.loc[idx_customers_map[obs]][cand] = ranked_preds[obs][i]"
   ]
  },
  {
   "cell_type": "code",
   "execution_count": 54,
   "metadata": {},
   "outputs": [
    {
     "data": {
      "text/html": [
       "<div>\n",
       "<style scoped>\n",
       "    .dataframe tbody tr th:only-of-type {\n",
       "        vertical-align: middle;\n",
       "    }\n",
       "\n",
       "    .dataframe tbody tr th {\n",
       "        vertical-align: top;\n",
       "    }\n",
       "\n",
       "    .dataframe thead th {\n",
       "        text-align: right;\n",
       "    }\n",
       "</style>\n",
       "<table border=\"1\" class=\"dataframe\">\n",
       "  <thead>\n",
       "    <tr style=\"text-align: right;\">\n",
       "      <th></th>\n",
       "      <th>0</th>\n",
       "      <th>1</th>\n",
       "      <th>2</th>\n",
       "      <th>3</th>\n",
       "      <th>4</th>\n",
       "      <th>5</th>\n",
       "      <th>6</th>\n",
       "      <th>7</th>\n",
       "      <th>8</th>\n",
       "      <th>9</th>\n",
       "      <th>...</th>\n",
       "      <th>11725</th>\n",
       "      <th>11726</th>\n",
       "      <th>11727</th>\n",
       "      <th>11728</th>\n",
       "      <th>11729</th>\n",
       "      <th>11730</th>\n",
       "      <th>11731</th>\n",
       "      <th>11732</th>\n",
       "      <th>11733</th>\n",
       "      <th>11734</th>\n",
       "    </tr>\n",
       "  </thead>\n",
       "  <tbody>\n",
       "    <tr>\n",
       "      <th>0</th>\n",
       "      <td>0.001197</td>\n",
       "      <td>0.001197</td>\n",
       "      <td>0.0</td>\n",
       "      <td>0.000000</td>\n",
       "      <td>0.000000</td>\n",
       "      <td>0.000000</td>\n",
       "      <td>0.000000</td>\n",
       "      <td>0.000000</td>\n",
       "      <td>0.000000</td>\n",
       "      <td>0.000000</td>\n",
       "      <td>...</td>\n",
       "      <td>0.0</td>\n",
       "      <td>0.0</td>\n",
       "      <td>0.0</td>\n",
       "      <td>0.0</td>\n",
       "      <td>0.0</td>\n",
       "      <td>0.0</td>\n",
       "      <td>0.0</td>\n",
       "      <td>0.0</td>\n",
       "      <td>0.0</td>\n",
       "      <td>0.0</td>\n",
       "    </tr>\n",
       "    <tr>\n",
       "      <th>1</th>\n",
       "      <td>0.000356</td>\n",
       "      <td>0.000000</td>\n",
       "      <td>0.0</td>\n",
       "      <td>0.001197</td>\n",
       "      <td>0.001197</td>\n",
       "      <td>0.000000</td>\n",
       "      <td>0.000000</td>\n",
       "      <td>0.000000</td>\n",
       "      <td>0.000000</td>\n",
       "      <td>0.000000</td>\n",
       "      <td>...</td>\n",
       "      <td>0.0</td>\n",
       "      <td>0.0</td>\n",
       "      <td>0.0</td>\n",
       "      <td>0.0</td>\n",
       "      <td>0.0</td>\n",
       "      <td>0.0</td>\n",
       "      <td>0.0</td>\n",
       "      <td>0.0</td>\n",
       "      <td>0.0</td>\n",
       "      <td>0.0</td>\n",
       "    </tr>\n",
       "    <tr>\n",
       "      <th>2</th>\n",
       "      <td>0.000000</td>\n",
       "      <td>0.000000</td>\n",
       "      <td>0.0</td>\n",
       "      <td>0.000000</td>\n",
       "      <td>0.000000</td>\n",
       "      <td>0.000260</td>\n",
       "      <td>0.000000</td>\n",
       "      <td>0.000000</td>\n",
       "      <td>0.001197</td>\n",
       "      <td>0.001197</td>\n",
       "      <td>...</td>\n",
       "      <td>0.0</td>\n",
       "      <td>0.0</td>\n",
       "      <td>0.0</td>\n",
       "      <td>0.0</td>\n",
       "      <td>0.0</td>\n",
       "      <td>0.0</td>\n",
       "      <td>0.0</td>\n",
       "      <td>0.0</td>\n",
       "      <td>0.0</td>\n",
       "      <td>0.0</td>\n",
       "    </tr>\n",
       "    <tr>\n",
       "      <th>3</th>\n",
       "      <td>0.001197</td>\n",
       "      <td>0.000000</td>\n",
       "      <td>0.0</td>\n",
       "      <td>0.000000</td>\n",
       "      <td>0.000000</td>\n",
       "      <td>0.000371</td>\n",
       "      <td>0.001197</td>\n",
       "      <td>0.001197</td>\n",
       "      <td>0.000245</td>\n",
       "      <td>0.001197</td>\n",
       "      <td>...</td>\n",
       "      <td>0.0</td>\n",
       "      <td>0.0</td>\n",
       "      <td>0.0</td>\n",
       "      <td>0.0</td>\n",
       "      <td>0.0</td>\n",
       "      <td>0.0</td>\n",
       "      <td>0.0</td>\n",
       "      <td>0.0</td>\n",
       "      <td>0.0</td>\n",
       "      <td>0.0</td>\n",
       "    </tr>\n",
       "    <tr>\n",
       "      <th>4</th>\n",
       "      <td>0.000000</td>\n",
       "      <td>0.000000</td>\n",
       "      <td>0.0</td>\n",
       "      <td>0.001197</td>\n",
       "      <td>0.001197</td>\n",
       "      <td>0.000000</td>\n",
       "      <td>0.000000</td>\n",
       "      <td>0.000000</td>\n",
       "      <td>0.000000</td>\n",
       "      <td>0.000000</td>\n",
       "      <td>...</td>\n",
       "      <td>0.0</td>\n",
       "      <td>0.0</td>\n",
       "      <td>0.0</td>\n",
       "      <td>0.0</td>\n",
       "      <td>0.0</td>\n",
       "      <td>0.0</td>\n",
       "      <td>0.0</td>\n",
       "      <td>0.0</td>\n",
       "      <td>0.0</td>\n",
       "      <td>0.0</td>\n",
       "    </tr>\n",
       "  </tbody>\n",
       "</table>\n",
       "<p>5 rows × 11735 columns</p>\n",
       "</div>"
      ],
      "text/plain": [
       "      0         1      2         3         4         5         6      \\\n",
       "0  0.001197  0.001197    0.0  0.000000  0.000000  0.000000  0.000000   \n",
       "1  0.000356  0.000000    0.0  0.001197  0.001197  0.000000  0.000000   \n",
       "2  0.000000  0.000000    0.0  0.000000  0.000000  0.000260  0.000000   \n",
       "3  0.001197  0.000000    0.0  0.000000  0.000000  0.000371  0.001197   \n",
       "4  0.000000  0.000000    0.0  0.001197  0.001197  0.000000  0.000000   \n",
       "\n",
       "      7         8         9      ...  11725  11726  11727  11728  11729  \\\n",
       "0  0.000000  0.000000  0.000000  ...    0.0    0.0    0.0    0.0    0.0   \n",
       "1  0.000000  0.000000  0.000000  ...    0.0    0.0    0.0    0.0    0.0   \n",
       "2  0.000000  0.001197  0.001197  ...    0.0    0.0    0.0    0.0    0.0   \n",
       "3  0.001197  0.000245  0.001197  ...    0.0    0.0    0.0    0.0    0.0   \n",
       "4  0.000000  0.000000  0.000000  ...    0.0    0.0    0.0    0.0    0.0   \n",
       "\n",
       "   11730  11731  11732  11733  11734  \n",
       "0    0.0    0.0    0.0    0.0    0.0  \n",
       "1    0.0    0.0    0.0    0.0    0.0  \n",
       "2    0.0    0.0    0.0    0.0    0.0  \n",
       "3    0.0    0.0    0.0    0.0    0.0  \n",
       "4    0.0    0.0    0.0    0.0    0.0  \n",
       "\n",
       "[5 rows x 11735 columns]"
      ]
     },
     "execution_count": 54,
     "metadata": {},
     "output_type": "execute_result"
    }
   ],
   "source": [
    "table.head()"
   ]
  },
  {
   "cell_type": "markdown",
   "metadata": {},
   "source": [
    "---"
   ]
  },
  {
   "cell_type": "code",
   "execution_count": 55,
   "metadata": {},
   "outputs": [],
   "source": [
    "#for cust in range(table.shape[0]):\n",
    "#    cust_candidates_idx = idx_customers_df['idx'][idx_customers_df['customer_id_int'] == cust].values\n",
    "#    list_cust_candidates_items = []\n",
    "#    for elem in cust_candidates_idx:\n",
    "#        list_cust_candidates_items.append(candidates[elem])\n",
    "#    list_cust_candidates_items = np.unique(np.concatenate(lista, axis = 0)) #array that gets the item_id candidates generated for all the interactions of the customer\n",
    "    "
   ]
  },
  {
   "cell_type": "markdown",
   "metadata": {},
   "source": [
    "## Recommend"
   ]
  },
  {
   "cell_type": "code",
   "execution_count": 60,
   "metadata": {},
   "outputs": [],
   "source": [
    "#Arreglar que matchee los clientes, esta matcheando indices cuando digo data_pred[cliente]\n",
    "def get_afines(data_pred, customer, items_unique, N = 5):\n",
    "    try:\n",
    "        print(f'==> Top {N} Recommended items to Customer {customer}: ')\n",
    "        print(f'\\nThe customer {customer} has bought this items: ')\n",
    "        print('\\n' + '=='*30 + '\\n')\n",
    "        interacted_items = data_processed[['text', 'score_original']][data_processed['customer_id_int'] == customer].groupby('text')\\\n",
    "                            .sum().reset_index().sort_values(['score_original'], ascending = False)\n",
    "        print('\\n'.join([str(i+1) + str(' - ') + str(x) for i, x in enumerate(interacted_items['text'].values[0:30])]))\n",
    "        top = data_pred[customer].values.argsort()[-N:][::-1] #items positions\n",
    "        print('\\n====================== IDs DE PRODUCTOS RECOMENDADOS ==============')\n",
    "        print([items_map[item] for item in top])\n",
    "        print (\"\\n===================== PRODUCTOS RECOMENDADOS =====================\")\n",
    "        print('\\n'.join([str(i+1) + str(' - ') + str(items_map_text[x]) for i, x in enumerate(top)]))\n",
    "        print (\"==================================================================\")\n",
    "    except:\n",
    "        print(f'The customer {customer} does not exist')"
   ]
  },
  {
   "cell_type": "code",
   "execution_count": 69,
   "metadata": {
    "scrolled": false
   },
   "outputs": [
    {
     "name": "stdout",
     "output_type": "stream",
     "text": [
      "==> Top 10 Recommended items to Customer 204: \n",
      "\n",
      "The customer 204 has bought this items: \n",
      "\n",
      "============================================================\n",
      "\n",
      "1 - sofa tapizado plaza rodano corte_ingles\n",
      "2 - sofa cama tapizado plaza rodano corte_ingles\n",
      "3 - pantalon deportivo nina azul\n",
      "4 - sofa tapizado plaza asiento relax electrico rodano corte_ingles\n",
      "5 - sofa cama tapizado plaza xl rodano corte_ingles\n",
      "6 - butaca tapizada moma corte_ingles\n",
      "7 - sandalia plana mujer piel marron\n",
      "8 - sandalia plana mujer piel negro\n",
      "9 - sandalia plana mujer piel vacuna color_azul\n",
      "10 - pantalon deportivo nina junior coral\n",
      "11 - parka acolchada nino azul indigo\n",
      "12 - parka acolchada nino pepe jeans negro\n",
      "13 - plancha vapor gc suela steamglide\n",
      "14 - plancha vapor gc454330 suela steamglide plus\n",
      "15 - sandalia plana mujer piel amarillo\n",
      "16 - sofa tapizado plaza chaise longue derecha azul selfoss room corte_ingles\n",
      "17 - sofa tapizado plaza chaise longue derecha antracita selfoss room corte_ingles\n",
      "18 - sofa tapizado plaza chaise longue derecha gris selfoss room corte_ingles\n",
      "19 - sofa tapizado plaza chaise longue izquierda azul claro selfoss room corte_ingles\n",
      "20 - sofa tapizado plaza chaise longue izquierda marron selfoss room corte_ingles\n",
      "21 - sofa tapizado plaza chaise longue izquierda mostaza selfoss room corte_ingles\n",
      "22 - tote metropolis piel nude asa extraible\n",
      "23 - zapatilla casual nina vl court\n",
      "24 - zapatilla casual nino advantage\n",
      "25 - zapatilla casual nino gazelle originals\n",
      "26 - zapatilla casual nino vl court\n",
      "27 - pantalon esqui nina junior fucsia\n",
      "28 - aspirador athlet ultimate bch7ath32k recargable\n",
      "29 - aspirador escoba bch65pet cepillo proanimal\n",
      "30 - mochila mini mujer corte_ingles negro print flor\n",
      "\n",
      "====================== IDs DE PRODUCTOS RECOMENDADOS ==============\n",
      "['MP_0566257_11407980', 'MP_0001326_JHNJ40D1756', 'A24637868', 'MP_0518464_C00000HYD110', 'A29234811', 'A28054928', 'A25598231', 'MP_0001326_KENR55D0391', 'A24028760', 'A26871241']\n",
      "\n",
      "===================== PRODUCTOS RECOMENDADOS =====================\n",
      "1 - zapatilla montana mujer vanir canter ht helly hansen\n",
      "2 - falda mujer nafnaf corte recto estampado\n",
      "3 - parka pelo nina kaki flor\n",
      "4 - set nina rosa estampado\n",
      "5 - sudadera hombre son azul cuello redondo\n",
      "6 - cartera grande mujer calvin klein negro cremallera\n",
      "7 - chaleco husky ligero mujer\n",
      "8 - vestido mujer camisero liso\n",
      "9 - tv 4k 32gb\n",
      "10 - jersey mujer jacquard manga\n",
      "==================================================================\n"
     ]
    }
   ],
   "source": [
    "CUSTOMER = 204 #128\n",
    "get_afines(data_pred = table, customer = CUSTOMER, items_unique = items_unique, N = 10)\n",
    "#data_processed[data_processed['customer_id_int'] == CUSTOMER].sort_values(['score_original'], ascending=False)"
   ]
  },
  {
   "cell_type": "code",
   "execution_count": null,
   "metadata": {},
   "outputs": [],
   "source": []
  },
  {
   "cell_type": "code",
   "execution_count": null,
   "metadata": {},
   "outputs": [],
   "source": []
  }
 ],
 "metadata": {
  "kernelspec": {
   "display_name": "Python 3",
   "language": "python",
   "name": "python3"
  },
  "language_info": {
   "codemirror_mode": {
    "name": "ipython",
    "version": 3
   },
   "file_extension": ".py",
   "mimetype": "text/x-python",
   "name": "python",
   "nbconvert_exporter": "python",
   "pygments_lexer": "ipython3",
   "version": "3.7.3"
  }
 },
 "nbformat": 4,
 "nbformat_minor": 2
}
