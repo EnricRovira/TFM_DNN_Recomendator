{
 "cells": [
  {
   "cell_type": "code",
   "execution_count": null,
   "metadata": {},
   "outputs": [],
   "source": [
    "#!pip install wget"
   ]
  },
  {
   "cell_type": "code",
   "execution_count": 1,
   "metadata": {},
   "outputs": [
    {
     "name": "stderr",
     "output_type": "stream",
     "text": [
      "Using TensorFlow backend.\n"
     ]
    }
   ],
   "source": [
    "import pandas as pd\n",
    "import os, sys\n",
    "import numpy as np\n",
    "import seaborn as sns\n",
    "import gc\n",
    "import warnings\n",
    "\n",
    "from keras.preprocessing.sequence import pad_sequences\n",
    "from keras.preprocessing.text import Tokenizer\n",
    "from keras.layers import Embedding\n",
    "from gensim.models import Word2Vec\n",
    "\n",
    "from keras.models import Model, Sequential, load_model\n",
    "from keras.layers import Input, Flatten, Dense, Conv1D, MaxPooling1D, GlobalMaxPool1D, SpatialDropout1D, \\\n",
    "                          UpSampling1D, LSTM, RepeatVector, TimeDistributed, GRU, Bidirectional, concatenate, \\\n",
    "                          Reshape, Dropout, BatchNormalization, GlobalAveragePooling1D, GlobalAveragePooling2D\n",
    "\n",
    "from keras.utils import plot_model, to_categorical\n",
    "from sklearn.neighbors import NearestNeighbors\n",
    "from sklearn.preprocessing import StandardScaler, MinMaxScaler\n",
    "from keras.utils.vis_utils import plot_model\n",
    "\n",
    "from keras.utils import to_categorical\n",
    "\n",
    "from sklearn.model_selection import train_test_split\n",
    "import matplotlib.pyplot as plt\n",
    "\n",
    "from custom_functions import norm_text, norm_brands, norm_images\n",
    "\n",
    "pd.set_option('max_colwidth', 250)\n",
    "warnings.filterwarnings(action='once')"
   ]
  },
  {
   "cell_type": "code",
   "execution_count": 2,
   "metadata": {},
   "outputs": [],
   "source": [
    "main_dir = os.path.join(os.path.dirname(os.path.abspath('03_CandidateGeneration_20190422.ipynb')), 'custom_functions')\n",
    "sys.path.insert(0, main_dir)\n",
    "#sys.path"
   ]
  },
  {
   "cell_type": "code",
   "execution_count": 3,
   "metadata": {},
   "outputs": [],
   "source": [
    "path = os.path.join('../../Data/')\n",
    "path_text_encoders = os.path.join('../03_Preparacion_de_Datos/')\n",
    "#EMbedding words = word2vec_model_v2\n",
    "#Encoder = encoder_text_V1.h5"
   ]
  },
  {
   "cell_type": "code",
   "execution_count": 4,
   "metadata": {},
   "outputs": [
    {
     "ename": "FileNotFoundError",
     "evalue": "[WinError 3] El sistema no puede encontrar la ruta especificada: '../03_Preparacion_de_Datos/'",
     "output_type": "error",
     "traceback": [
      "\u001b[1;31m---------------------------------------------------------------------------\u001b[0m",
      "\u001b[1;31mFileNotFoundError\u001b[0m                         Traceback (most recent call last)",
      "\u001b[1;32m<ipython-input-4-2bd524351bcb>\u001b[0m in \u001b[0;36m<module>\u001b[1;34m\u001b[0m\n\u001b[1;32m----> 1\u001b[1;33m \u001b[0mprint\u001b[0m \u001b[1;33m(\u001b[0m\u001b[0mos\u001b[0m\u001b[1;33m.\u001b[0m\u001b[0mlistdir\u001b[0m\u001b[1;33m(\u001b[0m\u001b[0mpath_text_encoders\u001b[0m\u001b[1;33m)\u001b[0m\u001b[1;33m)\u001b[0m\u001b[1;33m\u001b[0m\u001b[1;33m\u001b[0m\u001b[0m\n\u001b[0m",
      "\u001b[1;31mFileNotFoundError\u001b[0m: [WinError 3] El sistema no puede encontrar la ruta especificada: '../03_Preparacion_de_Datos/'"
     ]
    }
   ],
   "source": [
    "print (os.listdir(path_text_encoders))"
   ]
  },
  {
   "cell_type": "code",
   "execution_count": 77,
   "metadata": {},
   "outputs": [
    {
     "data": {
      "text/plain": [
       "(30000, 6)"
      ]
     },
     "execution_count": 77,
     "metadata": {},
     "output_type": "execute_result"
    }
   ],
   "source": [
    "data = pd.read_csv('data_filtered_20190422.csv', sep = ';')\n",
    "data_customers = pd.read_csv('customers_data_2.csv', sep = ';', nrows = 30000)\n",
    "#data_text = pd.read_csv('Texto_PreProcesado_v2.csv', sep = ';')\n",
    "#data_text = data_text[['item_id', 'text']]\n",
    "data_customers.shape"
   ]
  },
  {
   "cell_type": "code",
   "execution_count": 78,
   "metadata": {},
   "outputs": [
    {
     "data": {
      "text/html": [
       "<div>\n",
       "<style scoped>\n",
       "    .dataframe tbody tr th:only-of-type {\n",
       "        vertical-align: middle;\n",
       "    }\n",
       "\n",
       "    .dataframe tbody tr th {\n",
       "        vertical-align: top;\n",
       "    }\n",
       "\n",
       "    .dataframe thead th {\n",
       "        text-align: right;\n",
       "    }\n",
       "</style>\n",
       "<table border=\"1\" class=\"dataframe\">\n",
       "  <thead>\n",
       "    <tr style=\"text-align: right;\">\n",
       "      <th></th>\n",
       "      <th>item_id</th>\n",
       "      <th>availability_date</th>\n",
       "      <th>brand</th>\n",
       "      <th>category</th>\n",
       "      <th>name</th>\n",
       "      <th>price</th>\n",
       "    </tr>\n",
       "  </thead>\n",
       "  <tbody>\n",
       "    <tr>\n",
       "      <th>0</th>\n",
       "      <td>A28233506</td>\n",
       "      <td>NaN</td>\n",
       "      <td>Woman Limited El Corte Inglés</td>\n",
       "      <td>['Moda', 'Mujer', 'Abrigos']</td>\n",
       "      <td>Abrigo masculino con textura de mujer</td>\n",
       "      <td>{'final': 199, 'currency': 'EUR'}</td>\n",
       "    </tr>\n",
       "    <tr>\n",
       "      <th>1</th>\n",
       "      <td>A29054782</td>\n",
       "      <td>NaN</td>\n",
       "      <td>Woman Limited El Corte Inglés</td>\n",
       "      <td>['Moda', 'Mujer', 'Abrigos']</td>\n",
       "      <td>Abrigo doble faz de mujer con cinturón a tono</td>\n",
       "      <td>{'final': 149, 'currency': 'EUR'}</td>\n",
       "    </tr>\n",
       "    <tr>\n",
       "      <th>2</th>\n",
       "      <td>A27354432</td>\n",
       "      <td>NaN</td>\n",
       "      <td>Woman El Corte Inglés</td>\n",
       "      <td>['Moda', 'Mujer', 'Abrigos']</td>\n",
       "      <td>Abrigo largo de antelina de mujer Woman El Corte Inglés</td>\n",
       "      <td>{'final': 89.99, 'currency': 'EUR'}</td>\n",
       "    </tr>\n",
       "    <tr>\n",
       "      <th>3</th>\n",
       "      <td>A28302706</td>\n",
       "      <td>NaN</td>\n",
       "      <td>Lloyd's</td>\n",
       "      <td>['Moda', 'Mujer', 'Abrigos']</td>\n",
       "      <td>Chaqueta térmica de mujer Lloyds con efecto cortavientos</td>\n",
       "      <td>{'final': 129, 'currency': 'EUR'}</td>\n",
       "    </tr>\n",
       "    <tr>\n",
       "      <th>4</th>\n",
       "      <td>A27435502</td>\n",
       "      <td>NaN</td>\n",
       "      <td>Lloyd's</td>\n",
       "      <td>['Moda', 'Mujer', 'Abrigos']</td>\n",
       "      <td>Parka 100% algodón de mujer Lloyds con capucha</td>\n",
       "      <td>{'final': 149, 'currency': 'EUR'}</td>\n",
       "    </tr>\n",
       "  </tbody>\n",
       "</table>\n",
       "</div>"
      ],
      "text/plain": [
       "     item_id  availability_date                          brand  \\\n",
       "0  A28233506                NaN  Woman Limited El Corte Inglés   \n",
       "1  A29054782                NaN  Woman Limited El Corte Inglés   \n",
       "2  A27354432                NaN          Woman El Corte Inglés   \n",
       "3  A28302706                NaN                        Lloyd's   \n",
       "4  A27435502                NaN                        Lloyd's   \n",
       "\n",
       "                       category  \\\n",
       "0  ['Moda', 'Mujer', 'Abrigos']   \n",
       "1  ['Moda', 'Mujer', 'Abrigos']   \n",
       "2  ['Moda', 'Mujer', 'Abrigos']   \n",
       "3  ['Moda', 'Mujer', 'Abrigos']   \n",
       "4  ['Moda', 'Mujer', 'Abrigos']   \n",
       "\n",
       "                                                       name  \\\n",
       "0                     Abrigo masculino con textura de mujer   \n",
       "1             Abrigo doble faz de mujer con cinturón a tono   \n",
       "2   Abrigo largo de antelina de mujer Woman El Corte Inglés   \n",
       "3  Chaqueta térmica de mujer Lloyds con efecto cortavientos   \n",
       "4            Parka 100% algodón de mujer Lloyds con capucha   \n",
       "\n",
       "                                 price  \n",
       "0    {'final': 199, 'currency': 'EUR'}  \n",
       "1    {'final': 149, 'currency': 'EUR'}  \n",
       "2  {'final': 89.99, 'currency': 'EUR'}  \n",
       "3    {'final': 129, 'currency': 'EUR'}  \n",
       "4    {'final': 149, 'currency': 'EUR'}  "
      ]
     },
     "execution_count": 78,
     "metadata": {},
     "output_type": "execute_result"
    }
   ],
   "source": [
    "data.head()"
   ]
  },
  {
   "cell_type": "code",
   "execution_count": 79,
   "metadata": {},
   "outputs": [
    {
     "data": {
      "text/html": [
       "<div>\n",
       "<style scoped>\n",
       "    .dataframe tbody tr th:only-of-type {\n",
       "        vertical-align: middle;\n",
       "    }\n",
       "\n",
       "    .dataframe tbody tr th {\n",
       "        vertical-align: top;\n",
       "    }\n",
       "\n",
       "    .dataframe thead th {\n",
       "        text-align: right;\n",
       "    }\n",
       "</style>\n",
       "<table border=\"1\" class=\"dataframe\">\n",
       "  <thead>\n",
       "    <tr style=\"text-align: right;\">\n",
       "      <th></th>\n",
       "      <th>date</th>\n",
       "      <th>item_id</th>\n",
       "      <th>brand</th>\n",
       "      <th>PRICE</th>\n",
       "      <th>customer_id</th>\n",
       "      <th>text</th>\n",
       "    </tr>\n",
       "  </thead>\n",
       "  <tbody>\n",
       "    <tr>\n",
       "      <th>0</th>\n",
       "      <td>20190101</td>\n",
       "      <td>A26036172</td>\n",
       "      <td>Tintoretto</td>\n",
       "      <td>27,99</td>\n",
       "      <td>0</td>\n",
       "      <td>Vestido de mujer Tintoretto de flores con lazada</td>\n",
       "    </tr>\n",
       "    <tr>\n",
       "      <th>1</th>\n",
       "      <td>20190101</td>\n",
       "      <td>A26036172</td>\n",
       "      <td>Tintoretto</td>\n",
       "      <td>27,99</td>\n",
       "      <td>0</td>\n",
       "      <td>Vestido de mujer Tintoretto de flores con lazada</td>\n",
       "    </tr>\n",
       "    <tr>\n",
       "      <th>2</th>\n",
       "      <td>20190101</td>\n",
       "      <td>A26036172</td>\n",
       "      <td>Tintoretto</td>\n",
       "      <td>27,99</td>\n",
       "      <td>0</td>\n",
       "      <td>Vestido de mujer Tintoretto de flores con lazada</td>\n",
       "    </tr>\n",
       "    <tr>\n",
       "      <th>3</th>\n",
       "      <td>20190101</td>\n",
       "      <td>A26036172</td>\n",
       "      <td>Tintoretto</td>\n",
       "      <td>27,99</td>\n",
       "      <td>0</td>\n",
       "      <td>Vestido de mujer Tintoretto de flores con lazada</td>\n",
       "    </tr>\n",
       "    <tr>\n",
       "      <th>4</th>\n",
       "      <td>20190101</td>\n",
       "      <td>A26870590</td>\n",
       "      <td>Fórmula Joven</td>\n",
       "      <td>19,99</td>\n",
       "      <td>0</td>\n",
       "      <td>Vestido laminado de mujer Fórmula Joven con escote en pico</td>\n",
       "    </tr>\n",
       "  </tbody>\n",
       "</table>\n",
       "</div>"
      ],
      "text/plain": [
       "       date    item_id          brand      PRICE  customer_id  \\\n",
       "0  20190101  A26036172     Tintoretto  27,99                0   \n",
       "1  20190101  A26036172     Tintoretto  27,99                0   \n",
       "2  20190101  A26036172     Tintoretto  27,99                0   \n",
       "3  20190101  A26036172     Tintoretto  27,99                0   \n",
       "4  20190101  A26870590  Fórmula Joven  19,99                0   \n",
       "\n",
       "                                                         text  \n",
       "0            Vestido de mujer Tintoretto de flores con lazada  \n",
       "1            Vestido de mujer Tintoretto de flores con lazada  \n",
       "2            Vestido de mujer Tintoretto de flores con lazada  \n",
       "3            Vestido de mujer Tintoretto de flores con lazada  \n",
       "4  Vestido laminado de mujer Fórmula Joven con escote en pico  "
      ]
     },
     "execution_count": 79,
     "metadata": {},
     "output_type": "execute_result"
    }
   ],
   "source": [
    "data_customers.head()"
   ]
  },
  {
   "cell_type": "code",
   "execution_count": 80,
   "metadata": {},
   "outputs": [
    {
     "name": "stdout",
     "output_type": "stream",
     "text": [
      "Marvel not in list\n"
     ]
    },
    {
     "name": "stderr",
     "output_type": "stream",
     "text": [
      "[nltk_data] Downloading package stopwords to\n",
      "[nltk_data]     C:\\Users\\aeroengy\\AppData\\Roaming\\nltk_data...\n",
      "[nltk_data]   Package stopwords is already up-to-date!\n",
      "C:\\Users\\aeroengy\\Desktop\\Personal\\Rec_ML\\Recommender_keras-master\\04_Modelado_y_Evaluacion\\custom_functions\\norm_text.py:18: ResourceWarning: unclosed file <_io.TextIOWrapper name='C:\\\\Users\\\\aeroengy\\\\Desktop\\\\Personal\\\\Rec_ML\\\\Recommender_keras-master\\\\04_Modelado_y_Evaluacion\\\\custom_functions\\\\stopwords_catalan.txt' mode='r' encoding='UTF-8'>\n",
      "  STOPWORDS_CAT = open(path + '\\stopwords_catalan.txt', 'r', encoding= 'UTF-8').read().split()\n"
     ]
    },
    {
     "name": "stdout",
     "output_type": "stream",
     "text": [
      "Wall time: 12.5 s\n",
      "Parser   : 197 ms\n"
     ]
    }
   ],
   "source": [
    "%%time\n",
    "#1min\n",
    "brands = norm_brands.launch_normalizer(data_customers)\n",
    "STOPWORDS_ALL =  norm_text.gen_stopwords(main_dir)\n",
    "lemmatizer_inv = norm_text.get_lemmatizer(main_dir)\n",
    "words = [word.split() for word in data_customers['text'].values]\n",
    "for i in range(len(words)):\n",
    "    data_customers['text'].values[i] = norm_text.normalize(words = words[i], p_brands = brands, \n",
    "                                                    STOPWORDS_ALL = STOPWORDS_ALL, \n",
    "                                                    lemmatizer_inv = lemmatizer_inv)\n"
   ]
  },
  {
   "cell_type": "code",
   "execution_count": 81,
   "metadata": {},
   "outputs": [
    {
     "data": {
      "text/html": [
       "<div>\n",
       "<style scoped>\n",
       "    .dataframe tbody tr th:only-of-type {\n",
       "        vertical-align: middle;\n",
       "    }\n",
       "\n",
       "    .dataframe tbody tr th {\n",
       "        vertical-align: top;\n",
       "    }\n",
       "\n",
       "    .dataframe thead th {\n",
       "        text-align: right;\n",
       "    }\n",
       "</style>\n",
       "<table border=\"1\" class=\"dataframe\">\n",
       "  <thead>\n",
       "    <tr style=\"text-align: right;\">\n",
       "      <th></th>\n",
       "      <th>date</th>\n",
       "      <th>item_id</th>\n",
       "      <th>brand</th>\n",
       "      <th>PRICE</th>\n",
       "      <th>customer_id</th>\n",
       "      <th>text</th>\n",
       "    </tr>\n",
       "  </thead>\n",
       "  <tbody>\n",
       "    <tr>\n",
       "      <th>0</th>\n",
       "      <td>20190101</td>\n",
       "      <td>A26036172</td>\n",
       "      <td>tintoretto</td>\n",
       "      <td>27,99</td>\n",
       "      <td>0</td>\n",
       "      <td>vestido mujer flor lazada</td>\n",
       "    </tr>\n",
       "    <tr>\n",
       "      <th>1</th>\n",
       "      <td>20190101</td>\n",
       "      <td>A26036172</td>\n",
       "      <td>tintoretto</td>\n",
       "      <td>27,99</td>\n",
       "      <td>0</td>\n",
       "      <td>vestido mujer flor lazada</td>\n",
       "    </tr>\n",
       "    <tr>\n",
       "      <th>2</th>\n",
       "      <td>20190101</td>\n",
       "      <td>A26036172</td>\n",
       "      <td>tintoretto</td>\n",
       "      <td>27,99</td>\n",
       "      <td>0</td>\n",
       "      <td>vestido mujer flor lazada</td>\n",
       "    </tr>\n",
       "    <tr>\n",
       "      <th>3</th>\n",
       "      <td>20190101</td>\n",
       "      <td>A26036172</td>\n",
       "      <td>tintoretto</td>\n",
       "      <td>27,99</td>\n",
       "      <td>0</td>\n",
       "      <td>vestido mujer flor lazada</td>\n",
       "    </tr>\n",
       "    <tr>\n",
       "      <th>4</th>\n",
       "      <td>20190101</td>\n",
       "      <td>A26870590</td>\n",
       "      <td>fórmula joven</td>\n",
       "      <td>19,99</td>\n",
       "      <td>0</td>\n",
       "      <td>vestido laminado mujer formula joven escote pico</td>\n",
       "    </tr>\n",
       "  </tbody>\n",
       "</table>\n",
       "</div>"
      ],
      "text/plain": [
       "       date    item_id          brand      PRICE  customer_id  \\\n",
       "0  20190101  A26036172     tintoretto  27,99                0   \n",
       "1  20190101  A26036172     tintoretto  27,99                0   \n",
       "2  20190101  A26036172     tintoretto  27,99                0   \n",
       "3  20190101  A26036172     tintoretto  27,99                0   \n",
       "4  20190101  A26870590  fórmula joven  19,99                0   \n",
       "\n",
       "                                               text  \n",
       "0                         vestido mujer flor lazada  \n",
       "1                         vestido mujer flor lazada  \n",
       "2                         vestido mujer flor lazada  \n",
       "3                         vestido mujer flor lazada  \n",
       "4  vestido laminado mujer formula joven escote pico  "
      ]
     },
     "execution_count": 81,
     "metadata": {},
     "output_type": "execute_result"
    }
   ],
   "source": [
    "data_customers.head()"
   ]
  },
  {
   "cell_type": "code",
   "execution_count": 82,
   "metadata": {},
   "outputs": [],
   "source": [
    "data_customers.columns = data_customers.columns.str.strip()\n",
    "data_customers.PRICE = data_customers.PRICE.apply(lambda x: x.strip())\n",
    "#data_customers.brand = data_customers.brand.apply(lambda x: x.strip())\n",
    "data_customers.PRICE = data_customers.PRICE.str.replace('.', '')\n",
    "data_customers.PRICE = data_customers.PRICE.str.replace(',', '.')\n",
    "data_customers.PRICE = pd.to_numeric(data_customers['PRICE'])\n",
    "data_customers.item_id = data_customers.item_id.apply(lambda x: x.strip())\n",
    "data.item_id = data.item_id.apply(lambda x: x.strip())"
   ]
  },
  {
   "cell_type": "code",
   "execution_count": 83,
   "metadata": {},
   "outputs": [],
   "source": [
    "data.columns = data.columns.str.strip()\n",
    "#data['availability_date'].fillna(0, inplace=True)\n",
    "data_customers['item_age'] = -1 * (data_customers['date'] - data['availability_date'])\n",
    "data_customers['item_age'].fillna(0, inplace=True)"
   ]
  },
  {
   "cell_type": "code",
   "execution_count": 84,
   "metadata": {},
   "outputs": [
    {
     "name": "stdout",
     "output_type": "stream",
     "text": [
      "We have 377 unique users and 11735 unique items and 1090 unique brands\n"
     ]
    }
   ],
   "source": [
    "customers_unique = data_customers.customer_id.unique()\n",
    "items_unique = data_customers.item_id.unique()\n",
    "brand_unique = data_customers.brand.unique()\n",
    "\n",
    "print (f'We have {len(customers_unique)} unique users and {len(items_unique)} unique items and {len(brand_unique)} unique brands')"
   ]
  },
  {
   "cell_type": "markdown",
   "metadata": {},
   "source": [
    "### We need integer data to be able to feed the NN"
   ]
  },
  {
   "cell_type": "code",
   "execution_count": 85,
   "metadata": {},
   "outputs": [],
   "source": [
    "customers_map = {i:val for i,val in enumerate(customers_unique)}\n",
    "customers_map_inv = {val:i for i,val in enumerate(customers_unique)}\n",
    "\n",
    "items_map = {i:val for i,val in enumerate(items_unique)}\n",
    "items_map_inv = {val:i for i,val in enumerate(items_unique)}\n",
    "\n",
    "brands_map = {i:val for i,val in enumerate(brand_unique)}\n",
    "brands_map_inv = {val:i for i,val in enumerate(brand_unique)}"
   ]
  },
  {
   "cell_type": "code",
   "execution_count": 86,
   "metadata": {},
   "outputs": [
    {
     "data": {
      "text/plain": [
       "(30000, 10)"
      ]
     },
     "execution_count": 86,
     "metadata": {},
     "output_type": "execute_result"
    }
   ],
   "source": [
    "data_customers['customer_id_int'] = data_customers['customer_id'].map(customers_map_inv)\n",
    "data_customers['item_id_int'] = data_customers['item_id'].map(items_map_inv)\n",
    "data_customers['brand_id'] = data_customers['brand'].map(brands_map_inv)\n",
    "data_customers.shape"
   ]
  },
  {
   "cell_type": "code",
   "execution_count": 87,
   "metadata": {},
   "outputs": [],
   "source": [
    "data_score = data_customers.groupby(['customer_id_int', 'item_id_int']).size().to_frame('score').reset_index().sort_values(by = 'score',ascending = False)"
   ]
  },
  {
   "cell_type": "code",
   "execution_count": 88,
   "metadata": {},
   "outputs": [
    {
     "data": {
      "text/plain": [
       "(30000, 11)"
      ]
     },
     "execution_count": 88,
     "metadata": {},
     "output_type": "execute_result"
    }
   ],
   "source": [
    "data_final = pd.merge(data_customers, data_score, how = 'inner')\n",
    "data_final.shape\n",
    "#data_final = pd.merge(data_final, data_text, how = 'inner')\n",
    "#data_final = data_customers"
   ]
  },
  {
   "cell_type": "code",
   "execution_count": 89,
   "metadata": {},
   "outputs": [
    {
     "name": "stdout",
     "output_type": "stream",
     "text": [
      "(14976, 11)\n"
     ]
    },
    {
     "data": {
      "text/html": [
       "<div>\n",
       "<style scoped>\n",
       "    .dataframe tbody tr th:only-of-type {\n",
       "        vertical-align: middle;\n",
       "    }\n",
       "\n",
       "    .dataframe tbody tr th {\n",
       "        vertical-align: top;\n",
       "    }\n",
       "\n",
       "    .dataframe thead th {\n",
       "        text-align: right;\n",
       "    }\n",
       "</style>\n",
       "<table border=\"1\" class=\"dataframe\">\n",
       "  <thead>\n",
       "    <tr style=\"text-align: right;\">\n",
       "      <th></th>\n",
       "      <th>date</th>\n",
       "      <th>item_id</th>\n",
       "      <th>brand</th>\n",
       "      <th>PRICE</th>\n",
       "      <th>customer_id</th>\n",
       "      <th>text</th>\n",
       "      <th>item_age</th>\n",
       "      <th>customer_id_int</th>\n",
       "      <th>item_id_int</th>\n",
       "      <th>brand_id</th>\n",
       "      <th>score</th>\n",
       "    </tr>\n",
       "  </thead>\n",
       "  <tbody>\n",
       "    <tr>\n",
       "      <th>0</th>\n",
       "      <td>20190101</td>\n",
       "      <td>A26036172</td>\n",
       "      <td>tintoretto</td>\n",
       "      <td>27.99</td>\n",
       "      <td>0</td>\n",
       "      <td>vestido mujer flor lazada</td>\n",
       "      <td>0.0</td>\n",
       "      <td>0</td>\n",
       "      <td>0</td>\n",
       "      <td>0</td>\n",
       "      <td>4</td>\n",
       "    </tr>\n",
       "    <tr>\n",
       "      <th>4</th>\n",
       "      <td>20190101</td>\n",
       "      <td>A26870590</td>\n",
       "      <td>fórmula joven</td>\n",
       "      <td>19.99</td>\n",
       "      <td>0</td>\n",
       "      <td>vestido laminado mujer formula joven escote pico</td>\n",
       "      <td>0.0</td>\n",
       "      <td>0</td>\n",
       "      <td>1</td>\n",
       "      <td>1</td>\n",
       "      <td>4</td>\n",
       "    </tr>\n",
       "    <tr>\n",
       "      <th>8</th>\n",
       "      <td>20190103</td>\n",
       "      <td>MP_0659870_3014</td>\n",
       "      <td>gabrielle</td>\n",
       "      <td>76.10</td>\n",
       "      <td>1</td>\n",
       "      <td>abrigo mujer negro avalorios</td>\n",
       "      <td>0.0</td>\n",
       "      <td>1</td>\n",
       "      <td>2</td>\n",
       "      <td>2</td>\n",
       "      <td>1</td>\n",
       "    </tr>\n",
       "    <tr>\n",
       "      <th>9</th>\n",
       "      <td>20190103</td>\n",
       "      <td>A26011856</td>\n",
       "      <td>antea plus</td>\n",
       "      <td>84.50</td>\n",
       "      <td>1</td>\n",
       "      <td>abrigo largo mujer talla grande plus cuello alto</td>\n",
       "      <td>0.0</td>\n",
       "      <td>1</td>\n",
       "      <td>3</td>\n",
       "      <td>3</td>\n",
       "      <td>1</td>\n",
       "    </tr>\n",
       "    <tr>\n",
       "      <th>10</th>\n",
       "      <td>20190103</td>\n",
       "      <td>A26115128</td>\n",
       "      <td>antea plus</td>\n",
       "      <td>59.50</td>\n",
       "      <td>1</td>\n",
       "      <td>abrigo bicolor mujer talla grande plus cuello alto</td>\n",
       "      <td>0.0</td>\n",
       "      <td>1</td>\n",
       "      <td>4</td>\n",
       "      <td>3</td>\n",
       "      <td>1</td>\n",
       "    </tr>\n",
       "  </tbody>\n",
       "</table>\n",
       "</div>"
      ],
      "text/plain": [
       "        date          item_id          brand  PRICE  customer_id  \\\n",
       "0   20190101        A26036172     tintoretto  27.99            0   \n",
       "4   20190101        A26870590  fórmula joven  19.99            0   \n",
       "8   20190103  MP_0659870_3014      gabrielle  76.10            1   \n",
       "9   20190103        A26011856     antea plus  84.50            1   \n",
       "10  20190103        A26115128     antea plus  59.50            1   \n",
       "\n",
       "                                                  text  item_age  \\\n",
       "0                            vestido mujer flor lazada       0.0   \n",
       "4     vestido laminado mujer formula joven escote pico       0.0   \n",
       "8                         abrigo mujer negro avalorios       0.0   \n",
       "9     abrigo largo mujer talla grande plus cuello alto       0.0   \n",
       "10  abrigo bicolor mujer talla grande plus cuello alto       0.0   \n",
       "\n",
       "    customer_id_int  item_id_int  brand_id  score  \n",
       "0                 0            0         0      4  \n",
       "4                 0            1         1      4  \n",
       "8                 1            2         2      1  \n",
       "9                 1            3         3      1  \n",
       "10                1            4         3      1  "
      ]
     },
     "execution_count": 89,
     "metadata": {},
     "output_type": "execute_result"
    }
   ],
   "source": [
    "#remove duplicates due to agrupation, if a customer bought a item 2 times i only want 1 row with score 2, instead of 2 rows\n",
    "data_final.drop_duplicates(inplace=True)\n",
    "data_final.dropna(how = 'any', inplace = True)\n",
    "\n",
    "print(data_final.shape)\n",
    "data_final.head()"
   ]
  },
  {
   "cell_type": "code",
   "execution_count": 90,
   "metadata": {},
   "outputs": [
    {
     "data": {
      "image/png": "[encoded data removed]",
      "text/plain": [
       "<Figure size 432x288 with 1 Axes>"
      ]
     },
     "metadata": {
      "needs_background": "light"
     },
     "output_type": "display_data"
    }
   ],
   "source": [
    "sns.distplot(data_score['score'], bins = 1).set(xlim = (0, 500));"
   ]
  },
  {
   "cell_type": "markdown",
   "metadata": {},
   "source": [
    "## Vectorize sentences"
   ]
  },
  {
   "cell_type": "code",
   "execution_count": 91,
   "metadata": {},
   "outputs": [
    {
     "name": "stdout",
     "output_type": "stream",
     "text": [
      "Found 6568 unique tokens.\n"
     ]
    }
   ],
   "source": [
    "MAX_NB_WORDS = 30_000 #decided by cumsum wordcount plot (Script 01)\n",
    "MAX_SEQUENCE_LENGTH = 24 #decided by max words in a product (Script 00)\n",
    "EMBEDDING_DIM = 100 #Same dim as our W2V embedding\n",
    "\n",
    "all_text = data_final['text']\n",
    "all_text = all_text.drop_duplicates (keep = False)\n",
    "\n",
    "tokenizer = Tokenizer(num_words=MAX_NB_WORDS, )\n",
    "tokenizer.fit_on_texts(all_text)\n",
    "\n",
    "data_sequences = tokenizer.texts_to_sequences(data_final['text'])\n",
    "data_vec = pad_sequences(data_sequences, maxlen=MAX_SEQUENCE_LENGTH)\n",
    "\n",
    "word_index = tokenizer.word_index\n",
    "print('Found %s unique tokens.' % len(word_index))"
   ]
  },
  {
   "cell_type": "code",
   "execution_count": 92,
   "metadata": {},
   "outputs": [
    {
     "data": {
      "text/plain": [
       "14976"
      ]
     },
     "execution_count": 92,
     "metadata": {},
     "output_type": "execute_result"
    }
   ],
   "source": [
    "len(data_vec)"
   ]
  },
  {
   "cell_type": "code",
   "execution_count": 93,
   "metadata": {},
   "outputs": [
    {
     "data": {
      "text/plain": [
       "(14976, 11)"
      ]
     },
     "execution_count": 93,
     "metadata": {},
     "output_type": "execute_result"
    }
   ],
   "source": [
    "data_final.shape"
   ]
  },
  {
   "cell_type": "code",
   "execution_count": 94,
   "metadata": {},
   "outputs": [],
   "source": [
    "modelWV = Word2Vec.load('word2vec_model_v2')\n",
    "#encoder = load_model('encoder_text_V2.h5')"
   ]
  },
  {
   "cell_type": "code",
   "execution_count": 95,
   "metadata": {},
   "outputs": [
    {
     "name": "stderr",
     "output_type": "stream",
     "text": [
      "C:\\Users\\aeroengy\\Anaconda3\\lib\\site-packages\\ipykernel_launcher.py:6: DeprecationWarning: Call to deprecated `__contains__` (Method will be removed in 4.0.0, use self.wv.__contains__() instead).\n",
      "  \n",
      "C:\\Users\\aeroengy\\Anaconda3\\lib\\site-packages\\ipykernel_launcher.py:7: DeprecationWarning: Call to deprecated `__getitem__` (Method will be removed in 4.0.0, use self.wv.__getitem__() instead).\n",
      "  import sys\n"
     ]
    }
   ],
   "source": [
    "word_vectors = modelWV.wv\n",
    "vocabulary_size = len(word_index) + 1\n",
    "embedding_matrix = np.zeros((len(word_index) + 1, EMBEDDING_DIM))\n",
    "\n",
    "for word, i in word_index.items():\n",
    "    if word in modelWV:\n",
    "        embedding_matrix[i] = modelWV[word]\n",
    "    else:\n",
    "        embedding_matrix[i] = np.random.rand(1, EMBEDDING_DIM)[0]\n",
    "            \n",
    "\n",
    "del(word_vectors)\n",
    "\n",
    "embedding_layer = Embedding(input_dim = vocabulary_size,\n",
    "                            output_dim = EMBEDDING_DIM,\n",
    "                            input_length = MAX_SEQUENCE_LENGTH,\n",
    "                            weights=[embedding_matrix],\n",
    "                            name='w2v_embedding',\n",
    "                            trainable=False)"
   ]
  },
  {
   "cell_type": "markdown",
   "metadata": {},
   "source": [
    "## Output"
   ]
  },
  {
   "cell_type": "code",
   "execution_count": 96,
   "metadata": {},
   "outputs": [
    {
     "data": {
      "text/plain": [
       "4597"
      ]
     },
     "execution_count": 96,
     "metadata": {},
     "output_type": "execute_result"
    }
   ],
   "source": [
    "gc.enable()\n",
    "del (data, data_score, data_customers, modelWV)\n",
    "gc.collect()"
   ]
  },
  {
   "cell_type": "code",
   "execution_count": 97,
   "metadata": {},
   "outputs": [],
   "source": [
    "CAT_ITEMS = len(items_unique)"
   ]
  },
  {
   "cell_type": "code",
   "execution_count": 98,
   "metadata": {},
   "outputs": [],
   "source": [
    "#train_df, test_df = train_test_split(data_final, test_size=0.1, random_state = 12)\n",
    "#print(f'{len(train_df)} train rows, {len(test_df)} validate rows')"
   ]
  },
  {
   "cell_type": "code",
   "execution_count": 99,
   "metadata": {},
   "outputs": [
    {
     "name": "stdout",
     "output_type": "stream",
     "text": [
      "[[1. 0. 0. ... 0. 0. 0.]\n",
      " [0. 1. 0. ... 0. 0. 0.]\n",
      " [0. 0. 1. ... 0. 0. 0.]\n",
      " ...\n",
      " [0. 0. 0. ... 1. 0. 0.]\n",
      " [0. 0. 0. ... 0. 1. 0.]\n",
      " [0. 0. 0. ... 0. 0. 1.]]\n"
     ]
    }
   ],
   "source": [
    "#train_items_encoded = to_categorical(train_df['item_id_int'], num_classes = CAT_ITEMS)\n",
    "#test_items_encoded = to_categorical(test_df['item_id_int'], num_classes = CAT_ITEMS)\n",
    "items_encoded = to_categorical(data_final['item_id_int'], num_classes = CAT_ITEMS)\n",
    "print(items_encoded)"
   ]
  },
  {
   "cell_type": "code",
   "execution_count": 100,
   "metadata": {},
   "outputs": [
    {
     "data": {
      "text/plain": [
       "(14976, 11735)"
      ]
     },
     "execution_count": 100,
     "metadata": {},
     "output_type": "execute_result"
    }
   ],
   "source": [
    "items_encoded.shape"
   ]
  },
  {
   "cell_type": "markdown",
   "metadata": {},
   "source": [
    "## Scale continuous data"
   ]
  },
  {
   "cell_type": "code",
   "execution_count": 101,
   "metadata": {},
   "outputs": [
    {
     "name": "stderr",
     "output_type": "stream",
     "text": [
      "C:\\Users\\aeroengy\\Anaconda3\\lib\\site-packages\\sklearn\\utils\\validation.py:595: DataConversionWarning: Data with input dtype int32 was converted to float64 by MinMaxScaler.\n",
      "  warnings.warn(msg, DataConversionWarning)\n"
     ]
    }
   ],
   "source": [
    "#scaler = StandardScaler()\n",
    "scaler = MinMaxScaler(feature_range = (0, 1))\n",
    "data_to_scale1 = np.array([[x] for x in data_final['PRICE']])\n",
    "data_to_scale2 = np.array([[x] for x in data_final['score']])\n",
    "data_to_scale3 = np.array([[x] for x in data_final['item_age']])\n",
    "scaled_data1 = scaler.fit_transform(data_to_scale1)\n",
    "scaled_data2 = scaler.fit_transform(data_to_scale2)\n",
    "scaled_data3 = scaler.fit_transform(data_to_scale3)"
   ]
  },
  {
   "cell_type": "code",
   "execution_count": 102,
   "metadata": {},
   "outputs": [
    {
     "data": {
      "text/plain": [
       "0.0"
      ]
     },
     "execution_count": 102,
     "metadata": {},
     "output_type": "execute_result"
    }
   ],
   "source": [
    "np.min(scaled_data1.reshape(data_to_scale1.shape[0]))"
   ]
  },
  {
   "cell_type": "code",
   "execution_count": 103,
   "metadata": {},
   "outputs": [],
   "source": [
    "data_final['score_original'] = data_final['score']\n",
    "data_final['PRICE'] = scaled_data1.reshape(data_to_scale1.shape[0])\n",
    "data_final['score'] = scaled_data2.reshape(data_to_scale2.shape[0])\n",
    "data_final['item_age'] = scaled_data3.reshape(data_to_scale3.shape[0])\n",
    "\n",
    "data_final['power_price'] = np.power(scaled_data1.reshape(data_to_scale1.shape[0]), 2)\n",
    "data_final['power_score'] = np.power(scaled_data2.reshape(data_to_scale2.shape[0]), 2)\n",
    "data_final['power_item_age'] = np.power(scaled_data3.reshape(data_to_scale3.shape[0]), 2)\n",
    "\n",
    "data_final['sqrt_price'] = np.sqrt(scaled_data1.reshape(data_to_scale1.shape[0]))\n",
    "data_final['sqrt_score'] = np.sqrt(scaled_data2.reshape(data_to_scale2.shape[0]))\n",
    "data_final['sqrt_item_age'] = np.sqrt(scaled_data3.reshape(data_to_scale3.shape[0]))\n"
   ]
  },
  {
   "cell_type": "code",
   "execution_count": 104,
   "metadata": {},
   "outputs": [
    {
     "data": {
      "text/plain": [
       "count    14976.000000\n",
       "mean         0.001263\n",
       "std          0.022207\n",
       "min          0.000000\n",
       "25%          0.000000\n",
       "50%          0.000000\n",
       "75%          0.000693\n",
       "max          1.000000\n",
       "Name: score, dtype: float64"
      ]
     },
     "execution_count": 104,
     "metadata": {},
     "output_type": "execute_result"
    }
   ],
   "source": [
    "data_final.score.describe()"
   ]
  },
  {
   "cell_type": "code",
   "execution_count": 105,
   "metadata": {},
   "outputs": [
    {
     "data": {
      "image/png": "[encoded data removed]",
      "text/plain": [
       "<Figure size 432x288 with 1 Axes>"
      ]
     },
     "metadata": {
      "needs_background": "light"
     },
     "output_type": "display_data"
    }
   ],
   "source": [
    "sns.distplot(data_final['score'], bins = 1);"
   ]
  },
  {
   "cell_type": "code",
   "execution_count": 106,
   "metadata": {},
   "outputs": [
    {
     "data": {
      "text/plain": [
       "(14976, 18)"
      ]
     },
     "execution_count": 106,
     "metadata": {},
     "output_type": "execute_result"
    }
   ],
   "source": [
    "data_final.shape"
   ]
  },
  {
   "cell_type": "code",
   "execution_count": 107,
   "metadata": {},
   "outputs": [],
   "source": [
    "data_final.to_csv('data_final_20190523.csv', index=False)"
   ]
  },
  {
   "cell_type": "markdown",
   "metadata": {},
   "source": [
    "## Architecture"
   ]
  },
  {
   "attachments": {
    "image.png": {
     "image/png": "[encoded data removed]"
    }
   },
   "cell_type": "markdown",
   "metadata": {},
   "source": [
    "![image.png](attachment:image.png)"
   ]
  },
  {
   "cell_type": "code",
   "execution_count": 108,
   "metadata": {},
   "outputs": [],
   "source": [
    "#img_encoder = load_model('full_encoder_v1.h5')"
   ]
  },
  {
   "cell_type": "code",
   "execution_count": 109,
   "metadata": {},
   "outputs": [
    {
     "name": "stdout",
     "output_type": "stream",
     "text": [
      "(14976, 18)\n"
     ]
    }
   ],
   "source": [
    "data_final.head(3)\n",
    "print(data_final.shape)"
   ]
  },
  {
   "cell_type": "code",
   "execution_count": 110,
   "metadata": {},
   "outputs": [
    {
     "name": "stderr",
     "output_type": "stream",
     "text": [
      "C:\\Users\\aeroengy\\Anaconda3\\lib\\site-packages\\numpy\\lib\\type_check.py:546: DeprecationWarning: np.asscalar(a) is deprecated since NumPy v1.16, use a.item() instead\n",
      "  'a.item() instead', DeprecationWarning, stacklevel=1)\n"
     ]
    },
    {
     "name": "stdout",
     "output_type": "stream",
     "text": [
      "__________________________________________________________________________________________________\n",
      "Layer (type)                    Output Shape         Param #     Connected to                     \n",
      "==================================================================================================\n",
      "user (InputLayer)               (None, 1)            0                                            \n",
      "__________________________________________________________________________________________________\n",
      "item (InputLayer)               (None, 1)            0                                            \n",
      "__________________________________________________________________________________________________\n",
      "brand (InputLayer)              (None, 1)            0                                            \n",
      "__________________________________________________________________________________________________\n",
      "text (InputLayer)               (None, 24)           0                                            \n",
      "__________________________________________________________________________________________________\n",
      "user_embedding (Embedding)      (None, 1, 20)        7540        user[0][0]                       \n",
      "__________________________________________________________________________________________________\n",
      "item_embedding (Embedding)      (None, 1, 20)        234700      item[0][0]                       \n",
      "__________________________________________________________________________________________________\n",
      "brand_embedding (Embedding)     (None, 1, 20)        21800       brand[0][0]                      \n",
      "__________________________________________________________________________________________________\n",
      "embedding_3 (Embedding)         (None, 24, 100)      656900      text[0][0]                       \n",
      "__________________________________________________________________________________________________\n",
      "reshape_7 (Reshape)             (None, 20)           0           user_embedding[0][0]             \n",
      "__________________________________________________________________________________________________\n",
      "reshape_8 (Reshape)             (None, 20)           0           item_embedding[0][0]             \n",
      "__________________________________________________________________________________________________\n",
      "reshape_9 (Reshape)             (None, 20)           0           brand_embedding[0][0]            \n",
      "__________________________________________________________________________________________________\n",
      "price (InputLayer)              (None, 1)            0                                            \n",
      "__________________________________________________________________________________________________\n",
      "item_age (InputLayer)           (None, 1)            0                                            \n",
      "__________________________________________________________________________________________________\n",
      "score (InputLayer)              (None, 1)            0                                            \n",
      "__________________________________________________________________________________________________\n",
      "power_price (InputLayer)        (None, 1)            0                                            \n",
      "__________________________________________________________________________________________________\n",
      "power_score (InputLayer)        (None, 1)            0                                            \n",
      "__________________________________________________________________________________________________\n",
      "power_item_age (InputLayer)     (None, 1)            0                                            \n",
      "__________________________________________________________________________________________________\n",
      "sqrt_price (InputLayer)         (None, 1)            0                                            \n",
      "__________________________________________________________________________________________________\n",
      "sqrt_score (InputLayer)         (None, 1)            0                                            \n",
      "__________________________________________________________________________________________________\n",
      "sqrt_item_age (InputLayer)      (None, 1)            0                                            \n",
      "__________________________________________________________________________________________________\n",
      "flatten_3 (Flatten)             (None, 2400)         0           embedding_3[0][0]                \n",
      "__________________________________________________________________________________________________\n",
      "VECTOR_PRODUCTO (Concatenate)   (None, 2469)         0           reshape_7[0][0]                  \n",
      "                                                                 reshape_8[0][0]                  \n",
      "                                                                 reshape_9[0][0]                  \n",
      "                                                                 price[0][0]                      \n",
      "                                                                 item_age[0][0]                   \n",
      "                                                                 score[0][0]                      \n",
      "                                                                 power_price[0][0]                \n",
      "                                                                 power_score[0][0]                \n",
      "                                                                 power_item_age[0][0]             \n",
      "                                                                 sqrt_price[0][0]                 \n",
      "                                                                 sqrt_score[0][0]                 \n",
      "                                                                 sqrt_item_age[0][0]              \n",
      "                                                                 flatten_3[0][0]                  \n",
      "__________________________________________________________________________________________________\n",
      "dropout_9 (Dropout)             (None, 2469)         0           VECTOR_PRODUCTO[0][0]            \n",
      "__________________________________________________________________________________________________\n",
      "dense_9 (Dense)                 (None, 256)          632320      dropout_9[0][0]                  \n",
      "__________________________________________________________________________________________________\n",
      "dropout_10 (Dropout)            (None, 256)          0           dense_9[0][0]                    \n",
      "__________________________________________________________________________________________________\n",
      "dense_10 (Dense)                (None, 128)          32896       dropout_10[0][0]                 \n",
      "__________________________________________________________________________________________________\n",
      "dropout_11 (Dropout)            (None, 128)          0           dense_10[0][0]                   \n",
      "__________________________________________________________________________________________________\n",
      "dense_11 (Dense)                (None, 64)           8256        dropout_11[0][0]                 \n",
      "__________________________________________________________________________________________________\n",
      "dropout_12 (Dropout)            (None, 64)           0           dense_11[0][0]                   \n",
      "__________________________________________________________________________________________________\n",
      "dense_12 (Dense)                (None, 11735)        762775      dropout_12[0][0]                 \n",
      "==================================================================================================\n",
      "Total params: 2,357,187\n",
      "Trainable params: 1,700,287\n",
      "Non-trainable params: 656,900\n",
      "__________________________________________________________________________________________________\n"
     ]
    }
   ],
   "source": [
    "user_id_input = Input(shape=[1], name='user')\n",
    "item_id_input = Input(shape=[1], name='item')\n",
    "brand_id_input = Input(shape = [1], name = 'brand')\n",
    "\n",
    "price_input = Input(shape = [1], name = 'price')\n",
    "score_input = Input(shape = [1], name = 'score')\n",
    "item_age_input = Input(shape = [1], name = 'item_age')\n",
    "\n",
    "price_power_input = Input(shape = [1], name = 'power_price')\n",
    "score_power_input = Input(shape = [1], name = 'power_score')\n",
    "item_age_power_input = Input(shape = [1], name = 'power_item_age')\n",
    "\n",
    "price_sqrt_input = Input(shape = [1], name = 'sqrt_price')\n",
    "score_sqrt_input = Input(shape = [1], name = 'sqrt_score')\n",
    "item_age_sqrt_input = Input(shape = [1], name = 'sqrt_item_age')\n",
    "\n",
    "#text_input = Input(shape=(MAX_SEQUENCE_LENGTH, EMBEDDING_DIM), name = 'text_input')\n",
    "\n",
    "sequence_input = Input(shape = (MAX_SEQUENCE_LENGTH, ), name = 'text')\n",
    "\n",
    "embedding_size = 20\n",
    "\n",
    "user_embedding = Embedding(output_dim=embedding_size, input_dim = customers_unique.shape[0],\n",
    "                           input_length=1, name='user_embedding')(user_id_input)\n",
    "item_embedding = Embedding(output_dim=embedding_size, input_dim = items_unique.shape[0],\n",
    "                           input_length=1, name='item_embedding')(item_id_input)\n",
    "brand_embedding = Embedding(output_dim=embedding_size, input_dim = brand_unique.shape[0],\n",
    "                           input_length=1, name='brand_embedding')(brand_id_input)\n",
    "\n",
    "text_embedding = Embedding(*embedding_matrix.shape, weights = [embedding_matrix], trainable = False)(sequence_input)\n",
    "\n",
    "#text_embedding = encoder([sequence_input])\n",
    "\n",
    "user_vecs = Reshape([embedding_size])(user_embedding)\n",
    "item_vecs = Reshape([embedding_size])(item_embedding)\n",
    "brand_vecs = Reshape([embedding_size])(brand_embedding)\n",
    "text_flat = Flatten()(text_embedding)\n",
    "\n",
    "x1 = concatenate([user_vecs, item_vecs, brand_vecs, price_input, item_age_input, score_input,\n",
    "                 price_power_input, score_power_input, item_age_power_input,\n",
    "                 price_sqrt_input, score_sqrt_input, item_age_sqrt_input, text_flat], name = 'VECTOR_PRODUCTO')\n",
    "\n",
    "x2 = Dropout(0.4)(x1)\n",
    "x3 = Dense (256, activation = 'relu')(x2)\n",
    "x4 = Dropout(0.3)(x3)\n",
    "x5 = Dense(128, activation = 'relu')(x4)\n",
    "x6 = Dropout(0.2)(x5)\n",
    "x7 = Dense(64, activation = 'relu')(x6)\n",
    "x8 = Dropout(0.2)(x7)\n",
    "\n",
    "output = Dense(CAT_ITEMS, activation = 'softmax' )(x8)\n",
    "\n",
    "model = Model(inputs=[user_id_input, item_id_input, brand_id_input, price_input, sequence_input, item_age_input, score_input,\n",
    "                     price_power_input, score_power_input, item_age_power_input,\n",
    "                     price_sqrt_input, score_sqrt_input, item_age_sqrt_input], \n",
    "              outputs = output)\n",
    "\n",
    "model.compile(loss = 'categorical_crossentropy',\n",
    "              optimizer = 'rmsprop',\n",
    "              metrics = ['acc'])\n",
    "\n",
    "model.summary()"
   ]
  },
  {
   "cell_type": "code",
   "execution_count": 111,
   "metadata": {},
   "outputs": [],
   "source": [
    "def plot_training(history):\n",
    "    plt.plot(history.history['acc'])\n",
    "    #plt.plot(history.history['val_acc'])\n",
    "    plt.title('Model accuracy')\n",
    "    plt.ylabel('Accuracy')\n",
    "    plt.xlabel('Epoch')\n",
    "    plt.legend(['Train', 'Test'], loc='upper left')\n",
    "    plt.show()\n",
    "\n",
    "    # Plot training & validation loss values\n",
    "    plt.plot(history.history['loss'])\n",
    "    #plt.plot(history.history['val_loss'])\n",
    "    plt.title('Model loss')\n",
    "    plt.ylabel('Loss')\n",
    "    plt.xlabel('Epoch')\n",
    "    plt.legend(['Train', 'Test'], loc='upper left')\n",
    "    plt.show()"
   ]
  },
  {
   "cell_type": "code",
   "execution_count": 112,
   "metadata": {},
   "outputs": [
    {
     "name": "stdout",
     "output_type": "stream",
     "text": [
      "Epoch 1/10\n",
      "14976/14976 [==============================] - 14s 908us/step - loss: 9.3553 - acc: 0.0039\n",
      "Epoch 2/10\n",
      "14976/14976 [==============================] - 10s 647us/step - loss: 8.9930 - acc: 0.0103\n",
      "Epoch 3/10\n",
      "14976/14976 [==============================] - 10s 675us/step - loss: 8.3785 - acc: 0.0232\n",
      "Epoch 4/10\n",
      "14976/14976 [==============================] - 10s 647us/step - loss: 7.7210 - acc: 0.0361\n",
      "Epoch 5/10\n",
      "14976/14976 [==============================] - 10s 643us/step - loss: 7.1274 - acc: 0.0505\n",
      "Epoch 6/10\n",
      "14976/14976 [==============================] - 9s 632us/step - loss: 6.6139 - acc: 0.0649\n",
      "Epoch 7/10\n",
      "14976/14976 [==============================] - 10s 640us/step - loss: 6.1766 - acc: 0.0774\n",
      "Epoch 8/10\n",
      "14976/14976 [==============================] - 10s 645us/step - loss: 5.8065 - acc: 0.0890\n",
      "Epoch 9/10\n",
      "14976/14976 [==============================] - 10s 647us/step - loss: 5.4555 - acc: 0.1016\n",
      "Epoch 10/10\n",
      "14976/14976 [==============================] - 10s 640us/step - loss: 5.1668 - acc: 0.1152\n"
     ]
    }
   ],
   "source": [
    "history = model.fit([data_final['customer_id_int'], data_final['item_id_int'], \n",
    "                     data_final['brand_id'], data_final['PRICE'],\n",
    "                     data_vec, data_final['item_age'], data_final['score'],\n",
    "                     data_final['power_price'], data_final['power_score'], data_final['power_item_age'],\n",
    "                     data_final['sqrt_price'], data_final['sqrt_score'], data_final['sqrt_item_age']],\n",
    "                     items_encoded,\n",
    "                     epochs = 10, #validation_split = 0.1,\n",
    "                     batch_size = 256, \n",
    "                     shuffle = True)\n",
    "\n",
    "#Epoch 10 = loss = 7.8485 & acc = 0.0564\n",
    "#Epoch 20 = loss = 5.4801 & acc = 0.1113"
   ]
  },
  {
   "cell_type": "code",
   "execution_count": 113,
   "metadata": {},
   "outputs": [],
   "source": [
    "model.save('candidate_generation_20190523')"
   ]
  },
  {
   "cell_type": "code",
   "execution_count": null,
   "metadata": {},
   "outputs": [],
   "source": [
    "plot_training(history)"
   ]
  },
  {
   "cell_type": "code",
   "execution_count": null,
   "metadata": {},
   "outputs": [],
   "source": [
    "test_pred = model.predict([data_final['customer_id_int'], data_final['item_id_int'], \n",
    "                     data_final['brand_id'], data_final['PRICE'],\n",
    "                     data_vec, data_final['item_age'], data_final['score'],\n",
    "                     data_final['power_price'], data_final['power_score'], data_final['power_item_age'],\n",
    "                     data_final['sqrt_price'], data_final['sqrt_score'], data_final['sqrt_item_age']],\n",
    "                     verbose = 1)"
   ]
  },
  {
   "cell_type": "code",
   "execution_count": null,
   "metadata": {},
   "outputs": [],
   "source": [
    "test_pred.shape"
   ]
  },
  {
   "cell_type": "code",
   "execution_count": null,
   "metadata": {},
   "outputs": [],
   "source": [
    "test_pred[:10]"
   ]
  },
  {
   "cell_type": "code",
   "execution_count": null,
   "metadata": {},
   "outputs": [],
   "source": [
    "CUSTOMER = 101"
   ]
  },
  {
   "cell_type": "code",
   "execution_count": null,
   "metadata": {},
   "outputs": [],
   "source": [
    "top10 = test_pred[CUSTOMER].argsort()[-1000:][::-1] #items positions"
   ]
  },
  {
   "cell_type": "code",
   "execution_count": null,
   "metadata": {},
   "outputs": [],
   "source": [
    "items_unique[top10][:10]"
   ]
  },
  {
   "cell_type": "code",
   "execution_count": null,
   "metadata": {},
   "outputs": [],
   "source": [
    "data = pd.read_csv(path + 'data_filtered_20190422.csv', sep = ';')"
   ]
  },
  {
   "cell_type": "code",
   "execution_count": null,
   "metadata": {},
   "outputs": [],
   "source": [
    "data[data['item_id'].isin(items_unique[top10])]"
   ]
  },
  {
   "cell_type": "code",
   "execution_count": null,
   "metadata": {},
   "outputs": [],
   "source": [
    "data_final.loc[CUSTOMER]['customer_id_int']"
   ]
  },
  {
   "cell_type": "code",
   "execution_count": null,
   "metadata": {},
   "outputs": [],
   "source": [
    "data_final[data_final.customer_id_int == 101]"
   ]
  },
  {
   "cell_type": "code",
   "execution_count": null,
   "metadata": {},
   "outputs": [],
   "source": [
    "#del data\n",
    "#gc.collect()"
   ]
  },
  {
   "cell_type": "code",
   "execution_count": null,
   "metadata": {},
   "outputs": [],
   "source": []
  }
 ],
 "metadata": {
  "kernelspec": {
   "display_name": "Python 3",
   "language": "python",
   "name": "python3"
  },
  "language_info": {
   "codemirror_mode": {
    "name": "ipython",
    "version": 3
   },
   "file_extension": ".py",
   "mimetype": "text/x-python",
   "name": "python",
   "nbconvert_exporter": "python",
   "pygments_lexer": "ipython3",
   "version": "3.6.8"
  }
 },
 "nbformat": 4,
 "nbformat_minor": 2
}
