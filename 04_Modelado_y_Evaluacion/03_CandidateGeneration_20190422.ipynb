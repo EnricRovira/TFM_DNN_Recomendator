{
 "cells": [
  {
   "cell_type": "code",
   "execution_count": 9,
   "metadata": {},
   "outputs": [],
   "source": [
    "import pandas as pd\n",
    "import os, sys\n",
    "import numpy as np\n",
    "import seaborn as sns\n",
    "import gc\n",
    "\n",
    "from keras.preprocessing.sequence import pad_sequences\n",
    "from keras.preprocessing.text import Tokenizer\n",
    "from keras.layers import Embedding\n",
    "from gensim.models import Word2Vec\n",
    "\n",
    "from keras.models import Model, Sequential, load_model\n",
    "from keras.layers import Input, Flatten, Dense, Conv1D, MaxPooling1D, GlobalMaxPool1D, SpatialDropout1D, \\\n",
    "                          UpSampling1D, LSTM, RepeatVector, TimeDistributed, GRU, Bidirectional, concatenate, \\\n",
    "                          Reshape, Dropout, BatchNormalization, GlobalAveragePooling1D\n",
    "\n",
    "from keras.utils import plot_model, to_categorical\n",
    "from sklearn.neighbors import NearestNeighbors\n",
    "from sklearn.preprocessing import StandardScaler, MinMaxScaler\n",
    "from keras.utils.vis_utils import plot_model\n",
    "\n",
    "from keras.utils import to_categorical\n",
    "\n",
    "from sklearn.model_selection import train_test_split\n",
    "import matplotlib.pyplot as plt\n",
    "\n",
    "from custom_functions import norm_text, norm_brands\n",
    "\n",
    "pd.set_option('max_colwidth', 250)"
   ]
  },
  {
   "cell_type": "code",
   "execution_count": 2,
   "metadata": {},
   "outputs": [
    {
     "data": {
      "text/plain": [
       "['C:\\\\Users\\\\Enric\\\\Google Drive\\\\PROYECTOS\\\\TFM_Motor de Recomendacion\\\\Master\\\\TFM_DNN_Recomendator\\\\04_Modelado_y_Evaluacion\\\\custom_functions',\n",
       " 'C:\\\\Users\\\\Enric\\\\Anaconda3\\\\python36.zip',\n",
       " 'C:\\\\Users\\\\Enric\\\\Anaconda3\\\\DLLs',\n",
       " 'C:\\\\Users\\\\Enric\\\\Anaconda3\\\\lib',\n",
       " 'C:\\\\Users\\\\Enric\\\\Anaconda3',\n",
       " '',\n",
       " 'C:\\\\Users\\\\Enric\\\\AppData\\\\Roaming\\\\Python\\\\Python36\\\\site-packages',\n",
       " 'C:\\\\Users\\\\Enric\\\\Anaconda3\\\\lib\\\\site-packages',\n",
       " 'C:\\\\Users\\\\Enric\\\\Anaconda3\\\\lib\\\\site-packages\\\\win32',\n",
       " 'C:\\\\Users\\\\Enric\\\\Anaconda3\\\\lib\\\\site-packages\\\\win32\\\\lib',\n",
       " 'C:\\\\Users\\\\Enric\\\\Anaconda3\\\\lib\\\\site-packages\\\\Pythonwin',\n",
       " 'C:\\\\Users\\\\Enric\\\\Anaconda3\\\\lib\\\\site-packages\\\\IPython\\\\extensions',\n",
       " 'C:\\\\Users\\\\Enric\\\\.ipython']"
      ]
     },
     "execution_count": 2,
     "metadata": {},
     "output_type": "execute_result"
    }
   ],
   "source": [
    "main_dir = os.path.join(os.path.dirname(os.path.abspath('03_CandidateGeneration_20190422.ipynb')), 'custom_functions')\n",
    "sys.path.insert(0, main_dir)\n",
    "sys.path"
   ]
  },
  {
   "cell_type": "code",
   "execution_count": 3,
   "metadata": {},
   "outputs": [],
   "source": [
    "path = os.path.join('../../Data/')\n",
    "path_text_encoders = os.path.join('../03_Preparacion_de_Datos/')\n",
    "#EMbedding words = word2vec_model_v2\n",
    "#Encoder = encoder_text_V1.h5"
   ]
  },
  {
   "cell_type": "code",
   "execution_count": 4,
   "metadata": {},
   "outputs": [
    {
     "name": "stdout",
     "output_type": "stream",
     "text": [
      "['.ipynb_checkpoints', 'desktop.ini', 'encoder_text_V1.h5', 'encoder_text_V1.json', 'lda', 'lemmatization-es.txt', 'my_functions', 'PD_00_Preprocesado_20190309.ipynb', 'PD_01_GenerateCustomembedding_20190418.ipynb', 'PD_02_TextAutoencoder_20190418.ipynb', 'PD_98_LDA_Topics_0_20190313.ipynb', 'PD_99_Extra_20190421.ipynb', 'stopwords_catalan.txt', 'w2v_embedding_v1.h5', 'w2v_embedding_v1_1.h5', 'weights_encoder_text_V1.h5', 'word2vec_model_v1', 'word2vec_model_v2']\n"
     ]
    }
   ],
   "source": [
    "print (os.listdir(path_text_encoders))"
   ]
  },
  {
   "cell_type": "code",
   "execution_count": 5,
   "metadata": {},
   "outputs": [],
   "source": [
    "data = pd.read_csv(path + 'data_filtered_20190422.csv', sep = ';')\n",
    "data_customers = pd.read_csv(path + 'customers_data_2.csv', sep = ';', nrows = 70000)\n",
    "#data_text = pd.read_csv('Texto_PreProcesado_v2.csv', sep = ';')\n",
    "#data_text = data_text[['item_id', 'text']]"
   ]
  },
  {
   "cell_type": "code",
   "execution_count": 6,
   "metadata": {},
   "outputs": [
    {
     "data": {
      "text/html": [
       "<div>\n",
       "<style scoped>\n",
       "    .dataframe tbody tr th:only-of-type {\n",
       "        vertical-align: middle;\n",
       "    }\n",
       "\n",
       "    .dataframe tbody tr th {\n",
       "        vertical-align: top;\n",
       "    }\n",
       "\n",
       "    .dataframe thead th {\n",
       "        text-align: right;\n",
       "    }\n",
       "</style>\n",
       "<table border=\"1\" class=\"dataframe\">\n",
       "  <thead>\n",
       "    <tr style=\"text-align: right;\">\n",
       "      <th></th>\n",
       "      <th>item_id</th>\n",
       "      <th>availability_date</th>\n",
       "      <th>brand</th>\n",
       "      <th>category</th>\n",
       "      <th>name</th>\n",
       "      <th>price</th>\n",
       "    </tr>\n",
       "  </thead>\n",
       "  <tbody>\n",
       "    <tr>\n",
       "      <th>0</th>\n",
       "      <td>A28233506</td>\n",
       "      <td>NaN</td>\n",
       "      <td>Woman Limited El Corte Inglés</td>\n",
       "      <td>['Moda', 'Mujer', 'Abrigos']</td>\n",
       "      <td>Abrigo masculino con textura de mujer</td>\n",
       "      <td>{'final': 199, 'currency': 'EUR'}</td>\n",
       "    </tr>\n",
       "    <tr>\n",
       "      <th>1</th>\n",
       "      <td>A29054782</td>\n",
       "      <td>NaN</td>\n",
       "      <td>Woman Limited El Corte Inglés</td>\n",
       "      <td>['Moda', 'Mujer', 'Abrigos']</td>\n",
       "      <td>Abrigo doble faz de mujer con cinturón a tono</td>\n",
       "      <td>{'final': 149, 'currency': 'EUR'}</td>\n",
       "    </tr>\n",
       "    <tr>\n",
       "      <th>2</th>\n",
       "      <td>A27354432</td>\n",
       "      <td>NaN</td>\n",
       "      <td>Woman El Corte Inglés</td>\n",
       "      <td>['Moda', 'Mujer', 'Abrigos']</td>\n",
       "      <td>Abrigo largo de antelina de mujer Woman El Corte Inglés</td>\n",
       "      <td>{'final': 89.99, 'currency': 'EUR'}</td>\n",
       "    </tr>\n",
       "    <tr>\n",
       "      <th>3</th>\n",
       "      <td>A28302706</td>\n",
       "      <td>NaN</td>\n",
       "      <td>Lloyd's</td>\n",
       "      <td>['Moda', 'Mujer', 'Abrigos']</td>\n",
       "      <td>Chaqueta térmica de mujer Lloyds con efecto cortavientos</td>\n",
       "      <td>{'final': 129, 'currency': 'EUR'}</td>\n",
       "    </tr>\n",
       "    <tr>\n",
       "      <th>4</th>\n",
       "      <td>A27435502</td>\n",
       "      <td>NaN</td>\n",
       "      <td>Lloyd's</td>\n",
       "      <td>['Moda', 'Mujer', 'Abrigos']</td>\n",
       "      <td>Parka 100% algodón de mujer Lloyds con capucha</td>\n",
       "      <td>{'final': 149, 'currency': 'EUR'}</td>\n",
       "    </tr>\n",
       "  </tbody>\n",
       "</table>\n",
       "</div>"
      ],
      "text/plain": [
       "     item_id  availability_date                          brand  \\\n",
       "0  A28233506                NaN  Woman Limited El Corte Inglés   \n",
       "1  A29054782                NaN  Woman Limited El Corte Inglés   \n",
       "2  A27354432                NaN          Woman El Corte Inglés   \n",
       "3  A28302706                NaN                        Lloyd's   \n",
       "4  A27435502                NaN                        Lloyd's   \n",
       "\n",
       "                       category  \\\n",
       "0  ['Moda', 'Mujer', 'Abrigos']   \n",
       "1  ['Moda', 'Mujer', 'Abrigos']   \n",
       "2  ['Moda', 'Mujer', 'Abrigos']   \n",
       "3  ['Moda', 'Mujer', 'Abrigos']   \n",
       "4  ['Moda', 'Mujer', 'Abrigos']   \n",
       "\n",
       "                                                       name  \\\n",
       "0                     Abrigo masculino con textura de mujer   \n",
       "1             Abrigo doble faz de mujer con cinturón a tono   \n",
       "2   Abrigo largo de antelina de mujer Woman El Corte Inglés   \n",
       "3  Chaqueta térmica de mujer Lloyds con efecto cortavientos   \n",
       "4            Parka 100% algodón de mujer Lloyds con capucha   \n",
       "\n",
       "                                 price  \n",
       "0    {'final': 199, 'currency': 'EUR'}  \n",
       "1    {'final': 149, 'currency': 'EUR'}  \n",
       "2  {'final': 89.99, 'currency': 'EUR'}  \n",
       "3    {'final': 129, 'currency': 'EUR'}  \n",
       "4    {'final': 149, 'currency': 'EUR'}  "
      ]
     },
     "execution_count": 6,
     "metadata": {},
     "output_type": "execute_result"
    }
   ],
   "source": [
    "data.head()"
   ]
  },
  {
   "cell_type": "code",
   "execution_count": 7,
   "metadata": {},
   "outputs": [
    {
     "data": {
      "text/html": [
       "<div>\n",
       "<style scoped>\n",
       "    .dataframe tbody tr th:only-of-type {\n",
       "        vertical-align: middle;\n",
       "    }\n",
       "\n",
       "    .dataframe tbody tr th {\n",
       "        vertical-align: top;\n",
       "    }\n",
       "\n",
       "    .dataframe thead th {\n",
       "        text-align: right;\n",
       "    }\n",
       "</style>\n",
       "<table border=\"1\" class=\"dataframe\">\n",
       "  <thead>\n",
       "    <tr style=\"text-align: right;\">\n",
       "      <th></th>\n",
       "      <th>date</th>\n",
       "      <th>item_id</th>\n",
       "      <th>brand</th>\n",
       "      <th>PRICE</th>\n",
       "      <th>customer_id</th>\n",
       "      <th>text</th>\n",
       "    </tr>\n",
       "  </thead>\n",
       "  <tbody>\n",
       "    <tr>\n",
       "      <th>0</th>\n",
       "      <td>20190101</td>\n",
       "      <td>A26036172</td>\n",
       "      <td>Tintoretto</td>\n",
       "      <td>27,99</td>\n",
       "      <td>0</td>\n",
       "      <td>Vestido de mujer Tintoretto de flores con lazada</td>\n",
       "    </tr>\n",
       "    <tr>\n",
       "      <th>1</th>\n",
       "      <td>20190101</td>\n",
       "      <td>A26036172</td>\n",
       "      <td>Tintoretto</td>\n",
       "      <td>27,99</td>\n",
       "      <td>0</td>\n",
       "      <td>Vestido de mujer Tintoretto de flores con lazada</td>\n",
       "    </tr>\n",
       "    <tr>\n",
       "      <th>2</th>\n",
       "      <td>20190101</td>\n",
       "      <td>A26036172</td>\n",
       "      <td>Tintoretto</td>\n",
       "      <td>27,99</td>\n",
       "      <td>0</td>\n",
       "      <td>Vestido de mujer Tintoretto de flores con lazada</td>\n",
       "    </tr>\n",
       "    <tr>\n",
       "      <th>3</th>\n",
       "      <td>20190101</td>\n",
       "      <td>A26036172</td>\n",
       "      <td>Tintoretto</td>\n",
       "      <td>27,99</td>\n",
       "      <td>0</td>\n",
       "      <td>Vestido de mujer Tintoretto de flores con lazada</td>\n",
       "    </tr>\n",
       "    <tr>\n",
       "      <th>4</th>\n",
       "      <td>20190101</td>\n",
       "      <td>A26870590</td>\n",
       "      <td>Fórmula Joven</td>\n",
       "      <td>19,99</td>\n",
       "      <td>0</td>\n",
       "      <td>Vestido laminado de mujer Fórmula Joven con escote en pico</td>\n",
       "    </tr>\n",
       "  </tbody>\n",
       "</table>\n",
       "</div>"
      ],
      "text/plain": [
       "       date    item_id          brand      PRICE  customer_id  \\\n",
       "0  20190101  A26036172     Tintoretto  27,99                0   \n",
       "1  20190101  A26036172     Tintoretto  27,99                0   \n",
       "2  20190101  A26036172     Tintoretto  27,99                0   \n",
       "3  20190101  A26036172     Tintoretto  27,99                0   \n",
       "4  20190101  A26870590  Fórmula Joven  19,99                0   \n",
       "\n",
       "                                                         text  \n",
       "0            Vestido de mujer Tintoretto de flores con lazada  \n",
       "1            Vestido de mujer Tintoretto de flores con lazada  \n",
       "2            Vestido de mujer Tintoretto de flores con lazada  \n",
       "3            Vestido de mujer Tintoretto de flores con lazada  \n",
       "4  Vestido laminado de mujer Fórmula Joven con escote en pico  "
      ]
     },
     "execution_count": 7,
     "metadata": {},
     "output_type": "execute_result"
    }
   ],
   "source": [
    "data_customers.head()"
   ]
  },
  {
   "cell_type": "code",
   "execution_count": 10,
   "metadata": {},
   "outputs": [
    {
     "ename": "NameError",
     "evalue": "name 're' is not defined",
     "output_type": "error",
     "traceback": [
      "\u001b[1;31m---------------------------------------------------------------------------\u001b[0m",
      "\u001b[1;31mNameError\u001b[0m                                 Traceback (most recent call last)",
      "\u001b[1;32m<timed exec>\u001b[0m in \u001b[0;36m<module>\u001b[1;34m\u001b[0m\n",
      "\u001b[1;32m~\\Google Drive\\PROYECTOS\\TFM_Motor de Recomendacion\\Master\\TFM_DNN_Recomendator\\04_Modelado_y_Evaluacion\\custom_functions\\norm_brands.py\u001b[0m in \u001b[0;36mlaunch_noramlizer\u001b[1;34m(df)\u001b[0m\n\u001b[0;32m     30\u001b[0m \u001b[1;33m\u001b[0m\u001b[0m\n\u001b[0;32m     31\u001b[0m \u001b[1;32mdef\u001b[0m \u001b[0mlaunch_noramlizer\u001b[0m\u001b[1;33m(\u001b[0m\u001b[0mdf\u001b[0m\u001b[1;33m)\u001b[0m\u001b[1;33m:\u001b[0m\u001b[1;33m\u001b[0m\u001b[1;33m\u001b[0m\u001b[0m\n\u001b[1;32m---> 32\u001b[1;33m     \u001b[0mdf\u001b[0m\u001b[1;33m[\u001b[0m\u001b[1;34m'brand'\u001b[0m\u001b[1;33m]\u001b[0m \u001b[1;33m=\u001b[0m \u001b[0mdf\u001b[0m\u001b[1;33m[\u001b[0m\u001b[1;34m'brand'\u001b[0m\u001b[1;33m]\u001b[0m\u001b[1;33m.\u001b[0m\u001b[0mapply\u001b[0m\u001b[1;33m(\u001b[0m\u001b[0mnormalize_brands\u001b[0m\u001b[1;33m)\u001b[0m\u001b[1;33m\u001b[0m\u001b[1;33m\u001b[0m\u001b[0m\n\u001b[0m\u001b[0;32m     33\u001b[0m     \u001b[0mbrands\u001b[0m \u001b[1;33m=\u001b[0m \u001b[0mlist\u001b[0m\u001b[1;33m(\u001b[0m\u001b[0mdict\u001b[0m\u001b[1;33m.\u001b[0m\u001b[0mfromkeys\u001b[0m\u001b[1;33m(\u001b[0m\u001b[0mdf\u001b[0m\u001b[1;33m[\u001b[0m\u001b[1;34m'brand'\u001b[0m\u001b[1;33m]\u001b[0m\u001b[1;33m.\u001b[0m\u001b[0mvalues\u001b[0m\u001b[1;33m)\u001b[0m\u001b[1;33m)\u001b[0m\u001b[1;33m\u001b[0m\u001b[1;33m\u001b[0m\u001b[0m\n\u001b[0;32m     34\u001b[0m     \u001b[0mbrands\u001b[0m\u001b[1;33m.\u001b[0m\u001b[0mremove\u001b[0m\u001b[1;33m(\u001b[0m\u001b[1;34m'marvel'\u001b[0m\u001b[1;33m)\u001b[0m\u001b[1;33m\u001b[0m\u001b[1;33m\u001b[0m\u001b[0m\n",
      "\u001b[1;32m~\\Anaconda3\\lib\\site-packages\\pandas\\core\\series.py\u001b[0m in \u001b[0;36mapply\u001b[1;34m(self, func, convert_dtype, args, **kwds)\u001b[0m\n\u001b[0;32m   3589\u001b[0m             \u001b[1;32melse\u001b[0m\u001b[1;33m:\u001b[0m\u001b[1;33m\u001b[0m\u001b[1;33m\u001b[0m\u001b[0m\n\u001b[0;32m   3590\u001b[0m                 \u001b[0mvalues\u001b[0m \u001b[1;33m=\u001b[0m \u001b[0mself\u001b[0m\u001b[1;33m.\u001b[0m\u001b[0mastype\u001b[0m\u001b[1;33m(\u001b[0m\u001b[0mobject\u001b[0m\u001b[1;33m)\u001b[0m\u001b[1;33m.\u001b[0m\u001b[0mvalues\u001b[0m\u001b[1;33m\u001b[0m\u001b[1;33m\u001b[0m\u001b[0m\n\u001b[1;32m-> 3591\u001b[1;33m                 \u001b[0mmapped\u001b[0m \u001b[1;33m=\u001b[0m \u001b[0mlib\u001b[0m\u001b[1;33m.\u001b[0m\u001b[0mmap_infer\u001b[0m\u001b[1;33m(\u001b[0m\u001b[0mvalues\u001b[0m\u001b[1;33m,\u001b[0m \u001b[0mf\u001b[0m\u001b[1;33m,\u001b[0m \u001b[0mconvert\u001b[0m\u001b[1;33m=\u001b[0m\u001b[0mconvert_dtype\u001b[0m\u001b[1;33m)\u001b[0m\u001b[1;33m\u001b[0m\u001b[1;33m\u001b[0m\u001b[0m\n\u001b[0m\u001b[0;32m   3592\u001b[0m \u001b[1;33m\u001b[0m\u001b[0m\n\u001b[0;32m   3593\u001b[0m         \u001b[1;32mif\u001b[0m \u001b[0mlen\u001b[0m\u001b[1;33m(\u001b[0m\u001b[0mmapped\u001b[0m\u001b[1;33m)\u001b[0m \u001b[1;32mand\u001b[0m \u001b[0misinstance\u001b[0m\u001b[1;33m(\u001b[0m\u001b[0mmapped\u001b[0m\u001b[1;33m[\u001b[0m\u001b[1;36m0\u001b[0m\u001b[1;33m]\u001b[0m\u001b[1;33m,\u001b[0m \u001b[0mSeries\u001b[0m\u001b[1;33m)\u001b[0m\u001b[1;33m:\u001b[0m\u001b[1;33m\u001b[0m\u001b[1;33m\u001b[0m\u001b[0m\n",
      "\u001b[1;32mpandas\\_libs\\lib.pyx\u001b[0m in \u001b[0;36mpandas._libs.lib.map_infer\u001b[1;34m()\u001b[0m\n",
      "\u001b[1;32m~\\Google Drive\\PROYECTOS\\TFM_Motor de Recomendacion\\Master\\TFM_DNN_Recomendator\\04_Modelado_y_Evaluacion\\custom_functions\\norm_brands.py\u001b[0m in \u001b[0;36mnormalize_brands\u001b[1;34m(words)\u001b[0m\n\u001b[0;32m     24\u001b[0m     \u001b[0mwords\u001b[0m  \u001b[1;33m=\u001b[0m \u001b[0mwords\u001b[0m\u001b[1;33m.\u001b[0m\u001b[0mstrip\u001b[0m\u001b[1;33m(\u001b[0m\u001b[1;33m)\u001b[0m\u001b[1;33m.\u001b[0m\u001b[0msplit\u001b[0m\u001b[1;33m(\u001b[0m\u001b[1;33m)\u001b[0m\u001b[1;33m\u001b[0m\u001b[1;33m\u001b[0m\u001b[0m\n\u001b[0;32m     25\u001b[0m     \u001b[0mwords\u001b[0m \u001b[1;33m=\u001b[0m \u001b[0mto_lowercase\u001b[0m\u001b[1;33m(\u001b[0m\u001b[0mwords\u001b[0m\u001b[1;33m)\u001b[0m\u001b[1;33m\u001b[0m\u001b[1;33m\u001b[0m\u001b[0m\n\u001b[1;32m---> 26\u001b[1;33m     \u001b[0mwords\u001b[0m \u001b[1;33m=\u001b[0m \u001b[0mremove_punctuation\u001b[0m\u001b[1;33m(\u001b[0m\u001b[0mwords\u001b[0m\u001b[1;33m)\u001b[0m\u001b[1;33m\u001b[0m\u001b[1;33m\u001b[0m\u001b[0m\n\u001b[0m\u001b[0;32m     27\u001b[0m     \u001b[0mwords\u001b[0m \u001b[1;33m=\u001b[0m \u001b[0mlist\u001b[0m\u001b[1;33m(\u001b[0m\u001b[0mdict\u001b[0m\u001b[1;33m.\u001b[0m\u001b[0mfromkeys\u001b[0m\u001b[1;33m(\u001b[0m\u001b[0mwords\u001b[0m\u001b[1;33m)\u001b[0m\u001b[1;33m)\u001b[0m \u001b[1;31m#Remove duplicates\u001b[0m\u001b[1;33m\u001b[0m\u001b[1;33m\u001b[0m\u001b[0m\n\u001b[0;32m     28\u001b[0m     \u001b[0mwords\u001b[0m \u001b[1;33m=\u001b[0m \u001b[1;34m\" \"\u001b[0m\u001b[1;33m.\u001b[0m\u001b[0mjoin\u001b[0m\u001b[1;33m(\u001b[0m\u001b[0mwords\u001b[0m\u001b[1;33m)\u001b[0m\u001b[1;33m\u001b[0m\u001b[1;33m\u001b[0m\u001b[0m\n",
      "\u001b[1;32m~\\Google Drive\\PROYECTOS\\TFM_Motor de Recomendacion\\Master\\TFM_DNN_Recomendator\\04_Modelado_y_Evaluacion\\custom_functions\\norm_brands.py\u001b[0m in \u001b[0;36mremove_punctuation\u001b[1;34m(words)\u001b[0m\n\u001b[0;32m     15\u001b[0m     \u001b[0mnew_words\u001b[0m \u001b[1;33m=\u001b[0m \u001b[1;33m[\u001b[0m\u001b[1;33m]\u001b[0m\u001b[1;33m\u001b[0m\u001b[1;33m\u001b[0m\u001b[0m\n\u001b[0;32m     16\u001b[0m     \u001b[1;32mfor\u001b[0m \u001b[0mword\u001b[0m \u001b[1;32min\u001b[0m \u001b[0mwords\u001b[0m\u001b[1;33m:\u001b[0m\u001b[1;33m\u001b[0m\u001b[1;33m\u001b[0m\u001b[0m\n\u001b[1;32m---> 17\u001b[1;33m         \u001b[0mnew_word\u001b[0m \u001b[1;33m=\u001b[0m \u001b[0mre\u001b[0m\u001b[1;33m.\u001b[0m\u001b[0msub\u001b[0m\u001b[1;33m(\u001b[0m\u001b[1;34mr'[^\\w\\s]'\u001b[0m\u001b[1;33m,\u001b[0m \u001b[1;34m''\u001b[0m\u001b[1;33m,\u001b[0m \u001b[0mword\u001b[0m\u001b[1;33m)\u001b[0m\u001b[1;33m\u001b[0m\u001b[1;33m\u001b[0m\u001b[0m\n\u001b[0m\u001b[0;32m     18\u001b[0m         \u001b[1;32mif\u001b[0m \u001b[0mnew_word\u001b[0m \u001b[1;33m!=\u001b[0m \u001b[1;34m''\u001b[0m\u001b[1;33m:\u001b[0m\u001b[1;33m\u001b[0m\u001b[1;33m\u001b[0m\u001b[0m\n\u001b[0;32m     19\u001b[0m             \u001b[0mnew_words\u001b[0m\u001b[1;33m.\u001b[0m\u001b[0mappend\u001b[0m\u001b[1;33m(\u001b[0m\u001b[0mnew_word\u001b[0m\u001b[1;33m)\u001b[0m\u001b[1;33m\u001b[0m\u001b[1;33m\u001b[0m\u001b[0m\n",
      "\u001b[1;31mNameError\u001b[0m: name 're' is not defined"
     ]
    }
   ],
   "source": [
    "%%time\n",
    "#5min\n",
    "brands = norm_brands.launch_noramlizer(data_customers)\n",
    "data_customers['text'] = data_customers['text'].apply(norm_text.normalize, brands)"
   ]
  },
  {
   "cell_type": "code",
   "execution_count": null,
   "metadata": {},
   "outputs": [],
   "source": [
    "data_customers.columns = data_customers.columns.str.strip()\n",
    "data_customers.PRICE = data_customers.PRICE.apply(lambda x: x.strip())\n",
    "#data_customers.brand = data_customers.brand.apply(lambda x: x.strip())\n",
    "data_customers.PRICE = data_customers.PRICE.str.replace('.', '')\n",
    "data_customers.PRICE = data_customers.PRICE.str.replace(',', '.')\n",
    "data_customers.PRICE = pd.to_numeric(data_customers['PRICE'])\n",
    "data_customers.item_id = data_customers.item_id.apply(lambda x: x.strip())\n",
    "data.item_id = data.item_id.apply(lambda x: x.strip())"
   ]
  },
  {
   "cell_type": "code",
   "execution_count": null,
   "metadata": {},
   "outputs": [],
   "source": [
    "data.columns = data.columns.str.strip()\n",
    "#data['availability_date'].fillna(0, inplace=True)\n",
    "data_customers['item_age'] = -1 * (data_customers['date'] - data['availability_date'])\n",
    "data_customers['item_age'].fillna(0, inplace=True)"
   ]
  },
  {
   "cell_type": "code",
   "execution_count": null,
   "metadata": {},
   "outputs": [],
   "source": [
    "customers_unique = data_customers.customer_id.unique()\n",
    "items_unique = data_customers.item_id.unique()\n",
    "brand_unique = data_customers.brand.unique()\n",
    "\n",
    "print (f'We have {len(customers_unique)} unique users and {len(items_unique)} unique items and {len(brand_unique)} unique brands')"
   ]
  },
  {
   "cell_type": "markdown",
   "metadata": {},
   "source": [
    "### We need integer data to be able to feed the NN"
   ]
  },
  {
   "cell_type": "code",
   "execution_count": null,
   "metadata": {},
   "outputs": [],
   "source": [
    "customers_map = {i:val for i,val in enumerate(customers_unique)}\n",
    "customers_map_inv = {val:i for i,val in enumerate(customers_unique)}\n",
    "\n",
    "items_map = {i:val for i,val in enumerate(items_unique)}\n",
    "items_map_inv = {val:i for i,val in enumerate(items_unique)}\n",
    "\n",
    "brands_map = {i:val for i,val in enumerate(brand_unique)}\n",
    "brands_map_inv = {val:i for i,val in enumerate(brand_unique)}"
   ]
  },
  {
   "cell_type": "code",
   "execution_count": null,
   "metadata": {},
   "outputs": [],
   "source": [
    "data_customers['customer_id_int'] = data_customers['customer_id'].map(customers_map_inv)\n",
    "data_customers['item_id_int'] = data_customers['item_id'].map(items_map_inv)\n",
    "data_customers['brand_id'] = data_customers['brand'].map(brands_map_inv)\n",
    "data_customers.shape"
   ]
  },
  {
   "cell_type": "code",
   "execution_count": null,
   "metadata": {},
   "outputs": [],
   "source": [
    "data_score = data_customers.groupby(['customer_id_int', 'item_id_int']).size().to_frame('score').reset_index().sort_values(by = 'score',ascending = False)"
   ]
  },
  {
   "cell_type": "code",
   "execution_count": null,
   "metadata": {},
   "outputs": [],
   "source": [
    "data_final = pd.merge(data_customers, data_score, how = 'inner')\n",
    "#data_final = pd.merge(data_final, data_text, how = 'inner')\n",
    "#data_final = data_customers"
   ]
  },
  {
   "cell_type": "code",
   "execution_count": null,
   "metadata": {},
   "outputs": [],
   "source": [
    "#remove duplicates due to agrupation, if a customer bought a item 2 times i only want 1 row with score 2, instead of 2 rows\n",
    "data_final.drop_duplicates(inplace=True)\n",
    "data_final.dropna(how = 'any', inplace = True)\n",
    "\n",
    "print(data_final.shape)\n",
    "data_final.head()"
   ]
  },
  {
   "cell_type": "code",
   "execution_count": null,
   "metadata": {},
   "outputs": [],
   "source": [
    "sns.distplot(data_score['score'], bins = 1);"
   ]
  },
  {
   "cell_type": "markdown",
   "metadata": {},
   "source": [
    "## Vectorize sentences"
   ]
  },
  {
   "cell_type": "code",
   "execution_count": null,
   "metadata": {},
   "outputs": [],
   "source": [
    "MAX_NB_WORDS = 30_000 #decided by cumsum wordcount plot (Script 01)\n",
    "MAX_SEQUENCE_LENGTH = 24 #decided by max words in a product (Script 00)\n",
    "EMBEDDING_DIM = 100 #Same dim as our W2V embedding\n",
    "\n",
    "all_text = data_final['text']\n",
    "all_text = all_text.drop_duplicates (keep = False)\n",
    "\n",
    "tokenizer = Tokenizer(num_words=MAX_NB_WORDS, )\n",
    "tokenizer.fit_on_texts(all_text)\n",
    "\n",
    "data_sequences = tokenizer.texts_to_sequences(data_final['text'])\n",
    "data_vec = pad_sequences(data_sequences, maxlen=MAX_SEQUENCE_LENGTH)\n",
    "\n",
    "word_index = tokenizer.word_index\n",
    "print('Found %s unique tokens.' % len(word_index))"
   ]
  },
  {
   "cell_type": "code",
   "execution_count": null,
   "metadata": {},
   "outputs": [],
   "source": [
    "len(data_vec)"
   ]
  },
  {
   "cell_type": "code",
   "execution_count": null,
   "metadata": {},
   "outputs": [],
   "source": [
    "data_final.shape"
   ]
  },
  {
   "cell_type": "code",
   "execution_count": null,
   "metadata": {},
   "outputs": [],
   "source": [
    "modelWV = Word2Vec.load('word2vec_model_v2')\n",
    "#encoder = load_model('encoder_text_V1.h5')"
   ]
  },
  {
   "cell_type": "code",
   "execution_count": null,
   "metadata": {},
   "outputs": [],
   "source": [
    "#lstm_emb = encoder.get_layer('ENCODER')\n",
    "#encoder.summary()"
   ]
  },
  {
   "cell_type": "code",
   "execution_count": null,
   "metadata": {},
   "outputs": [],
   "source": [
    "word_vectors = modelWV.wv\n",
    "vocabulary_size = len(word_index) + 1\n",
    "embedding_matrix = np.zeros((len(word_index) + 1, EMBEDDING_DIM))\n",
    "\n",
    "for word, i in word_index.items():\n",
    "    if word in modelWV:\n",
    "        embedding_matrix[i] = modelWV[word]\n",
    "    else:\n",
    "        embedding_matrix[i] = np.random.rand(1, EMBEDDING_DIM)[0]\n",
    "            \n",
    "\n",
    "del(word_vectors)\n",
    "gc.collect()"
   ]
  },
  {
   "cell_type": "markdown",
   "metadata": {},
   "source": [
    "## Output"
   ]
  },
  {
   "cell_type": "code",
   "execution_count": null,
   "metadata": {},
   "outputs": [],
   "source": [
    "del (data, data_score, data_customers)"
   ]
  },
  {
   "cell_type": "code",
   "execution_count": null,
   "metadata": {},
   "outputs": [],
   "source": [
    "gc.collect()"
   ]
  },
  {
   "cell_type": "code",
   "execution_count": null,
   "metadata": {},
   "outputs": [],
   "source": [
    "CAT_ITEMS = len(items_unique)"
   ]
  },
  {
   "cell_type": "code",
   "execution_count": null,
   "metadata": {},
   "outputs": [],
   "source": [
    "#train_df, test_df = train_test_split(data_final, test_size=0.1, random_state = 12)\n",
    "#print(f'{len(train_df)} train rows, {len(test_df)} validate rows')"
   ]
  },
  {
   "cell_type": "code",
   "execution_count": null,
   "metadata": {},
   "outputs": [],
   "source": [
    "#train_items_encoded = to_categorical(train_df['item_id_int'], num_classes = CAT_ITEMS)\n",
    "#test_items_encoded = to_categorical(test_df['item_id_int'], num_classes = CAT_ITEMS)\n",
    "items_encoded = to_categorical(data_final['item_id_int'], num_classes = CAT_ITEMS)\n",
    "print(items_encoded)"
   ]
  },
  {
   "cell_type": "code",
   "execution_count": null,
   "metadata": {},
   "outputs": [],
   "source": [
    "items_encoded.shape"
   ]
  },
  {
   "cell_type": "markdown",
   "metadata": {},
   "source": [
    "## Scale continuous data"
   ]
  },
  {
   "cell_type": "code",
   "execution_count": null,
   "metadata": {},
   "outputs": [],
   "source": [
    "#scaler = StandardScaler()\n",
    "scaler = MinMaxScaler()\n",
    "data_to_scale = data_final[['PRICE','score', 'item_age']]\n",
    "scaled_data = scaler.fit_transform(data_to_scale.values)"
   ]
  },
  {
   "cell_type": "code",
   "execution_count": null,
   "metadata": {},
   "outputs": [],
   "source": [
    "data_final['PRICE'] = scaled_data[:,0]\n",
    "data_final['score'] = scaled_data[:,1]\n",
    "data_final['item_age'] = scaled_data[:,2]\n",
    "\n",
    "data_final['power_price'] = np.power(scaled_data[:,0], 2)\n",
    "data_final['power_score'] = np.power(scaled_data[:,1], 2)\n",
    "data_final['power_item_age'] = np.power(scaled_data[:,1], 2)\n",
    "\n",
    "data_final['sqrt_price'] = np.sqrt(scaled_data[:,0])\n",
    "data_final['sqrt_score'] = np.sqrt(scaled_data[:,1])\n",
    "data_final['sqrt_item_age'] = np.sqrt(scaled_data[:,1])\n"
   ]
  },
  {
   "cell_type": "code",
   "execution_count": null,
   "metadata": {},
   "outputs": [],
   "source": [
    "sns.distplot(data_final['score'], bins = 1);"
   ]
  },
  {
   "cell_type": "markdown",
   "metadata": {},
   "source": [
    "## Architecture"
   ]
  },
  {
   "cell_type": "code",
   "execution_count": null,
   "metadata": {},
   "outputs": [],
   "source": [
    "data_final.head(3)"
   ]
  },
  {
   "cell_type": "code",
   "execution_count": null,
   "metadata": {},
   "outputs": [],
   "source": [
    "user_id_input = Input(shape=[1], name='user')\n",
    "item_id_input = Input(shape=[1], name='item')\n",
    "brand_id_input = Input(shape = [1], name = 'brand')\n",
    "\n",
    "price_input = Input(shape = [1], name = 'price')\n",
    "score_input = Input(shape = [1], name = 'score')\n",
    "item_age_input = Input(shape = [1], name = 'item_age')\n",
    "\n",
    "price_power_input = Input(shape = [1], name = 'power_price')\n",
    "score_power_input = Input(shape = [1], name = 'power_score')\n",
    "item_age_power_input = Input(shape = [1], name = 'power_item_age')\n",
    "\n",
    "price_sqrt_input = Input(shape = [1], name = 'sqrt_price')\n",
    "score_sqrt_input = Input(shape = [1], name = 'sqrt_score')\n",
    "item_age_sqrt_input = Input(shape = [1], name = 'sqrt_item_age')\n",
    "\n",
    "#text_input = Input(shape=(MAX_SEQUENCE_LENGTH, EMBEDDING_DIM), name = 'text_input')\n",
    "\n",
    "sequence_input = Input(shape = (MAX_SEQUENCE_LENGTH, ), name = 'text')\n",
    "\n",
    "embedding_size = 50\n",
    "\n",
    "user_embedding = Embedding(output_dim=embedding_size, input_dim = customers_unique.shape[0],\n",
    "                           input_length=1, name='user_embedding')(user_id_input)\n",
    "item_embedding = Embedding(output_dim=embedding_size, input_dim = items_unique.shape[0],\n",
    "                           input_length=1, name='item_embedding')(item_id_input)\n",
    "brand_embedding = Embedding(output_dim=embedding_size, input_dim = brand_unique.shape[0],\n",
    "                           input_length=1, name='brand_embedding')(brand_id_input)\n",
    "\n",
    "text_embedding = Embedding(*embedding_matrix.shape, weights = [embedding_matrix], trainable = False)(sequence_input)\n",
    "\n",
    "#text_embedding = encoder([text_input, text_input])\n",
    "\n",
    "user_vecs = Reshape([embedding_size])(user_embedding)\n",
    "item_vecs = Reshape([embedding_size])(item_embedding)\n",
    "gav_pool = GlobalAveragePooling1D()(text_embedding)\n",
    "brand_vecs = Reshape([embedding_size])(brand_embedding)\n",
    "\n",
    "x1 = concatenate([user_vecs, item_vecs, brand_vecs, price_input, gav_pool, item_age_input, score_input,\n",
    "                 price_power_input, score_power_input, item_age_power_input,\n",
    "                 price_sqrt_input, score_sqrt_input, item_age_sqrt_input], name = 'VECTOR_PRODUCTO')\n",
    "\n",
    "x2 = Dropout(0.4)(x1)\n",
    "x3 = Dense (256, activation = 'relu')(x2)\n",
    "x4 = Dropout(0.3)(x3)\n",
    "x5 = Dense(128, activation = 'relu')(x4)\n",
    "x6 = Dropout(0.2)(x5)\n",
    "x7 = Dense(32, activation = 'relu')(x6)\n",
    "x8 = Dropout(0.2)(x7)\n",
    "\n",
    "output = Dense(CAT_ITEMS, activation = 'softmax' )(x8)\n",
    "\n",
    "model = Model(inputs=[user_id_input, item_id_input, brand_id_input, price_input, sequence_input, item_age_input, score_input,\n",
    "                     price_power_input, score_power_input, item_age_power_input,\n",
    "                     price_sqrt_input, score_sqrt_input, item_age_sqrt_input], \n",
    "              outputs = output)\n",
    "\n",
    "model.compile(loss = 'categorical_crossentropy',\n",
    "              optimizer = 'adam',\n",
    "              metrics = ['acc'])\n",
    "\n",
    "model.summary()"
   ]
  },
  {
   "cell_type": "code",
   "execution_count": null,
   "metadata": {},
   "outputs": [],
   "source": [
    "data_final.head(2)"
   ]
  },
  {
   "cell_type": "code",
   "execution_count": null,
   "metadata": {},
   "outputs": [],
   "source": [
    "history = model.fit([data_final['customer_id_int'], data_final['item_id_int'], \n",
    "                     data_final['brand_id'], data_final['PRICE'],\n",
    "                     data_vec, data_final['item_age'], data_final['score'],\n",
    "                     data_final['power_price'], data_final['power_score'], data_final['power_item_age'],\n",
    "                     data_final['sqrt_price'], data_final['sqrt_score'], data_final['sqrt_item_age']],\n",
    "                     items_encoded,\n",
    "                     epochs = 20, \n",
    "                     batch_size = 64,\n",
    "                     shuffle = True)\n",
    "\n",
    "#Epoch 10 = loss = 7.8485 & acc = 0.0532\n",
    "#Epoch 20 = loss = 5.4801 & acc = 0.1083"
   ]
  },
  {
   "cell_type": "code",
   "execution_count": null,
   "metadata": {},
   "outputs": [],
   "source": [
    "plt.plot(history.history['acc'])\n",
    "#plt.plot(history.history['val_acc'])\n",
    "plt.title('Model accuracy')\n",
    "plt.ylabel('Accuracy')\n",
    "plt.xlabel('Epoch')\n",
    "plt.legend(['Train', 'Test'], loc='upper left')\n",
    "plt.show()\n",
    "\n",
    "# Plot training & validation loss values\n",
    "plt.plot(history.history['loss'])\n",
    "#plt.plot(history.history['val_loss'])\n",
    "plt.title('Model loss')\n",
    "plt.ylabel('Loss')\n",
    "plt.xlabel('Epoch')\n",
    "plt.legend(['Train', 'Test'], loc='upper left')\n",
    "plt.show()"
   ]
  },
  {
   "cell_type": "code",
   "execution_count": null,
   "metadata": {},
   "outputs": [],
   "source": [
    "test_pred = model.predict([data_final['customer_id_int'], data_final['item_id_int'], \n",
    "                     data_final['brand_id'], data_final['PRICE'],\n",
    "                     data_vec, data_final['item_age'], data_final['score'],\n",
    "                     data_final['power_price'], data_final['power_score'], data_final['power_item_age']],\n",
    "                     verbose = 1)"
   ]
  },
  {
   "cell_type": "code",
   "execution_count": null,
   "metadata": {},
   "outputs": [],
   "source": [
    "score = model.evaluate([data_final['customer_id_int'], data_final['item_id_int'], \n",
    "                     data_final['brand_id'], data_final['PRICE'],\n",
    "                     data_vec, data_final['item_age'], data_final['score'],\n",
    "                     data_final['power_price'], data_final['power_score'], data_final['power_item_age']],\n",
    "                     items_encoded, verbose=1)\n",
    "print('Test loss:', score[0])\n",
    "print('Test accuracy:', score[1])\n",
    "\n",
    "# Test loss = 8.7091\n",
    "# Test acc = 0.0089"
   ]
  },
  {
   "cell_type": "code",
   "execution_count": null,
   "metadata": {},
   "outputs": [],
   "source": [
    "test_pred.shape"
   ]
  },
  {
   "cell_type": "code",
   "execution_count": null,
   "metadata": {},
   "outputs": [],
   "source": [
    "test_pred[:10]"
   ]
  },
  {
   "cell_type": "code",
   "execution_count": null,
   "metadata": {},
   "outputs": [],
   "source": [
    "CUSTOMER = 101"
   ]
  },
  {
   "cell_type": "code",
   "execution_count": null,
   "metadata": {},
   "outputs": [],
   "source": [
    "top10 = test_pred[CUSTOMER].argsort()[-1000:][::-1] #items positions"
   ]
  },
  {
   "cell_type": "code",
   "execution_count": null,
   "metadata": {},
   "outputs": [],
   "source": [
    "items_unique[top10]"
   ]
  },
  {
   "cell_type": "code",
   "execution_count": null,
   "metadata": {},
   "outputs": [],
   "source": [
    "data = pd.read_csv('data_filtered_20190422.csv', sep = ';')"
   ]
  },
  {
   "cell_type": "code",
   "execution_count": null,
   "metadata": {},
   "outputs": [],
   "source": [
    "data[data['item_id'].isin(items_unique[top10])]"
   ]
  },
  {
   "cell_type": "code",
   "execution_count": null,
   "metadata": {},
   "outputs": [],
   "source": [
    "data_final.loc[CUSTOMER]['customer_id_int']"
   ]
  },
  {
   "cell_type": "code",
   "execution_count": null,
   "metadata": {},
   "outputs": [],
   "source": [
    "data_final[data_final.customer_id_int == 101]"
   ]
  },
  {
   "cell_type": "code",
   "execution_count": null,
   "metadata": {},
   "outputs": [],
   "source": [
    "del data\n",
    "gc.collect()"
   ]
  },
  {
   "cell_type": "code",
   "execution_count": null,
   "metadata": {},
   "outputs": [],
   "source": []
  }
 ],
 "metadata": {
  "kernelspec": {
   "display_name": "Python 3",
   "language": "python",
   "name": "python3"
  },
  "language_info": {
   "codemirror_mode": {
    "name": "ipython",
    "version": 3
   },
   "file_extension": ".py",
   "mimetype": "text/x-python",
   "name": "python",
   "nbconvert_exporter": "python",
   "pygments_lexer": "ipython3",
   "version": "3.6.8"
  }
 },
 "nbformat": 4,
 "nbformat_minor": 2
}
