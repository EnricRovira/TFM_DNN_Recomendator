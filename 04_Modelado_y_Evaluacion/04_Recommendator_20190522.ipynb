{
 "cells": [
  {
   "cell_type": "markdown",
   "metadata": {},
   "source": [
    "# Let´s recommend!!"
   ]
  },
  {
   "cell_type": "markdown",
   "metadata": {},
   "source": [
    "We will load the model that generate candidates and create a function that receives a customer as input and returns a top of N products to be recommended. We will evaluate the results afterwords."
   ]
  },
  {
   "cell_type": "code",
   "execution_count": 36,
   "metadata": {},
   "outputs": [],
   "source": [
    "import pandas as pd\n",
    "import os, sys\n",
    "import numpy as np\n",
    "import seaborn as sns\n",
    "import gc\n",
    "import warnings\n",
    "import matplotlib.pyplot as plt\n",
    "\n",
    "from tensorflow.keras.models import Model, Sequential, load_model\n",
    "from tensorflow.keras.preprocessing.sequence import pad_sequences\n",
    "from tensorflow.keras.preprocessing.text import Tokenizer\n",
    "from tensorflow.keras.layers import Embedding\n",
    "from gensim.models import Word2Vec"
   ]
  },
  {
   "cell_type": "code",
   "execution_count": 37,
   "metadata": {},
   "outputs": [],
   "source": [
    "path = os.path.join('../../Data/')\n",
    "data = pd.read_csv(path + 'data_filtered_20190422.csv', sep = ';')\n",
    "data_processed = pd.read_csv('data_final_20190525.csv')\n",
    "data_processed['text'] = data_processed['text'].astype(str)"
   ]
  },
  {
   "cell_type": "code",
   "execution_count": 38,
   "metadata": {},
   "outputs": [],
   "source": [
    "items_unique = data_processed.item_id.unique()\n",
    "items_map = {i:val for i,val in enumerate(items_unique)}\n",
    "items_map_inv = {val:i for i,val in enumerate(items_unique)}\n",
    "items_map_text = data_processed.set_index('item_id_int').text.to_dict()"
   ]
  },
  {
   "cell_type": "code",
   "execution_count": 39,
   "metadata": {},
   "outputs": [],
   "source": [
    "idx_customers_map = {i:val for i,val in enumerate(data_processed['customer_id_int'])}\n",
    "idx_customers_df = pd.DataFrame({'idx': data_processed.index.values, 'customer_id_int': data_processed.customer_id_int})"
   ]
  },
  {
   "cell_type": "code",
   "execution_count": 40,
   "metadata": {},
   "outputs": [
    {
     "data": {
      "text/html": [
       "<div>\n",
       "<style scoped>\n",
       "    .dataframe tbody tr th:only-of-type {\n",
       "        vertical-align: middle;\n",
       "    }\n",
       "\n",
       "    .dataframe tbody tr th {\n",
       "        vertical-align: top;\n",
       "    }\n",
       "\n",
       "    .dataframe thead th {\n",
       "        text-align: right;\n",
       "    }\n",
       "</style>\n",
       "<table border=\"1\" class=\"dataframe\">\n",
       "  <thead>\n",
       "    <tr style=\"text-align: right;\">\n",
       "      <th></th>\n",
       "      <th>item_id</th>\n",
       "      <th>availability_date</th>\n",
       "      <th>brand</th>\n",
       "      <th>category</th>\n",
       "      <th>name</th>\n",
       "      <th>price</th>\n",
       "    </tr>\n",
       "  </thead>\n",
       "  <tbody>\n",
       "    <tr>\n",
       "      <th>0</th>\n",
       "      <td>A28233506</td>\n",
       "      <td>NaN</td>\n",
       "      <td>Woman Limited El Corte Inglés</td>\n",
       "      <td>['Moda', 'Mujer', 'Abrigos']</td>\n",
       "      <td>Abrigo masculino con textura de mujer</td>\n",
       "      <td>{'final': 199, 'currency': 'EUR'}</td>\n",
       "    </tr>\n",
       "    <tr>\n",
       "      <th>1</th>\n",
       "      <td>A29054782</td>\n",
       "      <td>NaN</td>\n",
       "      <td>Woman Limited El Corte Inglés</td>\n",
       "      <td>['Moda', 'Mujer', 'Abrigos']</td>\n",
       "      <td>Abrigo doble faz de mujer con cinturón a tono</td>\n",
       "      <td>{'final': 149, 'currency': 'EUR'}</td>\n",
       "    </tr>\n",
       "    <tr>\n",
       "      <th>2</th>\n",
       "      <td>A27354432</td>\n",
       "      <td>NaN</td>\n",
       "      <td>Woman El Corte Inglés</td>\n",
       "      <td>['Moda', 'Mujer', 'Abrigos']</td>\n",
       "      <td>Abrigo largo de antelina de mujer Woman El Cor...</td>\n",
       "      <td>{'final': 89.99, 'currency': 'EUR'}</td>\n",
       "    </tr>\n",
       "  </tbody>\n",
       "</table>\n",
       "</div>"
      ],
      "text/plain": [
       "     item_id  availability_date                          brand  \\\n",
       "0  A28233506                NaN  Woman Limited El Corte Inglés   \n",
       "1  A29054782                NaN  Woman Limited El Corte Inglés   \n",
       "2  A27354432                NaN          Woman El Corte Inglés   \n",
       "\n",
       "                       category  \\\n",
       "0  ['Moda', 'Mujer', 'Abrigos']   \n",
       "1  ['Moda', 'Mujer', 'Abrigos']   \n",
       "2  ['Moda', 'Mujer', 'Abrigos']   \n",
       "\n",
       "                                                name  \\\n",
       "0              Abrigo masculino con textura de mujer   \n",
       "1      Abrigo doble faz de mujer con cinturón a tono   \n",
       "2  Abrigo largo de antelina de mujer Woman El Cor...   \n",
       "\n",
       "                                 price  \n",
       "0    {'final': 199, 'currency': 'EUR'}  \n",
       "1    {'final': 149, 'currency': 'EUR'}  \n",
       "2  {'final': 89.99, 'currency': 'EUR'}  "
      ]
     },
     "execution_count": 40,
     "metadata": {},
     "output_type": "execute_result"
    }
   ],
   "source": [
    "data.head(3)"
   ]
  },
  {
   "cell_type": "code",
   "execution_count": 41,
   "metadata": {},
   "outputs": [
    {
     "data": {
      "text/html": [
       "<div>\n",
       "<style scoped>\n",
       "    .dataframe tbody tr th:only-of-type {\n",
       "        vertical-align: middle;\n",
       "    }\n",
       "\n",
       "    .dataframe tbody tr th {\n",
       "        vertical-align: top;\n",
       "    }\n",
       "\n",
       "    .dataframe thead th {\n",
       "        text-align: right;\n",
       "    }\n",
       "</style>\n",
       "<table border=\"1\" class=\"dataframe\">\n",
       "  <thead>\n",
       "    <tr style=\"text-align: right;\">\n",
       "      <th></th>\n",
       "      <th>date</th>\n",
       "      <th>item_id</th>\n",
       "      <th>brand</th>\n",
       "      <th>PRICE</th>\n",
       "      <th>customer_id</th>\n",
       "      <th>text</th>\n",
       "      <th>item_age</th>\n",
       "      <th>customer_id_int</th>\n",
       "      <th>item_id_int</th>\n",
       "      <th>brand_id</th>\n",
       "      <th>score</th>\n",
       "      <th>score_original</th>\n",
       "      <th>power_price</th>\n",
       "      <th>power_score</th>\n",
       "      <th>power_item_age</th>\n",
       "      <th>sqrt_price</th>\n",
       "      <th>sqrt_score</th>\n",
       "      <th>sqrt_item_age</th>\n",
       "    </tr>\n",
       "  </thead>\n",
       "  <tbody>\n",
       "    <tr>\n",
       "      <th>0</th>\n",
       "      <td>20190101</td>\n",
       "      <td>A26036172</td>\n",
       "      <td>tintoretto</td>\n",
       "      <td>0.003198</td>\n",
       "      <td>0</td>\n",
       "      <td>vestido mujer flor lazada</td>\n",
       "      <td>0.0</td>\n",
       "      <td>0</td>\n",
       "      <td>0</td>\n",
       "      <td>0</td>\n",
       "      <td>0.001485</td>\n",
       "      <td>4</td>\n",
       "      <td>0.000010</td>\n",
       "      <td>0.000002</td>\n",
       "      <td>0.0</td>\n",
       "      <td>0.056548</td>\n",
       "      <td>0.038538</td>\n",
       "      <td>0.0</td>\n",
       "    </tr>\n",
       "    <tr>\n",
       "      <th>1</th>\n",
       "      <td>20190101</td>\n",
       "      <td>A26870590</td>\n",
       "      <td>fórmula joven</td>\n",
       "      <td>0.002260</td>\n",
       "      <td>0</td>\n",
       "      <td>vestido laminado mujer formula joven escote pico</td>\n",
       "      <td>0.0</td>\n",
       "      <td>0</td>\n",
       "      <td>1</td>\n",
       "      <td>1</td>\n",
       "      <td>0.001485</td>\n",
       "      <td>4</td>\n",
       "      <td>0.000005</td>\n",
       "      <td>0.000002</td>\n",
       "      <td>0.0</td>\n",
       "      <td>0.047539</td>\n",
       "      <td>0.038538</td>\n",
       "      <td>0.0</td>\n",
       "    </tr>\n",
       "    <tr>\n",
       "      <th>2</th>\n",
       "      <td>20190103</td>\n",
       "      <td>MP_0659870_3014</td>\n",
       "      <td>gabrielle</td>\n",
       "      <td>0.008837</td>\n",
       "      <td>1</td>\n",
       "      <td>abrigo mujer negro avalorios</td>\n",
       "      <td>0.0</td>\n",
       "      <td>1</td>\n",
       "      <td>2</td>\n",
       "      <td>2</td>\n",
       "      <td>0.000000</td>\n",
       "      <td>1</td>\n",
       "      <td>0.000078</td>\n",
       "      <td>0.000000</td>\n",
       "      <td>0.0</td>\n",
       "      <td>0.094005</td>\n",
       "      <td>0.000000</td>\n",
       "      <td>0.0</td>\n",
       "    </tr>\n",
       "  </tbody>\n",
       "</table>\n",
       "</div>"
      ],
      "text/plain": [
       "       date          item_id          brand     PRICE  customer_id  \\\n",
       "0  20190101        A26036172     tintoretto  0.003198            0   \n",
       "1  20190101        A26870590  fórmula joven  0.002260            0   \n",
       "2  20190103  MP_0659870_3014      gabrielle  0.008837            1   \n",
       "\n",
       "                                               text  item_age  \\\n",
       "0                         vestido mujer flor lazada       0.0   \n",
       "1  vestido laminado mujer formula joven escote pico       0.0   \n",
       "2                      abrigo mujer negro avalorios       0.0   \n",
       "\n",
       "   customer_id_int  item_id_int  brand_id     score  score_original  \\\n",
       "0                0            0         0  0.001485               4   \n",
       "1                0            1         1  0.001485               4   \n",
       "2                1            2         2  0.000000               1   \n",
       "\n",
       "   power_price  power_score  power_item_age  sqrt_price  sqrt_score  \\\n",
       "0     0.000010     0.000002             0.0    0.056548    0.038538   \n",
       "1     0.000005     0.000002             0.0    0.047539    0.038538   \n",
       "2     0.000078     0.000000             0.0    0.094005    0.000000   \n",
       "\n",
       "   sqrt_item_age  \n",
       "0            0.0  \n",
       "1            0.0  \n",
       "2            0.0  "
      ]
     },
     "execution_count": 41,
     "metadata": {},
     "output_type": "execute_result"
    }
   ],
   "source": [
    "data_processed.head(3)"
   ]
  },
  {
   "cell_type": "code",
   "execution_count": 42,
   "metadata": {},
   "outputs": [
    {
     "name": "stdout",
     "output_type": "stream",
     "text": [
      "Found 8487 unique tokens.\n"
     ]
    }
   ],
   "source": [
    "MAX_NB_WORDS = 30_000 #decided by cumsum wordcount plot (Script 01)\n",
    "MAX_SEQUENCE_LENGTH = 24 #decided by max words in a product (Script 00)\n",
    "EMBEDDING_DIM = 100 #Same dim as our W2V embedding\n",
    "\n",
    "all_text = data_processed['text']\n",
    "all_text = all_text.drop_duplicates (keep = False)\n",
    "\n",
    "tokenizer = Tokenizer(num_words=MAX_NB_WORDS, )\n",
    "tokenizer.fit_on_texts(all_text)\n",
    "\n",
    "data_sequences = tokenizer.texts_to_sequences(data_processed['text'])\n",
    "data_vec = pad_sequences(data_sequences, maxlen=MAX_SEQUENCE_LENGTH)\n",
    "\n",
    "word_index = tokenizer.word_index\n",
    "print('Found %s unique tokens.' % len(word_index))"
   ]
  },
  {
   "cell_type": "code",
   "execution_count": 67,
   "metadata": {},
   "outputs": [],
   "source": [
    "model = load_model('candidate_generation_20190525')"
   ]
  },
  {
   "cell_type": "markdown",
   "metadata": {},
   "source": [
    "## Predictions"
   ]
  },
  {
   "cell_type": "code",
   "execution_count": 44,
   "metadata": {},
   "outputs": [],
   "source": [
    "def diversify(arr, diversity, plot = False):\n",
    "    div = np.log(arr) / diversity\n",
    "    exp_preds = np.exp(div)\n",
    "    preds = exp_preds / np.sum(exp_preds)\n",
    "    if plot:\n",
    "        plt.figure(figsize = (10, 8));\n",
    "        plt.subplot(2, 1, 1);\n",
    "        sns.distplot(arr); plt.title('Original Distribution');\n",
    "        plt.subplot(2, 1, 2);\n",
    "        sns.distplot(preds); plt.title(f'Distribution with {diversity} diversity')\n",
    "    probas = np.random.multinomial(1, preds, 1)\n",
    "    return probas"
   ]
  },
  {
   "cell_type": "code",
   "execution_count": 71,
   "metadata": {},
   "outputs": [],
   "source": [
    "def recommend(customer, N = 5):\n",
    "    try:\n",
    "        _data = data_processed[data_processed['customer_id_int'] == customer]\n",
    "        _data_vec = data_vec[_data.index]\n",
    "        _pred = model.predict([_data['customer_id_int'], _data['item_id_int'], \n",
    "                             _data['brand_id'], _data['PRICE'],\n",
    "                             _data_vec, _data['item_age'], _data['score'],\n",
    "                             _data['power_price'], _data['power_score'], _data['power_item_age'],\n",
    "                             _data['sqrt_price'], _data['sqrt_score'], _data['sqrt_item_age']],\n",
    "                             verbose = 1)\n",
    "        _pred = pd.DataFrame(_pred)\n",
    "        _pred['customer_id_int'] = customer\n",
    "        _pred = _pred.groupby(['customer_id_int']).max()\n",
    "        del _pred.index.name\n",
    "        \n",
    "    #########################################################\n",
    "        #_pred = diversify(_pred.values.reshape(_pred.shape[1]), diversity = 0.7, plot = False)\n",
    "        #print(_pred)\n",
    "        print('\\n' + '=='*30 + '\\n')\n",
    "        print(f'==> Top {N} Recommended items to Customer {customer}: ')\n",
    "        print(f'\\nThe customer {customer} has bought this items: ')\n",
    "        print('\\n' + '=='*30 + '\\n')\n",
    "        interacted_items = data_processed[['text', 'score_original']][data_processed['customer_id_int'] == customer].groupby('text')\\\n",
    "                            .sum().reset_index().sort_values(['score_original'], ascending = False)\n",
    "        print('\\n'.join([str(i+1) + str(' - ') + str(x) for i, x in enumerate(interacted_items['text'].values[0:20])]))\n",
    "        top = _pred.values.reshape(_pred.shape[1]).argsort()[-N:][::-1] #items positions\n",
    "        print('\\n====================== IDs DE PRODUCTOS RECOMENDADOS ==============')\n",
    "        print([items_map[item] for item in top])\n",
    "        print (\"\\n===================== PRODUCTOS RECOMENDADOS =====================\")\n",
    "        print('\\n'.join([str(i+1) + str(' - ') + str(items_map_text[x]) for i, x in enumerate(top)]))\n",
    "        print (\"==================================================================\")\n",
    "    except:\n",
    "        print(f'\\nThe customer {customer} does not exist')"
   ]
  },
  {
   "cell_type": "code",
   "execution_count": 79,
   "metadata": {},
   "outputs": [
    {
     "name": "stdout",
     "output_type": "stream",
     "text": [
      "39/39 [==============================] - 0s 1ms/sample\n",
      "\n",
      "============================================================\n",
      "\n",
      "==> Top 10 Recommended items to Customer 270: \n",
      "\n",
      "The customer 270 has bought this items: \n",
      "\n",
      "============================================================\n",
      "\n",
      "1 - zapatilla casual hombre suede classic\n",
      "2 - adivina quien viene noche vol19 bluray\n",
      "3 - pack corredor laberinto trilogia bluray\n",
      "4 - iphone xs 256gb plata movil libre\n",
      "5 - kit iluminacion white\n",
      "6 - love mercy dvd\n",
      "7 - made abyss serie completa bluray\n",
      "8 - mary shelley dvd\n",
      "9 - music love mercy cd\n",
      "10 - nasa apolo saturno idea\n",
      "11 - pack juego trono temporada bluray\n",
      "12 - argo bluray\n",
      "13 - reptador arena star wars\n",
      "14 - star trek nueva generacion 3a_temporada bluray\n",
      "15 - star trek nueva generacion 6a_temporada bluray\n",
      "16 - star trek nueva generacion 7a_temporada bluray\n",
      "17 - taj mahal creator\n",
      "18 - zapatilla casual unisex star player ox\n",
      "19 - iphone xs 256gb oro movil libre\n",
      "20 - iphone xr 128gb productred movil libre\n",
      "\n",
      "====================== IDs DE PRODUCTOS RECOMENDADOS ==============\n",
      "['A27027391', 'A28030918', 'A28270539', 'A13674915', 'A16792535', 'A27722126', 'A15046711', 'A25934536', 'A25934533', 'A26793914']\n",
      "\n",
      "===================== PRODUCTOS RECOMENDADOS =====================\n",
      "1 - zapatilla casual unisex star player ox\n",
      "2 - pack corredor laberinto trilogia bluray\n",
      "3 - kit iluminacion white\n",
      "4 - star trek nueva generacion 7a_temporada bluray\n",
      "5 - grabadora digital ws852\n",
      "6 - iphone xr 128gb blanco movil libre\n",
      "7 - zapatilla casual hombre suede classic\n",
      "8 - halcon milenario corredor kessel star wars\n",
      "9 - cabana yoda star wars\n",
      "10 - zapatilla casual hombre suede classic\n",
      "==================================================================\n"
     ]
    }
   ],
   "source": [
    "CUSTOMER = 270 #128 #270\n",
    "recommend(customer = CUSTOMER, N = 10)"
   ]
  },
  {
   "cell_type": "code",
   "execution_count": 47,
   "metadata": {},
   "outputs": [
    {
     "name": "stdout",
     "output_type": "stream",
     "text": [
      "111/111 [==============================] - 0s 467us/sample\n"
     ]
    },
    {
     "data": {
      "image/png": "[encoded data removed]",
      "text/plain": [
       "<Figure size 720x576 with 2 Axes>"
      ]
     },
     "metadata": {
      "needs_background": "light"
     },
     "output_type": "display_data"
    }
   ],
   "source": [
    "customer = 0\n",
    "_data = data_processed[data_processed['customer_id_int'] == 0]\n",
    "_data_vec = data_vec[_data.index]\n",
    "_pred = model.predict([_data['customer_id_int'], _data['item_id_int'], \n",
    "                     _data['brand_id'], _data['PRICE'],\n",
    "                     _data_vec, _data['item_age'], _data['score'],\n",
    "                     _data['power_price'], _data['power_score'], _data['power_item_age'],\n",
    "                     _data['sqrt_price'], _data['sqrt_score'], _data['sqrt_item_age']],\n",
    "                     verbose = 1)\n",
    "_pred = pd.DataFrame(_pred)\n",
    "_pred['customer_id_int'] = customer\n",
    "_pred = _pred.groupby(['customer_id_int']).max()\n",
    "a = diversify(_pred.values.reshape(_pred.shape[1]), diversity = 10, plot = True)"
   ]
  },
  {
   "cell_type": "code",
   "execution_count": null,
   "metadata": {},
   "outputs": [],
   "source": [
    "a.shape"
   ]
  },
  {
   "cell_type": "markdown",
   "metadata": {},
   "source": [
    "---"
   ]
  },
  {
   "cell_type": "code",
   "execution_count": null,
   "metadata": {},
   "outputs": [],
   "source": [
    "test_pred = model.predict([data_processed['customer_id_int'], data_processed['item_id_int'], \n",
    "                     data_processed['brand_id'], data_processed['PRICE'],\n",
    "                     data_vec, data_processed['item_age'], data_processed['score'],\n",
    "                     data_processed['power_price'], data_processed['power_score'], data_processed['power_item_age'],\n",
    "                     data_processed['sqrt_price'], data_processed['sqrt_score'], data_processed['sqrt_item_age']],\n",
    "                     verbose = 1)"
   ]
  },
  {
   "cell_type": "code",
   "execution_count": null,
   "metadata": {},
   "outputs": [],
   "source": [
    "#prueba = pd.DataFrame(test_pred)\n",
    "#customers = data_processed['customer_id_int'].values\n",
    "#prueba['customer_id_int'] = customers\n",
    "#prueba = prueba.sample(frac = 0.4)\n",
    "#prueba = prueba.groupby(['customer_id_int']).max()\n",
    "#del prueba.index.name\n",
    "#print(prueba.shape)\n",
    "#prueba.head()"
   ]
  },
  {
   "cell_type": "code",
   "execution_count": null,
   "metadata": {},
   "outputs": [],
   "source": [
    "\n",
    "test_pred = pd.DataFrame(test_pred)\n",
    "customers = data_processed['customer_id_int'].values\n",
    "test_pred['customer_id_int'] = customers\n",
    "test_pred = test_pred.sample(frac = 0.4) #In order to dont have allocation problems\n",
    "test_pred = test_pred.groupby(['customer_id_int']).max()\n",
    "del test_pred.index.name\n",
    "        \n",
    "print(test_pred.shape)\n",
    "test_pred.head()"
   ]
  },
  {
   "cell_type": "code",
   "execution_count": null,
   "metadata": {},
   "outputs": [],
   "source": [
    "def get_afines(data_pred, customer, items_unique, N = 5):\n",
    "    try:\n",
    "        #data_pred = diversify(data_pred.loc[cliente] , diversity = 0.25)\n",
    "        #data_pred = data_pred.reshape(len(items_unique))\n",
    "        print(f'==> Top {N} Recommended items to Customer {customer}: ')\n",
    "        print(f'\\nThe customer {customer} has bought this items: ')\n",
    "        print('\\n' + '=='*30 + '\\n')\n",
    "        interacted_items = data_processed[['text', 'score_original']][data_processed['customer_id_int'] == customer].groupby('text')\\\n",
    "                            .sum().reset_index().sort_values(['score_original'], ascending = False)\n",
    "        print('\\n'.join([str(i+1) + str(' - ') + str(x) for i, x in enumerate(interacted_items['text'].values[0:30])]))\n",
    "        top = data_pred[customer].values.argsort()[-N:][::-1] #items positions\n",
    "        print('\\n====================== IDs DE PRODUCTOS RECOMENDADOS ==============')\n",
    "        print([items_map[item] for item in top])\n",
    "        print (\"\\n===================== PRODUCTOS RECOMENDADOS =====================\")\n",
    "        print('\\n'.join([str(i+1) + str(' - ') + str(items_map_text[x]) for i, x in enumerate(top)]))\n",
    "        print (\"==================================================================\")\n",
    "    except:\n",
    "        print(f'The customer {customer} does not exist')"
   ]
  },
  {
   "cell_type": "code",
   "execution_count": null,
   "metadata": {},
   "outputs": [],
   "source": [
    "CLIENTE = 12\n",
    "get_afines(data_pred = test_pred, customer = CLIENTE, items_unique = items_unique, N = 10)\n",
    "#data_processed[data_processed['customer_id_int'] == CLIENTE]"
   ]
  },
  {
   "cell_type": "code",
   "execution_count": null,
   "metadata": {},
   "outputs": [],
   "source": []
  }
 ],
 "metadata": {
  "kernelspec": {
   "display_name": "Python 3",
   "language": "python",
   "name": "python3"
  },
  "language_info": {
   "codemirror_mode": {
    "name": "ipython",
    "version": 3
   },
   "file_extension": ".py",
   "mimetype": "text/x-python",
   "name": "python",
   "nbconvert_exporter": "python",
   "pygments_lexer": "ipython3",
   "version": "3.7.3"
  }
 },
 "nbformat": 4,
 "nbformat_minor": 2
}
