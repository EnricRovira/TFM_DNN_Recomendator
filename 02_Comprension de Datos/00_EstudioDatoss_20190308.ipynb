{
 "cells": [
  {
   "cell_type": "markdown",
   "metadata": {},
   "source": [
    "# EstudioDatos"
   ]
  },
  {
   "cell_type": "code",
   "execution_count": 1,
   "metadata": {},
   "outputs": [],
   "source": [
    "import pandas as pd\n",
    "from collections import Counter\n",
    "import itertools\n",
    "import matplotlib.pyplot as plt\n",
    "%matplotlib inline\n",
    "plt.style.use('ggplot')\n",
    "import ast\n",
    "\n",
    "pd.set_option('max_colwidth', 250)"
   ]
  },
  {
   "cell_type": "code",
   "execution_count": 2,
   "metadata": {
    "scrolled": true
   },
   "outputs": [
    {
     "name": "stderr",
     "output_type": "stream",
     "text": [
      "C:\\Users\\Enric\\Anaconda3\\lib\\site-packages\\IPython\\core\\interactiveshell.py:3020: DtypeWarning: Columns (5,8,11,18,19) have mixed types. Specify dtype option on import or set low_memory=False.\n",
      "  interactivity=interactivity, compiler=compiler, result=result)\n"
     ]
    },
    {
     "data": {
      "text/html": [
       "<div>\n",
       "<style scoped>\n",
       "    .dataframe tbody tr th:only-of-type {\n",
       "        vertical-align: middle;\n",
       "    }\n",
       "\n",
       "    .dataframe tbody tr th {\n",
       "        vertical-align: top;\n",
       "    }\n",
       "\n",
       "    .dataframe thead th {\n",
       "        text-align: right;\n",
       "    }\n",
       "</style>\n",
       "<table border=\"1\" class=\"dataframe\">\n",
       "  <thead>\n",
       "    <tr style=\"text-align: right;\">\n",
       "      <th></th>\n",
       "      <th>alternative_id</th>\n",
       "      <th>availability_date</th>\n",
       "      <th>badges</th>\n",
       "      <th>brand</th>\n",
       "      <th>category</th>\n",
       "      <th>discount</th>\n",
       "      <th>eci_provider</th>\n",
       "      <th>gtin</th>\n",
       "      <th>id</th>\n",
       "      <th>image</th>\n",
       "      <th>media</th>\n",
       "      <th>module_name</th>\n",
       "      <th>name</th>\n",
       "      <th>position</th>\n",
       "      <th>price</th>\n",
       "      <th>quantity</th>\n",
       "      <th>status</th>\n",
       "      <th>store_id</th>\n",
       "      <th>variant</th>\n",
       "      <th>vendor</th>\n",
       "    </tr>\n",
       "  </thead>\n",
       "  <tbody>\n",
       "    <tr>\n",
       "      <th>0</th>\n",
       "      <td>A28233506</td>\n",
       "      <td>NaN</td>\n",
       "      <td>['express_delivery']</td>\n",
       "      <td>Woman Limited El Corte Inglés</td>\n",
       "      <td>['Moda', 'Mujer', 'Abrigos']</td>\n",
       "      <td>NaN</td>\n",
       "      <td>00000000</td>\n",
       "      <td>2.401700e+12</td>\n",
       "      <td>1060651400131</td>\n",
       "      <td>http://sgfm.elcorteingles.es/SGFM/dctm/MEDIA03/201902/07/00160651400131____1__516x640.jpg</td>\n",
       "      <td>{'count': 1}</td>\n",
       "      <td>NaN</td>\n",
       "      <td>Abrigo masculino con textura de mujer</td>\n",
       "      <td>NaN</td>\n",
       "      <td>{'final': 199, 'currency': 'EUR'}</td>\n",
       "      <td>1</td>\n",
       "      <td>show_pdp</td>\n",
       "      <td>60</td>\n",
       "      <td>001060651400131002</td>\n",
       "      <td>NaN</td>\n",
       "    </tr>\n",
       "    <tr>\n",
       "      <th>1</th>\n",
       "      <td>A29054782</td>\n",
       "      <td>NaN</td>\n",
       "      <td>['express_delivery']</td>\n",
       "      <td>Woman Limited El Corte Inglés</td>\n",
       "      <td>['Moda', 'Mujer', 'Abrigos']</td>\n",
       "      <td>NaN</td>\n",
       "      <td>00000000</td>\n",
       "      <td>2.606514e+12</td>\n",
       "      <td>1060651400180</td>\n",
       "      <td>http://sgfm.elcorteingles.es/SGFM/dctm/MEDIA03/201902/06/00160651400180____1__516x640.jpg</td>\n",
       "      <td>{'count': 1}</td>\n",
       "      <td>NaN</td>\n",
       "      <td>Abrigo doble faz de mujer con cinturón a tono</td>\n",
       "      <td>NaN</td>\n",
       "      <td>{'final': 149, 'currency': 'EUR'}</td>\n",
       "      <td>1</td>\n",
       "      <td>show_pdp</td>\n",
       "      <td>60</td>\n",
       "      <td>001060651400180002</td>\n",
       "      <td>NaN</td>\n",
       "    </tr>\n",
       "    <tr>\n",
       "      <th>2</th>\n",
       "      <td>A27354432</td>\n",
       "      <td>NaN</td>\n",
       "      <td>['express_delivery']</td>\n",
       "      <td>Woman El Corte Inglés</td>\n",
       "      <td>['Moda', 'Mujer', 'Abrigos']</td>\n",
       "      <td>NaN</td>\n",
       "      <td>00000000</td>\n",
       "      <td>2.510564e+12</td>\n",
       "      <td>1051056400107</td>\n",
       "      <td>http://sgfm.elcorteingles.es/SGFM/dctm/MEDIA03/201902/07/00151056400115____1__516x640.jpg</td>\n",
       "      <td>{'count': 1}</td>\n",
       "      <td>NaN</td>\n",
       "      <td>Abrigo largo de antelina de mujer Woman El Corte Inglés</td>\n",
       "      <td>NaN</td>\n",
       "      <td>{'final': 89.99, 'currency': 'EUR'}</td>\n",
       "      <td>1</td>\n",
       "      <td>show_pdp</td>\n",
       "      <td>60</td>\n",
       "      <td>001051056400107002</td>\n",
       "      <td>NaN</td>\n",
       "    </tr>\n",
       "    <tr>\n",
       "      <th>3</th>\n",
       "      <td>A28302706</td>\n",
       "      <td>NaN</td>\n",
       "      <td>['express_delivery']</td>\n",
       "      <td>Lloyd's</td>\n",
       "      <td>['Moda', 'Mujer', 'Abrigos']</td>\n",
       "      <td>NaN</td>\n",
       "      <td>00000000</td>\n",
       "      <td>2.401701e+12</td>\n",
       "      <td>1019350401147</td>\n",
       "      <td>http://sgfm.elcorteingles.es/SGFM/dctm/MEDIA03/201902/07/00119350401147____3__516x640.jpg</td>\n",
       "      <td>{'count': 1}</td>\n",
       "      <td>NaN</td>\n",
       "      <td>Chaqueta térmica de mujer Lloyds con efecto cortavientos</td>\n",
       "      <td>NaN</td>\n",
       "      <td>{'final': 129, 'currency': 'EUR'}</td>\n",
       "      <td>1</td>\n",
       "      <td>show_pdp</td>\n",
       "      <td>60</td>\n",
       "      <td>001019350401147002</td>\n",
       "      <td>NaN</td>\n",
       "    </tr>\n",
       "    <tr>\n",
       "      <th>4</th>\n",
       "      <td>A27435502</td>\n",
       "      <td>NaN</td>\n",
       "      <td>['express_delivery']</td>\n",
       "      <td>Lloyd's</td>\n",
       "      <td>['Moda', 'Mujer', 'Abrigos']</td>\n",
       "      <td>NaN</td>\n",
       "      <td>00000000</td>\n",
       "      <td>2.193534e+12</td>\n",
       "      <td>1019353400229</td>\n",
       "      <td>http://sgfm.elcorteingles.es/SGFM/dctm/MEDIA03/201902/07/00119353400237____2__516x640.jpg</td>\n",
       "      <td>{'count': 1}</td>\n",
       "      <td>NaN</td>\n",
       "      <td>Parka 100% algodón de mujer Lloyds con capucha</td>\n",
       "      <td>NaN</td>\n",
       "      <td>{'final': 149, 'currency': 'EUR'}</td>\n",
       "      <td>1</td>\n",
       "      <td>show_pdp</td>\n",
       "      <td>60</td>\n",
       "      <td>001019353400229002</td>\n",
       "      <td>NaN</td>\n",
       "    </tr>\n",
       "  </tbody>\n",
       "</table>\n",
       "</div>"
      ],
      "text/plain": [
       "  alternative_id  availability_date                badges  \\\n",
       "0      A28233506                NaN  ['express_delivery']   \n",
       "1      A29054782                NaN  ['express_delivery']   \n",
       "2      A27354432                NaN  ['express_delivery']   \n",
       "3      A28302706                NaN  ['express_delivery']   \n",
       "4      A27435502                NaN  ['express_delivery']   \n",
       "\n",
       "                           brand                      category discount  \\\n",
       "0  Woman Limited El Corte Inglés  ['Moda', 'Mujer', 'Abrigos']      NaN   \n",
       "1  Woman Limited El Corte Inglés  ['Moda', 'Mujer', 'Abrigos']      NaN   \n",
       "2          Woman El Corte Inglés  ['Moda', 'Mujer', 'Abrigos']      NaN   \n",
       "3                        Lloyd's  ['Moda', 'Mujer', 'Abrigos']      NaN   \n",
       "4                        Lloyd's  ['Moda', 'Mujer', 'Abrigos']      NaN   \n",
       "\n",
       "  eci_provider          gtin             id  \\\n",
       "0     00000000  2.401700e+12  1060651400131   \n",
       "1     00000000  2.606514e+12  1060651400180   \n",
       "2     00000000  2.510564e+12  1051056400107   \n",
       "3     00000000  2.401701e+12  1019350401147   \n",
       "4     00000000  2.193534e+12  1019353400229   \n",
       "\n",
       "                                                                                       image  \\\n",
       "0  http://sgfm.elcorteingles.es/SGFM/dctm/MEDIA03/201902/07/00160651400131____1__516x640.jpg   \n",
       "1  http://sgfm.elcorteingles.es/SGFM/dctm/MEDIA03/201902/06/00160651400180____1__516x640.jpg   \n",
       "2  http://sgfm.elcorteingles.es/SGFM/dctm/MEDIA03/201902/07/00151056400115____1__516x640.jpg   \n",
       "3  http://sgfm.elcorteingles.es/SGFM/dctm/MEDIA03/201902/07/00119350401147____3__516x640.jpg   \n",
       "4  http://sgfm.elcorteingles.es/SGFM/dctm/MEDIA03/201902/07/00119353400237____2__516x640.jpg   \n",
       "\n",
       "          media module_name  \\\n",
       "0  {'count': 1}         NaN   \n",
       "1  {'count': 1}         NaN   \n",
       "2  {'count': 1}         NaN   \n",
       "3  {'count': 1}         NaN   \n",
       "4  {'count': 1}         NaN   \n",
       "\n",
       "                                                       name  position  \\\n",
       "0                     Abrigo masculino con textura de mujer       NaN   \n",
       "1             Abrigo doble faz de mujer con cinturón a tono       NaN   \n",
       "2   Abrigo largo de antelina de mujer Woman El Corte Inglés       NaN   \n",
       "3  Chaqueta térmica de mujer Lloyds con efecto cortavientos       NaN   \n",
       "4            Parka 100% algodón de mujer Lloyds con capucha       NaN   \n",
       "\n",
       "                                 price  quantity    status  store_id  \\\n",
       "0    {'final': 199, 'currency': 'EUR'}         1  show_pdp        60   \n",
       "1    {'final': 149, 'currency': 'EUR'}         1  show_pdp        60   \n",
       "2  {'final': 89.99, 'currency': 'EUR'}         1  show_pdp        60   \n",
       "3    {'final': 129, 'currency': 'EUR'}         1  show_pdp        60   \n",
       "4    {'final': 149, 'currency': 'EUR'}         1  show_pdp        60   \n",
       "\n",
       "              variant vendor  \n",
       "0  001060651400131002    NaN  \n",
       "1  001060651400180002    NaN  \n",
       "2  001051056400107002    NaN  \n",
       "3  001019350401147002    NaN  \n",
       "4  001019353400229002    NaN  "
      ]
     },
     "execution_count": 2,
     "metadata": {},
     "output_type": "execute_result"
    }
   ],
   "source": [
    "data = pd.read_csv('../00_Datos/Productos_Finales/204kProducts_20190315.csv', sep = ';', index_col=False)\n",
    "data.head()"
   ]
  },
  {
   "cell_type": "code",
   "execution_count": 3,
   "metadata": {},
   "outputs": [
    {
     "data": {
      "text/plain": [
       "(204812, 20)"
      ]
     },
     "execution_count": 3,
     "metadata": {},
     "output_type": "execute_result"
    }
   ],
   "source": [
    "data.shape"
   ]
  },
  {
   "cell_type": "code",
   "execution_count": 4,
   "metadata": {},
   "outputs": [
    {
     "data": {
      "text/plain": [
       "Index(['alternative_id', 'availability_date', 'badges', 'brand', 'category',\n",
       "       'discount', 'eci_provider', 'gtin', 'id', 'image', 'media',\n",
       "       'module_name', 'name', 'position', 'price', 'quantity', 'status',\n",
       "       'store_id', 'variant', 'vendor'],\n",
       "      dtype='object')"
      ]
     },
     "execution_count": 4,
     "metadata": {},
     "output_type": "execute_result"
    }
   ],
   "source": [
    "data.columns"
   ]
  },
  {
   "cell_type": "markdown",
   "metadata": {},
   "source": [
    "Borramos las columnas que sabemos que no vamos a necesitar de esta forma el DF ocupa menos y es mas facil de manejar"
   ]
  },
  {
   "cell_type": "code",
   "execution_count": 5,
   "metadata": {},
   "outputs": [
    {
     "data": {
      "text/html": [
       "<div>\n",
       "<style scoped>\n",
       "    .dataframe tbody tr th:only-of-type {\n",
       "        vertical-align: middle;\n",
       "    }\n",
       "\n",
       "    .dataframe tbody tr th {\n",
       "        vertical-align: top;\n",
       "    }\n",
       "\n",
       "    .dataframe thead th {\n",
       "        text-align: right;\n",
       "    }\n",
       "</style>\n",
       "<table border=\"1\" class=\"dataframe\">\n",
       "  <thead>\n",
       "    <tr style=\"text-align: right;\">\n",
       "      <th></th>\n",
       "      <th>brand</th>\n",
       "      <th>category</th>\n",
       "      <th>id</th>\n",
       "      <th>image</th>\n",
       "      <th>name</th>\n",
       "      <th>price</th>\n",
       "    </tr>\n",
       "  </thead>\n",
       "  <tbody>\n",
       "    <tr>\n",
       "      <th>0</th>\n",
       "      <td>Woman Limited El Corte Inglés</td>\n",
       "      <td>['Moda', 'Mujer', 'Abrigos']</td>\n",
       "      <td>1060651400131</td>\n",
       "      <td>http://sgfm.elcorteingles.es/SGFM/dctm/MEDIA03/201902/07/00160651400131____1__516x640.jpg</td>\n",
       "      <td>Abrigo masculino con textura de mujer</td>\n",
       "      <td>{'final': 199, 'currency': 'EUR'}</td>\n",
       "    </tr>\n",
       "    <tr>\n",
       "      <th>1</th>\n",
       "      <td>Woman Limited El Corte Inglés</td>\n",
       "      <td>['Moda', 'Mujer', 'Abrigos']</td>\n",
       "      <td>1060651400180</td>\n",
       "      <td>http://sgfm.elcorteingles.es/SGFM/dctm/MEDIA03/201902/06/00160651400180____1__516x640.jpg</td>\n",
       "      <td>Abrigo doble faz de mujer con cinturón a tono</td>\n",
       "      <td>{'final': 149, 'currency': 'EUR'}</td>\n",
       "    </tr>\n",
       "    <tr>\n",
       "      <th>2</th>\n",
       "      <td>Woman El Corte Inglés</td>\n",
       "      <td>['Moda', 'Mujer', 'Abrigos']</td>\n",
       "      <td>1051056400107</td>\n",
       "      <td>http://sgfm.elcorteingles.es/SGFM/dctm/MEDIA03/201902/07/00151056400115____1__516x640.jpg</td>\n",
       "      <td>Abrigo largo de antelina de mujer Woman El Corte Inglés</td>\n",
       "      <td>{'final': 89.99, 'currency': 'EUR'}</td>\n",
       "    </tr>\n",
       "    <tr>\n",
       "      <th>3</th>\n",
       "      <td>Lloyd's</td>\n",
       "      <td>['Moda', 'Mujer', 'Abrigos']</td>\n",
       "      <td>1019350401147</td>\n",
       "      <td>http://sgfm.elcorteingles.es/SGFM/dctm/MEDIA03/201902/07/00119350401147____3__516x640.jpg</td>\n",
       "      <td>Chaqueta térmica de mujer Lloyds con efecto cortavientos</td>\n",
       "      <td>{'final': 129, 'currency': 'EUR'}</td>\n",
       "    </tr>\n",
       "    <tr>\n",
       "      <th>4</th>\n",
       "      <td>Lloyd's</td>\n",
       "      <td>['Moda', 'Mujer', 'Abrigos']</td>\n",
       "      <td>1019353400229</td>\n",
       "      <td>http://sgfm.elcorteingles.es/SGFM/dctm/MEDIA03/201902/07/00119353400237____2__516x640.jpg</td>\n",
       "      <td>Parka 100% algodón de mujer Lloyds con capucha</td>\n",
       "      <td>{'final': 149, 'currency': 'EUR'}</td>\n",
       "    </tr>\n",
       "  </tbody>\n",
       "</table>\n",
       "</div>"
      ],
      "text/plain": [
       "                           brand                      category             id  \\\n",
       "0  Woman Limited El Corte Inglés  ['Moda', 'Mujer', 'Abrigos']  1060651400131   \n",
       "1  Woman Limited El Corte Inglés  ['Moda', 'Mujer', 'Abrigos']  1060651400180   \n",
       "2          Woman El Corte Inglés  ['Moda', 'Mujer', 'Abrigos']  1051056400107   \n",
       "3                        Lloyd's  ['Moda', 'Mujer', 'Abrigos']  1019350401147   \n",
       "4                        Lloyd's  ['Moda', 'Mujer', 'Abrigos']  1019353400229   \n",
       "\n",
       "                                                                                       image  \\\n",
       "0  http://sgfm.elcorteingles.es/SGFM/dctm/MEDIA03/201902/07/00160651400131____1__516x640.jpg   \n",
       "1  http://sgfm.elcorteingles.es/SGFM/dctm/MEDIA03/201902/06/00160651400180____1__516x640.jpg   \n",
       "2  http://sgfm.elcorteingles.es/SGFM/dctm/MEDIA03/201902/07/00151056400115____1__516x640.jpg   \n",
       "3  http://sgfm.elcorteingles.es/SGFM/dctm/MEDIA03/201902/07/00119350401147____3__516x640.jpg   \n",
       "4  http://sgfm.elcorteingles.es/SGFM/dctm/MEDIA03/201902/07/00119353400237____2__516x640.jpg   \n",
       "\n",
       "                                                       name  \\\n",
       "0                     Abrigo masculino con textura de mujer   \n",
       "1             Abrigo doble faz de mujer con cinturón a tono   \n",
       "2   Abrigo largo de antelina de mujer Woman El Corte Inglés   \n",
       "3  Chaqueta térmica de mujer Lloyds con efecto cortavientos   \n",
       "4            Parka 100% algodón de mujer Lloyds con capucha   \n",
       "\n",
       "                                 price  \n",
       "0    {'final': 199, 'currency': 'EUR'}  \n",
       "1    {'final': 149, 'currency': 'EUR'}  \n",
       "2  {'final': 89.99, 'currency': 'EUR'}  \n",
       "3    {'final': 129, 'currency': 'EUR'}  \n",
       "4    {'final': 149, 'currency': 'EUR'}  "
      ]
     },
     "execution_count": 5,
     "metadata": {},
     "output_type": "execute_result"
    }
   ],
   "source": [
    "data = data.drop(['alternative_id', 'availability_date', 'badges',\n",
    "                 'discount', 'eci_provider', 'gtin', 'media', 'module_name',\n",
    "                 'position', 'quantity', 'status', 'store_id', \n",
    "                 'variant', 'vendor'], axis = 1)\n",
    "data.head()"
   ]
  },
  {
   "cell_type": "markdown",
   "metadata": {},
   "source": [
    "### Me guardo las marcas para usarlas mas adelante"
   ]
  },
  {
   "cell_type": "code",
   "execution_count": 6,
   "metadata": {},
   "outputs": [],
   "source": [
    "data.to_csv('Marcas.csv', sep = ';',index=False, encoding = 'UTF-8', index_label=False)"
   ]
  },
  {
   "cell_type": "markdown",
   "metadata": {},
   "source": [
    " ---"
   ]
  },
  {
   "cell_type": "markdown",
   "metadata": {},
   "source": [
    "### Nulos?"
   ]
  },
  {
   "cell_type": "code",
   "execution_count": 7,
   "metadata": {},
   "outputs": [
    {
     "name": "stderr",
     "output_type": "stream",
     "text": [
      "C:\\Users\\Enric\\Anaconda3\\lib\\site-packages\\pandas\\plotting\\_core.py:185: UserWarning: 'colors' is being deprecated. Please use 'color'instead of 'colors'\n",
      "  warnings.warn((\"'colors' is being deprecated. Please use 'color'\"\n"
     ]
    },
    {
     "data": {
      "text/plain": [
       "<matplotlib.axes._subplots.AxesSubplot at 0x1cab4d3fe48>"
      ]
     },
     "execution_count": 7,
     "metadata": {},
     "output_type": "execute_result"
    },
    {
     "data": {
      "image/png": "[encoded data removed]",
      "text/plain": [
       "<Figure size 720x576 with 1 Axes>"
      ]
     },
     "metadata": {
      "needs_background": "light"
     },
     "output_type": "display_data"
    }
   ],
   "source": [
    "fig = plt.figure(figsize=(10, 8))\n",
    "plt.title(\"Distribution of NA\")\n",
    "data.isna().sum().sort_values(ascending=True).plot(kind='barh',colors='Blue', fontsize=12)"
   ]
  },
  {
   "cell_type": "markdown",
   "metadata": {},
   "source": [
    "Solo hay nulos en las marcas y unos 1200 que de 200mil representa un 0.4% por tanto no es muy preocupante, además seguramente la marca la acabemos incorporando dentro del texto final por tanto en caso de que no se conozca la marca no la ánadiremos al corpus de texto de ese producto"
   ]
  },
  {
   "cell_type": "markdown",
   "metadata": {},
   "source": [
    "## Categoria"
   ]
  },
  {
   "cell_type": "code",
   "execution_count": 8,
   "metadata": {},
   "outputs": [],
   "source": [
    "data_copy = data.copy()"
   ]
  },
  {
   "cell_type": "code",
   "execution_count": 9,
   "metadata": {},
   "outputs": [],
   "source": [
    "for i, lista in enumerate(data_copy['category'].values):\n",
    "    data_copy['category'].values[i] = ast.literal_eval(lista)\n",
    "for i, elem in enumerate(data_copy['category']):\n",
    "    data_copy['category'].values[i] = [x.replace(\" \", \"_\") for x in elem ]"
   ]
  },
  {
   "cell_type": "code",
   "execution_count": 10,
   "metadata": {},
   "outputs": [],
   "source": [
    "# Comentar para solo juntar los de cada lista\n",
    "data_copy['category'] = data_copy['category'].apply(lambda x: '_'.join(x))"
   ]
  },
  {
   "cell_type": "code",
   "execution_count": 11,
   "metadata": {},
   "outputs": [
    {
     "data": {
      "text/plain": [
       "'Electrodomésticos_Aire_acondicionado_Split_Split_1_x_1'"
      ]
     },
     "execution_count": 11,
     "metadata": {},
     "output_type": "execute_result"
    }
   ],
   "source": [
    "data_copy['category'][100050]"
   ]
  },
  {
   "cell_type": "markdown",
   "metadata": {},
   "source": [
    "Ahora ya podemos sacar cuantas Categorias distintas hay y cuales son las que mas aparecen"
   ]
  },
  {
   "cell_type": "markdown",
   "metadata": {},
   "source": [
    "### Top Categorias"
   ]
  },
  {
   "cell_type": "markdown",
   "metadata": {},
   "source": [
    "Tenemos una lista de valores en vez de tener un unico valor por tanto necesitaremos suar la libreria Counter e itertools"
   ]
  },
  {
   "cell_type": "code",
   "execution_count": 16,
   "metadata": {
    "scrolled": true
   },
   "outputs": [
    {
     "name": "stdout",
     "output_type": "stream",
     "text": [
      "Moda_Joyería_y_Relojes_Relojes_Hombre           1843\n",
      "Moda_Joyería_y_Relojes_Relojes_Mujer            1685\n",
      "Moda_Mujer_Punto_y_Jerseys                      1437\n",
      "Moda_Mujer_Camisetas                            1307\n",
      "Moda                                            1287\n",
      "Deportes_Ropa_deportiva                         1240\n",
      "Moda_Accesorios_Bisutería_Pendientes            1225\n",
      "Moda_Mujer_Camisas,_Blusas_y_Tops               1194\n",
      "Moda_Joyería_y_Relojes_Joyería_Mujer_Anillos    1117\n",
      "Moda_Hombre_Camisas                             1114\n",
      "Name: category, dtype: int64\n",
      "3671\n",
      "1715\n",
      "BriCor_Baño_Accesorios_de_Baño_Toalleros_pared_Hotel                              11\n",
      "BriCor_Ferretería_Escaleras_de_uso_profesional                                    11\n",
      "Perfumería_General_Tratamiento_Corporal_Reductores                                11\n",
      "Electrodomésticos_Preparación_de_alimentos_Robots_de_cocina_Robots_mezcladores    11\n",
      "Perfumería_Cuerpo_Mujer_Cuidados_Específicos_Pecho                                11\n",
      "Moda_Infantil_TeenStore_Monos_y_petos                                             11\n",
      "Papelería_Estuches,_Plumieres_y_Portatodos_Portatodos_múltiples                   11\n",
      "Electrónica_Accesorios_Informática_Soportes                                       11\n",
      "Hogar_Terraza_y_Jardín_Cojines_Para_sillas_y_tumbonas                             11\n",
      "Moda_Zapatos_Zapatos_de_niño_Zapatillas_de_casa                                   11\n",
      "Name: category, dtype: int64\n"
     ]
    }
   ],
   "source": [
    "n_categorias = data_copy['category'].value_counts()\n",
    "print (n_categorias[:10])\n",
    "print (len(n_categorias))\n",
    "print (len(n_categorias[n_categorias > 10 ]))\n",
    "print (n_categorias[n_categorias > 10 ][-10:])"
   ]
  },
  {
   "cell_type": "code",
   "execution_count": 14,
   "metadata": {},
   "outputs": [],
   "source": [
    "#categories = Counter(itertools.chain.from_iterable(data_copy['category'].values))\n",
    "#categories.most_common()"
   ]
  },
  {
   "cell_type": "markdown",
   "metadata": {},
   "source": [
    "Aqui tenemos un ejemplo parecido al de las Marcas, el objetivo es poner el texto de la Categoria en el Bag of Words de ese producto"
   ]
  },
  {
   "cell_type": "markdown",
   "metadata": {},
   "source": [
    "#### Nos guardamos las categorias al igual que las marcas"
   ]
  },
  {
   "cell_type": "code",
   "execution_count": 17,
   "metadata": {},
   "outputs": [],
   "source": [
    "subset = data_copy[['id', 'category']]\n",
    "#subset = subset.groupby('category').apply(lambda x: x['id'].values.tolist()).reset_index(name='col')"
   ]
  },
  {
   "cell_type": "code",
   "execution_count": 19,
   "metadata": {},
   "outputs": [
    {
     "data": {
      "text/html": [
       "<div>\n",
       "<style scoped>\n",
       "    .dataframe tbody tr th:only-of-type {\n",
       "        vertical-align: middle;\n",
       "    }\n",
       "\n",
       "    .dataframe tbody tr th {\n",
       "        vertical-align: top;\n",
       "    }\n",
       "\n",
       "    .dataframe thead th {\n",
       "        text-align: right;\n",
       "    }\n",
       "</style>\n",
       "<table border=\"1\" class=\"dataframe\">\n",
       "  <thead>\n",
       "    <tr style=\"text-align: right;\">\n",
       "      <th></th>\n",
       "      <th>id</th>\n",
       "      <th>category</th>\n",
       "    </tr>\n",
       "  </thead>\n",
       "  <tbody>\n",
       "    <tr>\n",
       "      <th>0</th>\n",
       "      <td>1060651400131</td>\n",
       "      <td>Moda_Mujer_Abrigos</td>\n",
       "    </tr>\n",
       "    <tr>\n",
       "      <th>1</th>\n",
       "      <td>1060651400180</td>\n",
       "      <td>Moda_Mujer_Abrigos</td>\n",
       "    </tr>\n",
       "    <tr>\n",
       "      <th>2</th>\n",
       "      <td>1051056400107</td>\n",
       "      <td>Moda_Mujer_Abrigos</td>\n",
       "    </tr>\n",
       "    <tr>\n",
       "      <th>3</th>\n",
       "      <td>1019350401147</td>\n",
       "      <td>Moda_Mujer_Abrigos</td>\n",
       "    </tr>\n",
       "    <tr>\n",
       "      <th>4</th>\n",
       "      <td>1019353400229</td>\n",
       "      <td>Moda_Mujer_Abrigos</td>\n",
       "    </tr>\n",
       "  </tbody>\n",
       "</table>\n",
       "</div>"
      ],
      "text/plain": [
       "              id            category\n",
       "0  1060651400131  Moda_Mujer_Abrigos\n",
       "1  1060651400180  Moda_Mujer_Abrigos\n",
       "2  1051056400107  Moda_Mujer_Abrigos\n",
       "3  1019350401147  Moda_Mujer_Abrigos\n",
       "4  1019353400229  Moda_Mujer_Abrigos"
      ]
     },
     "execution_count": 19,
     "metadata": {},
     "output_type": "execute_result"
    }
   ],
   "source": [
    "subset.head()"
   ]
  },
  {
   "cell_type": "code",
   "execution_count": 20,
   "metadata": {},
   "outputs": [],
   "source": [
    "subset.to_csv('Categorias.csv', sep = ';', index=False, encoding = 'UTF-8', index_label=False)"
   ]
  },
  {
   "cell_type": "markdown",
   "metadata": {},
   "source": [
    "### Price"
   ]
  },
  {
   "cell_type": "markdown",
   "metadata": {},
   "source": [
    "Se ha observado que el precio siempre esta en EUR y la cantidad no nos aporta ninguna info importante en este Proyecto, dados los datos que vamos a tener del cliente"
   ]
  },
  {
   "cell_type": "code",
   "execution_count": 21,
   "metadata": {},
   "outputs": [
    {
     "data": {
      "text/html": [
       "<div>\n",
       "<style scoped>\n",
       "    .dataframe tbody tr th:only-of-type {\n",
       "        vertical-align: middle;\n",
       "    }\n",
       "\n",
       "    .dataframe tbody tr th {\n",
       "        vertical-align: top;\n",
       "    }\n",
       "\n",
       "    .dataframe thead th {\n",
       "        text-align: right;\n",
       "    }\n",
       "</style>\n",
       "<table border=\"1\" class=\"dataframe\">\n",
       "  <thead>\n",
       "    <tr style=\"text-align: right;\">\n",
       "      <th></th>\n",
       "      <th>brand</th>\n",
       "      <th>category</th>\n",
       "      <th>id</th>\n",
       "      <th>image</th>\n",
       "      <th>name</th>\n",
       "    </tr>\n",
       "  </thead>\n",
       "  <tbody>\n",
       "    <tr>\n",
       "      <th>0</th>\n",
       "      <td>Woman Limited El Corte Inglés</td>\n",
       "      <td>['Moda', 'Mujer', 'Abrigos']</td>\n",
       "      <td>1060651400131</td>\n",
       "      <td>http://sgfm.elcorteingles.es/SGFM/dctm/MEDIA03/201902/07/00160651400131____1__516x640.jpg</td>\n",
       "      <td>Abrigo masculino con textura de mujer</td>\n",
       "    </tr>\n",
       "    <tr>\n",
       "      <th>1</th>\n",
       "      <td>Woman Limited El Corte Inglés</td>\n",
       "      <td>['Moda', 'Mujer', 'Abrigos']</td>\n",
       "      <td>1060651400180</td>\n",
       "      <td>http://sgfm.elcorteingles.es/SGFM/dctm/MEDIA03/201902/06/00160651400180____1__516x640.jpg</td>\n",
       "      <td>Abrigo doble faz de mujer con cinturón a tono</td>\n",
       "    </tr>\n",
       "    <tr>\n",
       "      <th>2</th>\n",
       "      <td>Woman El Corte Inglés</td>\n",
       "      <td>['Moda', 'Mujer', 'Abrigos']</td>\n",
       "      <td>1051056400107</td>\n",
       "      <td>http://sgfm.elcorteingles.es/SGFM/dctm/MEDIA03/201902/07/00151056400115____1__516x640.jpg</td>\n",
       "      <td>Abrigo largo de antelina de mujer Woman El Corte Inglés</td>\n",
       "    </tr>\n",
       "    <tr>\n",
       "      <th>3</th>\n",
       "      <td>Lloyd's</td>\n",
       "      <td>['Moda', 'Mujer', 'Abrigos']</td>\n",
       "      <td>1019350401147</td>\n",
       "      <td>http://sgfm.elcorteingles.es/SGFM/dctm/MEDIA03/201902/07/00119350401147____3__516x640.jpg</td>\n",
       "      <td>Chaqueta térmica de mujer Lloyds con efecto cortavientos</td>\n",
       "    </tr>\n",
       "    <tr>\n",
       "      <th>4</th>\n",
       "      <td>Lloyd's</td>\n",
       "      <td>['Moda', 'Mujer', 'Abrigos']</td>\n",
       "      <td>1019353400229</td>\n",
       "      <td>http://sgfm.elcorteingles.es/SGFM/dctm/MEDIA03/201902/07/00119353400237____2__516x640.jpg</td>\n",
       "      <td>Parka 100% algodón de mujer Lloyds con capucha</td>\n",
       "    </tr>\n",
       "  </tbody>\n",
       "</table>\n",
       "</div>"
      ],
      "text/plain": [
       "                           brand                      category             id  \\\n",
       "0  Woman Limited El Corte Inglés  ['Moda', 'Mujer', 'Abrigos']  1060651400131   \n",
       "1  Woman Limited El Corte Inglés  ['Moda', 'Mujer', 'Abrigos']  1060651400180   \n",
       "2          Woman El Corte Inglés  ['Moda', 'Mujer', 'Abrigos']  1051056400107   \n",
       "3                        Lloyd's  ['Moda', 'Mujer', 'Abrigos']  1019350401147   \n",
       "4                        Lloyd's  ['Moda', 'Mujer', 'Abrigos']  1019353400229   \n",
       "\n",
       "                                                                                       image  \\\n",
       "0  http://sgfm.elcorteingles.es/SGFM/dctm/MEDIA03/201902/07/00160651400131____1__516x640.jpg   \n",
       "1  http://sgfm.elcorteingles.es/SGFM/dctm/MEDIA03/201902/06/00160651400180____1__516x640.jpg   \n",
       "2  http://sgfm.elcorteingles.es/SGFM/dctm/MEDIA03/201902/07/00151056400115____1__516x640.jpg   \n",
       "3  http://sgfm.elcorteingles.es/SGFM/dctm/MEDIA03/201902/07/00119350401147____3__516x640.jpg   \n",
       "4  http://sgfm.elcorteingles.es/SGFM/dctm/MEDIA03/201902/07/00119353400237____2__516x640.jpg   \n",
       "\n",
       "                                                       name  \n",
       "0                     Abrigo masculino con textura de mujer  \n",
       "1             Abrigo doble faz de mujer con cinturón a tono  \n",
       "2   Abrigo largo de antelina de mujer Woman El Corte Inglés  \n",
       "3  Chaqueta térmica de mujer Lloyds con efecto cortavientos  \n",
       "4            Parka 100% algodón de mujer Lloyds con capucha  "
      ]
     },
     "execution_count": 21,
     "metadata": {},
     "output_type": "execute_result"
    }
   ],
   "source": [
    "data = data.drop(['price'], axis = 1)\n",
    "data.head()"
   ]
  },
  {
   "cell_type": "code",
   "execution_count": 22,
   "metadata": {},
   "outputs": [
    {
     "data": {
      "text/plain": [
       "brand                                                                                 El Corte Inglés\n",
       "category                                      ['Hogar', 'Menaje de mesa', 'Café y té', 'Tazas de té']\n",
       "id                                                                                    001007227340655\n",
       "image       http://sgfm.elcorteingles.es/SGFM/dctm/MEDIA03/201803/12/00107227340655____1__640x640.jpg\n",
       "name                                                        Set de 2 tazas de té Buga El Corte Inglés\n",
       "Name: 70000, dtype: object"
      ]
     },
     "execution_count": 22,
     "metadata": {},
     "output_type": "execute_result"
    }
   ],
   "source": [
    "data.loc[70000]"
   ]
  },
  {
   "cell_type": "markdown",
   "metadata": {},
   "source": [
    "## Imagenes"
   ]
  },
  {
   "cell_type": "code",
   "execution_count": 23,
   "metadata": {},
   "outputs": [
    {
     "data": {
      "text/html": [
       "<div>\n",
       "<style scoped>\n",
       "    .dataframe tbody tr th:only-of-type {\n",
       "        vertical-align: middle;\n",
       "    }\n",
       "\n",
       "    .dataframe tbody tr th {\n",
       "        vertical-align: top;\n",
       "    }\n",
       "\n",
       "    .dataframe thead th {\n",
       "        text-align: right;\n",
       "    }\n",
       "</style>\n",
       "<table border=\"1\" class=\"dataframe\">\n",
       "  <thead>\n",
       "    <tr style=\"text-align: right;\">\n",
       "      <th></th>\n",
       "      <th>id</th>\n",
       "      <th>image</th>\n",
       "    </tr>\n",
       "  </thead>\n",
       "  <tbody>\n",
       "    <tr>\n",
       "      <th>0</th>\n",
       "      <td>1060651400131</td>\n",
       "      <td>http://sgfm.elcorteingles.es/SGFM/dctm/MEDIA03/201902/07/00160651400131____1__516x640.jpg</td>\n",
       "    </tr>\n",
       "    <tr>\n",
       "      <th>1</th>\n",
       "      <td>1060651400180</td>\n",
       "      <td>http://sgfm.elcorteingles.es/SGFM/dctm/MEDIA03/201902/06/00160651400180____1__516x640.jpg</td>\n",
       "    </tr>\n",
       "    <tr>\n",
       "      <th>2</th>\n",
       "      <td>1051056400107</td>\n",
       "      <td>http://sgfm.elcorteingles.es/SGFM/dctm/MEDIA03/201902/07/00151056400115____1__516x640.jpg</td>\n",
       "    </tr>\n",
       "    <tr>\n",
       "      <th>3</th>\n",
       "      <td>1019350401147</td>\n",
       "      <td>http://sgfm.elcorteingles.es/SGFM/dctm/MEDIA03/201902/07/00119350401147____3__516x640.jpg</td>\n",
       "    </tr>\n",
       "    <tr>\n",
       "      <th>4</th>\n",
       "      <td>1019353400229</td>\n",
       "      <td>http://sgfm.elcorteingles.es/SGFM/dctm/MEDIA03/201902/07/00119353400237____2__516x640.jpg</td>\n",
       "    </tr>\n",
       "  </tbody>\n",
       "</table>\n",
       "</div>"
      ],
      "text/plain": [
       "              id  \\\n",
       "0  1060651400131   \n",
       "1  1060651400180   \n",
       "2  1051056400107   \n",
       "3  1019350401147   \n",
       "4  1019353400229   \n",
       "\n",
       "                                                                                       image  \n",
       "0  http://sgfm.elcorteingles.es/SGFM/dctm/MEDIA03/201902/07/00160651400131____1__516x640.jpg  \n",
       "1  http://sgfm.elcorteingles.es/SGFM/dctm/MEDIA03/201902/06/00160651400180____1__516x640.jpg  \n",
       "2  http://sgfm.elcorteingles.es/SGFM/dctm/MEDIA03/201902/07/00151056400115____1__516x640.jpg  \n",
       "3  http://sgfm.elcorteingles.es/SGFM/dctm/MEDIA03/201902/07/00119350401147____3__516x640.jpg  \n",
       "4  http://sgfm.elcorteingles.es/SGFM/dctm/MEDIA03/201902/07/00119353400237____2__516x640.jpg  "
      ]
     },
     "execution_count": 23,
     "metadata": {},
     "output_type": "execute_result"
    }
   ],
   "source": [
    "images = data[['id', 'image']]\n",
    "images.head()"
   ]
  },
  {
   "cell_type": "code",
   "execution_count": 24,
   "metadata": {},
   "outputs": [],
   "source": [
    "images.to_csv('Imagenes.csv', sep = ';', index=False, encoding = 'UTF-8')"
   ]
  },
  {
   "cell_type": "markdown",
   "metadata": {},
   "source": [
    "---"
   ]
  }
 ],
 "metadata": {
  "kernelspec": {
   "display_name": "Python 3",
   "language": "python",
   "name": "python3"
  },
  "language_info": {
   "codemirror_mode": {
    "name": "ipython",
    "version": 3
   },
   "file_extension": ".py",
   "mimetype": "text/x-python",
   "name": "python",
   "nbconvert_exporter": "python",
   "pygments_lexer": "ipython3",
   "version": "3.6.8"
  }
 },
 "nbformat": 4,
 "nbformat_minor": 2
}
