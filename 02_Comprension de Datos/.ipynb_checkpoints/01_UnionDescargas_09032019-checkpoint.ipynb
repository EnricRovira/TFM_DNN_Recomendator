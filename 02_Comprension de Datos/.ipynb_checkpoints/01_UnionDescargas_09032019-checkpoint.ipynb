{
 "cells": [
  {
   "cell_type": "markdown",
   "metadata": {},
   "source": [
    "# Union de las diversas Descargas hechas"
   ]
  },
  {
   "cell_type": "markdown",
   "metadata": {},
   "source": [
    "Por oprtimizacion se han hecho diversas descargas, algunas de ellas parcialmente superpuestas, por tanto es necesario unirlas y quitar los ids duplicados"
   ]
  },
  {
   "cell_type": "code",
   "execution_count": 2,
   "metadata": {},
   "outputs": [],
   "source": [
    "import pandas as pd"
   ]
  },
  {
   "cell_type": "code",
   "execution_count": 5,
   "metadata": {},
   "outputs": [
    {
     "name": "stderr",
     "output_type": "stream",
     "text": [
      "C:\\Users\\Enric\\Anaconda3\\lib\\site-packages\\IPython\\core\\interactiveshell.py:3020: DtypeWarning: Columns (6,9,12,20) have mixed types. Specify dtype option on import or set low_memory=False.\n",
      "  interactivity=interactivity, compiler=compiler, result=result)\n"
     ]
    }
   ],
   "source": [
    "data1 = pd.read_csv('../00_Datos/Products_v2.csv')\n",
    "data2 = pd.read_csv('../00_Datos/Products_v3.csv')\n",
    "data3 = pd.read_csv('../00_Datos/Productos_Finales/126kProducts_20190309.csv' , sep = ';')"
   ]
  },
  {
   "cell_type": "code",
   "execution_count": 6,
   "metadata": {},
   "outputs": [
    {
     "data": {
      "text/html": [
       "<div>\n",
       "<style scoped>\n",
       "    .dataframe tbody tr th:only-of-type {\n",
       "        vertical-align: middle;\n",
       "    }\n",
       "\n",
       "    .dataframe tbody tr th {\n",
       "        vertical-align: top;\n",
       "    }\n",
       "\n",
       "    .dataframe thead th {\n",
       "        text-align: right;\n",
       "    }\n",
       "</style>\n",
       "<table border=\"1\" class=\"dataframe\">\n",
       "  <thead>\n",
       "    <tr style=\"text-align: right;\">\n",
       "      <th></th>\n",
       "      <th>alternative_id</th>\n",
       "      <th>availability_date</th>\n",
       "      <th>badges</th>\n",
       "      <th>brand</th>\n",
       "      <th>category</th>\n",
       "      <th>discount</th>\n",
       "      <th>eci_provider</th>\n",
       "      <th>gtin</th>\n",
       "      <th>id</th>\n",
       "      <th>image</th>\n",
       "      <th>media</th>\n",
       "      <th>name</th>\n",
       "      <th>position</th>\n",
       "      <th>price</th>\n",
       "      <th>quantity</th>\n",
       "      <th>status</th>\n",
       "      <th>store_id</th>\n",
       "      <th>variant</th>\n",
       "    </tr>\n",
       "  </thead>\n",
       "  <tbody>\n",
       "    <tr>\n",
       "      <th>0</th>\n",
       "      <td>A28577025</td>\n",
       "      <td>NaN</td>\n",
       "      <td>['express_delivery']</td>\n",
       "      <td>Roberto Verino</td>\n",
       "      <td>['Moda', 'Mujer', 'Abrigos']</td>\n",
       "      <td>NaN</td>\n",
       "      <td>00000000</td>\n",
       "      <td>8.433816e+12</td>\n",
       "      <td>1024836201442</td>\n",
       "      <td>http://sgfm.elcorteingles.es/SGFM/dctm/MEDIA03...</td>\n",
       "      <td>{'count': 1}</td>\n",
       "      <td>Parka corta de mujer Roberto Verino con estamp...</td>\n",
       "      <td>0.0</td>\n",
       "      <td>{'final': 220, 'currency': 'EUR'}</td>\n",
       "      <td>1</td>\n",
       "      <td>show_pdp</td>\n",
       "      <td>60</td>\n",
       "      <td>001024836201442038</td>\n",
       "    </tr>\n",
       "    <tr>\n",
       "      <th>1</th>\n",
       "      <td>A28577035</td>\n",
       "      <td>NaN</td>\n",
       "      <td>['express_delivery']</td>\n",
       "      <td>Roberto Verino</td>\n",
       "      <td>['Moda', 'Mujer', 'Abrigos']</td>\n",
       "      <td>NaN</td>\n",
       "      <td>00000000</td>\n",
       "      <td>8.433816e+12</td>\n",
       "      <td>1024837200104</td>\n",
       "      <td>http://sgfm.elcorteingles.es/SGFM/dctm/MEDIA03...</td>\n",
       "      <td>{'count': 1}</td>\n",
       "      <td>Parka ligera de mujer Roberto Verino en beige</td>\n",
       "      <td>1.0</td>\n",
       "      <td>{'final': 220, 'currency': 'EUR'}</td>\n",
       "      <td>1</td>\n",
       "      <td>show_pdp</td>\n",
       "      <td>60</td>\n",
       "      <td>001024837200104038</td>\n",
       "    </tr>\n",
       "  </tbody>\n",
       "</table>\n",
       "</div>"
      ],
      "text/plain": [
       "  alternative_id  availability_date                badges           brand  \\\n",
       "0      A28577025                NaN  ['express_delivery']  Roberto Verino   \n",
       "1      A28577035                NaN  ['express_delivery']  Roberto Verino   \n",
       "\n",
       "                       category  discount eci_provider          gtin  \\\n",
       "0  ['Moda', 'Mujer', 'Abrigos']       NaN     00000000  8.433816e+12   \n",
       "1  ['Moda', 'Mujer', 'Abrigos']       NaN     00000000  8.433816e+12   \n",
       "\n",
       "              id                                              image  \\\n",
       "0  1024836201442  http://sgfm.elcorteingles.es/SGFM/dctm/MEDIA03...   \n",
       "1  1024837200104  http://sgfm.elcorteingles.es/SGFM/dctm/MEDIA03...   \n",
       "\n",
       "          media                                               name  position  \\\n",
       "0  {'count': 1}  Parka corta de mujer Roberto Verino con estamp...       0.0   \n",
       "1  {'count': 1}      Parka ligera de mujer Roberto Verino en beige       1.0   \n",
       "\n",
       "                               price  quantity    status  store_id  \\\n",
       "0  {'final': 220, 'currency': 'EUR'}         1  show_pdp        60   \n",
       "1  {'final': 220, 'currency': 'EUR'}         1  show_pdp        60   \n",
       "\n",
       "              variant  \n",
       "0  001024836201442038  \n",
       "1  001024837200104038  "
      ]
     },
     "execution_count": 6,
     "metadata": {},
     "output_type": "execute_result"
    }
   ],
   "source": [
    "data1.head(2)"
   ]
  },
  {
   "cell_type": "code",
   "execution_count": 7,
   "metadata": {},
   "outputs": [
    {
     "data": {
      "text/html": [
       "<div>\n",
       "<style scoped>\n",
       "    .dataframe tbody tr th:only-of-type {\n",
       "        vertical-align: middle;\n",
       "    }\n",
       "\n",
       "    .dataframe tbody tr th {\n",
       "        vertical-align: top;\n",
       "    }\n",
       "\n",
       "    .dataframe thead th {\n",
       "        text-align: right;\n",
       "    }\n",
       "</style>\n",
       "<table border=\"1\" class=\"dataframe\">\n",
       "  <thead>\n",
       "    <tr style=\"text-align: right;\">\n",
       "      <th></th>\n",
       "      <th>alternative_id</th>\n",
       "      <th>availability_date</th>\n",
       "      <th>badges</th>\n",
       "      <th>brand</th>\n",
       "      <th>category</th>\n",
       "      <th>discount</th>\n",
       "      <th>eci_provider</th>\n",
       "      <th>gtin</th>\n",
       "      <th>id</th>\n",
       "      <th>image</th>\n",
       "      <th>media</th>\n",
       "      <th>module_name</th>\n",
       "      <th>name</th>\n",
       "      <th>position</th>\n",
       "      <th>price</th>\n",
       "      <th>quantity</th>\n",
       "      <th>status</th>\n",
       "      <th>store_id</th>\n",
       "      <th>variant</th>\n",
       "      <th>vendor</th>\n",
       "    </tr>\n",
       "  </thead>\n",
       "  <tbody>\n",
       "    <tr>\n",
       "      <th>0</th>\n",
       "      <td>A28321178</td>\n",
       "      <td>NaN</td>\n",
       "      <td>[]</td>\n",
       "      <td>Jané</td>\n",
       "      <td>['Bebés', 'Parques']</td>\n",
       "      <td>NaN</td>\n",
       "      <td>00000000</td>\n",
       "      <td>8.420421e+12</td>\n",
       "      <td>001005324103059</td>\n",
       "      <td>http://sgfm.elcorteingles.es/SGFM/dctm/MEDIA03...</td>\n",
       "      <td>{'count': 1}</td>\n",
       "      <td>NaN</td>\n",
       "      <td>Parque de viaje Jané Travel Fun Toys verde</td>\n",
       "      <td>0.0</td>\n",
       "      <td>{'final': 102, 'currency': 'EUR'}</td>\n",
       "      <td>1</td>\n",
       "      <td>add</td>\n",
       "      <td>61</td>\n",
       "      <td>001005324103059</td>\n",
       "      <td>NaN</td>\n",
       "    </tr>\n",
       "    <tr>\n",
       "      <th>1</th>\n",
       "      <td>A24406006</td>\n",
       "      <td>NaN</td>\n",
       "      <td>['express_delivery']</td>\n",
       "      <td>Jané</td>\n",
       "      <td>['Bebés', 'Accesorios para el coche', 'Cinturó...</td>\n",
       "      <td>NaN</td>\n",
       "      <td>00000000</td>\n",
       "      <td>8.420421e+12</td>\n",
       "      <td>001005323002948</td>\n",
       "      <td>http://sgfm.elcorteingles.es/SGFM/dctm/MEDIA03...</td>\n",
       "      <td>{'count': 1}</td>\n",
       "      <td>NaN</td>\n",
       "      <td>Cinturón de Seguridad Jané Safe Belt para futu...</td>\n",
       "      <td>1.0</td>\n",
       "      <td>{'final': 24, 'currency': 'EUR'}</td>\n",
       "      <td>1</td>\n",
       "      <td>add</td>\n",
       "      <td>61</td>\n",
       "      <td>001005323002948</td>\n",
       "      <td>NaN</td>\n",
       "    </tr>\n",
       "  </tbody>\n",
       "</table>\n",
       "</div>"
      ],
      "text/plain": [
       "  alternative_id  availability_date                badges brand  \\\n",
       "0      A28321178                NaN                    []  Jané   \n",
       "1      A24406006                NaN  ['express_delivery']  Jané   \n",
       "\n",
       "                                            category discount eci_provider  \\\n",
       "0                               ['Bebés', 'Parques']      NaN     00000000   \n",
       "1  ['Bebés', 'Accesorios para el coche', 'Cinturó...      NaN     00000000   \n",
       "\n",
       "           gtin               id  \\\n",
       "0  8.420421e+12  001005324103059   \n",
       "1  8.420421e+12  001005323002948   \n",
       "\n",
       "                                               image         media  \\\n",
       "0  http://sgfm.elcorteingles.es/SGFM/dctm/MEDIA03...  {'count': 1}   \n",
       "1  http://sgfm.elcorteingles.es/SGFM/dctm/MEDIA03...  {'count': 1}   \n",
       "\n",
       "  module_name                                               name  position  \\\n",
       "0         NaN         Parque de viaje Jané Travel Fun Toys verde       0.0   \n",
       "1         NaN  Cinturón de Seguridad Jané Safe Belt para futu...       1.0   \n",
       "\n",
       "                               price  quantity status  store_id  \\\n",
       "0  {'final': 102, 'currency': 'EUR'}         1    add        61   \n",
       "1   {'final': 24, 'currency': 'EUR'}         1    add        61   \n",
       "\n",
       "              variant vendor  \n",
       "0  001005324103059       NaN  \n",
       "1  001005323002948       NaN  "
      ]
     },
     "execution_count": 7,
     "metadata": {},
     "output_type": "execute_result"
    }
   ],
   "source": [
    "data2.head(2)"
   ]
  },
  {
   "cell_type": "code",
   "execution_count": 8,
   "metadata": {},
   "outputs": [
    {
     "data": {
      "text/html": [
       "<div>\n",
       "<style scoped>\n",
       "    .dataframe tbody tr th:only-of-type {\n",
       "        vertical-align: middle;\n",
       "    }\n",
       "\n",
       "    .dataframe tbody tr th {\n",
       "        vertical-align: top;\n",
       "    }\n",
       "\n",
       "    .dataframe thead th {\n",
       "        text-align: right;\n",
       "    }\n",
       "</style>\n",
       "<table border=\"1\" class=\"dataframe\">\n",
       "  <thead>\n",
       "    <tr style=\"text-align: right;\">\n",
       "      <th></th>\n",
       "      <th>Unnamed: 0</th>\n",
       "      <th>alternative_id</th>\n",
       "      <th>availability_date</th>\n",
       "      <th>badges</th>\n",
       "      <th>brand</th>\n",
       "      <th>category</th>\n",
       "      <th>discount</th>\n",
       "      <th>eci_provider</th>\n",
       "      <th>gtin</th>\n",
       "      <th>id</th>\n",
       "      <th>...</th>\n",
       "      <th>media</th>\n",
       "      <th>module_name</th>\n",
       "      <th>name</th>\n",
       "      <th>position</th>\n",
       "      <th>price</th>\n",
       "      <th>quantity</th>\n",
       "      <th>status</th>\n",
       "      <th>store_id</th>\n",
       "      <th>variant</th>\n",
       "      <th>vendor</th>\n",
       "    </tr>\n",
       "  </thead>\n",
       "  <tbody>\n",
       "    <tr>\n",
       "      <th>0</th>\n",
       "      <td>0</td>\n",
       "      <td>A28233506</td>\n",
       "      <td>NaN</td>\n",
       "      <td>['express_delivery']</td>\n",
       "      <td>Woman Limited El Corte Inglés</td>\n",
       "      <td>['Moda', 'Mujer', 'Abrigos']</td>\n",
       "      <td>NaN</td>\n",
       "      <td>00000000</td>\n",
       "      <td>2.401700e+12</td>\n",
       "      <td>1060651400131</td>\n",
       "      <td>...</td>\n",
       "      <td>{'count': 1}</td>\n",
       "      <td>NaN</td>\n",
       "      <td>Abrigo masculino con textura de mujer</td>\n",
       "      <td>NaN</td>\n",
       "      <td>{'final': 199, 'currency': 'EUR'}</td>\n",
       "      <td>1</td>\n",
       "      <td>show_pdp</td>\n",
       "      <td>60</td>\n",
       "      <td>001060651400131002</td>\n",
       "      <td>NaN</td>\n",
       "    </tr>\n",
       "    <tr>\n",
       "      <th>1</th>\n",
       "      <td>1</td>\n",
       "      <td>A29054782</td>\n",
       "      <td>NaN</td>\n",
       "      <td>['express_delivery']</td>\n",
       "      <td>Woman Limited El Corte Inglés</td>\n",
       "      <td>['Moda', 'Mujer', 'Abrigos']</td>\n",
       "      <td>NaN</td>\n",
       "      <td>00000000</td>\n",
       "      <td>2.606514e+12</td>\n",
       "      <td>1060651400180</td>\n",
       "      <td>...</td>\n",
       "      <td>{'count': 1}</td>\n",
       "      <td>NaN</td>\n",
       "      <td>Abrigo doble faz de mujer con cinturón a tono</td>\n",
       "      <td>NaN</td>\n",
       "      <td>{'final': 149, 'currency': 'EUR'}</td>\n",
       "      <td>1</td>\n",
       "      <td>show_pdp</td>\n",
       "      <td>60</td>\n",
       "      <td>001060651400180002</td>\n",
       "      <td>NaN</td>\n",
       "    </tr>\n",
       "  </tbody>\n",
       "</table>\n",
       "<p>2 rows × 21 columns</p>\n",
       "</div>"
      ],
      "text/plain": [
       "   Unnamed: 0 alternative_id  availability_date                badges  \\\n",
       "0           0      A28233506                NaN  ['express_delivery']   \n",
       "1           1      A29054782                NaN  ['express_delivery']   \n",
       "\n",
       "                           brand                      category discount  \\\n",
       "0  Woman Limited El Corte Inglés  ['Moda', 'Mujer', 'Abrigos']      NaN   \n",
       "1  Woman Limited El Corte Inglés  ['Moda', 'Mujer', 'Abrigos']      NaN   \n",
       "\n",
       "  eci_provider          gtin             id  ...           media module_name  \\\n",
       "0     00000000  2.401700e+12  1060651400131  ...    {'count': 1}         NaN   \n",
       "1     00000000  2.606514e+12  1060651400180  ...    {'count': 1}         NaN   \n",
       "\n",
       "                                            name position  \\\n",
       "0          Abrigo masculino con textura de mujer      NaN   \n",
       "1  Abrigo doble faz de mujer con cinturón a tono      NaN   \n",
       "\n",
       "                               price quantity    status store_id  \\\n",
       "0  {'final': 199, 'currency': 'EUR'}        1  show_pdp       60   \n",
       "1  {'final': 149, 'currency': 'EUR'}        1  show_pdp       60   \n",
       "\n",
       "              variant vendor  \n",
       "0  001060651400131002    NaN  \n",
       "1  001060651400180002    NaN  \n",
       "\n",
       "[2 rows x 21 columns]"
      ]
     },
     "execution_count": 8,
     "metadata": {},
     "output_type": "execute_result"
    }
   ],
   "source": [
    "data3.head(2)"
   ]
  },
  {
   "cell_type": "code",
   "execution_count": 9,
   "metadata": {},
   "outputs": [
    {
     "name": "stdout",
     "output_type": "stream",
     "text": [
      "Tamaño data1: (59607, 18), Tamaño data2: (30082, 20), Tamaño data3: (126837, 21)\n"
     ]
    }
   ],
   "source": [
    "print (f'Tamaño data1: {data1.shape}, Tamaño data2: {data2.shape}, Tamaño data3: {data3.shape}')"
   ]
  },
  {
   "cell_type": "code",
   "execution_count": 10,
   "metadata": {},
   "outputs": [
    {
     "name": "stderr",
     "output_type": "stream",
     "text": [
      "C:\\Users\\Enric\\Anaconda3\\lib\\site-packages\\ipykernel_launcher.py:1: FutureWarning: Sorting because non-concatenation axis is not aligned. A future version\n",
      "of pandas will change to not sort by default.\n",
      "\n",
      "To accept the future behavior, pass 'sort=False'.\n",
      "\n",
      "To retain the current behavior and silence the warning, pass 'sort=True'.\n",
      "\n",
      "  \"\"\"Entry point for launching an IPython kernel.\n"
     ]
    },
    {
     "data": {
      "text/plain": [
       "(216526, 21)"
      ]
     },
     "execution_count": 10,
     "metadata": {},
     "output_type": "execute_result"
    }
   ],
   "source": [
    "result = pd.concat([data3, data1, data2])\n",
    "result.shape"
   ]
  },
  {
   "cell_type": "code",
   "execution_count": 11,
   "metadata": {},
   "outputs": [
    {
     "data": {
      "text/plain": [
       "(175713, 21)"
      ]
     },
     "execution_count": 11,
     "metadata": {},
     "output_type": "execute_result"
    }
   ],
   "source": [
    "datos_final = result.drop_duplicates(subset = 'id')\n",
    "datos_final.shape"
   ]
  },
  {
   "cell_type": "code",
   "execution_count": 12,
   "metadata": {},
   "outputs": [
    {
     "name": "stdout",
     "output_type": "stream",
     "text": [
      "Tamaño datos_final: (175713, 21)\n"
     ]
    }
   ],
   "source": [
    "print (f'Tamaño datos_final: {datos_final.shape}')"
   ]
  },
  {
   "cell_type": "code",
   "execution_count": 14,
   "metadata": {},
   "outputs": [],
   "source": [
    "datos_final.to_csv('../00_Datos/Productos_Finales/175kProducts_20190311.csv', sep = ';')"
   ]
  }
 ],
 "metadata": {
  "kernelspec": {
   "display_name": "Python 3",
   "language": "python",
   "name": "python3"
  },
  "language_info": {
   "codemirror_mode": {
    "name": "ipython",
    "version": 3
   },
   "file_extension": ".py",
   "mimetype": "text/x-python",
   "name": "python",
   "nbconvert_exporter": "python",
   "pygments_lexer": "ipython3",
   "version": "3.7.1"
  }
 },
 "nbformat": 4,
 "nbformat_minor": 2
}
