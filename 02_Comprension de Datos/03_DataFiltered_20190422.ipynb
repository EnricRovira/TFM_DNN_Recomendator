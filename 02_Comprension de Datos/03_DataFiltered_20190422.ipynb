{
 "cells": [
  {
   "cell_type": "code",
   "execution_count": 1,
   "metadata": {},
   "outputs": [],
   "source": [
    "import pandas as pd\n",
    "import os"
   ]
  },
  {
   "cell_type": "code",
   "execution_count": 2,
   "metadata": {},
   "outputs": [],
   "source": [
    "path = os.path.join('../../Data/')"
   ]
  },
  {
   "cell_type": "code",
   "execution_count": 3,
   "metadata": {},
   "outputs": [
    {
     "name": "stdout",
     "output_type": "stream",
     "text": [
      "['.~lock.175kProducts_20190311.csv#', '126kProducts_20190309.csv', '175kProducts_20190311.csv', '204kProducts_20190315.csv', 'desktop.ini']\n"
     ]
    }
   ],
   "source": [
    "print(os.listdir(path + '/Productos_Finales/'))"
   ]
  },
  {
   "cell_type": "code",
   "execution_count": 4,
   "metadata": {},
   "outputs": [
    {
     "name": "stderr",
     "output_type": "stream",
     "text": [
      "C:\\Users\\Enric\\Anaconda3\\lib\\site-packages\\IPython\\core\\interactiveshell.py:3020: DtypeWarning: Columns (5,8,11,18,19) have mixed types. Specify dtype option on import or set low_memory=False.\n",
      "  interactivity=interactivity, compiler=compiler, result=result)\n"
     ]
    },
    {
     "data": {
      "text/plain": [
       "Index(['alternative_id', 'availability_date', 'badges', 'brand', 'category',\n",
       "       'discount', 'eci_provider', 'gtin', 'id', 'image', 'media',\n",
       "       'module_name', 'name', 'position', 'price', 'quantity', 'status',\n",
       "       'store_id', 'variant', 'vendor'],\n",
       "      dtype='object')"
      ]
     },
     "execution_count": 4,
     "metadata": {},
     "output_type": "execute_result"
    }
   ],
   "source": [
    "data = pd.read_csv(path + '/Productos_Finales/204kProducts_20190315.csv', sep = ';')\n",
    "data.columns"
   ]
  },
  {
   "cell_type": "code",
   "execution_count": 6,
   "metadata": {},
   "outputs": [
    {
     "data": {
      "text/html": [
       "<div>\n",
       "<style scoped>\n",
       "    .dataframe tbody tr th:only-of-type {\n",
       "        vertical-align: middle;\n",
       "    }\n",
       "\n",
       "    .dataframe tbody tr th {\n",
       "        vertical-align: top;\n",
       "    }\n",
       "\n",
       "    .dataframe thead th {\n",
       "        text-align: right;\n",
       "    }\n",
       "</style>\n",
       "<table border=\"1\" class=\"dataframe\">\n",
       "  <thead>\n",
       "    <tr style=\"text-align: right;\">\n",
       "      <th></th>\n",
       "      <th>alternative_id</th>\n",
       "      <th>availability_date</th>\n",
       "      <th>badges</th>\n",
       "      <th>brand</th>\n",
       "      <th>category</th>\n",
       "      <th>discount</th>\n",
       "      <th>eci_provider</th>\n",
       "      <th>gtin</th>\n",
       "      <th>id</th>\n",
       "      <th>image</th>\n",
       "      <th>media</th>\n",
       "      <th>module_name</th>\n",
       "      <th>name</th>\n",
       "      <th>position</th>\n",
       "      <th>price</th>\n",
       "      <th>quantity</th>\n",
       "      <th>status</th>\n",
       "      <th>store_id</th>\n",
       "      <th>variant</th>\n",
       "      <th>vendor</th>\n",
       "    </tr>\n",
       "  </thead>\n",
       "  <tbody>\n",
       "    <tr>\n",
       "      <th>0</th>\n",
       "      <td>A28233506</td>\n",
       "      <td>NaN</td>\n",
       "      <td>['express_delivery']</td>\n",
       "      <td>Woman Limited El Corte Inglés</td>\n",
       "      <td>['Moda', 'Mujer', 'Abrigos']</td>\n",
       "      <td>NaN</td>\n",
       "      <td>00000000</td>\n",
       "      <td>2.401700e+12</td>\n",
       "      <td>1060651400131</td>\n",
       "      <td>http://sgfm.elcorteingles.es/SGFM/dctm/MEDIA03...</td>\n",
       "      <td>{'count': 1}</td>\n",
       "      <td>NaN</td>\n",
       "      <td>Abrigo masculino con textura de mujer</td>\n",
       "      <td>NaN</td>\n",
       "      <td>{'final': 199, 'currency': 'EUR'}</td>\n",
       "      <td>1</td>\n",
       "      <td>show_pdp</td>\n",
       "      <td>60</td>\n",
       "      <td>001060651400131002</td>\n",
       "      <td>NaN</td>\n",
       "    </tr>\n",
       "  </tbody>\n",
       "</table>\n",
       "</div>"
      ],
      "text/plain": [
       "  alternative_id  availability_date                badges  \\\n",
       "0      A28233506                NaN  ['express_delivery']   \n",
       "\n",
       "                           brand                      category discount  \\\n",
       "0  Woman Limited El Corte Inglés  ['Moda', 'Mujer', 'Abrigos']      NaN   \n",
       "\n",
       "  eci_provider          gtin             id  \\\n",
       "0     00000000  2.401700e+12  1060651400131   \n",
       "\n",
       "                                               image         media  \\\n",
       "0  http://sgfm.elcorteingles.es/SGFM/dctm/MEDIA03...  {'count': 1}   \n",
       "\n",
       "  module_name                                   name  position  \\\n",
       "0         NaN  Abrigo masculino con textura de mujer       NaN   \n",
       "\n",
       "                               price  quantity    status  store_id  \\\n",
       "0  {'final': 199, 'currency': 'EUR'}         1  show_pdp        60   \n",
       "\n",
       "              variant vendor  \n",
       "0  001060651400131002    NaN  "
      ]
     },
     "execution_count": 6,
     "metadata": {},
     "output_type": "execute_result"
    }
   ],
   "source": [
    "data.head(1)"
   ]
  },
  {
   "cell_type": "code",
   "execution_count": 9,
   "metadata": {},
   "outputs": [],
   "source": [
    "columns = ['alternative_id', 'availability_date', 'brand', 'category', 'name', 'price']"
   ]
  },
  {
   "cell_type": "code",
   "execution_count": 10,
   "metadata": {},
   "outputs": [],
   "source": [
    "data = data[columns]"
   ]
  },
  {
   "cell_type": "code",
   "execution_count": 11,
   "metadata": {},
   "outputs": [],
   "source": [
    "data.columns = ['item_id', 'availability_date', 'brand', 'category', 'name', 'price']"
   ]
  },
  {
   "cell_type": "code",
   "execution_count": 13,
   "metadata": {},
   "outputs": [],
   "source": [
    "data.to_csv(path + 'data_filtered_20190422.csv', index = False, sep = ';')"
   ]
  }
 ],
 "metadata": {
  "kernelspec": {
   "display_name": "Python 3",
   "language": "python",
   "name": "python3"
  },
  "language_info": {
   "codemirror_mode": {
    "name": "ipython",
    "version": 3
   },
   "file_extension": ".py",
   "mimetype": "text/x-python",
   "name": "python",
   "nbconvert_exporter": "python",
   "pygments_lexer": "ipython3",
   "version": "3.6.8"
  }
 },
 "nbformat": 4,
 "nbformat_minor": 2
}
