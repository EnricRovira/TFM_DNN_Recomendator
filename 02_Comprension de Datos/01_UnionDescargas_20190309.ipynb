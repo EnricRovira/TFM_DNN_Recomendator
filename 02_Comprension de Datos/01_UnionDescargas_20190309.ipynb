{
 "cells": [
  {
   "cell_type": "markdown",
   "metadata": {},
   "source": [
    "# Union de las diversas Descargas hechas"
   ]
  },
  {
   "cell_type": "markdown",
   "metadata": {},
   "source": [
    "Por oprtimizacion se han hecho diversas descargas, algunas de ellas parcialmente superpuestas, por tanto es necesario unirlas y quitar los ids duplicados"
   ]
  },
  {
   "cell_type": "code",
   "execution_count": 2,
   "metadata": {},
   "outputs": [],
   "source": [
    "import pandas as pd"
   ]
  },
  {
   "cell_type": "code",
   "execution_count": 15,
   "metadata": {},
   "outputs": [
    {
     "name": "stderr",
     "output_type": "stream",
     "text": [
      "C:\\Users\\Enric\\Anaconda3\\lib\\site-packages\\IPython\\core\\interactiveshell.py:3020: DtypeWarning: Columns (7,10,13,21) have mixed types. Specify dtype option on import or set low_memory=False.\n",
      "  interactivity=interactivity, compiler=compiler, result=result)\n"
     ]
    }
   ],
   "source": [
    "data1 = pd.read_csv('../01_Comprension_de_Negocio/Output/ProductsV4.csv')\n",
    "data2 = pd.read_csv('../00_Datos/Productos_Finales/175kProducts_20190311.csv', sep = ';')"
   ]
  },
  {
   "cell_type": "code",
   "execution_count": 6,
   "metadata": {},
   "outputs": [
    {
     "data": {
      "text/html": [
       "<div>\n",
       "<style scoped>\n",
       "    .dataframe tbody tr th:only-of-type {\n",
       "        vertical-align: middle;\n",
       "    }\n",
       "\n",
       "    .dataframe tbody tr th {\n",
       "        vertical-align: top;\n",
       "    }\n",
       "\n",
       "    .dataframe thead th {\n",
       "        text-align: right;\n",
       "    }\n",
       "</style>\n",
       "<table border=\"1\" class=\"dataframe\">\n",
       "  <thead>\n",
       "    <tr style=\"text-align: right;\">\n",
       "      <th></th>\n",
       "      <th>alternative_id</th>\n",
       "      <th>availability_date</th>\n",
       "      <th>badges</th>\n",
       "      <th>brand</th>\n",
       "      <th>category</th>\n",
       "      <th>discount</th>\n",
       "      <th>eci_provider</th>\n",
       "      <th>gtin</th>\n",
       "      <th>id</th>\n",
       "      <th>image</th>\n",
       "      <th>media</th>\n",
       "      <th>module_name</th>\n",
       "      <th>name</th>\n",
       "      <th>position</th>\n",
       "      <th>price</th>\n",
       "      <th>quantity</th>\n",
       "      <th>status</th>\n",
       "      <th>store_id</th>\n",
       "      <th>variant</th>\n",
       "      <th>vendor</th>\n",
       "    </tr>\n",
       "  </thead>\n",
       "  <tbody>\n",
       "    <tr>\n",
       "      <th>0</th>\n",
       "      <td>A17665205</td>\n",
       "      <td>NaN</td>\n",
       "      <td>['express_delivery']</td>\n",
       "      <td>Schleich</td>\n",
       "      <td>['Juguetes', 'Muñecos articulados', 'Figuras y...</td>\n",
       "      <td>NaN</td>\n",
       "      <td>00000000</td>\n",
       "      <td>4.005086e+12</td>\n",
       "      <td>001002712248919</td>\n",
       "      <td>http://sgfm.elcorteingles.es/SGFM/dctm/MEDIA03...</td>\n",
       "      <td>{'count': 1}</td>\n",
       "      <td>NaN</td>\n",
       "      <td>Ternero frisón de manchas negras Schleich</td>\n",
       "      <td>0.0</td>\n",
       "      <td>{'final': 4.99, 'currency': 'EUR'}</td>\n",
       "      <td>1</td>\n",
       "      <td>add</td>\n",
       "      <td>38</td>\n",
       "      <td>001002712248919</td>\n",
       "      <td>NaN</td>\n",
       "    </tr>\n",
       "    <tr>\n",
       "      <th>1</th>\n",
       "      <td>A17665214</td>\n",
       "      <td>NaN</td>\n",
       "      <td>['express_delivery']</td>\n",
       "      <td>Schleich</td>\n",
       "      <td>['Juguetes', 'Muñecos articulados', 'Figuras y...</td>\n",
       "      <td>NaN</td>\n",
       "      <td>00000000</td>\n",
       "      <td>4.005086e+12</td>\n",
       "      <td>001002712248935</td>\n",
       "      <td>http://sgfm.elcorteingles.es/SGFM/dctm/MEDIA03...</td>\n",
       "      <td>{'count': 1}</td>\n",
       "      <td>NaN</td>\n",
       "      <td>Dunkleosteus Schleich</td>\n",
       "      <td>1.0</td>\n",
       "      <td>{'final': 14.99, 'currency': 'EUR'}</td>\n",
       "      <td>1</td>\n",
       "      <td>add</td>\n",
       "      <td>38</td>\n",
       "      <td>001002712248935</td>\n",
       "      <td>NaN</td>\n",
       "    </tr>\n",
       "  </tbody>\n",
       "</table>\n",
       "</div>"
      ],
      "text/plain": [
       "  alternative_id  availability_date                badges     brand  \\\n",
       "0      A17665205                NaN  ['express_delivery']  Schleich   \n",
       "1      A17665214                NaN  ['express_delivery']  Schleich   \n",
       "\n",
       "                                            category discount eci_provider  \\\n",
       "0  ['Juguetes', 'Muñecos articulados', 'Figuras y...      NaN     00000000   \n",
       "1  ['Juguetes', 'Muñecos articulados', 'Figuras y...      NaN     00000000   \n",
       "\n",
       "           gtin               id  \\\n",
       "0  4.005086e+12  001002712248919   \n",
       "1  4.005086e+12  001002712248935   \n",
       "\n",
       "                                               image         media  \\\n",
       "0  http://sgfm.elcorteingles.es/SGFM/dctm/MEDIA03...  {'count': 1}   \n",
       "1  http://sgfm.elcorteingles.es/SGFM/dctm/MEDIA03...  {'count': 1}   \n",
       "\n",
       "  module_name                                       name  position  \\\n",
       "0         NaN  Ternero frisón de manchas negras Schleich       0.0   \n",
       "1         NaN                      Dunkleosteus Schleich       1.0   \n",
       "\n",
       "                                 price  quantity status  store_id  \\\n",
       "0   {'final': 4.99, 'currency': 'EUR'}         1    add        38   \n",
       "1  {'final': 14.99, 'currency': 'EUR'}         1    add        38   \n",
       "\n",
       "              variant vendor  \n",
       "0  001002712248919       NaN  \n",
       "1  001002712248935       NaN  "
      ]
     },
     "execution_count": 6,
     "metadata": {},
     "output_type": "execute_result"
    }
   ],
   "source": [
    "data1.head(2)"
   ]
  },
  {
   "cell_type": "code",
   "execution_count": 7,
   "metadata": {},
   "outputs": [
    {
     "data": {
      "text/html": [
       "<div>\n",
       "<style scoped>\n",
       "    .dataframe tbody tr th:only-of-type {\n",
       "        vertical-align: middle;\n",
       "    }\n",
       "\n",
       "    .dataframe tbody tr th {\n",
       "        vertical-align: top;\n",
       "    }\n",
       "\n",
       "    .dataframe thead th {\n",
       "        text-align: right;\n",
       "    }\n",
       "</style>\n",
       "<table border=\"1\" class=\"dataframe\">\n",
       "  <thead>\n",
       "    <tr style=\"text-align: right;\">\n",
       "      <th></th>\n",
       "      <th>Unnamed: 0</th>\n",
       "      <th>Unnamed: 0.1</th>\n",
       "      <th>alternative_id</th>\n",
       "      <th>availability_date</th>\n",
       "      <th>badges</th>\n",
       "      <th>brand</th>\n",
       "      <th>category</th>\n",
       "      <th>discount</th>\n",
       "      <th>eci_provider</th>\n",
       "      <th>gtin</th>\n",
       "      <th>...</th>\n",
       "      <th>media</th>\n",
       "      <th>module_name</th>\n",
       "      <th>name</th>\n",
       "      <th>position</th>\n",
       "      <th>price</th>\n",
       "      <th>quantity</th>\n",
       "      <th>status</th>\n",
       "      <th>store_id</th>\n",
       "      <th>variant</th>\n",
       "      <th>vendor</th>\n",
       "    </tr>\n",
       "  </thead>\n",
       "  <tbody>\n",
       "    <tr>\n",
       "      <th>0</th>\n",
       "      <td>0</td>\n",
       "      <td>0.0</td>\n",
       "      <td>A28233506</td>\n",
       "      <td>NaN</td>\n",
       "      <td>['express_delivery']</td>\n",
       "      <td>Woman Limited El Corte Inglés</td>\n",
       "      <td>['Moda', 'Mujer', 'Abrigos']</td>\n",
       "      <td>NaN</td>\n",
       "      <td>00000000</td>\n",
       "      <td>2.401700e+12</td>\n",
       "      <td>...</td>\n",
       "      <td>{'count': 1}</td>\n",
       "      <td>NaN</td>\n",
       "      <td>Abrigo masculino con textura de mujer</td>\n",
       "      <td>NaN</td>\n",
       "      <td>{'final': 199, 'currency': 'EUR'}</td>\n",
       "      <td>1</td>\n",
       "      <td>show_pdp</td>\n",
       "      <td>60</td>\n",
       "      <td>001060651400131002</td>\n",
       "      <td>NaN</td>\n",
       "    </tr>\n",
       "    <tr>\n",
       "      <th>1</th>\n",
       "      <td>1</td>\n",
       "      <td>1.0</td>\n",
       "      <td>A29054782</td>\n",
       "      <td>NaN</td>\n",
       "      <td>['express_delivery']</td>\n",
       "      <td>Woman Limited El Corte Inglés</td>\n",
       "      <td>['Moda', 'Mujer', 'Abrigos']</td>\n",
       "      <td>NaN</td>\n",
       "      <td>00000000</td>\n",
       "      <td>2.606514e+12</td>\n",
       "      <td>...</td>\n",
       "      <td>{'count': 1}</td>\n",
       "      <td>NaN</td>\n",
       "      <td>Abrigo doble faz de mujer con cinturón a tono</td>\n",
       "      <td>NaN</td>\n",
       "      <td>{'final': 149, 'currency': 'EUR'}</td>\n",
       "      <td>1</td>\n",
       "      <td>show_pdp</td>\n",
       "      <td>60</td>\n",
       "      <td>001060651400180002</td>\n",
       "      <td>NaN</td>\n",
       "    </tr>\n",
       "  </tbody>\n",
       "</table>\n",
       "<p>2 rows × 22 columns</p>\n",
       "</div>"
      ],
      "text/plain": [
       "   Unnamed: 0  Unnamed: 0.1 alternative_id  availability_date  \\\n",
       "0           0           0.0      A28233506                NaN   \n",
       "1           1           1.0      A29054782                NaN   \n",
       "\n",
       "                 badges                          brand  \\\n",
       "0  ['express_delivery']  Woman Limited El Corte Inglés   \n",
       "1  ['express_delivery']  Woman Limited El Corte Inglés   \n",
       "\n",
       "                       category discount eci_provider          gtin  ...  \\\n",
       "0  ['Moda', 'Mujer', 'Abrigos']      NaN     00000000  2.401700e+12  ...   \n",
       "1  ['Moda', 'Mujer', 'Abrigos']      NaN     00000000  2.606514e+12  ...   \n",
       "\n",
       "          media module_name                                           name  \\\n",
       "0  {'count': 1}         NaN          Abrigo masculino con textura de mujer   \n",
       "1  {'count': 1}         NaN  Abrigo doble faz de mujer con cinturón a tono   \n",
       "\n",
       "  position                              price  quantity    status  store_id  \\\n",
       "0      NaN  {'final': 199, 'currency': 'EUR'}         1  show_pdp        60   \n",
       "1      NaN  {'final': 149, 'currency': 'EUR'}         1  show_pdp        60   \n",
       "\n",
       "              variant  vendor  \n",
       "0  001060651400131002     NaN  \n",
       "1  001060651400180002     NaN  \n",
       "\n",
       "[2 rows x 22 columns]"
      ]
     },
     "execution_count": 7,
     "metadata": {},
     "output_type": "execute_result"
    }
   ],
   "source": [
    "data2.head(2)"
   ]
  },
  {
   "cell_type": "code",
   "execution_count": 19,
   "metadata": {},
   "outputs": [
    {
     "data": {
      "text/html": [
       "<div>\n",
       "<style scoped>\n",
       "    .dataframe tbody tr th:only-of-type {\n",
       "        vertical-align: middle;\n",
       "    }\n",
       "\n",
       "    .dataframe tbody tr th {\n",
       "        vertical-align: top;\n",
       "    }\n",
       "\n",
       "    .dataframe thead th {\n",
       "        text-align: right;\n",
       "    }\n",
       "</style>\n",
       "<table border=\"1\" class=\"dataframe\">\n",
       "  <thead>\n",
       "    <tr style=\"text-align: right;\">\n",
       "      <th></th>\n",
       "      <th>alternative_id</th>\n",
       "      <th>availability_date</th>\n",
       "      <th>badges</th>\n",
       "      <th>brand</th>\n",
       "      <th>category</th>\n",
       "      <th>discount</th>\n",
       "      <th>eci_provider</th>\n",
       "      <th>gtin</th>\n",
       "      <th>id</th>\n",
       "      <th>image</th>\n",
       "      <th>media</th>\n",
       "      <th>module_name</th>\n",
       "      <th>name</th>\n",
       "      <th>position</th>\n",
       "      <th>price</th>\n",
       "      <th>quantity</th>\n",
       "      <th>status</th>\n",
       "      <th>store_id</th>\n",
       "      <th>variant</th>\n",
       "      <th>vendor</th>\n",
       "    </tr>\n",
       "  </thead>\n",
       "  <tbody>\n",
       "    <tr>\n",
       "      <th>0</th>\n",
       "      <td>A28233506</td>\n",
       "      <td>NaN</td>\n",
       "      <td>['express_delivery']</td>\n",
       "      <td>Woman Limited El Corte Inglés</td>\n",
       "      <td>['Moda', 'Mujer', 'Abrigos']</td>\n",
       "      <td>NaN</td>\n",
       "      <td>00000000</td>\n",
       "      <td>2.401700e+12</td>\n",
       "      <td>1060651400131</td>\n",
       "      <td>http://sgfm.elcorteingles.es/SGFM/dctm/MEDIA03...</td>\n",
       "      <td>{'count': 1}</td>\n",
       "      <td>NaN</td>\n",
       "      <td>Abrigo masculino con textura de mujer</td>\n",
       "      <td>NaN</td>\n",
       "      <td>{'final': 199, 'currency': 'EUR'}</td>\n",
       "      <td>1</td>\n",
       "      <td>show_pdp</td>\n",
       "      <td>60</td>\n",
       "      <td>001060651400131002</td>\n",
       "      <td>NaN</td>\n",
       "    </tr>\n",
       "    <tr>\n",
       "      <th>1</th>\n",
       "      <td>A29054782</td>\n",
       "      <td>NaN</td>\n",
       "      <td>['express_delivery']</td>\n",
       "      <td>Woman Limited El Corte Inglés</td>\n",
       "      <td>['Moda', 'Mujer', 'Abrigos']</td>\n",
       "      <td>NaN</td>\n",
       "      <td>00000000</td>\n",
       "      <td>2.606514e+12</td>\n",
       "      <td>1060651400180</td>\n",
       "      <td>http://sgfm.elcorteingles.es/SGFM/dctm/MEDIA03...</td>\n",
       "      <td>{'count': 1}</td>\n",
       "      <td>NaN</td>\n",
       "      <td>Abrigo doble faz de mujer con cinturón a tono</td>\n",
       "      <td>NaN</td>\n",
       "      <td>{'final': 149, 'currency': 'EUR'}</td>\n",
       "      <td>1</td>\n",
       "      <td>show_pdp</td>\n",
       "      <td>60</td>\n",
       "      <td>001060651400180002</td>\n",
       "      <td>NaN</td>\n",
       "    </tr>\n",
       "  </tbody>\n",
       "</table>\n",
       "</div>"
      ],
      "text/plain": [
       "  alternative_id  availability_date                badges  \\\n",
       "0      A28233506                NaN  ['express_delivery']   \n",
       "1      A29054782                NaN  ['express_delivery']   \n",
       "\n",
       "                           brand                      category discount  \\\n",
       "0  Woman Limited El Corte Inglés  ['Moda', 'Mujer', 'Abrigos']      NaN   \n",
       "1  Woman Limited El Corte Inglés  ['Moda', 'Mujer', 'Abrigos']      NaN   \n",
       "\n",
       "  eci_provider          gtin             id  \\\n",
       "0     00000000  2.401700e+12  1060651400131   \n",
       "1     00000000  2.606514e+12  1060651400180   \n",
       "\n",
       "                                               image         media  \\\n",
       "0  http://sgfm.elcorteingles.es/SGFM/dctm/MEDIA03...  {'count': 1}   \n",
       "1  http://sgfm.elcorteingles.es/SGFM/dctm/MEDIA03...  {'count': 1}   \n",
       "\n",
       "  module_name                                           name  position  \\\n",
       "0         NaN          Abrigo masculino con textura de mujer       NaN   \n",
       "1         NaN  Abrigo doble faz de mujer con cinturón a tono       NaN   \n",
       "\n",
       "                               price  quantity    status  store_id  \\\n",
       "0  {'final': 199, 'currency': 'EUR'}         1  show_pdp        60   \n",
       "1  {'final': 149, 'currency': 'EUR'}         1  show_pdp        60   \n",
       "\n",
       "              variant vendor  \n",
       "0  001060651400131002    NaN  \n",
       "1  001060651400180002    NaN  "
      ]
     },
     "execution_count": 19,
     "metadata": {},
     "output_type": "execute_result"
    }
   ],
   "source": [
    "data2 = data2.drop(columns = ['Unnamed: 0', 'Unnamed: 0.1'], axis = 1)\n",
    "data2.head(2)"
   ]
  },
  {
   "cell_type": "code",
   "execution_count": 20,
   "metadata": {},
   "outputs": [
    {
     "name": "stdout",
     "output_type": "stream",
     "text": [
      "Tamaño data1: (40845, 20), Tamaño data2: (175713, 20)\n"
     ]
    }
   ],
   "source": [
    "print (f'Tamaño data1: {data1.shape}, Tamaño data2: {data2.shape}')"
   ]
  },
  {
   "cell_type": "code",
   "execution_count": 21,
   "metadata": {},
   "outputs": [
    {
     "data": {
      "text/plain": [
       "(216558, 20)"
      ]
     },
     "execution_count": 21,
     "metadata": {},
     "output_type": "execute_result"
    }
   ],
   "source": [
    "result = pd.concat([data2, data1])\n",
    "result.shape"
   ]
  },
  {
   "cell_type": "code",
   "execution_count": 22,
   "metadata": {},
   "outputs": [
    {
     "data": {
      "text/plain": [
       "(204812, 20)"
      ]
     },
     "execution_count": 22,
     "metadata": {},
     "output_type": "execute_result"
    }
   ],
   "source": [
    "datos_final = result.drop_duplicates(subset = 'id')\n",
    "datos_final.shape"
   ]
  },
  {
   "cell_type": "code",
   "execution_count": 23,
   "metadata": {},
   "outputs": [
    {
     "name": "stdout",
     "output_type": "stream",
     "text": [
      "Tamaño datos_final: (204812, 20)\n"
     ]
    }
   ],
   "source": [
    "print (f'Tamaño datos_final: {datos_final.shape}')"
   ]
  },
  {
   "cell_type": "code",
   "execution_count": 24,
   "metadata": {},
   "outputs": [],
   "source": [
    "datos_final.to_csv('../00_Datos/Productos_Finales/204kProducts_20190315.csv', sep = ';', index=False)"
   ]
  }
 ],
 "metadata": {
  "kernelspec": {
   "display_name": "Python 3",
   "language": "python",
   "name": "python3"
  },
  "language_info": {
   "codemirror_mode": {
    "name": "ipython",
    "version": 3
   },
   "file_extension": ".py",
   "mimetype": "text/x-python",
   "name": "python",
   "nbconvert_exporter": "python",
   "pygments_lexer": "ipython3",
   "version": "3.6.8"
  }
 },
 "nbformat": 4,
 "nbformat_minor": 2
}
