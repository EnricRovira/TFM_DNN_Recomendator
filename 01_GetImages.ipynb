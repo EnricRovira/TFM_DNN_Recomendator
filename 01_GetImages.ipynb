{
 "cells": [
  {
   "cell_type": "code",
   "execution_count": 1,
   "metadata": {},
   "outputs": [],
   "source": [
    "import pandas as pd\n",
    "import requests\n",
    "pd.set_option('max_colwidth', -1)\n",
    "import time"
   ]
  },
  {
   "cell_type": "code",
   "execution_count": 2,
   "metadata": {
    "scrolled": true
   },
   "outputs": [
    {
     "data": {
      "text/html": [
       "<div>\n",
       "<style scoped>\n",
       "    .dataframe tbody tr th:only-of-type {\n",
       "        vertical-align: middle;\n",
       "    }\n",
       "\n",
       "    .dataframe tbody tr th {\n",
       "        vertical-align: top;\n",
       "    }\n",
       "\n",
       "    .dataframe thead th {\n",
       "        text-align: right;\n",
       "    }\n",
       "</style>\n",
       "<table border=\"1\" class=\"dataframe\">\n",
       "  <thead>\n",
       "    <tr style=\"text-align: right;\">\n",
       "      <th></th>\n",
       "      <th>id</th>\n",
       "      <th>image</th>\n",
       "    </tr>\n",
       "  </thead>\n",
       "  <tbody>\n",
       "    <tr>\n",
       "      <th>0</th>\n",
       "      <td>1060651400131</td>\n",
       "      <td>http://sgfm.elcorteingles.es/SGFM/dctm/MEDIA03/201902/07/00160651400131____1__516x640.jpg</td>\n",
       "    </tr>\n",
       "    <tr>\n",
       "      <th>1</th>\n",
       "      <td>1060651400180</td>\n",
       "      <td>http://sgfm.elcorteingles.es/SGFM/dctm/MEDIA03/201902/06/00160651400180____1__516x640.jpg</td>\n",
       "    </tr>\n",
       "    <tr>\n",
       "      <th>2</th>\n",
       "      <td>1051056400107</td>\n",
       "      <td>http://sgfm.elcorteingles.es/SGFM/dctm/MEDIA03/201902/07/00151056400115____1__516x640.jpg</td>\n",
       "    </tr>\n",
       "    <tr>\n",
       "      <th>3</th>\n",
       "      <td>1019350401147</td>\n",
       "      <td>http://sgfm.elcorteingles.es/SGFM/dctm/MEDIA03/201902/07/00119350401147____3__516x640.jpg</td>\n",
       "    </tr>\n",
       "    <tr>\n",
       "      <th>4</th>\n",
       "      <td>1019353400229</td>\n",
       "      <td>http://sgfm.elcorteingles.es/SGFM/dctm/MEDIA03/201902/07/00119353400237____2__516x640.jpg</td>\n",
       "    </tr>\n",
       "  </tbody>\n",
       "</table>\n",
       "</div>"
      ],
      "text/plain": [
       "              id  \\\n",
       "0  1060651400131   \n",
       "1  1060651400180   \n",
       "2  1051056400107   \n",
       "3  1019350401147   \n",
       "4  1019353400229   \n",
       "\n",
       "                                                                                       image  \n",
       "0  http://sgfm.elcorteingles.es/SGFM/dctm/MEDIA03/201902/07/00160651400131____1__516x640.jpg  \n",
       "1  http://sgfm.elcorteingles.es/SGFM/dctm/MEDIA03/201902/06/00160651400180____1__516x640.jpg  \n",
       "2  http://sgfm.elcorteingles.es/SGFM/dctm/MEDIA03/201902/07/00151056400115____1__516x640.jpg  \n",
       "3  http://sgfm.elcorteingles.es/SGFM/dctm/MEDIA03/201902/07/00119350401147____3__516x640.jpg  \n",
       "4  http://sgfm.elcorteingles.es/SGFM/dctm/MEDIA03/201902/07/00119353400237____2__516x640.jpg  "
      ]
     },
     "execution_count": 2,
     "metadata": {},
     "output_type": "execute_result"
    }
   ],
   "source": [
    "images = pd.read_csv('../02_Comprension de Datos/Imagenes.csv', sep = ';')\n",
    "images.head(5)"
   ]
  },
  {
   "cell_type": "code",
   "execution_count": 3,
   "metadata": {},
   "outputs": [
    {
     "data": {
      "text/plain": [
       "5    http://sgfm.elcorteingles.es/SGFM/dctm/MEDIA03/201902/07/00119353400252____2__516x640.jpg\n",
       "6    http://sgfm.elcorteingles.es/SGFM/dctm/MEDIA03/201902/07/00152353400097____1__516x640.jpg\n",
       "7    http://sgfm.elcorteingles.es/SGFM/dctm/MEDIA03/201902/06/00152357400044____1__516x640.jpg\n",
       "8    http://sgfm.elcorteingles.es/SGFM/dctm/MEDIA03/201902/07/00119350401030____2__516x640.jpg\n",
       "9    http://sgfm.elcorteingles.es/SGFM/dctm/MEDIA03/201902/08/00151053400126____1__516x640.jpg\n",
       "Name: image, dtype: object"
      ]
     },
     "execution_count": 3,
     "metadata": {},
     "output_type": "execute_result"
    }
   ],
   "source": [
    "images['image'][5:10]"
   ]
  },
  {
   "cell_type": "markdown",
   "metadata": {},
   "source": [
    "## Save images"
   ]
  },
  {
   "cell_type": "code",
   "execution_count": null,
   "metadata": {
    "scrolled": true
   },
   "outputs": [
    {
     "name": "stdout",
     "output_type": "stream",
     "text": [
      "Downloading images...\n",
      "19500 imagenes descargadas\n",
      "20000 imagenes descargadas\n",
      "20500 imagenes descargadas\n",
      "21000 imagenes descargadas\n",
      "21500 imagenes descargadas\n",
      "22000 imagenes descargadas\n",
      "22500 imagenes descargadas\n",
      "23000 imagenes descargadas\n",
      "23500 imagenes descargadas\n",
      "24000 imagenes descargadas\n",
      "24500 imagenes descargadas\n",
      "25000 imagenes descargadas\n",
      "25500 imagenes descargadas\n",
      "26000 imagenes descargadas\n",
      "26500 imagenes descargadas\n",
      "27000 imagenes descargadas\n",
      "27500 imagenes descargadas\n",
      "28000 imagenes descargadas\n",
      "28500 imagenes descargadas\n",
      "29000 imagenes descargadas\n",
      "29500 imagenes descargadas\n",
      "30000 imagenes descargadas\n",
      "30500 imagenes descargadas\n",
      "31000 imagenes descargadas\n",
      "31500 imagenes descargadas\n",
      "32000 imagenes descargadas\n",
      "32500 imagenes descargadas\n",
      "33000 imagenes descargadas\n",
      "33500 imagenes descargadas\n",
      "34000 imagenes descargadas\n",
      "34500 imagenes descargadas\n",
      "35000 imagenes descargadas\n",
      "35500 imagenes descargadas\n",
      "36000 imagenes descargadas\n",
      "36500 imagenes descargadas\n",
      "37000 imagenes descargadas\n",
      "37500 imagenes descargadas\n",
      "38000 imagenes descargadas\n",
      "38500 imagenes descargadas\n",
      "39000 imagenes descargadas\n",
      "39500 imagenes descargadas\n",
      "40000 imagenes descargadas\n",
      "40500 imagenes descargadas\n",
      "41000 imagenes descargadas\n",
      "41500 imagenes descargadas\n",
      "42000 imagenes descargadas\n",
      "42500 imagenes descargadas\n",
      "43000 imagenes descargadas\n",
      "43500 imagenes descargadas\n",
      "44000 imagenes descargadas\n",
      "44500 imagenes descargadas\n",
      "45000 imagenes descargadas\n",
      "45500 imagenes descargadas\n",
      "46000 imagenes descargadas\n",
      "46500 imagenes descargadas\n",
      "47000 imagenes descargadas\n",
      "47500 imagenes descargadas\n",
      "48000 imagenes descargadas\n",
      "48500 imagenes descargadas\n",
      "49000 imagenes descargadas\n",
      "49500 imagenes descargadas\n",
      "50000 imagenes descargadas\n",
      "50500 imagenes descargadas\n",
      "51000 imagenes descargadas\n",
      "Status code error with 404 code.\n",
      "51500 imagenes descargadas\n",
      "52000 imagenes descargadas\n",
      "52500 imagenes descargadas\n",
      "53000 imagenes descargadas\n",
      "53500 imagenes descargadas\n",
      "54000 imagenes descargadas\n",
      "54500 imagenes descargadas\n",
      "55000 imagenes descargadas\n",
      "55500 imagenes descargadas\n",
      "56000 imagenes descargadas\n",
      "56500 imagenes descargadas\n",
      "57000 imagenes descargadas\n"
     ]
    }
   ],
   "source": [
    "aux = 19_164 + 1\n",
    "url_errors = []\n",
    "\n",
    "print ('Downloading images...')\n",
    "\n",
    "for idx, row in images.iterrows():\n",
    "    \n",
    "    if aux <= idx:\n",
    "        if idx%500==0:\n",
    "            print (str(idx) + ' imagenes descargadas')\n",
    "\n",
    "        name = row['id'] + '.jpg'\n",
    "\n",
    "        with open('Images/'+name, 'wb') as img_file:\n",
    "            try:\n",
    "                response = requests.get(row['image'], stream=True)\n",
    "\n",
    "                if response.ok:\n",
    "\n",
    "                    for batch in response.iter_content(1024):\n",
    "                        if not batch:\n",
    "                            break\n",
    "\n",
    "                        img_file.write(batch)\n",
    "                else:\n",
    "                    print(f'Status code error with {response.status_code} code.')\n",
    "\n",
    "            except Exception as e:\n",
    "                print(f'Exception: {e}')\n",
    "                if url not in url_errors:\n",
    "                    url_errors.append(row['image'])\n",
    "                time.sleep(3)\n",
    "                pass"
   ]
  },
  {
   "cell_type": "code",
   "execution_count": 24,
   "metadata": {},
   "outputs": [
    {
     "data": {
      "text/plain": [
       "[]"
      ]
     },
     "execution_count": 24,
     "metadata": {},
     "output_type": "execute_result"
    }
   ],
   "source": [
    "url_errors"
   ]
  },
  {
   "cell_type": "code",
   "execution_count": null,
   "metadata": {},
   "outputs": [],
   "source": [
    "# 1 min 50 sec = 500 images"
   ]
  },
  {
   "cell_type": "code",
   "execution_count": 5,
   "metadata": {},
   "outputs": [
    {
     "name": "stdout",
     "output_type": "stream",
     "text": [
      "0 id       1060651400131                                                                            \n",
      "image    http://sgfm.elcorteingles.es/SGFM/dctm/MEDIA03/201902/07/00160651400131____1__516x640.jpg\n",
      "Name: 0, dtype: object\n",
      "1 id       1060651400180                                                                            \n",
      "image    http://sgfm.elcorteingles.es/SGFM/dctm/MEDIA03/201902/06/00160651400180____1__516x640.jpg\n",
      "Name: 1, dtype: object\n",
      "2 id       1051056400107                                                                            \n",
      "image    http://sgfm.elcorteingles.es/SGFM/dctm/MEDIA03/201902/07/00151056400115____1__516x640.jpg\n",
      "Name: 2, dtype: object\n",
      "3 id       1019350401147                                                                            \n",
      "image    http://sgfm.elcorteingles.es/SGFM/dctm/MEDIA03/201902/07/00119350401147____3__516x640.jpg\n",
      "Name: 3, dtype: object\n",
      "4 id       1019353400229                                                                            \n",
      "image    http://sgfm.elcorteingles.es/SGFM/dctm/MEDIA03/201902/07/00119353400237____2__516x640.jpg\n",
      "Name: 4, dtype: object\n",
      "5 id       1019353400245                                                                            \n",
      "image    http://sgfm.elcorteingles.es/SGFM/dctm/MEDIA03/201902/07/00119353400252____2__516x640.jpg\n",
      "Name: 5, dtype: object\n",
      "6 id       1052353400071                                                                            \n",
      "image    http://sgfm.elcorteingles.es/SGFM/dctm/MEDIA03/201902/07/00152353400097____1__516x640.jpg\n",
      "Name: 6, dtype: object\n",
      "7 id       1087557400030                                                                            \n",
      "image    http://sgfm.elcorteingles.es/SGFM/dctm/MEDIA03/201902/06/00152357400044____1__516x640.jpg\n",
      "Name: 7, dtype: object\n",
      "8 id       1019350401022                                                                            \n",
      "image    http://sgfm.elcorteingles.es/SGFM/dctm/MEDIA03/201902/07/00119350401030____2__516x640.jpg\n",
      "Name: 8, dtype: object\n",
      "9 id       1051053400118                                                                            \n",
      "image    http://sgfm.elcorteingles.es/SGFM/dctm/MEDIA03/201902/08/00151053400126____1__516x640.jpg\n",
      "Name: 9, dtype: object\n",
      "10 id       1051053400142                                                                            \n",
      "image    http://sgfm.elcorteingles.es/SGFM/dctm/MEDIA03/201902/21/00151053400159____4__516x640.jpg\n",
      "Name: 10, dtype: object\n"
     ]
    }
   ],
   "source": [
    "for idx, row in images.iterrows():\n",
    "    print (idx, row)\n",
    "    if idx == 10:\n",
    "        break"
   ]
  }
 ],
 "metadata": {
  "kernelspec": {
   "display_name": "Python 3",
   "language": "python",
   "name": "python3"
  },
  "language_info": {
   "codemirror_mode": {
    "name": "ipython",
    "version": 3
   },
   "file_extension": ".py",
   "mimetype": "text/x-python",
   "name": "python",
   "nbconvert_exporter": "python",
   "pygments_lexer": "ipython3",
   "version": "3.6.8"
  }
 },
 "nbformat": 4,
 "nbformat_minor": 2
}
