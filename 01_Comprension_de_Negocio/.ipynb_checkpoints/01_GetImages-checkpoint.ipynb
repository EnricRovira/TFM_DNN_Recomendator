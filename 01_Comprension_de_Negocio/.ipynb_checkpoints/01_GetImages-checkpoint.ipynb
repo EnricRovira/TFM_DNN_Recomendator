{
 "cells": [
  {
   "cell_type": "code",
   "execution_count": 22,
   "metadata": {},
   "outputs": [],
   "source": [
    "import pandas as pd\n",
    "import requests\n",
    "pd.set_option('max_colwidth', -1)\n",
    "import time"
   ]
  },
  {
   "cell_type": "code",
   "execution_count": 2,
   "metadata": {
    "scrolled": true
   },
   "outputs": [
    {
     "data": {
      "text/html": [
       "<div>\n",
       "<style scoped>\n",
       "    .dataframe tbody tr th:only-of-type {\n",
       "        vertical-align: middle;\n",
       "    }\n",
       "\n",
       "    .dataframe tbody tr th {\n",
       "        vertical-align: top;\n",
       "    }\n",
       "\n",
       "    .dataframe thead th {\n",
       "        text-align: right;\n",
       "    }\n",
       "</style>\n",
       "<table border=\"1\" class=\"dataframe\">\n",
       "  <thead>\n",
       "    <tr style=\"text-align: right;\">\n",
       "      <th></th>\n",
       "      <th>id</th>\n",
       "      <th>image</th>\n",
       "    </tr>\n",
       "  </thead>\n",
       "  <tbody>\n",
       "    <tr>\n",
       "      <th>0</th>\n",
       "      <td>1060651400131</td>\n",
       "      <td>http://sgfm.elcorteingles.es/SGFM/dctm/MEDIA03/201902/07/00160651400131____1__516x640.jpg</td>\n",
       "    </tr>\n",
       "    <tr>\n",
       "      <th>1</th>\n",
       "      <td>1060651400180</td>\n",
       "      <td>http://sgfm.elcorteingles.es/SGFM/dctm/MEDIA03/201902/06/00160651400180____1__516x640.jpg</td>\n",
       "    </tr>\n",
       "    <tr>\n",
       "      <th>2</th>\n",
       "      <td>1051056400107</td>\n",
       "      <td>http://sgfm.elcorteingles.es/SGFM/dctm/MEDIA03/201902/07/00151056400115____1__516x640.jpg</td>\n",
       "    </tr>\n",
       "    <tr>\n",
       "      <th>3</th>\n",
       "      <td>1019350401147</td>\n",
       "      <td>http://sgfm.elcorteingles.es/SGFM/dctm/MEDIA03/201902/07/00119350401147____3__516x640.jpg</td>\n",
       "    </tr>\n",
       "    <tr>\n",
       "      <th>4</th>\n",
       "      <td>1019353400229</td>\n",
       "      <td>http://sgfm.elcorteingles.es/SGFM/dctm/MEDIA03/201902/07/00119353400237____2__516x640.jpg</td>\n",
       "    </tr>\n",
       "  </tbody>\n",
       "</table>\n",
       "</div>"
      ],
      "text/plain": [
       "              id  \\\n",
       "0  1060651400131   \n",
       "1  1060651400180   \n",
       "2  1051056400107   \n",
       "3  1019350401147   \n",
       "4  1019353400229   \n",
       "\n",
       "                                                                                       image  \n",
       "0  http://sgfm.elcorteingles.es/SGFM/dctm/MEDIA03/201902/07/00160651400131____1__516x640.jpg  \n",
       "1  http://sgfm.elcorteingles.es/SGFM/dctm/MEDIA03/201902/06/00160651400180____1__516x640.jpg  \n",
       "2  http://sgfm.elcorteingles.es/SGFM/dctm/MEDIA03/201902/07/00151056400115____1__516x640.jpg  \n",
       "3  http://sgfm.elcorteingles.es/SGFM/dctm/MEDIA03/201902/07/00119350401147____3__516x640.jpg  \n",
       "4  http://sgfm.elcorteingles.es/SGFM/dctm/MEDIA03/201902/07/00119353400237____2__516x640.jpg  "
      ]
     },
     "execution_count": 2,
     "metadata": {},
     "output_type": "execute_result"
    }
   ],
   "source": [
    "images = pd.read_csv('../02_Comprension de Datos/Imagenes.csv', sep = ';')\n",
    "images.head(5)"
   ]
  },
  {
   "cell_type": "code",
   "execution_count": 3,
   "metadata": {},
   "outputs": [
    {
     "data": {
      "text/plain": [
       "5    http://sgfm.elcorteingles.es/SGFM/dctm/MEDIA03/201902/07/00119353400252____2__516x640.jpg\n",
       "6    http://sgfm.elcorteingles.es/SGFM/dctm/MEDIA03/201902/07/00152353400097____1__516x640.jpg\n",
       "7    http://sgfm.elcorteingles.es/SGFM/dctm/MEDIA03/201902/06/00152357400044____1__516x640.jpg\n",
       "8    http://sgfm.elcorteingles.es/SGFM/dctm/MEDIA03/201902/07/00119350401030____2__516x640.jpg\n",
       "9    http://sgfm.elcorteingles.es/SGFM/dctm/MEDIA03/201902/08/00151053400126____1__516x640.jpg\n",
       "Name: image, dtype: object"
      ]
     },
     "execution_count": 3,
     "metadata": {},
     "output_type": "execute_result"
    }
   ],
   "source": [
    "images['image'][5:10]"
   ]
  },
  {
   "cell_type": "markdown",
   "metadata": {},
   "source": [
    "## Save images"
   ]
  },
  {
   "cell_type": "code",
   "execution_count": null,
   "metadata": {},
   "outputs": [
    {
     "name": "stdout",
     "output_type": "stream",
     "text": [
      "Downloading images...\n",
      "1000 imagenes descargadas\n",
      "1500 imagenes descargadas\n",
      "2000 imagenes descargadas\n",
      "2500 imagenes descargadas\n",
      "3000 imagenes descargadas\n",
      "3500 imagenes descargadas\n",
      "Status code error with 404 code.\n",
      "4000 imagenes descargadas\n",
      "4500 imagenes descargadas\n",
      "5000 imagenes descargadas\n",
      "5500 imagenes descargadas\n",
      "6000 imagenes descargadas\n",
      "6500 imagenes descargadas\n",
      "7000 imagenes descargadas\n",
      "7500 imagenes descargadas\n",
      "8000 imagenes descargadas\n",
      "8500 imagenes descargadas\n",
      "9000 imagenes descargadas\n",
      "9500 imagenes descargadas\n",
      "10000 imagenes descargadas\n",
      "10500 imagenes descargadas\n",
      "11000 imagenes descargadas\n",
      "11500 imagenes descargadas\n",
      "12000 imagenes descargadas\n"
     ]
    }
   ],
   "source": [
    "aux = 12_000\n",
    "url_errors = []\n",
    "\n",
    "print ('Downloading images...')\n",
    "\n",
    "for idx, row in images.iterrows():\n",
    "    \n",
    "    if aux <= idx:\n",
    "        if idx%500==0:\n",
    "            print (str(idx) + ' imagenes descargadas')\n",
    "\n",
    "        name = row['id'] + '.jpg'\n",
    "\n",
    "        with open('Images/'+name, 'wb') as img_file:\n",
    "            try:\n",
    "                response = requests.get(row['image'], stream=True)\n",
    "\n",
    "                if response.ok:\n",
    "\n",
    "                    for batch in response.iter_content(1024):\n",
    "                        if not batch:\n",
    "                            break\n",
    "\n",
    "                        img_file.write(batch)\n",
    "                else:\n",
    "                    print(f'Status code error with {response.status_code} code.')\n",
    "\n",
    "            except Exception as e:\n",
    "                print(f'Exception: {e}')\n",
    "                if url not in url_errors:\n",
    "                    url_errors.append(row['image'])\n",
    "                time.sleep(3)\n",
    "                pass"
   ]
  },
  {
   "cell_type": "code",
   "execution_count": 24,
   "metadata": {},
   "outputs": [
    {
     "data": {
      "text/plain": [
       "[]"
      ]
     },
     "execution_count": 24,
     "metadata": {},
     "output_type": "execute_result"
    }
   ],
   "source": [
    "url_errors"
   ]
  },
  {
   "cell_type": "code",
   "execution_count": null,
   "metadata": {},
   "outputs": [],
   "source": [
    "# 1 min 50 sec = 500 images"
   ]
  }
 ],
 "metadata": {
  "kernelspec": {
   "display_name": "Python 3",
   "language": "python",
   "name": "python3"
  },
  "language_info": {
   "codemirror_mode": {
    "name": "ipython",
    "version": 3
   },
   "file_extension": ".py",
   "mimetype": "text/x-python",
   "name": "python",
   "nbconvert_exporter": "python",
   "pygments_lexer": "ipython3",
   "version": "3.6.8"
  }
 },
 "nbformat": 4,
 "nbformat_minor": 2
}
